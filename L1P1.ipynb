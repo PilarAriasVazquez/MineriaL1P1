{
  "cells": [
    {
      "cell_type": "markdown",
      "source": [
        "PILAR ARIAS, YEDRA MARTÍN, PATRICIA MEDIAVILLA, AMAYA SARASA\n",
        "\n",
        "<GRUPO 9>"
      ],
      "metadata": {
        "id": "8pT2SbACjlE2"
      },
      "id": "8pT2SbACjlE2"
    },
    {
      "cell_type": "markdown",
      "source": [
        "#INTRODUCCIÓN"
      ],
      "metadata": {
        "id": "s8YerDrYkdxK"
      },
      "id": "s8YerDrYkdxK"
    },
    {
      "cell_type": "markdown",
      "source": [
        "Esta es la primera práctica del primer laboratorio. Dada una base de datos en formato .csv, se nos pide contestar a una serie de cuestiones. Para ello, lo primero que debemos hacer es cargar y leer la base de datos:"
      ],
      "metadata": {
        "id": "r8GDGWfBlHe5"
      },
      "id": "r8GDGWfBlHe5"
    },
    {
      "cell_type": "code",
      "execution_count": 44,
      "id": "a0bb4051",
      "metadata": {
        "id": "a0bb4051",
        "outputId": "4fb4a866-0193-4d45-fc54-4aa4d6b72f91",
        "colab": {
          "base_uri": "https://localhost:8080/",
          "height": 461
        }
      },
      "outputs": [
        {
          "output_type": "execute_result",
          "data": {
            "text/plain": [
              "     id                                              name  host_id  \\\n",
              "0  2539                Clean & quiet apt home by the park     2787   \n",
              "1  2595                             Skylit Midtown Castle     2845   \n",
              "2  3647               THE VILLAGE OF HARLEM....NEW YORK !     4632   \n",
              "3  3831                   Cozy Entire Floor of Brownstone     4869   \n",
              "4  5022  Entire Apt: Spacious Studio/Loft by central park     7192   \n",
              "\n",
              "     host_name neighbourhood_group neighbourhood  latitude  longitude  \\\n",
              "0         John            Brooklyn    Kensington  40.64749  -73.97237   \n",
              "1     Jennifer           Manhattan       Midtown  40.75362  -73.98377   \n",
              "2    Elisabeth           Manhattan        Harlem  40.80902  -73.94190   \n",
              "3  LisaRoxanne            Brooklyn  Clinton Hill  40.68514  -73.95976   \n",
              "4        Laura           Manhattan   East Harlem  40.79851  -73.94399   \n",
              "\n",
              "         room_type  price  minimum_nights  number_of_reviews last_review  \\\n",
              "0     Private room    149               1                  9  2018-10-19   \n",
              "1  Entire home/apt    225               1                 45  2019-05-21   \n",
              "2     Private room    150               3                  0         NaN   \n",
              "3  Entire home/apt     89               1                270  2019-07-05   \n",
              "4  Entire home/apt     80              10                  9  2018-11-19   \n",
              "\n",
              "   reviews_per_month  calculated_host_listings_count  availability_365  \n",
              "0               0.21                               6               365  \n",
              "1               0.38                               2               355  \n",
              "2                NaN                               1               365  \n",
              "3               4.64                               1               194  \n",
              "4               0.10                               1                 0  "
            ],
            "text/html": [
              "\n",
              "  <div id=\"df-403ed675-1a73-4fe9-b644-3439942b7fe4\">\n",
              "    <div class=\"colab-df-container\">\n",
              "      <div>\n",
              "<style scoped>\n",
              "    .dataframe tbody tr th:only-of-type {\n",
              "        vertical-align: middle;\n",
              "    }\n",
              "\n",
              "    .dataframe tbody tr th {\n",
              "        vertical-align: top;\n",
              "    }\n",
              "\n",
              "    .dataframe thead th {\n",
              "        text-align: right;\n",
              "    }\n",
              "</style>\n",
              "<table border=\"1\" class=\"dataframe\">\n",
              "  <thead>\n",
              "    <tr style=\"text-align: right;\">\n",
              "      <th></th>\n",
              "      <th>id</th>\n",
              "      <th>name</th>\n",
              "      <th>host_id</th>\n",
              "      <th>host_name</th>\n",
              "      <th>neighbourhood_group</th>\n",
              "      <th>neighbourhood</th>\n",
              "      <th>latitude</th>\n",
              "      <th>longitude</th>\n",
              "      <th>room_type</th>\n",
              "      <th>price</th>\n",
              "      <th>minimum_nights</th>\n",
              "      <th>number_of_reviews</th>\n",
              "      <th>last_review</th>\n",
              "      <th>reviews_per_month</th>\n",
              "      <th>calculated_host_listings_count</th>\n",
              "      <th>availability_365</th>\n",
              "    </tr>\n",
              "  </thead>\n",
              "  <tbody>\n",
              "    <tr>\n",
              "      <th>0</th>\n",
              "      <td>2539</td>\n",
              "      <td>Clean &amp; quiet apt home by the park</td>\n",
              "      <td>2787</td>\n",
              "      <td>John</td>\n",
              "      <td>Brooklyn</td>\n",
              "      <td>Kensington</td>\n",
              "      <td>40.64749</td>\n",
              "      <td>-73.97237</td>\n",
              "      <td>Private room</td>\n",
              "      <td>149</td>\n",
              "      <td>1</td>\n",
              "      <td>9</td>\n",
              "      <td>2018-10-19</td>\n",
              "      <td>0.21</td>\n",
              "      <td>6</td>\n",
              "      <td>365</td>\n",
              "    </tr>\n",
              "    <tr>\n",
              "      <th>1</th>\n",
              "      <td>2595</td>\n",
              "      <td>Skylit Midtown Castle</td>\n",
              "      <td>2845</td>\n",
              "      <td>Jennifer</td>\n",
              "      <td>Manhattan</td>\n",
              "      <td>Midtown</td>\n",
              "      <td>40.75362</td>\n",
              "      <td>-73.98377</td>\n",
              "      <td>Entire home/apt</td>\n",
              "      <td>225</td>\n",
              "      <td>1</td>\n",
              "      <td>45</td>\n",
              "      <td>2019-05-21</td>\n",
              "      <td>0.38</td>\n",
              "      <td>2</td>\n",
              "      <td>355</td>\n",
              "    </tr>\n",
              "    <tr>\n",
              "      <th>2</th>\n",
              "      <td>3647</td>\n",
              "      <td>THE VILLAGE OF HARLEM....NEW YORK !</td>\n",
              "      <td>4632</td>\n",
              "      <td>Elisabeth</td>\n",
              "      <td>Manhattan</td>\n",
              "      <td>Harlem</td>\n",
              "      <td>40.80902</td>\n",
              "      <td>-73.94190</td>\n",
              "      <td>Private room</td>\n",
              "      <td>150</td>\n",
              "      <td>3</td>\n",
              "      <td>0</td>\n",
              "      <td>NaN</td>\n",
              "      <td>NaN</td>\n",
              "      <td>1</td>\n",
              "      <td>365</td>\n",
              "    </tr>\n",
              "    <tr>\n",
              "      <th>3</th>\n",
              "      <td>3831</td>\n",
              "      <td>Cozy Entire Floor of Brownstone</td>\n",
              "      <td>4869</td>\n",
              "      <td>LisaRoxanne</td>\n",
              "      <td>Brooklyn</td>\n",
              "      <td>Clinton Hill</td>\n",
              "      <td>40.68514</td>\n",
              "      <td>-73.95976</td>\n",
              "      <td>Entire home/apt</td>\n",
              "      <td>89</td>\n",
              "      <td>1</td>\n",
              "      <td>270</td>\n",
              "      <td>2019-07-05</td>\n",
              "      <td>4.64</td>\n",
              "      <td>1</td>\n",
              "      <td>194</td>\n",
              "    </tr>\n",
              "    <tr>\n",
              "      <th>4</th>\n",
              "      <td>5022</td>\n",
              "      <td>Entire Apt: Spacious Studio/Loft by central park</td>\n",
              "      <td>7192</td>\n",
              "      <td>Laura</td>\n",
              "      <td>Manhattan</td>\n",
              "      <td>East Harlem</td>\n",
              "      <td>40.79851</td>\n",
              "      <td>-73.94399</td>\n",
              "      <td>Entire home/apt</td>\n",
              "      <td>80</td>\n",
              "      <td>10</td>\n",
              "      <td>9</td>\n",
              "      <td>2018-11-19</td>\n",
              "      <td>0.10</td>\n",
              "      <td>1</td>\n",
              "      <td>0</td>\n",
              "    </tr>\n",
              "  </tbody>\n",
              "</table>\n",
              "</div>\n",
              "      <button class=\"colab-df-convert\" onclick=\"convertToInteractive('df-403ed675-1a73-4fe9-b644-3439942b7fe4')\"\n",
              "              title=\"Convert this dataframe to an interactive table.\"\n",
              "              style=\"display:none;\">\n",
              "        \n",
              "  <svg xmlns=\"http://www.w3.org/2000/svg\" height=\"24px\"viewBox=\"0 0 24 24\"\n",
              "       width=\"24px\">\n",
              "    <path d=\"M0 0h24v24H0V0z\" fill=\"none\"/>\n",
              "    <path d=\"M18.56 5.44l.94 2.06.94-2.06 2.06-.94-2.06-.94-.94-2.06-.94 2.06-2.06.94zm-11 1L8.5 8.5l.94-2.06 2.06-.94-2.06-.94L8.5 2.5l-.94 2.06-2.06.94zm10 10l.94 2.06.94-2.06 2.06-.94-2.06-.94-.94-2.06-.94 2.06-2.06.94z\"/><path d=\"M17.41 7.96l-1.37-1.37c-.4-.4-.92-.59-1.43-.59-.52 0-1.04.2-1.43.59L10.3 9.45l-7.72 7.72c-.78.78-.78 2.05 0 2.83L4 21.41c.39.39.9.59 1.41.59.51 0 1.02-.2 1.41-.59l7.78-7.78 2.81-2.81c.8-.78.8-2.07 0-2.86zM5.41 20L4 18.59l7.72-7.72 1.47 1.35L5.41 20z\"/>\n",
              "  </svg>\n",
              "      </button>\n",
              "      \n",
              "  <style>\n",
              "    .colab-df-container {\n",
              "      display:flex;\n",
              "      flex-wrap:wrap;\n",
              "      gap: 12px;\n",
              "    }\n",
              "\n",
              "    .colab-df-convert {\n",
              "      background-color: #E8F0FE;\n",
              "      border: none;\n",
              "      border-radius: 50%;\n",
              "      cursor: pointer;\n",
              "      display: none;\n",
              "      fill: #1967D2;\n",
              "      height: 32px;\n",
              "      padding: 0 0 0 0;\n",
              "      width: 32px;\n",
              "    }\n",
              "\n",
              "    .colab-df-convert:hover {\n",
              "      background-color: #E2EBFA;\n",
              "      box-shadow: 0px 1px 2px rgba(60, 64, 67, 0.3), 0px 1px 3px 1px rgba(60, 64, 67, 0.15);\n",
              "      fill: #174EA6;\n",
              "    }\n",
              "\n",
              "    [theme=dark] .colab-df-convert {\n",
              "      background-color: #3B4455;\n",
              "      fill: #D2E3FC;\n",
              "    }\n",
              "\n",
              "    [theme=dark] .colab-df-convert:hover {\n",
              "      background-color: #434B5C;\n",
              "      box-shadow: 0px 1px 3px 1px rgba(0, 0, 0, 0.15);\n",
              "      filter: drop-shadow(0px 1px 2px rgba(0, 0, 0, 0.3));\n",
              "      fill: #FFFFFF;\n",
              "    }\n",
              "  </style>\n",
              "\n",
              "      <script>\n",
              "        const buttonEl =\n",
              "          document.querySelector('#df-403ed675-1a73-4fe9-b644-3439942b7fe4 button.colab-df-convert');\n",
              "        buttonEl.style.display =\n",
              "          google.colab.kernel.accessAllowed ? 'block' : 'none';\n",
              "\n",
              "        async function convertToInteractive(key) {\n",
              "          const element = document.querySelector('#df-403ed675-1a73-4fe9-b644-3439942b7fe4');\n",
              "          const dataTable =\n",
              "            await google.colab.kernel.invokeFunction('convertToInteractive',\n",
              "                                                     [key], {});\n",
              "          if (!dataTable) return;\n",
              "\n",
              "          const docLinkHtml = 'Like what you see? Visit the ' +\n",
              "            '<a target=\"_blank\" href=https://colab.research.google.com/notebooks/data_table.ipynb>data table notebook</a>'\n",
              "            + ' to learn more about interactive tables.';\n",
              "          element.innerHTML = '';\n",
              "          dataTable['output_type'] = 'display_data';\n",
              "          await google.colab.output.renderOutput(dataTable, element);\n",
              "          const docLink = document.createElement('div');\n",
              "          docLink.innerHTML = docLinkHtml;\n",
              "          element.appendChild(docLink);\n",
              "        }\n",
              "      </script>\n",
              "    </div>\n",
              "  </div>\n",
              "  "
            ]
          },
          "metadata": {},
          "execution_count": 44
        }
      ],
      "source": [
        "#importamos la base de datos\n",
        "import pandas as pd #pandas\n",
        "df_raw=pd.read_csv('airbnb.csv',encoding='latin-1')\n",
        "df_raw.head()"
      ]
    },
    {
      "cell_type": "markdown",
      "source": [
        "Se observa que se ha cargado de manera correcta. "
      ],
      "metadata": {
        "id": "FmdArPK4mfGK"
      },
      "id": "FmdArPK4mfGK"
    },
    {
      "cell_type": "markdown",
      "source": [
        "Importamos así también todas las librerías necesarias para ejecutar esta práctica. "
      ],
      "metadata": {
        "id": "ocoXyf9Oluyf"
      },
      "id": "ocoXyf9Oluyf"
    },
    {
      "cell_type": "code",
      "source": [
        "#importamos todas las librerías necesarias: \n",
        "import sklearn #scikit-learn\n",
        "import matplotlib.pyplot as plt #gráfica Matplotlib\n",
        "import seaborn as sns\n",
        "import numpy as np #NumPy"
      ],
      "metadata": {
        "id": "s8pAtTFxtCJW"
      },
      "id": "s8pAtTFxtCJW",
      "execution_count": 45,
      "outputs": []
    },
    {
      "cell_type": "markdown",
      "source": [
        "Según se ha estudiado en clase, encontramos dos métodos para afrontarlo. Nos decantaremos por CRISP-DM. Las siglas para: CRoss-Industry Standard Process for Data Mining. \n",
        "\n",
        "Es un modelo de proceso de minería de datos que se utiliza en la industria. Es un marco de trabajo que define un proceso estandarizado para llevar a cabo proyectos de minería de datos, desde la definición del problema hasta la implementación y evaluación del resultado. Los seis pasos que componen Crisp-DM son los siguientes:\n",
        "\n",
        "- Comprensión de los negocios y definición del problema: comprender la naturaleza del problema y los objetivos de negocio.\n",
        "\n",
        "- Comprensión de los datos: recopilación inicial, descripción y exploración  de datos.\n",
        "\n",
        "- Preparación de los datos: Selección, limpieza, construcción, integración, formateo de los datos.\n",
        "\n",
        "- Modelado: aplicar las técnicas de minería de datos a los dataset.\n",
        "\n",
        "- Evaluación: determinar si los resultados son útiles a las necesidades del negocio.\n",
        "\n",
        "- Despliegue: explotar utilidad de los modelos, integrándolos en las tareas de toma de decisiones de la organización -> Call to Action. \n"
      ],
      "metadata": {
        "id": "YBQbx7EFmjR6"
      },
      "id": "YBQbx7EFmjR6"
    },
    {
      "cell_type": "markdown",
      "source": [
        "#EJERCICIO 1"
      ],
      "metadata": {
        "id": "35WzfLjxl0OU"
      },
      "id": "35WzfLjxl0OU"
    },
    {
      "cell_type": "markdown",
      "source": [
        "## Comprensión del negocio y definición del problema"
      ],
      "metadata": {
        "id": "XX4P0W_Fozcz"
      },
      "id": "XX4P0W_Fozcz"
    },
    {
      "cell_type": "markdown",
      "source": [
        "El barrio de Williamsburg es uno de los barrios de moda hoy en día. Desde 2005 ha pasado de ser un distrito donde principalmente se encontraban fabricas a acoger una gran cantidad de gente joven y nuevos negocios. ¿Teniendo en cuenta los datos proporcionados que posición en términos de popularidad/calidad se puede decir que ostenta el barrio con respecto a los demás que forma New York?"
      ],
      "metadata": {
        "id": "3S06NbYgmKb-"
      },
      "id": "3S06NbYgmKb-"
    },
    {
      "cell_type": "markdown",
      "source": [
        "Para medir la popularidad/calidad del barrio, tendremos primero en cuenta el número de apartamentos de calidad según los usuarios. Para ello, lo primero será clasificar los apartamentos como “Muy Malos”, “Malos”, “Regulares”, “Buenos” y “Muy Buenos”. Para ello primero haremos un par de transformaciones de los datos. La columna de reseñas por mes, se dividirán en 3 rangos iguales, después dependiendo del valor concreto que tenga cada apartamento se le asignarán las etiquetas: “Baja”, “Media” y ”Alta”. Para la columna que indica el número de días que está disponible asignaremos las etiquetas de menor valor a mayor de la siguiente manera: “Poco disponible”, “Disponible normalmente” y “Altamente disponible”. Finalmente crearemos una columna para clasificar los apartamentos, teniendo en cuenta una serie de reglas, que se explicarán más adelante. "
      ],
      "metadata": {
        "id": "jCZKl6EfuQDS"
      },
      "id": "jCZKl6EfuQDS"
    },
    {
      "cell_type": "markdown",
      "source": [
        "## Comprensión de los datos"
      ],
      "metadata": {
        "id": "aA5iEGYOo4RB"
      },
      "id": "aA5iEGYOo4RB"
    },
    {
      "cell_type": "markdown",
      "source": [
        "La base de datos que utilizaremos consta de 48895 observaciones. En cada observación recopilamos los siguientes atributos: \n",
        "- id: id del apartamento en cuestión. \n",
        "- name: nombre del apartamento\n",
        "- host_id: id del anfitrión \n",
        "- host_name: nombre del anfitrión \n",
        "- neighbourhood_group: estado al que pertenece\n",
        "- neighbourhood: barrio al que pertenece \n",
        "- latitude: coordenadas de latitud\n",
        "- longitude: coordenadas de longitud \n",
        "- room_type: tipo de habitación \n",
        "- price: precio en dólares\n",
        "- minimum_nights: noches mínimas que te puedes hospedar\n",
        "- number_of_reviews: número de reseñas \n",
        "- last_review: última reseña \n",
        "- reviews_per_month: reseñas por mes\n",
        "- calculated_host_listings_count: cantidad de propiedades que un anfitrión tiene disponibles en la plataforma\n",
        "- availability_365: días disponibles por año. \n"
      ],
      "metadata": {
        "id": "9FyCQqOUo8Gp"
      },
      "id": "9FyCQqOUo8Gp"
    },
    {
      "cell_type": "markdown",
      "source": [
        "Se ha investigado esta base de datos en kaggle para entender mejor cada variable, pero no lo explican con claridad, y cabe rebundancia, por lo que se explicará la interpretación que se le ha dado a cada una. "
      ],
      "metadata": {
        "id": "aHdCDF9H58gb"
      },
      "id": "aHdCDF9H58gb"
    },
    {
      "cell_type": "markdown",
      "source": [
        "availability_365: suponemos que la propiedad está dispuesta en la plataforma los 365 días del año, es decir, cualquier mes está disponible. Obviamos que sea una casa de verano que sólo se alquile los meses de junio y julio por ejemplo, para definirlo bien, se podrá alquilar los 12 meses del año. "
      ],
      "metadata": {
        "id": "9Oz91E4D6NS6"
      },
      "id": "9Oz91E4D6NS6"
    },
    {
      "cell_type": "markdown",
      "source": [
        "## Preparación de los datos"
      ],
      "metadata": {
        "id": "MRRVog71rZU4"
      },
      "id": "MRRVog71rZU4"
    },
    {
      "cell_type": "markdown",
      "source": [
        "Primero debemos tratar la base de datos para así estudiar qué hacer con los datos NaN que encontraremos. \n",
        "\n",
        "Analizamos cuántos datos NaN hay en la columna 'reviews_per_month', ya que la trataremos posteriormente, y deberemos conocer el contenido de esta. \n"
      ],
      "metadata": {
        "id": "6TRpV0iDuXpi"
      },
      "id": "6TRpV0iDuXpi"
    },
    {
      "cell_type": "code",
      "source": [
        "reviews_per_month_nan = df['reviews_per_month'].isna().sum()\n",
        "print(reviews_per_month_nan)"
      ],
      "metadata": {
        "id": "eRGBwWnHuxTV",
        "outputId": "4afe5188-7008-442f-8735-6a8a95131d7e",
        "colab": {
          "base_uri": "https://localhost:8080/"
        }
      },
      "id": "eRGBwWnHuxTV",
      "execution_count": 46,
      "outputs": [
        {
          "output_type": "stream",
          "name": "stdout",
          "text": [
            "0\n"
          ]
        }
      ]
    },
    {
      "cell_type": "markdown",
      "source": [
        "Ahora bien, vemos que hay 10052 datos NaN en la columna. Observemos cuántos datos hay en total para barajar las distintas opciones de qué hacer con estos datos NaN. Si es poca cantidad comparado con la cantidad de observaciones en total, podremos eliminar directamente esas observaciones, sin embargo, si suponen gran cantidad, podríamos buscar otras opciones, como rellenar con la media para así no afectar al equilibrio del resto de datos. \n",
        "\n",
        "Es verdad que como hablamos de reseñas por mes, sería factible convertir esos NaN en 0, para que así a la hora de categorizar la columna, lo detecte como Bajo. \n",
        "\n",
        "¿Por qué rellenamos con 0's? Encontramos un NaN en la columna de 'reviews_per_month', cuando en la columna de 'number_of_reviews' aparece un 0, o un NaN directamente, es decir, que anteriormente no se ha hecho ninguna reseña, por lo que obviamente, en el último mes, tampoco. No deberíamos rellenar con la media, ya que ahí estamos aportando una cierta cantidad de reseñas que no se han hecho. "
      ],
      "metadata": {
        "id": "hlY_0vIJvh77"
      },
      "id": "hlY_0vIJvh77"
    },
    {
      "cell_type": "code",
      "source": [
        "num_observations = df.shape[0]\n",
        "print(num_observations)"
      ],
      "metadata": {
        "id": "NXgkAGjewOwD",
        "outputId": "7b09e249-8986-462c-d9ff-fe4a431acdd1",
        "colab": {
          "base_uri": "https://localhost:8080/"
        }
      },
      "id": "NXgkAGjewOwD",
      "execution_count": 47,
      "outputs": [
        {
          "output_type": "stream",
          "name": "stdout",
          "text": [
            "48895\n"
          ]
        }
      ]
    },
    {
      "cell_type": "markdown",
      "source": [
        "Supone un 20% de los datos totales. No resulta útil borrarlos, si no que deberíamos rellenar con 0 como hemos explicado anteriormente. "
      ],
      "metadata": {
        "id": "mP70C7kJwTxc"
      },
      "id": "mP70C7kJwTxc"
    },
    {
      "cell_type": "code",
      "source": [
        "df['reviews_per_month'].fillna(0, inplace=True)"
      ],
      "metadata": {
        "id": "EJln4MO6wr2i"
      },
      "id": "EJln4MO6wr2i",
      "execution_count": 48,
      "outputs": []
    },
    {
      "cell_type": "markdown",
      "source": [
        "Comprobamos por tanto que en esa columna ya no nos quede ningún NaN"
      ],
      "metadata": {
        "id": "qJ2nrGXAw2UJ"
      },
      "id": "qJ2nrGXAw2UJ"
    },
    {
      "cell_type": "code",
      "source": [
        "reviews_per_month_nan = df['reviews_per_month'].isna().sum()\n",
        "print(reviews_per_month_nan)"
      ],
      "metadata": {
        "id": "spDIo2Few69A",
        "outputId": "fbdb5aee-ddeb-4415-c9e5-5d745c0fe9e8",
        "colab": {
          "base_uri": "https://localhost:8080/"
        }
      },
      "id": "spDIo2Few69A",
      "execution_count": 49,
      "outputs": [
        {
          "output_type": "stream",
          "name": "stdout",
          "text": [
            "0\n"
          ]
        }
      ]
    },
    {
      "cell_type": "markdown",
      "source": [
        "Ahora debemos estudiar la distribución de esta, para ello haremos uso de boxplot, representando así cada apartamento para ver si hay outliers o datos rebundantes. "
      ],
      "metadata": {
        "id": "hZBwxiT99iBX"
      },
      "id": "hZBwxiT99iBX"
    },
    {
      "cell_type": "code",
      "source": [
        "import matplotlib.pyplot as plt\n",
        "boxplot_reviews=df['reviews_per_month']\n",
        "plt.boxplot(boxplot_reviews)\n",
        "plt.title('Boxplot reseña apartamentos ')\n",
        "plt.show()"
      ],
      "metadata": {
        "colab": {
          "base_uri": "https://localhost:8080/",
          "height": 0
        },
        "id": "XpVLKGfQ9xsl",
        "outputId": "a6e8e40e-fddf-42ec-f0a9-41950f89d1cb"
      },
      "id": "XpVLKGfQ9xsl",
      "execution_count": 50,
      "outputs": [
        {
          "output_type": "display_data",
          "data": {
            "text/plain": [
              "<Figure size 432x288 with 1 Axes>"
            ],
            "image/png": "[encoded data removed]"
          },
          "metadata": {}
        }
      ]
    },
    {
      "cell_type": "code",
      "source": [
        "from matplotlib.cbook import boxplot_stats \n",
        "stats = boxplot_stats(boxplot_reviews)\n",
        "stats = stats[0] \n",
        "outliers = stats['fliers']\n",
        "min = stats['q1']-1.5*stats['iqr']\n",
        "max = stats['q3']+1.5*stats['iqr']\n",
        "print(min, max, len(outliers))\n",
        "            "
      ],
      "metadata": {
        "colab": {
          "base_uri": "https://localhost:8080/"
        },
        "id": "Fr9ewCF6-qJX",
        "outputId": "f6e2541f-5c77-41d9-e17c-fb1c340ae84a"
      },
      "id": "Fr9ewCF6-qJX",
      "execution_count": 51,
      "outputs": [
        {
          "output_type": "stream",
          "name": "stdout",
          "text": [
            "-2.27 3.89 3312\n"
          ]
        }
      ]
    },
    {
      "cell_type": "markdown",
      "source": [
        "Con esta información interpretamos que tenemos 3312 outliers, y que de valor máximo aceptado, se obtendrá 3,89, y mínimo lo interpretamos como 0, ya que no vamos a encontrar valores negativos en el número de reseñas por mes. \n"
      ],
      "metadata": {
        "id": "2k1FSZzGFyPG"
      },
      "id": "2k1FSZzGFyPG"
    },
    {
      "cell_type": "markdown",
      "source": [
        "Ya nos hemos asegurado que no nos quedad ningún dato NaN, así no encontraremos ningún error a la hora de categorizar la columna, que es el siguiente paso. \n",
        "\n",
        "Lo categorizamos en tres: Baja, Media y Alta. "
      ],
      "metadata": {
        "id": "ojLK3k16xYEu"
      },
      "id": "ojLK3k16xYEu"
    },
    {
      "cell_type": "markdown",
      "source": [
        "Considerando que según los rangos intercuartiles hemos obtenido que el máximo valor que se considera aceptable es 3,89, y que el outlier mayor que se puede conseguir es 60, no podemos hacer los rangos teniendo en cuenta el mayor que se pueda tomar, si no el mayor aceptado. Es por ello que para definir cada uno,tendremos en cuenta el rango intercuartilíco: [0-3.89] \n",
        "\n",
        "Por lo que: \n",
        "- [0-1.3) = 'Baja'\n",
        "- [1.3 - 2.6) = 'Media'\n",
        "- [2.6 - 60) = 'Alta' (si no encontrásemos outliers, terminaría en 3.89, pero lo que vamos a hacer es simplemente ignorar esos outliers)"
      ],
      "metadata": {
        "id": "W3xLyeCoH6g2"
      },
      "id": "W3xLyeCoH6g2"
    },
    {
      "cell_type": "markdown",
      "source": [
        "Por otro lado, vamos a clasificar los alquileres en función de los días que están disponibles. \n",
        "\n",
        "Para ello, siguiendo el patrón anterior, calculamos si hay NaN en la columna correspondiente: \n"
      ],
      "metadata": {
        "id": "PdD3LirDN4nG"
      },
      "id": "PdD3LirDN4nG"
    },
    {
      "cell_type": "code",
      "source": [
        "disponibilidad_nan = df['availability_365'].isna().sum()\n",
        "print(disponibilidad_nan)"
      ],
      "metadata": {
        "colab": {
          "base_uri": "https://localhost:8080/"
        },
        "id": "aIcgUrRyOSpi",
        "outputId": "3889597d-69a2-4fc7-affb-f2ef60f85a67"
      },
      "id": "aIcgUrRyOSpi",
      "execution_count": 52,
      "outputs": [
        {
          "output_type": "stream",
          "name": "stdout",
          "text": [
            "0\n"
          ]
        }
      ]
    },
    {
      "cell_type": "markdown",
      "source": [
        "No hay ningún NaN en dicha columna, por lo que no hace falta tratarlos. En el caso de encontrarlos, se tendría que estudiar qué hacer con este conjunto de datos de manera independiente. \n",
        "\n"
      ],
      "metadata": {
        "id": "ZxvJl4iWOc35"
      },
      "id": "ZxvJl4iWOc35"
    },
    {
      "cell_type": "markdown",
      "source": [
        "Ahora pasamos a estudiar de la misma manera la distribución de esta variable, gracias al uso de Boxplot."
      ],
      "metadata": {
        "id": "GQhj_NrEkfKv"
      },
      "id": "GQhj_NrEkfKv"
    },
    {
      "cell_type": "code",
      "source": [
        "import matplotlib.pyplot as plt\n",
        "boxplot_availability_365=df['availability_365']\n",
        "plt.boxplot(boxplot_availability_365)\n",
        "plt.title('Boxplot availability_365 apartamentos ')\n",
        "plt.show()"
      ],
      "metadata": {
        "colab": {
          "base_uri": "https://localhost:8080/",
          "height": 0
        },
        "id": "OGm38mHhkmYi",
        "outputId": "867d8c91-3478-437a-8c11-a2e276c66f39"
      },
      "id": "OGm38mHhkmYi",
      "execution_count": 53,
      "outputs": [
        {
          "output_type": "display_data",
          "data": {
            "text/plain": [
              "<Figure size 432x288 with 1 Axes>"
            ],
            "image/png": "[encoded data removed]"
          },
          "metadata": {}
        }
      ]
    },
    {
      "cell_type": "code",
      "source": [
        "from matplotlib.cbook import boxplot_stats \n",
        "stats = boxplot_stats(boxplot_availability_365)\n",
        "stats = stats[0] \n",
        "outliers = stats['fliers']\n",
        "min = stats['q1']-1.5*stats['iqr']\n",
        "max = stats['q3']+1.5*stats['iqr']\n",
        "print(min, max, len(outliers))"
      ],
      "metadata": {
        "colab": {
          "base_uri": "https://localhost:8080/"
        },
        "id": "-vII3qs3kwOr",
        "outputId": "373e2127-83ab-4f94-87fc-c173e95c78fe"
      },
      "id": "-vII3qs3kwOr",
      "execution_count": 54,
      "outputs": [
        {
          "output_type": "stream",
          "name": "stdout",
          "text": [
            "-340.5 567.5 0\n"
          ]
        }
      ]
    },
    {
      "cell_type": "markdown",
      "source": [
        "Según este modelo, no encontramos ningún outliers, por lo que podemos continuar. "
      ],
      "metadata": {
        "id": "b3abdvOkk5C6"
      },
      "id": "b3abdvOkk5C6"
    },
    {
      "cell_type": "markdown",
      "source": [
        "Es importante mencionar el valor máximo aceptado obtenido, y es que es 567.5, cuando en un año contamos con 365 días (en el caso de que no sea bisiesto). \n",
        "Es por ello que nos faltaría información para interpretar este máximo, ya que lo podríamos contar con que hay una serie de apartamentos se pueden alquilar durante 4 horas, por lo que un apartamento puede tener varias reseñas al día, o que durante una estancia, todos los usuarios que se hayan quedado puedan poner una reseña. "
      ],
      "metadata": {
        "id": "aI5trPjnl4zA"
      },
      "id": "aI5trPjnl4zA"
    },
    {
      "cell_type": "markdown",
      "source": [
        "Por lo que una vez hemos estudiado cada variable y sus outliers, podemos proceder con el ejercicio. \n",
        "Tal y como nos dice, para medir la popularidad/calidad del barrio, necesitaremos hacer uso de una clasificación, que tomará como factores a estudiar la cantidad de reseñas al mes ('reviews_per_month') y la disponibilidad de este ('availabilty_365'). \n",
        "Pero debemos definir estas variables en rangos, tal y como se ha explicado anteriormente. "
      ],
      "metadata": {
        "id": "NQ-tmo0ymbyT"
      },
      "id": "NQ-tmo0ymbyT"
    },
    {
      "cell_type": "markdown",
      "source": [
        "\n",
        "\n",
        " Poco disponible | Disponible normalmente | Altamente disponible\n",
        "-----:|:--------:| -------\n",
        "Bueno | Regular | Malo\n",
        "Bueno | Regular | Malo\n",
        "Muy bueno | Bueno | Muy Malo\n",
        "\n",
        "\n",
        "\n",
        "\n",
        "Donde cada fila depende del valor de la reseña en Baja, Media y Alta respectivamente."
      ],
      "metadata": {
        "id": "lf_IUOwPXEd_"
      },
      "id": "lf_IUOwPXEd_"
    },
    {
      "cell_type": "markdown",
      "source": [
        "La siguiente celda es una función para la nueva variable 'classification'."
      ],
      "metadata": {
        "id": "XDx4Lf4FnHnY"
      },
      "id": "XDx4Lf4FnHnY"
    },
    {
      "cell_type": "code",
      "source": [
        "def etiqueta_calidad(row):  \n",
        "    if row[1]=='Poco disponible' and row[0]=='Baja': \n",
        "        return 'Bueno'\n",
        "    if row[1]=='Poco disponible' and row[0]=='Media':\n",
        "        return 'Bueno'\n",
        "    if row[1]=='Poco disponible' and row[0]=='Alta':\n",
        "        return 'Muy bueno'\n",
        "    if row[1]=='Disponible normalmente' and row[0]=='Baja':\n",
        "        return 'Regular'\n",
        "    if row[1]=='Disponible normalmente' and row[0]=='Media':\n",
        "        return 'Regular'\n",
        "    if row[1]=='Disponible normalmente' and row[0]=='Alta':\n",
        "        return 'Bueno'\n",
        "    if row[1]=='Altamente disponible' and row[0]=='Baja':\n",
        "        return 'Malo'\n",
        "    if row[1]=='Altamente disponible' and row[0]=='Media':\n",
        "        return 'Malo'\n",
        "    if row[1]=='Altamente disponible' and row[0]=='Alta':\n",
        "        return 'Muy malo'\n",
        "    return 'N/A'"
      ],
      "metadata": {
        "id": "Voe8Jis5pUlU"
      },
      "id": "Voe8Jis5pUlU",
      "execution_count": 55,
      "outputs": []
    },
    {
      "cell_type": "markdown",
      "source": [
        "Otra función que rellena los N/A de la columna de 'reviews_per_month' con 0, por las razones que se han expuesto. "
      ],
      "metadata": {
        "id": "j2SpCt3inR2N"
      },
      "id": "j2SpCt3inR2N"
    },
    {
      "cell_type": "code",
      "source": [
        "def fillna_0 (df_):\n",
        "    return df_.assign(reviews_per_month = df_['reviews_per_month'].fillna(0)) "
      ],
      "metadata": {
        "id": "Uvmi6NzzqoqM"
      },
      "id": "Uvmi6NzzqoqM",
      "execution_count": 56,
      "outputs": []
    },
    {
      "cell_type": "markdown",
      "source": [
        "Como el objetivo del ejercicio es obtener la popularidad/calidad de cada barrio, para así ordenarlos y averiguar en qué ranking se encuentra el barrio 'Williamsburg', debemos hacer la media de cada uno, ya que no lo podremos estudiar con una clasificación categórica, no sería efectivo.\n",
        "\n",
        "Volveremos a clasificarlos en una nueva variable llamada 'classification_num', que se regirá a partir de las nuevas reglas proporcionadas, pero con un ligero cambio, y es que cada rango va a pasar a obtener un valor, tal que así: \n",
        "- muy malo: 0\n",
        "- malo: 0.25\n",
        "- regular: 0.5 \n",
        "- bueno: 0.75 \n",
        "- muy bueno: 1 \n",
        "\n",
        "De esta manera, obtendremos datos numéricos para hacer la media exacta, y que así podamos obtener la posición exacta. Al hacer la media, conseguiremos valores entre [0,1] por cada barrio."
      ],
      "metadata": {
        "id": "rTJDRvFNYJqa"
      },
      "id": "rTJDRvFNYJqa"
    },
    {
      "cell_type": "code",
      "source": [
        "df = (df_raw\n",
        " .pipe(fillna_0) #llamamos a la función para rellenar con 0\n",
        " .assign(availability_365_range= \n",
        "        lambda df_: pd.cut(df_['availability_365'],bins=3,labels=['Poco disponible','Disponible normalmente','Altamente disponible'])) \n",
        "        #dividimos la variable 'availability_365' en 3 rangos iguales, tal y como se ha explicado anteriormente. \n",
        " .assign(reviews_per_month_cat = \n",
        "        lambda df_: pd.cut(df_['reviews_per_month'],bins=[-0.1,1.3,2.6,60],labels=['Baja','Media','Alta']))\n",
        "        #dividimos la variable 'reviews_per_month' en 3 rangos, tal y como se ha justificado.\n",
        " .assign(classification = \n",
        "         lambda df_: df_[['reviews_per_month_cat','availability_365_range']].apply(lambda x: etiqueta_calidad(x),axis=1))\n",
        "        #llamamos a la función 'etiqueta_calidad' para la nueva variable de clasificación\n",
        " .assign(classification_num = \n",
        "         lambda df_: df_['classification'].map(lambda x: 1 if x=='Muy bueno' else 0 if x=='Muy malo' else 0.25 if x=='Malo' else 0.5 if x=='Regular' else 0.75))\n",
        "        #clasificamos numéricamente los rangos, según la variable de 'classification', tal y como se ha explicado\n",
        ")"
      ],
      "metadata": {
        "id": "FkK71xuTqwLZ"
      },
      "id": "FkK71xuTqwLZ",
      "execution_count": 57,
      "outputs": []
    },
    {
      "cell_type": "markdown",
      "source": [
        "Comprobamos lsi todo se ha ejecutado correctamente, para ello contaremos los posibles 'N/A' en la variable de 'classification'"
      ],
      "metadata": {
        "id": "tCyBeVy4gkKf"
      },
      "id": "tCyBeVy4gkKf"
    },
    {
      "cell_type": "code",
      "source": [
        "\n",
        "classif_nan = df['classification'].isna().sum()\n",
        "print(classif_nan)"
      ],
      "metadata": {
        "colab": {
          "base_uri": "https://localhost:8080/"
        },
        "id": "qLg3vv7hYjsr",
        "outputId": "41939cec-3955-45e3-fdd1-5c172fc9f32e"
      },
      "id": "qLg3vv7hYjsr",
      "execution_count": 58,
      "outputs": [
        {
          "output_type": "stream",
          "name": "stdout",
          "text": [
            "0\n"
          ]
        }
      ]
    },
    {
      "cell_type": "markdown",
      "source": [
        "Hacemos la misma comprobación en la variable de 'reviews_per_month_cat'"
      ],
      "metadata": {
        "id": "aATcmO-0qCaM"
      },
      "id": "aATcmO-0qCaM"
    },
    {
      "cell_type": "code",
      "source": [
        "df.query('reviews_per_month_cat==\"N/A\"')"
      ],
      "metadata": {
        "id": "cF22Z-JEhKyo",
        "outputId": "d73495d5-bf88-4fb3-9d52-b5b237a83aff",
        "colab": {
          "base_uri": "https://localhost:8080/",
          "height": 0
        }
      },
      "id": "cF22Z-JEhKyo",
      "execution_count": 59,
      "outputs": [
        {
          "output_type": "execute_result",
          "data": {
            "text/plain": [
              "Empty DataFrame\n",
              "Columns: [id, name, host_id, host_name, neighbourhood_group, neighbourhood, latitude, longitude, room_type, price, minimum_nights, number_of_reviews, last_review, reviews_per_month, calculated_host_listings_count, availability_365, availability_365_range, reviews_per_month_cat, classification, classification_num]\n",
              "Index: []"
            ],
            "text/html": [
              "\n",
              "  <div id=\"df-492207af-0a0e-4951-817e-e6bb4996e6c1\">\n",
              "    <div class=\"colab-df-container\">\n",
              "      <div>\n",
              "<style scoped>\n",
              "    .dataframe tbody tr th:only-of-type {\n",
              "        vertical-align: middle;\n",
              "    }\n",
              "\n",
              "    .dataframe tbody tr th {\n",
              "        vertical-align: top;\n",
              "    }\n",
              "\n",
              "    .dataframe thead th {\n",
              "        text-align: right;\n",
              "    }\n",
              "</style>\n",
              "<table border=\"1\" class=\"dataframe\">\n",
              "  <thead>\n",
              "    <tr style=\"text-align: right;\">\n",
              "      <th></th>\n",
              "      <th>id</th>\n",
              "      <th>name</th>\n",
              "      <th>host_id</th>\n",
              "      <th>host_name</th>\n",
              "      <th>neighbourhood_group</th>\n",
              "      <th>neighbourhood</th>\n",
              "      <th>latitude</th>\n",
              "      <th>longitude</th>\n",
              "      <th>room_type</th>\n",
              "      <th>price</th>\n",
              "      <th>minimum_nights</th>\n",
              "      <th>number_of_reviews</th>\n",
              "      <th>last_review</th>\n",
              "      <th>reviews_per_month</th>\n",
              "      <th>calculated_host_listings_count</th>\n",
              "      <th>availability_365</th>\n",
              "      <th>availability_365_range</th>\n",
              "      <th>reviews_per_month_cat</th>\n",
              "      <th>classification</th>\n",
              "      <th>classification_num</th>\n",
              "    </tr>\n",
              "  </thead>\n",
              "  <tbody>\n",
              "  </tbody>\n",
              "</table>\n",
              "</div>\n",
              "      <button class=\"colab-df-convert\" onclick=\"convertToInteractive('df-492207af-0a0e-4951-817e-e6bb4996e6c1')\"\n",
              "              title=\"Convert this dataframe to an interactive table.\"\n",
              "              style=\"display:none;\">\n",
              "        \n",
              "  <svg xmlns=\"http://www.w3.org/2000/svg\" height=\"24px\"viewBox=\"0 0 24 24\"\n",
              "       width=\"24px\">\n",
              "    <path d=\"M0 0h24v24H0V0z\" fill=\"none\"/>\n",
              "    <path d=\"M18.56 5.44l.94 2.06.94-2.06 2.06-.94-2.06-.94-.94-2.06-.94 2.06-2.06.94zm-11 1L8.5 8.5l.94-2.06 2.06-.94-2.06-.94L8.5 2.5l-.94 2.06-2.06.94zm10 10l.94 2.06.94-2.06 2.06-.94-2.06-.94-.94-2.06-.94 2.06-2.06.94z\"/><path d=\"M17.41 7.96l-1.37-1.37c-.4-.4-.92-.59-1.43-.59-.52 0-1.04.2-1.43.59L10.3 9.45l-7.72 7.72c-.78.78-.78 2.05 0 2.83L4 21.41c.39.39.9.59 1.41.59.51 0 1.02-.2 1.41-.59l7.78-7.78 2.81-2.81c.8-.78.8-2.07 0-2.86zM5.41 20L4 18.59l7.72-7.72 1.47 1.35L5.41 20z\"/>\n",
              "  </svg>\n",
              "      </button>\n",
              "      \n",
              "  <style>\n",
              "    .colab-df-container {\n",
              "      display:flex;\n",
              "      flex-wrap:wrap;\n",
              "      gap: 12px;\n",
              "    }\n",
              "\n",
              "    .colab-df-convert {\n",
              "      background-color: #E8F0FE;\n",
              "      border: none;\n",
              "      border-radius: 50%;\n",
              "      cursor: pointer;\n",
              "      display: none;\n",
              "      fill: #1967D2;\n",
              "      height: 32px;\n",
              "      padding: 0 0 0 0;\n",
              "      width: 32px;\n",
              "    }\n",
              "\n",
              "    .colab-df-convert:hover {\n",
              "      background-color: #E2EBFA;\n",
              "      box-shadow: 0px 1px 2px rgba(60, 64, 67, 0.3), 0px 1px 3px 1px rgba(60, 64, 67, 0.15);\n",
              "      fill: #174EA6;\n",
              "    }\n",
              "\n",
              "    [theme=dark] .colab-df-convert {\n",
              "      background-color: #3B4455;\n",
              "      fill: #D2E3FC;\n",
              "    }\n",
              "\n",
              "    [theme=dark] .colab-df-convert:hover {\n",
              "      background-color: #434B5C;\n",
              "      box-shadow: 0px 1px 3px 1px rgba(0, 0, 0, 0.15);\n",
              "      filter: drop-shadow(0px 1px 2px rgba(0, 0, 0, 0.3));\n",
              "      fill: #FFFFFF;\n",
              "    }\n",
              "  </style>\n",
              "\n",
              "      <script>\n",
              "        const buttonEl =\n",
              "          document.querySelector('#df-492207af-0a0e-4951-817e-e6bb4996e6c1 button.colab-df-convert');\n",
              "        buttonEl.style.display =\n",
              "          google.colab.kernel.accessAllowed ? 'block' : 'none';\n",
              "\n",
              "        async function convertToInteractive(key) {\n",
              "          const element = document.querySelector('#df-492207af-0a0e-4951-817e-e6bb4996e6c1');\n",
              "          const dataTable =\n",
              "            await google.colab.kernel.invokeFunction('convertToInteractive',\n",
              "                                                     [key], {});\n",
              "          if (!dataTable) return;\n",
              "\n",
              "          const docLinkHtml = 'Like what you see? Visit the ' +\n",
              "            '<a target=\"_blank\" href=https://colab.research.google.com/notebooks/data_table.ipynb>data table notebook</a>'\n",
              "            + ' to learn more about interactive tables.';\n",
              "          element.innerHTML = '';\n",
              "          dataTable['output_type'] = 'display_data';\n",
              "          await google.colab.output.renderOutput(dataTable, element);\n",
              "          const docLink = document.createElement('div');\n",
              "          docLink.innerHTML = docLinkHtml;\n",
              "          element.appendChild(docLink);\n",
              "        }\n",
              "      </script>\n",
              "    </div>\n",
              "  </div>\n",
              "  "
            ]
          },
          "metadata": {},
          "execution_count": 59
        }
      ]
    },
    {
      "cell_type": "markdown",
      "source": [
        "Obtenemos el valor deseado. Ahora, gracias a la función '.value_counts', compararemos las dos columnas 'classification' y 'classification_num', ya que deberán tener el mismo número de apartamentos en cada rango o valor corresponidentemente. "
      ],
      "metadata": {
        "id": "Aa-a4uGYaTy5"
      },
      "id": "Aa-a4uGYaTy5"
    },
    {
      "cell_type": "code",
      "source": [
        "df['classification'].value_counts()"
      ],
      "metadata": {
        "id": "mbuRB-chhPJD",
        "outputId": "aee4e45b-9d57-4aeb-c4da-fbe41f26884c",
        "colab": {
          "base_uri": "https://localhost:8080/"
        }
      },
      "id": "mbuRB-chhPJD",
      "execution_count": 60,
      "outputs": [
        {
          "output_type": "execute_result",
          "data": {
            "text/plain": [
              "Bueno        29036\n",
              "Malo          9474\n",
              "Regular       4971\n",
              "Muy bueno     3413\n",
              "Muy malo      2001\n",
              "Name: classification, dtype: int64"
            ]
          },
          "metadata": {},
          "execution_count": 60
        }
      ]
    },
    {
      "cell_type": "code",
      "source": [
        "df['classification_num'].value_counts()"
      ],
      "metadata": {
        "id": "YEj7rBokhPte",
        "outputId": "ff7d8ca4-d5fe-4946-a158-5dedc90d0c93",
        "colab": {
          "base_uri": "https://localhost:8080/"
        }
      },
      "id": "YEj7rBokhPte",
      "execution_count": 61,
      "outputs": [
        {
          "output_type": "execute_result",
          "data": {
            "text/plain": [
              "0.75    29036\n",
              "0.25     9474\n",
              "0.50     4971\n",
              "1.00     3413\n",
              "0.00     2001\n",
              "Name: classification_num, dtype: int64"
            ]
          },
          "metadata": {},
          "execution_count": 61
        }
      ]
    },
    {
      "cell_type": "markdown",
      "source": [
        "Todo se ha ejectuado correctamente, podemos continuar con el ejercicio. "
      ],
      "metadata": {
        "id": "vEN8S-r0qOhw"
      },
      "id": "vEN8S-r0qOhw"
    },
    {
      "cell_type": "markdown",
      "source": [
        "## Modelado\n"
      ],
      "metadata": {
        "id": "xK5gIh_DsXan"
      },
      "id": "xK5gIh_DsXan"
    },
    {
      "cell_type": "markdown",
      "source": [
        "Una vez hemos preparado los datos tal y como deseamos, procedemos a modelar y estudiar el objetivo. Vamos a ver cuántos barrios hay, y cuántos apartamentos encontramos en los más populares. "
      ],
      "metadata": {
        "id": "US2QD_ToU4RF"
      },
      "id": "US2QD_ToU4RF"
    },
    {
      "cell_type": "code",
      "source": [
        "#ESTO LO QUITAMOS\n",
        "df['neighbourhood'].value_counts()\n"
      ],
      "metadata": {
        "colab": {
          "base_uri": "https://localhost:8080/"
        },
        "id": "O5d29tIMT9K2",
        "outputId": "bf6aa1e9-3596-49e2-8ecb-56e06de13933"
      },
      "id": "O5d29tIMT9K2",
      "execution_count": 62,
      "outputs": [
        {
          "output_type": "execute_result",
          "data": {
            "text/plain": [
              "Williamsburg          3920\n",
              "Bedford-Stuyvesant    3714\n",
              "Harlem                2658\n",
              "Bushwick              2465\n",
              "Upper West Side       1971\n",
              "                      ... \n",
              "Fort Wadsworth           1\n",
              "Richmondtown             1\n",
              "New Dorp                 1\n",
              "Rossville                1\n",
              "Willowbrook              1\n",
              "Name: neighbourhood, Length: 221, dtype: int64"
            ]
          },
          "metadata": {},
          "execution_count": 62
        }
      ]
    },
    {
      "cell_type": "markdown",
      "source": [
        "Primero observamos que Williamsburg es donde más apartamentos encontramos.\n"
      ],
      "metadata": {
        "id": "sM8cZU-pVQoe"
      },
      "id": "sM8cZU-pVQoe"
    },
    {
      "cell_type": "markdown",
      "source": [
        "Debemos comprobar que cada apartamento tiene un barrio asociado, así podemos descartar futuros problemas. "
      ],
      "metadata": {
        "id": "FCo07rf-qu48"
      },
      "id": "FCo07rf-qu48"
    },
    {
      "cell_type": "code",
      "source": [
        "neighbourhood_nan = df['neighbourhood'].isna().sum()\n",
        "print(neighbourhood_nan)"
      ],
      "metadata": {
        "colab": {
          "base_uri": "https://localhost:8080/"
        },
        "id": "jbVD7uJehtnF",
        "outputId": "f35bd05e-d912-4390-c410-207eddc01ec8"
      },
      "id": "jbVD7uJehtnF",
      "execution_count": 63,
      "outputs": [
        {
          "output_type": "stream",
          "name": "stdout",
          "text": [
            "0\n"
          ]
        }
      ]
    },
    {
      "cell_type": "markdown",
      "source": [
        "Debemos ordenar los barrios según la popularidad/calidad. Para ello, según las indicaciones que nos dan, tendremos primero en cuenta el número de apartamentos de calidad según los usuarios. Definimos un apartamento de calidad, aquellos cuya clasificación sea considerada como Buena o Muy buena, esto se traduce a que la variable 'classification' deberá tener el valor \"Bueno\" o \"Muy bueno\". \n",
        "A partir de ahí, tendremos en cuenta la cantidad de apartamentos que tenga el barrio. Será un barrio más popular aquel que cuente con mayor cantidad de apartamentos. Para ello ordenaremos según los 'id', ya que cada apartamento tiene un id, y así podremos contarlos.  "
      ],
      "metadata": {
        "id": "zb2Q2TSHq4zc"
      },
      "id": "zb2Q2TSHq4zc"
    },
    {
      "cell_type": "markdown",
      "source": [
        "La ordenación y agrupación de estos criterios, tendrá lugar en la variable x_barrios. "
      ],
      "metadata": {
        "id": "kTtBiPLntC5W"
      },
      "id": "kTtBiPLntC5W"
    },
    {
      "cell_type": "markdown",
      "source": [
        "Una vez tengamos esta variable, simplemente tendremos que buscar en qué lugar se ostenta el barrio 'Williamsburg' con respecto a los demás que forma New York, satisfaciendo así nuestro objetivo."
      ],
      "metadata": {
        "id": "MJCTB-K4tIDb"
      },
      "id": "MJCTB-K4tIDb"
    },
    {
      "cell_type": "code",
      "source": [
        "x_barrios = list(df\n",
        " .groupby(['neighbourhood','classification']).id\n",
        " .count()\n",
        " .reset_index()\n",
        " .query('classification in [\"Bueno\",\"Muy bueno\"]')\n",
        " .groupby('neighbourhood')\n",
        " .sum()\n",
        " .sort_values(by='id',ascending=False)  \n",
        " .index[:5] \n",
        ")"
      ],
      "metadata": {
        "id": "EdSvgimcryCb"
      },
      "id": "EdSvgimcryCb",
      "execution_count": 64,
      "outputs": []
    },
    {
      "cell_type": "markdown",
      "source": [
        "Hemos tomado los 5 primeros para poder observar si se ha ejecutado correctamente. "
      ],
      "metadata": {
        "id": "jLAZDWHNtqaI"
      },
      "id": "jLAZDWHNtqaI"
    },
    {
      "cell_type": "code",
      "source": [
        "x_barrios"
      ],
      "metadata": {
        "id": "Dn17MgzltdXb",
        "outputId": "b0c14b94-2410-4f57-b82c-8f5c09053836",
        "colab": {
          "base_uri": "https://localhost:8080/"
        }
      },
      "id": "Dn17MgzltdXb",
      "execution_count": 65,
      "outputs": [
        {
          "output_type": "execute_result",
          "data": {
            "text/plain": [
              "['Williamsburg', 'Bedford-Stuyvesant', 'Harlem', 'Bushwick', 'East Village']"
            ]
          },
          "metadata": {},
          "execution_count": 65
        }
      ]
    },
    {
      "cell_type": "markdown",
      "source": [
        "Ya hemos alcanzado el objetivo que buscábamos, el barrio 'Williamsburg' ostenta la posición primera en términos de popularidad/calidad. "
      ],
      "metadata": {
        "id": "QLPyUaWbtzAT"
      },
      "id": "QLPyUaWbtzAT"
    },
    {
      "cell_type": "markdown",
      "source": [
        "##Evaluación\n"
      ],
      "metadata": {
        "id": "vUrohiUese1R"
      },
      "id": "vUrohiUese1R"
    },
    {
      "cell_type": "markdown",
      "source": [
        "Para determinar si los resultados son útiles a las necesidades del negocio, debemos tener en cuenta con qué tipo de empresa se está trabajando. "
      ],
      "metadata": {
        "id": "shRGDrDpxfmT"
      },
      "id": "shRGDrDpxfmT"
    },
    {
      "cell_type": "markdown",
      "source": [
        "##Despliegue"
      ],
      "metadata": {
        "id": "gj1dxH0usgFA"
      },
      "id": "gj1dxH0usgFA"
    },
    {
      "cell_type": "code",
      "source": [
        "df['neighbourhood'].value_counts()"
      ],
      "metadata": {
        "id": "C4mu-jCTwxVC",
        "outputId": "5bd80138-9610-4798-86da-2d81c01cbeb3",
        "colab": {
          "base_uri": "https://localhost:8080/"
        }
      },
      "execution_count": 66,
      "outputs": [
        {
          "output_type": "execute_result",
          "data": {
            "text/plain": [
              "Williamsburg          3920\n",
              "Bedford-Stuyvesant    3714\n",
              "Harlem                2658\n",
              "Bushwick              2465\n",
              "Upper West Side       1971\n",
              "                      ... \n",
              "Fort Wadsworth           1\n",
              "Richmondtown             1\n",
              "New Dorp                 1\n",
              "Rossville                1\n",
              "Willowbrook              1\n",
              "Name: neighbourhood, Length: 221, dtype: int64"
            ]
          },
          "metadata": {},
          "execution_count": 66
        }
      ],
      "id": "C4mu-jCTwxVC"
    },
    {
      "cell_type": "markdown",
      "source": [
        "Para explotar la utilidad de este modelo (Call to Action), debemos estudiar el resultado obtenido. \n",
        "¿Para qué puede servir esto? Si un particular busca aumentar el beneficio de alquilar su propiedad, podrá tener en cuenta este estudio, para según en qué barrio se localiza, estudiar el precio de su apartamento. \n",
        "\n",
        "Pongamos un par de ejemplos: \n",
        "\n",
        "Si el apartamento se localiza en el barrio de 'Williamsburg' deberá adecuar el precio, según el resto de apartamentos, teniendo en cuenta que de media, los apartamentos en esa zona, tienen buena calificación, y que disponen de gran cantidad, por lo que si eleva mucho el precio, nadie estará dispuesto a pagarlo, teniendo otras opciones.  \n",
        "\n",
        "Sin embargo si el apartamento se encuentra en el barrio 'Rossville' podrá aumentar el precio por noche, ya que como se observa, es el único apartamento que se encuentra en ese barrio, no tendrá competencia. Si alguien se necesita hospedar ahí, sólo tendrá esa opción. \n"
      ],
      "metadata": {
        "id": "-6pLUvsVdm_f"
      },
      "id": "-6pLUvsVdm_f"
    },
    {
      "cell_type": "markdown",
      "source": [
        "#EJERCICIO 2"
      ],
      "metadata": {
        "id": "FXEJSzskl9bL"
      },
      "id": "FXEJSzskl9bL"
    },
    {
      "cell_type": "markdown",
      "source": [
        " Explica visualmente como se distribuyen los 5 barrios más populares (esto serán aquellos cuyos apartamentos estén más solicitados en números absolutos. Para ello utiliza un diagrama de burbuja donde el eje de las X indica el barrio y el eje Y la calidad de los apartamentos. Usa todos los diagramas que necesites para llegar a esta conclusión final."
      ],
      "metadata": {
        "id": "2LJzHbXxtpt4"
      },
      "id": "2LJzHbXxtpt4"
    },
    {
      "cell_type": "markdown",
      "source": [
        "La selección de los 5 barrios más populares ya se realizó en el ejercicio anterior, y se definió en la variable de x_barrios, por lo que lo próximo será representarlos para estudiar las distribuciones de estos. "
      ],
      "metadata": {
        "id": "ffUVVIZF0E8i"
      },
      "id": "ffUVVIZF0E8i"
    },
    {
      "cell_type": "markdown",
      "source": [
        "##Bubble sort"
      ],
      "metadata": {
        "id": "Z8GmTjEXogSX"
      },
      "id": "Z8GmTjEXogSX"
    },
    {
      "cell_type": "markdown",
      "source": [
        "- x_barrios: los 5 barrios más populares en términos de disponibilidad\n",
        "- y_barrios: la calidad de los apartamentos de cada barrio correspondiente. \n",
        "- s_barrios: disponibilidad de los apartamentos de cada barrio correspondiente. "
      ],
      "metadata": {
        "id": "6-Q9ITG9xYyA"
      },
      "id": "6-Q9ITG9xYyA"
    },
    {
      "cell_type": "markdown",
      "source": [
        "Contar problema que hemos tenido con la disponibilidad-> cuanta menos disponibilidad-> mejor -> menos disponibilidad implica 0 días disponibles al año -> toma los 5 mejores (encontramos 0) -> size será 0. "
      ],
      "metadata": {
        "id": "7IB6DZTFhXFA"
      },
      "id": "7IB6DZTFhXFA"
    },
    {
      "cell_type": "code",
      "source": [
        "df_draw = (df \n",
        "           .query('neighbourhood in @x_barrios')\n",
        "           .groupby(['neighbourhood','classification']).id\n",
        "           .count()\n",
        "           .reset_index()\n",
        "          )"
      ],
      "metadata": {
        "id": "OYQIS-nfyMZD"
      },
      "id": "OYQIS-nfyMZD",
      "execution_count": 67,
      "outputs": []
    },
    {
      "cell_type": "code",
      "source": [
        "df_draw"
      ],
      "metadata": {
        "id": "M3axTeRQyN4p",
        "outputId": "2a250786-1609-4b79-bf6f-d0b40a5a8f2e",
        "colab": {
          "base_uri": "https://localhost:8080/",
          "height": 833
        }
      },
      "id": "M3axTeRQyN4p",
      "execution_count": 68,
      "outputs": [
        {
          "output_type": "execute_result",
          "data": {
            "text/plain": [
              "         neighbourhood classification    id\n",
              "0   Bedford-Stuyvesant          Bueno  2144\n",
              "1   Bedford-Stuyvesant           Malo   685\n",
              "2   Bedford-Stuyvesant      Muy bueno   313\n",
              "3   Bedford-Stuyvesant       Muy malo   208\n",
              "4   Bedford-Stuyvesant        Regular   364\n",
              "5             Bushwick          Bueno  1611\n",
              "6             Bushwick           Malo   377\n",
              "7             Bushwick      Muy bueno   185\n",
              "8             Bushwick       Muy malo    91\n",
              "9             Bushwick        Regular   201\n",
              "10        East Village          Bueno  1330\n",
              "11        East Village           Malo   213\n",
              "12        East Village      Muy bueno   116\n",
              "13        East Village       Muy malo    36\n",
              "14        East Village        Regular   158\n",
              "15              Harlem          Bueno  1601\n",
              "16              Harlem           Malo   460\n",
              "17              Harlem      Muy bueno   201\n",
              "18              Harlem       Muy malo    88\n",
              "19              Harlem        Regular   308\n",
              "20        Williamsburg          Bueno  2822\n",
              "21        Williamsburg           Malo   455\n",
              "22        Williamsburg      Muy bueno   235\n",
              "23        Williamsburg       Muy malo   102\n",
              "24        Williamsburg        Regular   306"
            ],
            "text/html": [
              "\n",
              "  <div id=\"df-3a994447-f452-4af7-8251-6d3143ff4f4a\">\n",
              "    <div class=\"colab-df-container\">\n",
              "      <div>\n",
              "<style scoped>\n",
              "    .dataframe tbody tr th:only-of-type {\n",
              "        vertical-align: middle;\n",
              "    }\n",
              "\n",
              "    .dataframe tbody tr th {\n",
              "        vertical-align: top;\n",
              "    }\n",
              "\n",
              "    .dataframe thead th {\n",
              "        text-align: right;\n",
              "    }\n",
              "</style>\n",
              "<table border=\"1\" class=\"dataframe\">\n",
              "  <thead>\n",
              "    <tr style=\"text-align: right;\">\n",
              "      <th></th>\n",
              "      <th>neighbourhood</th>\n",
              "      <th>classification</th>\n",
              "      <th>id</th>\n",
              "    </tr>\n",
              "  </thead>\n",
              "  <tbody>\n",
              "    <tr>\n",
              "      <th>0</th>\n",
              "      <td>Bedford-Stuyvesant</td>\n",
              "      <td>Bueno</td>\n",
              "      <td>2144</td>\n",
              "    </tr>\n",
              "    <tr>\n",
              "      <th>1</th>\n",
              "      <td>Bedford-Stuyvesant</td>\n",
              "      <td>Malo</td>\n",
              "      <td>685</td>\n",
              "    </tr>\n",
              "    <tr>\n",
              "      <th>2</th>\n",
              "      <td>Bedford-Stuyvesant</td>\n",
              "      <td>Muy bueno</td>\n",
              "      <td>313</td>\n",
              "    </tr>\n",
              "    <tr>\n",
              "      <th>3</th>\n",
              "      <td>Bedford-Stuyvesant</td>\n",
              "      <td>Muy malo</td>\n",
              "      <td>208</td>\n",
              "    </tr>\n",
              "    <tr>\n",
              "      <th>4</th>\n",
              "      <td>Bedford-Stuyvesant</td>\n",
              "      <td>Regular</td>\n",
              "      <td>364</td>\n",
              "    </tr>\n",
              "    <tr>\n",
              "      <th>5</th>\n",
              "      <td>Bushwick</td>\n",
              "      <td>Bueno</td>\n",
              "      <td>1611</td>\n",
              "    </tr>\n",
              "    <tr>\n",
              "      <th>6</th>\n",
              "      <td>Bushwick</td>\n",
              "      <td>Malo</td>\n",
              "      <td>377</td>\n",
              "    </tr>\n",
              "    <tr>\n",
              "      <th>7</th>\n",
              "      <td>Bushwick</td>\n",
              "      <td>Muy bueno</td>\n",
              "      <td>185</td>\n",
              "    </tr>\n",
              "    <tr>\n",
              "      <th>8</th>\n",
              "      <td>Bushwick</td>\n",
              "      <td>Muy malo</td>\n",
              "      <td>91</td>\n",
              "    </tr>\n",
              "    <tr>\n",
              "      <th>9</th>\n",
              "      <td>Bushwick</td>\n",
              "      <td>Regular</td>\n",
              "      <td>201</td>\n",
              "    </tr>\n",
              "    <tr>\n",
              "      <th>10</th>\n",
              "      <td>East Village</td>\n",
              "      <td>Bueno</td>\n",
              "      <td>1330</td>\n",
              "    </tr>\n",
              "    <tr>\n",
              "      <th>11</th>\n",
              "      <td>East Village</td>\n",
              "      <td>Malo</td>\n",
              "      <td>213</td>\n",
              "    </tr>\n",
              "    <tr>\n",
              "      <th>12</th>\n",
              "      <td>East Village</td>\n",
              "      <td>Muy bueno</td>\n",
              "      <td>116</td>\n",
              "    </tr>\n",
              "    <tr>\n",
              "      <th>13</th>\n",
              "      <td>East Village</td>\n",
              "      <td>Muy malo</td>\n",
              "      <td>36</td>\n",
              "    </tr>\n",
              "    <tr>\n",
              "      <th>14</th>\n",
              "      <td>East Village</td>\n",
              "      <td>Regular</td>\n",
              "      <td>158</td>\n",
              "    </tr>\n",
              "    <tr>\n",
              "      <th>15</th>\n",
              "      <td>Harlem</td>\n",
              "      <td>Bueno</td>\n",
              "      <td>1601</td>\n",
              "    </tr>\n",
              "    <tr>\n",
              "      <th>16</th>\n",
              "      <td>Harlem</td>\n",
              "      <td>Malo</td>\n",
              "      <td>460</td>\n",
              "    </tr>\n",
              "    <tr>\n",
              "      <th>17</th>\n",
              "      <td>Harlem</td>\n",
              "      <td>Muy bueno</td>\n",
              "      <td>201</td>\n",
              "    </tr>\n",
              "    <tr>\n",
              "      <th>18</th>\n",
              "      <td>Harlem</td>\n",
              "      <td>Muy malo</td>\n",
              "      <td>88</td>\n",
              "    </tr>\n",
              "    <tr>\n",
              "      <th>19</th>\n",
              "      <td>Harlem</td>\n",
              "      <td>Regular</td>\n",
              "      <td>308</td>\n",
              "    </tr>\n",
              "    <tr>\n",
              "      <th>20</th>\n",
              "      <td>Williamsburg</td>\n",
              "      <td>Bueno</td>\n",
              "      <td>2822</td>\n",
              "    </tr>\n",
              "    <tr>\n",
              "      <th>21</th>\n",
              "      <td>Williamsburg</td>\n",
              "      <td>Malo</td>\n",
              "      <td>455</td>\n",
              "    </tr>\n",
              "    <tr>\n",
              "      <th>22</th>\n",
              "      <td>Williamsburg</td>\n",
              "      <td>Muy bueno</td>\n",
              "      <td>235</td>\n",
              "    </tr>\n",
              "    <tr>\n",
              "      <th>23</th>\n",
              "      <td>Williamsburg</td>\n",
              "      <td>Muy malo</td>\n",
              "      <td>102</td>\n",
              "    </tr>\n",
              "    <tr>\n",
              "      <th>24</th>\n",
              "      <td>Williamsburg</td>\n",
              "      <td>Regular</td>\n",
              "      <td>306</td>\n",
              "    </tr>\n",
              "  </tbody>\n",
              "</table>\n",
              "</div>\n",
              "      <button class=\"colab-df-convert\" onclick=\"convertToInteractive('df-3a994447-f452-4af7-8251-6d3143ff4f4a')\"\n",
              "              title=\"Convert this dataframe to an interactive table.\"\n",
              "              style=\"display:none;\">\n",
              "        \n",
              "  <svg xmlns=\"http://www.w3.org/2000/svg\" height=\"24px\"viewBox=\"0 0 24 24\"\n",
              "       width=\"24px\">\n",
              "    <path d=\"M0 0h24v24H0V0z\" fill=\"none\"/>\n",
              "    <path d=\"M18.56 5.44l.94 2.06.94-2.06 2.06-.94-2.06-.94-.94-2.06-.94 2.06-2.06.94zm-11 1L8.5 8.5l.94-2.06 2.06-.94-2.06-.94L8.5 2.5l-.94 2.06-2.06.94zm10 10l.94 2.06.94-2.06 2.06-.94-2.06-.94-.94-2.06-.94 2.06-2.06.94z\"/><path d=\"M17.41 7.96l-1.37-1.37c-.4-.4-.92-.59-1.43-.59-.52 0-1.04.2-1.43.59L10.3 9.45l-7.72 7.72c-.78.78-.78 2.05 0 2.83L4 21.41c.39.39.9.59 1.41.59.51 0 1.02-.2 1.41-.59l7.78-7.78 2.81-2.81c.8-.78.8-2.07 0-2.86zM5.41 20L4 18.59l7.72-7.72 1.47 1.35L5.41 20z\"/>\n",
              "  </svg>\n",
              "      </button>\n",
              "      \n",
              "  <style>\n",
              "    .colab-df-container {\n",
              "      display:flex;\n",
              "      flex-wrap:wrap;\n",
              "      gap: 12px;\n",
              "    }\n",
              "\n",
              "    .colab-df-convert {\n",
              "      background-color: #E8F0FE;\n",
              "      border: none;\n",
              "      border-radius: 50%;\n",
              "      cursor: pointer;\n",
              "      display: none;\n",
              "      fill: #1967D2;\n",
              "      height: 32px;\n",
              "      padding: 0 0 0 0;\n",
              "      width: 32px;\n",
              "    }\n",
              "\n",
              "    .colab-df-convert:hover {\n",
              "      background-color: #E2EBFA;\n",
              "      box-shadow: 0px 1px 2px rgba(60, 64, 67, 0.3), 0px 1px 3px 1px rgba(60, 64, 67, 0.15);\n",
              "      fill: #174EA6;\n",
              "    }\n",
              "\n",
              "    [theme=dark] .colab-df-convert {\n",
              "      background-color: #3B4455;\n",
              "      fill: #D2E3FC;\n",
              "    }\n",
              "\n",
              "    [theme=dark] .colab-df-convert:hover {\n",
              "      background-color: #434B5C;\n",
              "      box-shadow: 0px 1px 3px 1px rgba(0, 0, 0, 0.15);\n",
              "      filter: drop-shadow(0px 1px 2px rgba(0, 0, 0, 0.3));\n",
              "      fill: #FFFFFF;\n",
              "    }\n",
              "  </style>\n",
              "\n",
              "      <script>\n",
              "        const buttonEl =\n",
              "          document.querySelector('#df-3a994447-f452-4af7-8251-6d3143ff4f4a button.colab-df-convert');\n",
              "        buttonEl.style.display =\n",
              "          google.colab.kernel.accessAllowed ? 'block' : 'none';\n",
              "\n",
              "        async function convertToInteractive(key) {\n",
              "          const element = document.querySelector('#df-3a994447-f452-4af7-8251-6d3143ff4f4a');\n",
              "          const dataTable =\n",
              "            await google.colab.kernel.invokeFunction('convertToInteractive',\n",
              "                                                     [key], {});\n",
              "          if (!dataTable) return;\n",
              "\n",
              "          const docLinkHtml = 'Like what you see? Visit the ' +\n",
              "            '<a target=\"_blank\" href=https://colab.research.google.com/notebooks/data_table.ipynb>data table notebook</a>'\n",
              "            + ' to learn more about interactive tables.';\n",
              "          element.innerHTML = '';\n",
              "          dataTable['output_type'] = 'display_data';\n",
              "          await google.colab.output.renderOutput(dataTable, element);\n",
              "          const docLink = document.createElement('div');\n",
              "          docLink.innerHTML = docLinkHtml;\n",
              "          element.appendChild(docLink);\n",
              "        }\n",
              "      </script>\n",
              "    </div>\n",
              "  </div>\n",
              "  "
            ]
          },
          "metadata": {},
          "execution_count": 68
        }
      ]
    },
    {
      "cell_type": "code",
      "source": [
        "titulo = f\"Calidad en los 5 barrios más populares, indicando cantidad de apartamentos por categoría\"\n",
        "color = sns.color_palette('Set2',8)\n",
        "\n",
        "f, ax = plt.subplots(1,figsize=(15,8))\n",
        "sns.set_style(style='whitegrid')\n",
        "\n",
        "ordenacion_calidad = {'Muy malo':5, 'Malo':4, 'Regular':3, 'Bueno':2, 'Muy bueno':1}\n",
        "\n",
        "sns.scatterplot(data=df_draw.sort_values(by=['classification'], key=lambda x:x.map(ordenacion_calidad)),\n",
        "               x='neighbourhood',\n",
        "               y='classification',\n",
        "               size='id',\n",
        "               sizes=(200,1000),\n",
        "               color='black'\n",
        "               )\n",
        "\n",
        "ax.legend().set_visible(False)\n",
        "#ax.yaxis.set_major_formatter(plt.FuncFormatter(lambda v,x:f'{x:,.2f}'))\n",
        "\n",
        "#for t in legend.texts:\n",
        "#    t.set_text(t.get_text()[:3])\n",
        "#ax.legend(title='apartamentos po',fontsize=24, title_fontsize=24)\n",
        "\n",
        "sns.despine(left=True, bottom=True)\n",
        "#ax.set_xlabel('Barrio',fontsize=24,weight='regular')\n",
        "ax.set_ylabel('Calidad',fontsize=24,weight='regular')\n",
        "\n",
        "#ax.set_axisbelow(False)\n",
        "ax.grid(axis='y',color='gray')\n",
        "ax.xaxis.set_tick_params(labelsize=18,width=0,rotation=0,pad=0)\n",
        "ax.yaxis.set_tick_params(labelsize=18,width=0,rotation=0,pad=0)\n",
        "\n",
        "f.suptitle(f'{titulo}',fontsize=24,color='black',x=.5,ha='center',y=.92)"
      ],
      "metadata": {
        "id": "56XAjcuNyRho",
        "outputId": "bbfb785f-825f-4bc8-bf13-33cdc131b3e1",
        "colab": {
          "base_uri": "https://localhost:8080/",
          "height": 361
        }
      },
      "id": "56XAjcuNyRho",
      "execution_count": 71,
      "outputs": [
        {
          "output_type": "execute_result",
          "data": {
            "text/plain": [
              "Text(0.5, 0.92, 'Calidad en los 5 barrios más populares, indicando cantidad de apartamentos por categoría')"
            ]
          },
          "metadata": {},
          "execution_count": 71
        },
        {
          "output_type": "display_data",
          "data": {
            "text/plain": [
              "<Figure size 1080x576 with 1 Axes>"
            ],
            "image/png": "[encoded data removed]"
          },
          "metadata": {}
        }
      ]
    },
    {
      "cell_type": "code",
      "source": [
        "df_draw = (df\n",
        "           .query(\"neighbourhood in @x_barrios\")\n",
        "           \n",
        "           .groupby('neighbourhood')['classification_num'].aggregate(['mean','count'])\n",
        "           #.mean()\n",
        "           .reset_index()\n",
        "            )"
      ],
      "metadata": {
        "id": "waN-kuk0ytem"
      },
      "id": "waN-kuk0ytem",
      "execution_count": 72,
      "outputs": []
    },
    {
      "cell_type": "code",
      "source": [
        "df_draw"
      ],
      "metadata": {
        "id": "7X6qZAJGyvN-",
        "outputId": "1f93dc33-53dc-4407-d494-8208c6940114",
        "colab": {
          "base_uri": "https://localhost:8080/",
          "height": 206
        }
      },
      "id": "7X6qZAJGyvN-",
      "execution_count": 73,
      "outputs": [
        {
          "output_type": "execute_result",
          "data": {
            "text/plain": [
              "        neighbourhood      mean  count\n",
              "0  Bedford-Stuyvesant  0.612345   3714\n",
              "1            Bushwick  0.644219   2465\n",
              "2        East Village  0.672288   1853\n",
              "3              Harlem  0.628574   2658\n",
              "4        Williamsburg  0.667921   3920"
            ],
            "text/html": [
              "\n",
              "  <div id=\"df-0d2fab2c-67a9-42f6-9383-25c113df0cbf\">\n",
              "    <div class=\"colab-df-container\">\n",
              "      <div>\n",
              "<style scoped>\n",
              "    .dataframe tbody tr th:only-of-type {\n",
              "        vertical-align: middle;\n",
              "    }\n",
              "\n",
              "    .dataframe tbody tr th {\n",
              "        vertical-align: top;\n",
              "    }\n",
              "\n",
              "    .dataframe thead th {\n",
              "        text-align: right;\n",
              "    }\n",
              "</style>\n",
              "<table border=\"1\" class=\"dataframe\">\n",
              "  <thead>\n",
              "    <tr style=\"text-align: right;\">\n",
              "      <th></th>\n",
              "      <th>neighbourhood</th>\n",
              "      <th>mean</th>\n",
              "      <th>count</th>\n",
              "    </tr>\n",
              "  </thead>\n",
              "  <tbody>\n",
              "    <tr>\n",
              "      <th>0</th>\n",
              "      <td>Bedford-Stuyvesant</td>\n",
              "      <td>0.612345</td>\n",
              "      <td>3714</td>\n",
              "    </tr>\n",
              "    <tr>\n",
              "      <th>1</th>\n",
              "      <td>Bushwick</td>\n",
              "      <td>0.644219</td>\n",
              "      <td>2465</td>\n",
              "    </tr>\n",
              "    <tr>\n",
              "      <th>2</th>\n",
              "      <td>East Village</td>\n",
              "      <td>0.672288</td>\n",
              "      <td>1853</td>\n",
              "    </tr>\n",
              "    <tr>\n",
              "      <th>3</th>\n",
              "      <td>Harlem</td>\n",
              "      <td>0.628574</td>\n",
              "      <td>2658</td>\n",
              "    </tr>\n",
              "    <tr>\n",
              "      <th>4</th>\n",
              "      <td>Williamsburg</td>\n",
              "      <td>0.667921</td>\n",
              "      <td>3920</td>\n",
              "    </tr>\n",
              "  </tbody>\n",
              "</table>\n",
              "</div>\n",
              "      <button class=\"colab-df-convert\" onclick=\"convertToInteractive('df-0d2fab2c-67a9-42f6-9383-25c113df0cbf')\"\n",
              "              title=\"Convert this dataframe to an interactive table.\"\n",
              "              style=\"display:none;\">\n",
              "        \n",
              "  <svg xmlns=\"http://www.w3.org/2000/svg\" height=\"24px\"viewBox=\"0 0 24 24\"\n",
              "       width=\"24px\">\n",
              "    <path d=\"M0 0h24v24H0V0z\" fill=\"none\"/>\n",
              "    <path d=\"M18.56 5.44l.94 2.06.94-2.06 2.06-.94-2.06-.94-.94-2.06-.94 2.06-2.06.94zm-11 1L8.5 8.5l.94-2.06 2.06-.94-2.06-.94L8.5 2.5l-.94 2.06-2.06.94zm10 10l.94 2.06.94-2.06 2.06-.94-2.06-.94-.94-2.06-.94 2.06-2.06.94z\"/><path d=\"M17.41 7.96l-1.37-1.37c-.4-.4-.92-.59-1.43-.59-.52 0-1.04.2-1.43.59L10.3 9.45l-7.72 7.72c-.78.78-.78 2.05 0 2.83L4 21.41c.39.39.9.59 1.41.59.51 0 1.02-.2 1.41-.59l7.78-7.78 2.81-2.81c.8-.78.8-2.07 0-2.86zM5.41 20L4 18.59l7.72-7.72 1.47 1.35L5.41 20z\"/>\n",
              "  </svg>\n",
              "      </button>\n",
              "      \n",
              "  <style>\n",
              "    .colab-df-container {\n",
              "      display:flex;\n",
              "      flex-wrap:wrap;\n",
              "      gap: 12px;\n",
              "    }\n",
              "\n",
              "    .colab-df-convert {\n",
              "      background-color: #E8F0FE;\n",
              "      border: none;\n",
              "      border-radius: 50%;\n",
              "      cursor: pointer;\n",
              "      display: none;\n",
              "      fill: #1967D2;\n",
              "      height: 32px;\n",
              "      padding: 0 0 0 0;\n",
              "      width: 32px;\n",
              "    }\n",
              "\n",
              "    .colab-df-convert:hover {\n",
              "      background-color: #E2EBFA;\n",
              "      box-shadow: 0px 1px 2px rgba(60, 64, 67, 0.3), 0px 1px 3px 1px rgba(60, 64, 67, 0.15);\n",
              "      fill: #174EA6;\n",
              "    }\n",
              "\n",
              "    [theme=dark] .colab-df-convert {\n",
              "      background-color: #3B4455;\n",
              "      fill: #D2E3FC;\n",
              "    }\n",
              "\n",
              "    [theme=dark] .colab-df-convert:hover {\n",
              "      background-color: #434B5C;\n",
              "      box-shadow: 0px 1px 3px 1px rgba(0, 0, 0, 0.15);\n",
              "      filter: drop-shadow(0px 1px 2px rgba(0, 0, 0, 0.3));\n",
              "      fill: #FFFFFF;\n",
              "    }\n",
              "  </style>\n",
              "\n",
              "      <script>\n",
              "        const buttonEl =\n",
              "          document.querySelector('#df-0d2fab2c-67a9-42f6-9383-25c113df0cbf button.colab-df-convert');\n",
              "        buttonEl.style.display =\n",
              "          google.colab.kernel.accessAllowed ? 'block' : 'none';\n",
              "\n",
              "        async function convertToInteractive(key) {\n",
              "          const element = document.querySelector('#df-0d2fab2c-67a9-42f6-9383-25c113df0cbf');\n",
              "          const dataTable =\n",
              "            await google.colab.kernel.invokeFunction('convertToInteractive',\n",
              "                                                     [key], {});\n",
              "          if (!dataTable) return;\n",
              "\n",
              "          const docLinkHtml = 'Like what you see? Visit the ' +\n",
              "            '<a target=\"_blank\" href=https://colab.research.google.com/notebooks/data_table.ipynb>data table notebook</a>'\n",
              "            + ' to learn more about interactive tables.';\n",
              "          element.innerHTML = '';\n",
              "          dataTable['output_type'] = 'display_data';\n",
              "          await google.colab.output.renderOutput(dataTable, element);\n",
              "          const docLink = document.createElement('div');\n",
              "          docLink.innerHTML = docLinkHtml;\n",
              "          element.appendChild(docLink);\n",
              "        }\n",
              "      </script>\n",
              "    </div>\n",
              "  </div>\n",
              "  "
            ]
          },
          "metadata": {},
          "execution_count": 73
        }
      ]
    },
    {
      "cell_type": "code",
      "source": [
        "titulo = f\"Calidad en los 5 barrios más populares, indicando cantidad de apartamentos por barrio, y clasificación numérica\"\n",
        "color = sns.color_palette('Set2',8)\n",
        "\n",
        "f, ax = plt.subplots(1,figsize=(15,8))\n",
        "sns.set_style(style='whitegrid')\n",
        "\n",
        "\n",
        "sns.scatterplot(data=df_draw,\n",
        "               x='neighbourhood',\n",
        "               y='mean',\n",
        "               size='count',\n",
        "               sizes=(200,1000),\n",
        "               color='black'\n",
        "               )\n",
        "\n",
        "ax.legend(fontsize=24)\n",
        "\n",
        "ax.yaxis.set_major_formatter(plt.FuncFormatter(lambda v,x:f'{v:,.2f}'))\n",
        "legend = ax.legend()\n",
        "for t in legend.texts:\n",
        "    t.set_text(t.get_text()[:3])\n",
        "ax.legend(title='cantidad de apartamentos',fontsize=24, title_fontsize=24, loc=9, bbox_to_anchor=(1,.7), frameon=False)\n",
        "\n",
        "sns.despine(left=True, bottom=True)\n",
        "ax.set_xlabel('Barrio',fontsize=24,weight='regular')\n",
        "ax.set_ylabel('Calidad',fontsize=24,weight='regular')\n",
        "\n",
        "#ax.set_axisbelow(False)\n",
        "ax.grid(axis='y',color='gray')\n",
        "ax.xaxis.set_tick_params(labelsize=18,width=0,rotation=0,pad=0)\n",
        "ax.yaxis.set_tick_params(labelsize=18,width=0,rotation=0,pad=0)\n",
        "\n",
        "f.suptitle(f'{titulo}',fontsize=24,color='black',x=.5,ha='center',y=.92)"
      ],
      "metadata": {
        "id": "5tLvQHL4yxVE",
        "outputId": "aa127b58-d463-4342-cb27-76df1582efae",
        "colab": {
          "base_uri": "https://localhost:8080/",
          "height": 309
        }
      },
      "id": "5tLvQHL4yxVE",
      "execution_count": 74,
      "outputs": [
        {
          "output_type": "execute_result",
          "data": {
            "text/plain": [
              "Text(0.5, 0.92, 'Calidad en los 5 barrios más populares, indicando cantidad de apartamentos por barrio, y clasificación numérica')"
            ]
          },
          "metadata": {},
          "execution_count": 74
        },
        {
          "output_type": "display_data",
          "data": {
            "text/plain": [
              "<Figure size 1080x576 with 1 Axes>"
            ],
            "image/png": "[encoded data removed]"
          },
          "metadata": {}
        }
      ]
    },
    {
      "cell_type": "code",
      "source": [
        "x_barrios"
      ],
      "metadata": {
        "id": "fS3JZgX7z9D1",
        "outputId": "4f5d6fae-335d-4517-f2fa-3ced3f581b2f",
        "colab": {
          "base_uri": "https://localhost:8080/"
        }
      },
      "id": "fS3JZgX7z9D1",
      "execution_count": 75,
      "outputs": [
        {
          "output_type": "execute_result",
          "data": {
            "text/plain": [
              "['Williamsburg', 'Bedford-Stuyvesant', 'Harlem', 'Bushwick', 'East Village']"
            ]
          },
          "metadata": {},
          "execution_count": 75
        }
      ]
    },
    {
      "cell_type": "markdown",
      "source": [
        "En esta gráfica podemos observar el sentido que ha tomado la clasificación de los 5 barrios seleccionados midiendo la popularidad/calidad, ya que: \n",
        "- Selección: todos los barrios tienen de media una clasificaión buena. \n",
        "- Ordenación: recordando el orden de los barrios 'Williamsburg' es el primero en la clasificación, y como se puede observar, es el que con más cantidad de apartamentos cuenta, seguido por 'Bedford-Stuyvesant'. "
      ],
      "metadata": {
        "id": "fs4yrVqAy2AF"
      },
      "id": "fs4yrVqAy2AF"
    },
    {
      "cell_type": "markdown",
      "source": [
        "#EJERCICIO 3"
      ],
      "metadata": {
        "id": "hzYraWnUmAVI"
      },
      "id": "hzYraWnUmAVI"
    },
    {
      "cell_type": "markdown",
      "source": [
        "Una vez obtenida la información del apartado anterior, queremos tratar de entender las diferencias de precio entre alquilar un apartamento entero y una habitación privada. Usa los diagramas de cajas donde cada uno de los 5 barrios más populares está representado por una caja y haz una interpretación de los resultados."
      ],
      "metadata": {
        "id": "eJYt8qBctuGf"
      },
      "id": "eJYt8qBctuGf"
    },
    {
      "cell_type": "markdown",
      "source": [
        "##Estudio de datos"
      ],
      "metadata": {
        "id": "o2kb0wrgiGoo"
      },
      "id": "o2kb0wrgiGoo"
    },
    {
      "cell_type": "markdown",
      "source": [
        "vamos a ver cuántos tipos de habitación hay: "
      ],
      "metadata": {
        "id": "zRzVVcW8pvmr"
      },
      "id": "zRzVVcW8pvmr"
    },
    {
      "cell_type": "code",
      "source": [
        "df['room_type'].value_counts()"
      ],
      "metadata": {
        "colab": {
          "base_uri": "https://localhost:8080/"
        },
        "id": "COxuwVKypmOU",
        "outputId": "92f06de7-819d-4e1a-de45-fb475dbd67aa"
      },
      "id": "COxuwVKypmOU",
      "execution_count": null,
      "outputs": [
        {
          "output_type": "execute_result",
          "data": {
            "text/plain": [
              "Entire home/apt    25409\n",
              "Private room       22326\n",
              "Shared room         1160\n",
              "Name: room_type, dtype: int64"
            ]
          },
          "metadata": {},
          "execution_count": 67
        }
      ]
    },
    {
      "cell_type": "markdown",
      "source": [
        "Estudiemos la cantidad de NaN que encontramos en esta variable: "
      ],
      "metadata": {
        "id": "Um0fFHe4pzAO"
      },
      "id": "Um0fFHe4pzAO"
    },
    {
      "cell_type": "code",
      "source": [
        "room_type_nan = df['room_type'].isna().sum()\n",
        "print(room_type_nan)"
      ],
      "metadata": {
        "colab": {
          "base_uri": "https://localhost:8080/"
        },
        "id": "TndZpsHzp66z",
        "outputId": "0ae65944-4e80-4e0d-f586-eee1f000c1e7"
      },
      "id": "TndZpsHzp66z",
      "execution_count": null,
      "outputs": [
        {
          "output_type": "stream",
          "name": "stdout",
          "text": [
            "0\n"
          ]
        }
      ]
    },
    {
      "cell_type": "markdown",
      "source": [
        "Para trabajar más fácil, asociaremos cada categoría a un valor numércio."
      ],
      "metadata": {
        "id": "NMLAixs0qTvY"
      },
      "id": "NMLAixs0qTvY"
    },
    {
      "cell_type": "code",
      "source": [
        "df.loc[:,'room_type_num']=np.nan\n",
        "filas = len(df.axes[0])\n",
        "for i in range(filas): \n",
        "  if df['room_type'][i]=='Entire home/apt':\n",
        "    df['room_type_num'][i]=0 \n",
        "  elif df['room_type'][i]=='Private room':\n",
        "    df['room_type_num'][i]=1 \n",
        "  else: \n",
        "    df['room_type_num'][i]=0.5\n",
        "\n"
      ],
      "metadata": {
        "colab": {
          "base_uri": "https://localhost:8080/"
        },
        "id": "bijNOWH9urMB",
        "outputId": "68a7a976-f4b4-43e1-8fd0-7401043f3873"
      },
      "id": "bijNOWH9urMB",
      "execution_count": null,
      "outputs": [
        {
          "output_type": "stream",
          "name": "stderr",
          "text": [
            "<ipython-input-69-586775fef070>:7: SettingWithCopyWarning: \n",
            "A value is trying to be set on a copy of a slice from a DataFrame\n",
            "\n",
            "See the caveats in the documentation: https://pandas.pydata.org/pandas-docs/stable/user_guide/indexing.html#returning-a-view-versus-a-copy\n",
            "  df['room_type_num'][i]=1\n",
            "<ipython-input-69-586775fef070>:5: SettingWithCopyWarning: \n",
            "A value is trying to be set on a copy of a slice from a DataFrame\n",
            "\n",
            "See the caveats in the documentation: https://pandas.pydata.org/pandas-docs/stable/user_guide/indexing.html#returning-a-view-versus-a-copy\n",
            "  df['room_type_num'][i]=0\n",
            "<ipython-input-69-586775fef070>:9: SettingWithCopyWarning: \n",
            "A value is trying to be set on a copy of a slice from a DataFrame\n",
            "\n",
            "See the caveats in the documentation: https://pandas.pydata.org/pandas-docs/stable/user_guide/indexing.html#returning-a-view-versus-a-copy\n",
            "  df['room_type_num'][i]=0.5\n"
          ]
        }
      ]
    },
    {
      "cell_type": "markdown",
      "source": [
        "Ahora estudiemos la distribución de esta: "
      ],
      "metadata": {
        "id": "VdIu_lJFqHov"
      },
      "id": "VdIu_lJFqHov"
    },
    {
      "cell_type": "code",
      "source": [
        "import matplotlib.pyplot as plt\n",
        "boxplot_room_type_num=df['room_type_num']\n",
        "plt.boxplot(boxplot_room_type_num)\n",
        "plt.title('Boxplot room_type_num apartamentos ')\n",
        "plt.show()"
      ],
      "metadata": {
        "colab": {
          "base_uri": "https://localhost:8080/",
          "height": 281
        },
        "id": "EFcsY00RqKqo",
        "outputId": "da63f1eb-3d8b-421a-b5dd-7845337263a1"
      },
      "id": "EFcsY00RqKqo",
      "execution_count": null,
      "outputs": [
        {
          "output_type": "display_data",
          "data": {
            "text/plain": [
              "<Figure size 432x288 with 1 Axes>"
            ],
            "image/png": "[encoded data removed]"
          },
          "metadata": {
            "needs_background": "light"
          }
        }
      ]
    },
    {
      "cell_type": "code",
      "source": [
        "from matplotlib.cbook import boxplot_stats \n",
        "stats = boxplot_stats(boxplot_room_type_num)\n",
        "stats = stats[0] \n",
        "outliers = stats['fliers']\n",
        "min = stats['q1']-1.5*stats['iqr']\n",
        "max = stats['q3']+1.5*stats['iqr']\n",
        "print(min, max, len(outliers))"
      ],
      "metadata": {
        "colab": {
          "base_uri": "https://localhost:8080/"
        },
        "id": "K9qy2yoFdFzG",
        "outputId": "44fe7f6e-ba27-411a-cdd5-1e809b1aa089"
      },
      "id": "K9qy2yoFdFzG",
      "execution_count": null,
      "outputs": [
        {
          "output_type": "stream",
          "name": "stdout",
          "text": [
            "-1.5 2.5 0\n"
          ]
        }
      ]
    },
    {
      "cell_type": "markdown",
      "source": [
        "Vemos por tanto gracias a 'Boxplot' que no encontramos ningún outlier. "
      ],
      "metadata": {
        "id": "8dZZ5YkmdOs0"
      },
      "id": "8dZZ5YkmdOs0"
    },
    {
      "cell_type": "code",
      "source": [
        "price_nan= df['price'].isna().sum()\n",
        "price_nan"
      ],
      "metadata": {
        "id": "dMQOZadj1Ot6",
        "outputId": "094f67ac-9f6a-4921-cf46-f2c4c2310693",
        "colab": {
          "base_uri": "https://localhost:8080/"
        }
      },
      "id": "dMQOZadj1Ot6",
      "execution_count": null,
      "outputs": [
        {
          "output_type": "execute_result",
          "data": {
            "text/plain": [
              "0"
            ]
          },
          "metadata": {},
          "execution_count": 72
        }
      ]
    },
    {
      "cell_type": "code",
      "source": [
        "import matplotlib.pyplot as plt\n",
        "boxplot_price=df['price']\n",
        "plt.boxplot(boxplot_price)\n",
        "plt.title('Boxplot price apartamentos ')\n",
        "plt.show()"
      ],
      "metadata": {
        "id": "LTYSTpW29qUF",
        "outputId": "3d51a112-ccf3-46ff-c9cf-64c87e8fb097",
        "colab": {
          "base_uri": "https://localhost:8080/",
          "height": 281
        }
      },
      "id": "LTYSTpW29qUF",
      "execution_count": null,
      "outputs": [
        {
          "output_type": "display_data",
          "data": {
            "text/plain": [
              "<Figure size 432x288 with 1 Axes>"
            ],
            "image/png": "[encoded data removed]"
          },
          "metadata": {
            "needs_background": "light"
          }
        }
      ]
    },
    {
      "cell_type": "code",
      "source": [
        "from matplotlib.cbook import boxplot_stats \n",
        "stats = boxplot_stats(boxplot_room_type_num)\n",
        "stats = stats[0] \n",
        "outliers = stats['fliers']\n",
        "min = stats['q1']-1.5*stats['iqr']\n",
        "max = stats['q3']+1.5*stats['iqr']\n",
        "print(min, max, len(outliers))"
      ],
      "metadata": {
        "id": "yA7Rj6O2920k",
        "outputId": "23ae0887-1145-4f31-a2d9-997e21986035",
        "colab": {
          "base_uri": "https://localhost:8080/"
        }
      },
      "id": "yA7Rj6O2920k",
      "execution_count": null,
      "outputs": [
        {
          "output_type": "stream",
          "name": "stdout",
          "text": [
            "-1.5 2.5 0\n"
          ]
        }
      ]
    },
    {
      "cell_type": "markdown",
      "source": [
        "COMENTAR ESTO"
      ],
      "metadata": {
        "id": "oNHpaI0K97Sj"
      },
      "id": "oNHpaI0K97Sj"
    },
    {
      "cell_type": "markdown",
      "source": [
        "##Representación"
      ],
      "metadata": {
        "id": "b6ULbz1wiCEU"
      },
      "id": "b6ULbz1wiCEU"
    },
    {
      "cell_type": "markdown",
      "source": [
        "En el ejercicio anterior, ya creamos una variable llamada x_barrios, en la que guardamos los barrios más populares según el criterio de las reseñas. Reutilizaremos ese criterio en este ejericico. "
      ],
      "metadata": {
        "id": "vf32gdzCiJ5f"
      },
      "id": "vf32gdzCiJ5f"
    },
    {
      "cell_type": "markdown",
      "source": [
        "Por cada barrios, representaremos una caja, en el que sólo mostraremos aquellos apartamentos cuyo alquiler sea de tipo apartamento entero, "
      ],
      "metadata": {
        "id": "U69fPN88ih_-"
      },
      "id": "U69fPN88ih_-"
    },
    {
      "cell_type": "code",
      "source": [
        "# boxplot: (x=barrio; y=precio; hue=1 y 0)\n",
        "df.loc[df['room_type']!='Shared room',:]"
      ],
      "metadata": {
        "colab": {
          "base_uri": "https://localhost:8080/",
          "height": 852
        },
        "id": "yhOzSQJg652I",
        "outputId": "936f84f3-4d4f-4d7c-fd4d-3891eba5ba66"
      },
      "id": "yhOzSQJg652I",
      "execution_count": null,
      "outputs": [
        {
          "output_type": "execute_result",
          "data": {
            "text/plain": [
              "             id                                               name    host_id  \\\n",
              "0          2539                 Clean & quiet apt home by the park       2787   \n",
              "1          2595                              Skylit Midtown Castle       2845   \n",
              "2          3647                THE VILLAGE OF HARLEM....NEW YORK !       4632   \n",
              "3          3831                    Cozy Entire Floor of Brownstone       4869   \n",
              "4          5022   Entire Apt: Spacious Studio/Loft by central park       7192   \n",
              "...         ...                                                ...        ...   \n",
              "48889  36484363                                 QUIT PRIVATE HOUSE  107716952   \n",
              "48890  36484665    Charming one bedroom - newly renovated rowhouse    8232441   \n",
              "48891  36485057      Affordable room in Bushwick/East Williamsburg    6570630   \n",
              "48892  36485431            Sunny Studio at Historical Neighborhood   23492952   \n",
              "48894  36487245  Trendy duplex in the very heart of Hell's Kitchen   68119814   \n",
              "\n",
              "           host_name neighbourhood_group       neighbourhood  latitude  \\\n",
              "0               John            Brooklyn          Kensington  40.64749   \n",
              "1           Jennifer           Manhattan             Midtown  40.75362   \n",
              "2          Elisabeth           Manhattan              Harlem  40.80902   \n",
              "3        LisaRoxanne            Brooklyn        Clinton Hill  40.68514   \n",
              "4              Laura           Manhattan         East Harlem  40.79851   \n",
              "...              ...                 ...                 ...       ...   \n",
              "48889        Michael              Queens             Jamaica  40.69137   \n",
              "48890        Sabrina            Brooklyn  Bedford-Stuyvesant  40.67853   \n",
              "48891        Marisol            Brooklyn            Bushwick  40.70184   \n",
              "48892  Ilgar & Aysel           Manhattan              Harlem  40.81475   \n",
              "48894     Christophe           Manhattan      Hell's Kitchen  40.76404   \n",
              "\n",
              "       longitude        room_type  price  ...  number_of_reviews  last_review  \\\n",
              "0      -73.97237     Private room    149  ...                  9   2018-10-19   \n",
              "1      -73.98377  Entire home/apt    225  ...                 45   2019-05-21   \n",
              "2      -73.94190     Private room    150  ...                  0          NaN   \n",
              "3      -73.95976  Entire home/apt     89  ...                270   2019-07-05   \n",
              "4      -73.94399  Entire home/apt     80  ...                  9   2018-11-19   \n",
              "...          ...              ...    ...  ...                ...          ...   \n",
              "48889  -73.80844     Private room     65  ...                  0          NaN   \n",
              "48890  -73.94995     Private room     70  ...                  0          NaN   \n",
              "48891  -73.93317     Private room     40  ...                  0          NaN   \n",
              "48892  -73.94867  Entire home/apt    115  ...                  0          NaN   \n",
              "48894  -73.98933     Private room     90  ...                  0          NaN   \n",
              "\n",
              "      reviews_per_month  calculated_host_listings_count  availability_365  \\\n",
              "0                  0.21                               6               365   \n",
              "1                  0.38                               2               355   \n",
              "2                  0.00                               1               365   \n",
              "3                  4.64                               1               194   \n",
              "4                  0.10                               1                 0   \n",
              "...                 ...                             ...               ...   \n",
              "48889              0.00                               2               163   \n",
              "48890              0.00                               2                 9   \n",
              "48891              0.00                               2                36   \n",
              "48892              0.00                               1                27   \n",
              "48894              0.00                               1                23   \n",
              "\n",
              "       reviews_per_month_cat  availability_365_range classification  \\\n",
              "0                       Baja    Altamente disponible           Malo   \n",
              "1                       Baja    Altamente disponible           Malo   \n",
              "2                       Baja    Altamente disponible           Malo   \n",
              "3                       Alta  Disponible normalmente          Bueno   \n",
              "4                       Baja         Poco disponible          Bueno   \n",
              "...                      ...                     ...            ...   \n",
              "48889                   Baja  Disponible normalmente        Regular   \n",
              "48890                   Baja         Poco disponible          Bueno   \n",
              "48891                   Baja         Poco disponible          Bueno   \n",
              "48892                   Baja         Poco disponible          Bueno   \n",
              "48894                   Baja         Poco disponible          Bueno   \n",
              "\n",
              "      classification_num  room_type_num  \n",
              "0                   0.25            1.0  \n",
              "1                   0.25            0.0  \n",
              "2                   0.25            1.0  \n",
              "3                   0.75            0.0  \n",
              "4                   0.75            0.0  \n",
              "...                  ...            ...  \n",
              "48889               0.50            1.0  \n",
              "48890               0.75            1.0  \n",
              "48891               0.75            1.0  \n",
              "48892               0.75            0.0  \n",
              "48894               0.75            1.0  \n",
              "\n",
              "[47735 rows x 21 columns]"
            ],
            "text/html": [
              "\n",
              "  <div id=\"df-e9f0294e-c51e-4ac8-a6ba-1335a64f4674\">\n",
              "    <div class=\"colab-df-container\">\n",
              "      <div>\n",
              "<style scoped>\n",
              "    .dataframe tbody tr th:only-of-type {\n",
              "        vertical-align: middle;\n",
              "    }\n",
              "\n",
              "    .dataframe tbody tr th {\n",
              "        vertical-align: top;\n",
              "    }\n",
              "\n",
              "    .dataframe thead th {\n",
              "        text-align: right;\n",
              "    }\n",
              "</style>\n",
              "<table border=\"1\" class=\"dataframe\">\n",
              "  <thead>\n",
              "    <tr style=\"text-align: right;\">\n",
              "      <th></th>\n",
              "      <th>id</th>\n",
              "      <th>name</th>\n",
              "      <th>host_id</th>\n",
              "      <th>host_name</th>\n",
              "      <th>neighbourhood_group</th>\n",
              "      <th>neighbourhood</th>\n",
              "      <th>latitude</th>\n",
              "      <th>longitude</th>\n",
              "      <th>room_type</th>\n",
              "      <th>price</th>\n",
              "      <th>...</th>\n",
              "      <th>number_of_reviews</th>\n",
              "      <th>last_review</th>\n",
              "      <th>reviews_per_month</th>\n",
              "      <th>calculated_host_listings_count</th>\n",
              "      <th>availability_365</th>\n",
              "      <th>reviews_per_month_cat</th>\n",
              "      <th>availability_365_range</th>\n",
              "      <th>classification</th>\n",
              "      <th>classification_num</th>\n",
              "      <th>room_type_num</th>\n",
              "    </tr>\n",
              "  </thead>\n",
              "  <tbody>\n",
              "    <tr>\n",
              "      <th>0</th>\n",
              "      <td>2539</td>\n",
              "      <td>Clean &amp; quiet apt home by the park</td>\n",
              "      <td>2787</td>\n",
              "      <td>John</td>\n",
              "      <td>Brooklyn</td>\n",
              "      <td>Kensington</td>\n",
              "      <td>40.64749</td>\n",
              "      <td>-73.97237</td>\n",
              "      <td>Private room</td>\n",
              "      <td>149</td>\n",
              "      <td>...</td>\n",
              "      <td>9</td>\n",
              "      <td>2018-10-19</td>\n",
              "      <td>0.21</td>\n",
              "      <td>6</td>\n",
              "      <td>365</td>\n",
              "      <td>Baja</td>\n",
              "      <td>Altamente disponible</td>\n",
              "      <td>Malo</td>\n",
              "      <td>0.25</td>\n",
              "      <td>1.0</td>\n",
              "    </tr>\n",
              "    <tr>\n",
              "      <th>1</th>\n",
              "      <td>2595</td>\n",
              "      <td>Skylit Midtown Castle</td>\n",
              "      <td>2845</td>\n",
              "      <td>Jennifer</td>\n",
              "      <td>Manhattan</td>\n",
              "      <td>Midtown</td>\n",
              "      <td>40.75362</td>\n",
              "      <td>-73.98377</td>\n",
              "      <td>Entire home/apt</td>\n",
              "      <td>225</td>\n",
              "      <td>...</td>\n",
              "      <td>45</td>\n",
              "      <td>2019-05-21</td>\n",
              "      <td>0.38</td>\n",
              "      <td>2</td>\n",
              "      <td>355</td>\n",
              "      <td>Baja</td>\n",
              "      <td>Altamente disponible</td>\n",
              "      <td>Malo</td>\n",
              "      <td>0.25</td>\n",
              "      <td>0.0</td>\n",
              "    </tr>\n",
              "    <tr>\n",
              "      <th>2</th>\n",
              "      <td>3647</td>\n",
              "      <td>THE VILLAGE OF HARLEM....NEW YORK !</td>\n",
              "      <td>4632</td>\n",
              "      <td>Elisabeth</td>\n",
              "      <td>Manhattan</td>\n",
              "      <td>Harlem</td>\n",
              "      <td>40.80902</td>\n",
              "      <td>-73.94190</td>\n",
              "      <td>Private room</td>\n",
              "      <td>150</td>\n",
              "      <td>...</td>\n",
              "      <td>0</td>\n",
              "      <td>NaN</td>\n",
              "      <td>0.00</td>\n",
              "      <td>1</td>\n",
              "      <td>365</td>\n",
              "      <td>Baja</td>\n",
              "      <td>Altamente disponible</td>\n",
              "      <td>Malo</td>\n",
              "      <td>0.25</td>\n",
              "      <td>1.0</td>\n",
              "    </tr>\n",
              "    <tr>\n",
              "      <th>3</th>\n",
              "      <td>3831</td>\n",
              "      <td>Cozy Entire Floor of Brownstone</td>\n",
              "      <td>4869</td>\n",
              "      <td>LisaRoxanne</td>\n",
              "      <td>Brooklyn</td>\n",
              "      <td>Clinton Hill</td>\n",
              "      <td>40.68514</td>\n",
              "      <td>-73.95976</td>\n",
              "      <td>Entire home/apt</td>\n",
              "      <td>89</td>\n",
              "      <td>...</td>\n",
              "      <td>270</td>\n",
              "      <td>2019-07-05</td>\n",
              "      <td>4.64</td>\n",
              "      <td>1</td>\n",
              "      <td>194</td>\n",
              "      <td>Alta</td>\n",
              "      <td>Disponible normalmente</td>\n",
              "      <td>Bueno</td>\n",
              "      <td>0.75</td>\n",
              "      <td>0.0</td>\n",
              "    </tr>\n",
              "    <tr>\n",
              "      <th>4</th>\n",
              "      <td>5022</td>\n",
              "      <td>Entire Apt: Spacious Studio/Loft by central park</td>\n",
              "      <td>7192</td>\n",
              "      <td>Laura</td>\n",
              "      <td>Manhattan</td>\n",
              "      <td>East Harlem</td>\n",
              "      <td>40.79851</td>\n",
              "      <td>-73.94399</td>\n",
              "      <td>Entire home/apt</td>\n",
              "      <td>80</td>\n",
              "      <td>...</td>\n",
              "      <td>9</td>\n",
              "      <td>2018-11-19</td>\n",
              "      <td>0.10</td>\n",
              "      <td>1</td>\n",
              "      <td>0</td>\n",
              "      <td>Baja</td>\n",
              "      <td>Poco disponible</td>\n",
              "      <td>Bueno</td>\n",
              "      <td>0.75</td>\n",
              "      <td>0.0</td>\n",
              "    </tr>\n",
              "    <tr>\n",
              "      <th>...</th>\n",
              "      <td>...</td>\n",
              "      <td>...</td>\n",
              "      <td>...</td>\n",
              "      <td>...</td>\n",
              "      <td>...</td>\n",
              "      <td>...</td>\n",
              "      <td>...</td>\n",
              "      <td>...</td>\n",
              "      <td>...</td>\n",
              "      <td>...</td>\n",
              "      <td>...</td>\n",
              "      <td>...</td>\n",
              "      <td>...</td>\n",
              "      <td>...</td>\n",
              "      <td>...</td>\n",
              "      <td>...</td>\n",
              "      <td>...</td>\n",
              "      <td>...</td>\n",
              "      <td>...</td>\n",
              "      <td>...</td>\n",
              "      <td>...</td>\n",
              "    </tr>\n",
              "    <tr>\n",
              "      <th>48889</th>\n",
              "      <td>36484363</td>\n",
              "      <td>QUIT PRIVATE HOUSE</td>\n",
              "      <td>107716952</td>\n",
              "      <td>Michael</td>\n",
              "      <td>Queens</td>\n",
              "      <td>Jamaica</td>\n",
              "      <td>40.69137</td>\n",
              "      <td>-73.80844</td>\n",
              "      <td>Private room</td>\n",
              "      <td>65</td>\n",
              "      <td>...</td>\n",
              "      <td>0</td>\n",
              "      <td>NaN</td>\n",
              "      <td>0.00</td>\n",
              "      <td>2</td>\n",
              "      <td>163</td>\n",
              "      <td>Baja</td>\n",
              "      <td>Disponible normalmente</td>\n",
              "      <td>Regular</td>\n",
              "      <td>0.50</td>\n",
              "      <td>1.0</td>\n",
              "    </tr>\n",
              "    <tr>\n",
              "      <th>48890</th>\n",
              "      <td>36484665</td>\n",
              "      <td>Charming one bedroom - newly renovated rowhouse</td>\n",
              "      <td>8232441</td>\n",
              "      <td>Sabrina</td>\n",
              "      <td>Brooklyn</td>\n",
              "      <td>Bedford-Stuyvesant</td>\n",
              "      <td>40.67853</td>\n",
              "      <td>-73.94995</td>\n",
              "      <td>Private room</td>\n",
              "      <td>70</td>\n",
              "      <td>...</td>\n",
              "      <td>0</td>\n",
              "      <td>NaN</td>\n",
              "      <td>0.00</td>\n",
              "      <td>2</td>\n",
              "      <td>9</td>\n",
              "      <td>Baja</td>\n",
              "      <td>Poco disponible</td>\n",
              "      <td>Bueno</td>\n",
              "      <td>0.75</td>\n",
              "      <td>1.0</td>\n",
              "    </tr>\n",
              "    <tr>\n",
              "      <th>48891</th>\n",
              "      <td>36485057</td>\n",
              "      <td>Affordable room in Bushwick/East Williamsburg</td>\n",
              "      <td>6570630</td>\n",
              "      <td>Marisol</td>\n",
              "      <td>Brooklyn</td>\n",
              "      <td>Bushwick</td>\n",
              "      <td>40.70184</td>\n",
              "      <td>-73.93317</td>\n",
              "      <td>Private room</td>\n",
              "      <td>40</td>\n",
              "      <td>...</td>\n",
              "      <td>0</td>\n",
              "      <td>NaN</td>\n",
              "      <td>0.00</td>\n",
              "      <td>2</td>\n",
              "      <td>36</td>\n",
              "      <td>Baja</td>\n",
              "      <td>Poco disponible</td>\n",
              "      <td>Bueno</td>\n",
              "      <td>0.75</td>\n",
              "      <td>1.0</td>\n",
              "    </tr>\n",
              "    <tr>\n",
              "      <th>48892</th>\n",
              "      <td>36485431</td>\n",
              "      <td>Sunny Studio at Historical Neighborhood</td>\n",
              "      <td>23492952</td>\n",
              "      <td>Ilgar &amp; Aysel</td>\n",
              "      <td>Manhattan</td>\n",
              "      <td>Harlem</td>\n",
              "      <td>40.81475</td>\n",
              "      <td>-73.94867</td>\n",
              "      <td>Entire home/apt</td>\n",
              "      <td>115</td>\n",
              "      <td>...</td>\n",
              "      <td>0</td>\n",
              "      <td>NaN</td>\n",
              "      <td>0.00</td>\n",
              "      <td>1</td>\n",
              "      <td>27</td>\n",
              "      <td>Baja</td>\n",
              "      <td>Poco disponible</td>\n",
              "      <td>Bueno</td>\n",
              "      <td>0.75</td>\n",
              "      <td>0.0</td>\n",
              "    </tr>\n",
              "    <tr>\n",
              "      <th>48894</th>\n",
              "      <td>36487245</td>\n",
              "      <td>Trendy duplex in the very heart of Hell's Kitchen</td>\n",
              "      <td>68119814</td>\n",
              "      <td>Christophe</td>\n",
              "      <td>Manhattan</td>\n",
              "      <td>Hell's Kitchen</td>\n",
              "      <td>40.76404</td>\n",
              "      <td>-73.98933</td>\n",
              "      <td>Private room</td>\n",
              "      <td>90</td>\n",
              "      <td>...</td>\n",
              "      <td>0</td>\n",
              "      <td>NaN</td>\n",
              "      <td>0.00</td>\n",
              "      <td>1</td>\n",
              "      <td>23</td>\n",
              "      <td>Baja</td>\n",
              "      <td>Poco disponible</td>\n",
              "      <td>Bueno</td>\n",
              "      <td>0.75</td>\n",
              "      <td>1.0</td>\n",
              "    </tr>\n",
              "  </tbody>\n",
              "</table>\n",
              "<p>47735 rows × 21 columns</p>\n",
              "</div>\n",
              "      <button class=\"colab-df-convert\" onclick=\"convertToInteractive('df-e9f0294e-c51e-4ac8-a6ba-1335a64f4674')\"\n",
              "              title=\"Convert this dataframe to an interactive table.\"\n",
              "              style=\"display:none;\">\n",
              "        \n",
              "  <svg xmlns=\"http://www.w3.org/2000/svg\" height=\"24px\"viewBox=\"0 0 24 24\"\n",
              "       width=\"24px\">\n",
              "    <path d=\"M0 0h24v24H0V0z\" fill=\"none\"/>\n",
              "    <path d=\"M18.56 5.44l.94 2.06.94-2.06 2.06-.94-2.06-.94-.94-2.06-.94 2.06-2.06.94zm-11 1L8.5 8.5l.94-2.06 2.06-.94-2.06-.94L8.5 2.5l-.94 2.06-2.06.94zm10 10l.94 2.06.94-2.06 2.06-.94-2.06-.94-.94-2.06-.94 2.06-2.06.94z\"/><path d=\"M17.41 7.96l-1.37-1.37c-.4-.4-.92-.59-1.43-.59-.52 0-1.04.2-1.43.59L10.3 9.45l-7.72 7.72c-.78.78-.78 2.05 0 2.83L4 21.41c.39.39.9.59 1.41.59.51 0 1.02-.2 1.41-.59l7.78-7.78 2.81-2.81c.8-.78.8-2.07 0-2.86zM5.41 20L4 18.59l7.72-7.72 1.47 1.35L5.41 20z\"/>\n",
              "  </svg>\n",
              "      </button>\n",
              "      \n",
              "  <style>\n",
              "    .colab-df-container {\n",
              "      display:flex;\n",
              "      flex-wrap:wrap;\n",
              "      gap: 12px;\n",
              "    }\n",
              "\n",
              "    .colab-df-convert {\n",
              "      background-color: #E8F0FE;\n",
              "      border: none;\n",
              "      border-radius: 50%;\n",
              "      cursor: pointer;\n",
              "      display: none;\n",
              "      fill: #1967D2;\n",
              "      height: 32px;\n",
              "      padding: 0 0 0 0;\n",
              "      width: 32px;\n",
              "    }\n",
              "\n",
              "    .colab-df-convert:hover {\n",
              "      background-color: #E2EBFA;\n",
              "      box-shadow: 0px 1px 2px rgba(60, 64, 67, 0.3), 0px 1px 3px 1px rgba(60, 64, 67, 0.15);\n",
              "      fill: #174EA6;\n",
              "    }\n",
              "\n",
              "    [theme=dark] .colab-df-convert {\n",
              "      background-color: #3B4455;\n",
              "      fill: #D2E3FC;\n",
              "    }\n",
              "\n",
              "    [theme=dark] .colab-df-convert:hover {\n",
              "      background-color: #434B5C;\n",
              "      box-shadow: 0px 1px 3px 1px rgba(0, 0, 0, 0.15);\n",
              "      filter: drop-shadow(0px 1px 2px rgba(0, 0, 0, 0.3));\n",
              "      fill: #FFFFFF;\n",
              "    }\n",
              "  </style>\n",
              "\n",
              "      <script>\n",
              "        const buttonEl =\n",
              "          document.querySelector('#df-e9f0294e-c51e-4ac8-a6ba-1335a64f4674 button.colab-df-convert');\n",
              "        buttonEl.style.display =\n",
              "          google.colab.kernel.accessAllowed ? 'block' : 'none';\n",
              "\n",
              "        async function convertToInteractive(key) {\n",
              "          const element = document.querySelector('#df-e9f0294e-c51e-4ac8-a6ba-1335a64f4674');\n",
              "          const dataTable =\n",
              "            await google.colab.kernel.invokeFunction('convertToInteractive',\n",
              "                                                     [key], {});\n",
              "          if (!dataTable) return;\n",
              "\n",
              "          const docLinkHtml = 'Like what you see? Visit the ' +\n",
              "            '<a target=\"_blank\" href=https://colab.research.google.com/notebooks/data_table.ipynb>data table notebook</a>'\n",
              "            + ' to learn more about interactive tables.';\n",
              "          element.innerHTML = '';\n",
              "          dataTable['output_type'] = 'display_data';\n",
              "          await google.colab.output.renderOutput(dataTable, element);\n",
              "          const docLink = document.createElement('div');\n",
              "          docLink.innerHTML = docLinkHtml;\n",
              "          element.appendChild(docLink);\n",
              "        }\n",
              "      </script>\n",
              "    </div>\n",
              "  </div>\n",
              "  "
            ]
          },
          "metadata": {},
          "execution_count": 75
        }
      ]
    },
    {
      "cell_type": "markdown",
      "source": [
        "#EJERCICIO 4"
      ],
      "metadata": {
        "id": "rbNsTsHDmDiH"
      },
      "id": "rbNsTsHDmDiH"
    },
    {
      "cell_type": "markdown",
      "source": [
        "Por último, se intuye que la tendencia a dejar reseñas en las apps que prestan servicios, ha aumentado en los últimos años. Decide que diagrama es más útil para este caso. Dibújalo y realiza una interpretación del mismo. Tomaremos la fecha de la última reseña como el dato útil para realizar dicho caso."
      ],
      "metadata": {
        "id": "9BsU2eb2txZt"
      },
      "id": "9BsU2eb2txZt"
    },
    {
      "cell_type": "code",
      "source": [
        "#antes de ordenar los datos, veamos cuantos NaN's tenemos en la columna de años\n",
        "date_nan = df['last_review'].isna().sum()\n",
        "print(date_nan)"
      ],
      "metadata": {
        "id": "FohBRL1jfOBs"
      },
      "id": "FohBRL1jfOBs",
      "execution_count": null,
      "outputs": []
    },
    {
      "cell_type": "code",
      "source": [
        "num_observations = df.shape[0]\n",
        "print(date_nan/num_observations)"
      ],
      "metadata": {
        "id": "YZrqVazRfPCT"
      },
      "id": "YZrqVazRfPCT",
      "execution_count": null,
      "outputs": []
    },
    {
      "cell_type": "markdown",
      "source": [
        "Supone un 20% del total de los datos.\n",
        "\n",
        "Como el valor es demasiado alto para eliminar los datos, vamos a interpretar que son esos NaN's para poder saber que hacer con esos datos. En la columna de 'last review', interpretamos que si aparencen es porque no ha habido última reseña, por lo que no aportan información a lo que buscamos. Eliminamos entonces esos datos."
      ],
      "metadata": {
        "id": "aDBRRxWMfROq"
      },
      "id": "aDBRRxWMfROq"
    },
    {
      "cell_type": "code",
      "source": [
        "from datetime import datetime\n",
        "#borramos los NaN\n",
        "df2=df.dropna()\n",
        "df2.loc[:,'date']=np.nan\n",
        "\n",
        "#pasamos a formato fecha los datos\n",
        "df2['date']= pd.to_datetime(df2['last_review'])\n",
        "df2['date'] = df2['date'].dt.year \n",
        "#unicamente nos interesa el año, asi que guardamos el año en la última columna\n",
        "df2['date'].head"
      ],
      "metadata": {
        "id": "DX6yCo8MfScR"
      },
      "id": "DX6yCo8MfScR",
      "execution_count": null,
      "outputs": []
    },
    {
      "cell_type": "code",
      "source": [
        "#agrupamos según año y sumamos el número de reseñas en cada año. \n",
        "#creamos una nueva columna donde sumamos el numero de reseñas según el año:\n",
        "\n",
        "year= np.unique(df2['date'])\n",
        "num_anos = len(year)\n",
        "print('Número de años:', num_anos)"
      ],
      "metadata": {
        "id": "XXTe_qUCfTtV"
      },
      "id": "XXTe_qUCfTtV",
      "execution_count": null,
      "outputs": []
    },
    {
      "cell_type": "markdown",
      "source": [
        "Podemos, entonces definir que las reseñas se reparten en 9 años."
      ],
      "metadata": {
        "id": "XdsffYJEfUqv"
      },
      "id": "XdsffYJEfUqv"
    },
    {
      "cell_type": "code",
      "source": [
        "resenas=df2.groupby(\"date\").reviews_per_month.sum()\n",
        "print(resenas)"
      ],
      "metadata": {
        "id": "dVVuWqOafWIe"
      },
      "id": "dVVuWqOafWIe",
      "execution_count": null,
      "outputs": []
    },
    {
      "cell_type": "code",
      "source": [
        "df_=df.assign(last_review= lambda df_:pd.to_datetime(df_['last_review']))"
      ],
      "metadata": {
        "id": "_uQmoKf4obC0"
      },
      "execution_count": null,
      "outputs": [],
      "id": "_uQmoKf4obC0"
    },
    {
      "cell_type": "code",
      "source": [
        "df_.iloc[0]['last_review'].year "
      ],
      "metadata": {
        "id": "gxpNGP3wonPr"
      },
      "execution_count": null,
      "outputs": [],
      "id": "gxpNGP3wonPr"
    },
    {
      "cell_type": "code",
      "source": [
        "df_.groupby(pd.Grouper(key='last_review',freq='Y')).count().id"
      ],
      "metadata": {
        "id": "0LjsRU2vou7s"
      },
      "execution_count": null,
      "outputs": [],
      "id": "0LjsRU2vou7s"
    },
    {
      "cell_type": "code",
      "source": [
        "import matplotlib.pyplot as plot\n",
        "fig, ax = plot.subplots()\n",
        "ax.bar(resenas.index, resenas.values)\n",
        "plot.show()"
      ],
      "metadata": {
        "id": "izq1pgnjvit7",
        "outputId": "fcdc7b23-69e6-4364-f1b7-b95d84de3ca0",
        "colab": {
          "base_uri": "https://localhost:8080/",
          "height": 285
        }
      },
      "execution_count": null,
      "outputs": [
        {
          "output_type": "display_data",
          "data": {
            "text/plain": [
              "<Figure size 432x288 with 1 Axes>"
            ],
            "image/png": "[encoded data removed]"
          },
          "metadata": {
            "needs_background": "light"
          }
        }
      ],
      "id": "izq1pgnjvit7"
    },
    {
      "cell_type": "code",
      "source": [
        "import matplotlib.pyplot as plt\n",
        "fig, ax = plt.subplots()\n",
        "ax.plot(resenas.index, resenas.values)\n",
        "plt.show()"
      ],
      "metadata": {
        "id": "E21SylemzHE2",
        "outputId": "a43f79c4-2f9b-4cc8-fd13-affa0458695d",
        "colab": {
          "base_uri": "https://localhost:8080/",
          "height": 285
        }
      },
      "execution_count": null,
      "outputs": [
        {
          "output_type": "display_data",
          "data": {
            "text/plain": [
              "<Figure size 432x288 with 1 Axes>"
            ],
            "image/png": "[encoded data removed]"
          },
          "metadata": {
            "needs_background": "light"
          }
        }
      ],
      "id": "E21SylemzHE2"
    },
    {
      "cell_type": "code",
      "source": [
        "plt.figure(figsize=(15, 3))\n",
        "\n",
        "plt.subplot(131)\n",
        "plt.bar(resenas.index, resenas.values)\n",
        "plt.subplot(132)\n",
        "plt.scatter(resenas.index, resenas.values)\n",
        "plt.subplot(133)\n",
        "plt.plot(resenas.index, resenas.values)\n",
        "plt.suptitle('Categorical Plotting')\n",
        "plt.show()"
      ],
      "metadata": {
        "id": "YD6BahEP0icr",
        "outputId": "2c82e4a1-3634-4adc-a3b1-f56ab09d3ac8",
        "colab": {
          "base_uri": "https://localhost:8080/",
          "height": 253
        }
      },
      "execution_count": null,
      "outputs": [
        {
          "output_type": "display_data",
          "data": {
            "text/plain": [
              "<Figure size 1080x216 with 3 Axes>"
            ],
            "image/png": "[encoded data removed]"
          },
          "metadata": {
            "needs_background": "light"
          }
        }
      ],
      "id": "YD6BahEP0icr"
    }
  ],
  "metadata": {
    "kernelspec": {
      "display_name": "Python 3 (ipykernel)",
      "language": "python",
      "name": "python3"
    },
    "language_info": {
      "codemirror_mode": {
        "name": "ipython",
        "version": 3
      },
      "file_extension": ".py",
      "mimetype": "text/x-python",
      "name": "python",
      "nbconvert_exporter": "python",
      "pygments_lexer": "ipython3",
      "version": "3.9.13"
    },
    "colab": {
      "provenance": []
    },
    "accelerator": "TPU",
    "gpuClass": "standard"
  },
  "nbformat": 4,
  "nbformat_minor": 5
}