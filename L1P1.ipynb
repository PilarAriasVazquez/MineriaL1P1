{
  "cells": [
    {
      "cell_type": "markdown",
      "source": [
        "PILAR ARIAS, YEDRA MARTÍN, PATRICIA MEDIAVILLA, AMAYA SARASA\n",
        "\n",
        "<GRUPO 9>"
      ],
      "metadata": {
        "id": "8pT2SbACjlE2"
      },
      "id": "8pT2SbACjlE2"
    },
    {
      "cell_type": "markdown",
      "source": [
        "#INTRODUCCIÓN"
      ],
      "metadata": {
        "id": "s8YerDrYkdxK"
      },
      "id": "s8YerDrYkdxK"
    },
    {
      "cell_type": "markdown",
      "source": [
        "Esta es la primera práctica del primer laboratorio. Dada una base de datos en formato .csv, se nos pide contestar a una serie de cuestiones. Para ello, lo primero que debemos hacer es cargar y leer la base de datos:"
      ],
      "metadata": {
        "id": "r8GDGWfBlHe5"
      },
      "id": "r8GDGWfBlHe5"
    },
    {
      "cell_type": "code",
      "execution_count": null,
      "id": "a0bb4051",
      "metadata": {
        "id": "a0bb4051",
        "outputId": "6f530b6d-fa2d-4c2b-8d8f-d7bafe46fdb0",
        "colab": {
          "base_uri": "https://localhost:8080/",
          "height": 331
        }
      },
      "outputs": [
        {
          "output_type": "execute_result",
          "data": {
            "text/plain": [
              "     id                                              name  host_id  \\\n",
              "0  2539                Clean & quiet apt home by the park     2787   \n",
              "1  2595                             Skylit Midtown Castle     2845   \n",
              "2  3647               THE VILLAGE OF HARLEM....NEW YORK !     4632   \n",
              "3  3831                   Cozy Entire Floor of Brownstone     4869   \n",
              "4  5022  Entire Apt: Spacious Studio/Loft by central park     7192   \n",
              "\n",
              "     host_name neighbourhood_group neighbourhood  latitude  longitude  \\\n",
              "0         John            Brooklyn    Kensington  40.64749  -73.97237   \n",
              "1     Jennifer           Manhattan       Midtown  40.75362  -73.98377   \n",
              "2    Elisabeth           Manhattan        Harlem  40.80902  -73.94190   \n",
              "3  LisaRoxanne            Brooklyn  Clinton Hill  40.68514  -73.95976   \n",
              "4        Laura           Manhattan   East Harlem  40.79851  -73.94399   \n",
              "\n",
              "         room_type  price  minimum_nights  number_of_reviews last_review  \\\n",
              "0     Private room    149               1                  9  2018-10-19   \n",
              "1  Entire home/apt    225               1                 45  2019-05-21   \n",
              "2     Private room    150               3                  0         NaN   \n",
              "3  Entire home/apt     89               1                270  2019-07-05   \n",
              "4  Entire home/apt     80              10                  9  2018-11-19   \n",
              "\n",
              "   reviews_per_month  calculated_host_listings_count  availability_365  \n",
              "0               0.21                               6               365  \n",
              "1               0.38                               2               355  \n",
              "2                NaN                               1               365  \n",
              "3               4.64                               1               194  \n",
              "4               0.10                               1                 0  "
            ],
            "text/html": [
              "\n",
              "  <div id=\"df-92555874-b21e-4db9-8ff5-3b2862eac09b\">\n",
              "    <div class=\"colab-df-container\">\n",
              "      <div>\n",
              "<style scoped>\n",
              "    .dataframe tbody tr th:only-of-type {\n",
              "        vertical-align: middle;\n",
              "    }\n",
              "\n",
              "    .dataframe tbody tr th {\n",
              "        vertical-align: top;\n",
              "    }\n",
              "\n",
              "    .dataframe thead th {\n",
              "        text-align: right;\n",
              "    }\n",
              "</style>\n",
              "<table border=\"1\" class=\"dataframe\">\n",
              "  <thead>\n",
              "    <tr style=\"text-align: right;\">\n",
              "      <th></th>\n",
              "      <th>id</th>\n",
              "      <th>name</th>\n",
              "      <th>host_id</th>\n",
              "      <th>host_name</th>\n",
              "      <th>neighbourhood_group</th>\n",
              "      <th>neighbourhood</th>\n",
              "      <th>latitude</th>\n",
              "      <th>longitude</th>\n",
              "      <th>room_type</th>\n",
              "      <th>price</th>\n",
              "      <th>minimum_nights</th>\n",
              "      <th>number_of_reviews</th>\n",
              "      <th>last_review</th>\n",
              "      <th>reviews_per_month</th>\n",
              "      <th>calculated_host_listings_count</th>\n",
              "      <th>availability_365</th>\n",
              "    </tr>\n",
              "  </thead>\n",
              "  <tbody>\n",
              "    <tr>\n",
              "      <th>0</th>\n",
              "      <td>2539</td>\n",
              "      <td>Clean &amp; quiet apt home by the park</td>\n",
              "      <td>2787</td>\n",
              "      <td>John</td>\n",
              "      <td>Brooklyn</td>\n",
              "      <td>Kensington</td>\n",
              "      <td>40.64749</td>\n",
              "      <td>-73.97237</td>\n",
              "      <td>Private room</td>\n",
              "      <td>149</td>\n",
              "      <td>1</td>\n",
              "      <td>9</td>\n",
              "      <td>2018-10-19</td>\n",
              "      <td>0.21</td>\n",
              "      <td>6</td>\n",
              "      <td>365</td>\n",
              "    </tr>\n",
              "    <tr>\n",
              "      <th>1</th>\n",
              "      <td>2595</td>\n",
              "      <td>Skylit Midtown Castle</td>\n",
              "      <td>2845</td>\n",
              "      <td>Jennifer</td>\n",
              "      <td>Manhattan</td>\n",
              "      <td>Midtown</td>\n",
              "      <td>40.75362</td>\n",
              "      <td>-73.98377</td>\n",
              "      <td>Entire home/apt</td>\n",
              "      <td>225</td>\n",
              "      <td>1</td>\n",
              "      <td>45</td>\n",
              "      <td>2019-05-21</td>\n",
              "      <td>0.38</td>\n",
              "      <td>2</td>\n",
              "      <td>355</td>\n",
              "    </tr>\n",
              "    <tr>\n",
              "      <th>2</th>\n",
              "      <td>3647</td>\n",
              "      <td>THE VILLAGE OF HARLEM....NEW YORK !</td>\n",
              "      <td>4632</td>\n",
              "      <td>Elisabeth</td>\n",
              "      <td>Manhattan</td>\n",
              "      <td>Harlem</td>\n",
              "      <td>40.80902</td>\n",
              "      <td>-73.94190</td>\n",
              "      <td>Private room</td>\n",
              "      <td>150</td>\n",
              "      <td>3</td>\n",
              "      <td>0</td>\n",
              "      <td>NaN</td>\n",
              "      <td>NaN</td>\n",
              "      <td>1</td>\n",
              "      <td>365</td>\n",
              "    </tr>\n",
              "    <tr>\n",
              "      <th>3</th>\n",
              "      <td>3831</td>\n",
              "      <td>Cozy Entire Floor of Brownstone</td>\n",
              "      <td>4869</td>\n",
              "      <td>LisaRoxanne</td>\n",
              "      <td>Brooklyn</td>\n",
              "      <td>Clinton Hill</td>\n",
              "      <td>40.68514</td>\n",
              "      <td>-73.95976</td>\n",
              "      <td>Entire home/apt</td>\n",
              "      <td>89</td>\n",
              "      <td>1</td>\n",
              "      <td>270</td>\n",
              "      <td>2019-07-05</td>\n",
              "      <td>4.64</td>\n",
              "      <td>1</td>\n",
              "      <td>194</td>\n",
              "    </tr>\n",
              "    <tr>\n",
              "      <th>4</th>\n",
              "      <td>5022</td>\n",
              "      <td>Entire Apt: Spacious Studio/Loft by central park</td>\n",
              "      <td>7192</td>\n",
              "      <td>Laura</td>\n",
              "      <td>Manhattan</td>\n",
              "      <td>East Harlem</td>\n",
              "      <td>40.79851</td>\n",
              "      <td>-73.94399</td>\n",
              "      <td>Entire home/apt</td>\n",
              "      <td>80</td>\n",
              "      <td>10</td>\n",
              "      <td>9</td>\n",
              "      <td>2018-11-19</td>\n",
              "      <td>0.10</td>\n",
              "      <td>1</td>\n",
              "      <td>0</td>\n",
              "    </tr>\n",
              "  </tbody>\n",
              "</table>\n",
              "</div>\n",
              "      <button class=\"colab-df-convert\" onclick=\"convertToInteractive('df-92555874-b21e-4db9-8ff5-3b2862eac09b')\"\n",
              "              title=\"Convert this dataframe to an interactive table.\"\n",
              "              style=\"display:none;\">\n",
              "        \n",
              "  <svg xmlns=\"http://www.w3.org/2000/svg\" height=\"24px\"viewBox=\"0 0 24 24\"\n",
              "       width=\"24px\">\n",
              "    <path d=\"M0 0h24v24H0V0z\" fill=\"none\"/>\n",
              "    <path d=\"M18.56 5.44l.94 2.06.94-2.06 2.06-.94-2.06-.94-.94-2.06-.94 2.06-2.06.94zm-11 1L8.5 8.5l.94-2.06 2.06-.94-2.06-.94L8.5 2.5l-.94 2.06-2.06.94zm10 10l.94 2.06.94-2.06 2.06-.94-2.06-.94-.94-2.06-.94 2.06-2.06.94z\"/><path d=\"M17.41 7.96l-1.37-1.37c-.4-.4-.92-.59-1.43-.59-.52 0-1.04.2-1.43.59L10.3 9.45l-7.72 7.72c-.78.78-.78 2.05 0 2.83L4 21.41c.39.39.9.59 1.41.59.51 0 1.02-.2 1.41-.59l7.78-7.78 2.81-2.81c.8-.78.8-2.07 0-2.86zM5.41 20L4 18.59l7.72-7.72 1.47 1.35L5.41 20z\"/>\n",
              "  </svg>\n",
              "      </button>\n",
              "      \n",
              "  <style>\n",
              "    .colab-df-container {\n",
              "      display:flex;\n",
              "      flex-wrap:wrap;\n",
              "      gap: 12px;\n",
              "    }\n",
              "\n",
              "    .colab-df-convert {\n",
              "      background-color: #E8F0FE;\n",
              "      border: none;\n",
              "      border-radius: 50%;\n",
              "      cursor: pointer;\n",
              "      display: none;\n",
              "      fill: #1967D2;\n",
              "      height: 32px;\n",
              "      padding: 0 0 0 0;\n",
              "      width: 32px;\n",
              "    }\n",
              "\n",
              "    .colab-df-convert:hover {\n",
              "      background-color: #E2EBFA;\n",
              "      box-shadow: 0px 1px 2px rgba(60, 64, 67, 0.3), 0px 1px 3px 1px rgba(60, 64, 67, 0.15);\n",
              "      fill: #174EA6;\n",
              "    }\n",
              "\n",
              "    [theme=dark] .colab-df-convert {\n",
              "      background-color: #3B4455;\n",
              "      fill: #D2E3FC;\n",
              "    }\n",
              "\n",
              "    [theme=dark] .colab-df-convert:hover {\n",
              "      background-color: #434B5C;\n",
              "      box-shadow: 0px 1px 3px 1px rgba(0, 0, 0, 0.15);\n",
              "      filter: drop-shadow(0px 1px 2px rgba(0, 0, 0, 0.3));\n",
              "      fill: #FFFFFF;\n",
              "    }\n",
              "  </style>\n",
              "\n",
              "      <script>\n",
              "        const buttonEl =\n",
              "          document.querySelector('#df-92555874-b21e-4db9-8ff5-3b2862eac09b button.colab-df-convert');\n",
              "        buttonEl.style.display =\n",
              "          google.colab.kernel.accessAllowed ? 'block' : 'none';\n",
              "\n",
              "        async function convertToInteractive(key) {\n",
              "          const element = document.querySelector('#df-92555874-b21e-4db9-8ff5-3b2862eac09b');\n",
              "          const dataTable =\n",
              "            await google.colab.kernel.invokeFunction('convertToInteractive',\n",
              "                                                     [key], {});\n",
              "          if (!dataTable) return;\n",
              "\n",
              "          const docLinkHtml = 'Like what you see? Visit the ' +\n",
              "            '<a target=\"_blank\" href=https://colab.research.google.com/notebooks/data_table.ipynb>data table notebook</a>'\n",
              "            + ' to learn more about interactive tables.';\n",
              "          element.innerHTML = '';\n",
              "          dataTable['output_type'] = 'display_data';\n",
              "          await google.colab.output.renderOutput(dataTable, element);\n",
              "          const docLink = document.createElement('div');\n",
              "          docLink.innerHTML = docLinkHtml;\n",
              "          element.appendChild(docLink);\n",
              "        }\n",
              "      </script>\n",
              "    </div>\n",
              "  </div>\n",
              "  "
            ]
          },
          "metadata": {},
          "execution_count": 1
        }
      ],
      "source": [
        "#importamos la base de datos\n",
        "import pandas as pd #pandas\n",
        "df=pd.read_csv('airbnb.csv',encoding='latin-1')\n",
        "df.head()"
      ]
    },
    {
      "cell_type": "markdown",
      "source": [
        "Se observa que se ha cargado de manera correcta. "
      ],
      "metadata": {
        "id": "FmdArPK4mfGK"
      },
      "id": "FmdArPK4mfGK"
    },
    {
      "cell_type": "markdown",
      "source": [
        "Importamos así también todas las librerías necesarias para ejecutar esta práctica. "
      ],
      "metadata": {
        "id": "ocoXyf9Oluyf"
      },
      "id": "ocoXyf9Oluyf"
    },
    {
      "cell_type": "code",
      "source": [
        "#importamos todas las librerías necesarias: \n",
        "import sklearn #scikit-learn\n",
        "import matplotlib.pyplot as plt #gráfica Matplotlib\n",
        "import numpy as np #NumPy"
      ],
      "metadata": {
        "id": "s8pAtTFxtCJW"
      },
      "id": "s8pAtTFxtCJW",
      "execution_count": null,
      "outputs": []
    },
    {
      "cell_type": "markdown",
      "source": [
        "Según se ha estudiado en clase, encontramos dos métodos para afrontarlo. Nos decantaremos por CRISP-DM. Las siglas para: CRoss-Industry Standard Process for Data Mining. \n",
        "\n",
        "Es un modelo de proceso de minería de datos que se utiliza en la industria. Es un marco de trabajo que define un proceso estandarizado para llevar a cabo proyectos de minería de datos, desde la definición del problema hasta la implementación y evaluación del resultado. Los seis pasos que componen Crisp-DM son los siguientes:\n",
        "\n",
        "- Comprensión de los negocios y definición del problema: comprender la naturaleza del problema y los objetivos de negocio.\n",
        "\n",
        "- Comprensión de los datos: recopilación inicial, descripción y exploración  de datos.\n",
        "\n",
        "- Preparación de los datos: Selección, limpieza, construcción, integración, formateo de los datos.\n",
        "\n",
        "- Modelado: aplicar las técnicas de minería de datos a los dataset.\n",
        "\n",
        "- Evaluación: determinar si los resultados son útiles a las necesidades del negocio.\n",
        "\n",
        "- Despliegue: explotar utilidad de los modelos, integrándolos en las tareas de toma de decisiones de la organización -> Call to Action. \n"
      ],
      "metadata": {
        "id": "YBQbx7EFmjR6"
      },
      "id": "YBQbx7EFmjR6"
    },
    {
      "cell_type": "markdown",
      "source": [
        "#EJERCICIO 1"
      ],
      "metadata": {
        "id": "35WzfLjxl0OU"
      },
      "id": "35WzfLjxl0OU"
    },
    {
      "cell_type": "markdown",
      "source": [
        "## Comprensión del negocio y definición del problema"
      ],
      "metadata": {
        "id": "XX4P0W_Fozcz"
      },
      "id": "XX4P0W_Fozcz"
    },
    {
      "cell_type": "markdown",
      "source": [
        "El barrio de Williamsburg es uno de los barrios de moda hoy en día. Desde 2005 ha pasado de ser un distrito donde principalmente se encontraban fabricas a acoger una gran cantidad de gente joven y nuevos negocios. ¿Teniendo en cuenta los datos proporcionados que posición en términos de popularidad/calidad se puede decir que ostenta el barrio con respecto a los demás que forma New York?"
      ],
      "metadata": {
        "id": "3S06NbYgmKb-"
      },
      "id": "3S06NbYgmKb-"
    },
    {
      "cell_type": "markdown",
      "source": [
        "Para medir la popularidad/calidad del barrio, tendremos primero en cuenta el número de apartamentos de calidad según los usuarios. Para ello, lo primero será clasificar los apartamentos como “Muy Malos”, “Malos”, “Regulares”, “Buenos” y “Muy Buenos”. Para ello primero haremos un par de transformaciones de los datos. La columna de reseñas por mes, se dividirán en 3 rangos iguales, después dependiendo del valor concreto que tenga cada apartamento se le asignarán las etiquetas: “Baja”, “Media” y ”Alta”. Para la columna que indica el número de días que está disponible asignaremos las etiquetas de menor valor a mayor de la siguiente manera: “Poco disponible”, “Disponible normalmente” y “Altamente disponible”. Finalmente crearemos una columna para clasificar los apartamentos, teniendo en cuenta una serie de reglas, que se explicarán más adelante. "
      ],
      "metadata": {
        "id": "jCZKl6EfuQDS"
      },
      "id": "jCZKl6EfuQDS"
    },
    {
      "cell_type": "markdown",
      "source": [
        "## Comprensión de los datos"
      ],
      "metadata": {
        "id": "aA5iEGYOo4RB"
      },
      "id": "aA5iEGYOo4RB"
    },
    {
      "cell_type": "markdown",
      "source": [
        "La base de datos que utilizaremos consta de 48895 observaciones. En cada observación recopilamos los siguientes atributos: \n",
        "- id: id del apartamento en cuestión. \n",
        "- name: nombre del apartamento\n",
        "- host_id: id del anfitrión \n",
        "- host_name: nombre del anfitrión \n",
        "- neighbourhood_group: estado al que pertenece\n",
        "- neighbourhood: barrio al que pertenece \n",
        "- latitude: coordenadas de latitud\n",
        "- longitude: coordenadas de longitud \n",
        "- room_type: tipo de habitación \n",
        "- price: precio en dólares\n",
        "- minimum_nights: noches mínimas que te puedes hospedar\n",
        "- number_of_reviews: número de reseñas \n",
        "- last_review: última reseña \n",
        "- reviews_per_month: reseñas por mes \n",
        "- calculated_host_listings_count: ??? \n",
        "- availability_365: días disponibles por año. \n"
      ],
      "metadata": {
        "id": "9FyCQqOUo8Gp"
      },
      "id": "9FyCQqOUo8Gp"
    },
    {
      "cell_type": "markdown",
      "source": [
        "TENEMOS QUE ESTUDIAR ESTO: datos redundantes o anómalos."
      ],
      "metadata": {
        "id": "iRCkTU41uKX1"
      },
      "id": "iRCkTU41uKX1"
    },
    {
      "cell_type": "markdown",
      "source": [
        "## Preparación de los datos"
      ],
      "metadata": {
        "id": "MRRVog71rZU4"
      },
      "id": "MRRVog71rZU4"
    },
    {
      "cell_type": "markdown",
      "source": [
        "Primero debemos tratar la base de datos para así estudiar qué hacer con los datos NaN que encontraremos. \n",
        "\n",
        "Analizamos cuántos datos NaN hay en la columna 'reviews_per_month', ya que la trataremos posteriormente, y deberemos conocer el contenido de esta. \n"
      ],
      "metadata": {
        "id": "6TRpV0iDuXpi"
      },
      "id": "6TRpV0iDuXpi"
    },
    {
      "cell_type": "code",
      "source": [
        "reviews_per_month_nan = df['reviews_per_month'].isna().sum()\n",
        "print(reviews_per_month_nan)"
      ],
      "metadata": {
        "id": "eRGBwWnHuxTV",
        "outputId": "28b62322-32c7-490f-ba5d-41fbc181cf70",
        "colab": {
          "base_uri": "https://localhost:8080/"
        }
      },
      "id": "eRGBwWnHuxTV",
      "execution_count": null,
      "outputs": [
        {
          "output_type": "stream",
          "name": "stdout",
          "text": [
            "10052\n"
          ]
        }
      ]
    },
    {
      "cell_type": "markdown",
      "source": [
        "Ahora bien, vemos que hay 10052 datos NaN en la columna. Observemos cuántos datos hay en total para barajar las distintas opciones de qué hacer con estos datos NaN. Si es poca cantidad comparado con la cantidad de observaciones en total, podremos eliminar directamente esas observaciones, sin embargo, si suponen gran cantidad, podríamos buscar otras opciones, como rellenar con la media para así no afectar al equilibrio del resto de datos. \n",
        "\n",
        "Es verdad que como hablamos de reseñas por mes, sería factible convertir esos NaN en 0, para que así a la hora de categorizar la columna, lo detecte como Bajo. \n",
        "\n",
        "¿Por qué rellenamos con 0's? Encontramos un NaN en la columna de 'reviews_per_month', cuando en la columna de 'number_of_reviews' aparece un 0, o un NaN directamente, es decir, que anteriormente no se ha hecho ninguna reseña, por lo que obviamente, en el último mes, tampoco. No deberíamos rellenar con la media, ya que ahí estamos aportando una cierta cantidad de reseñas que no se han hecho. "
      ],
      "metadata": {
        "id": "hlY_0vIJvh77"
      },
      "id": "hlY_0vIJvh77"
    },
    {
      "cell_type": "code",
      "source": [
        "num_observations = df.shape[0]\n",
        "print(num_observations)"
      ],
      "metadata": {
        "id": "NXgkAGjewOwD",
        "outputId": "9f6c93be-8f7d-4a75-b796-77ab607e1ed3",
        "colab": {
          "base_uri": "https://localhost:8080/"
        }
      },
      "id": "NXgkAGjewOwD",
      "execution_count": null,
      "outputs": [
        {
          "output_type": "stream",
          "name": "stdout",
          "text": [
            "48895\n"
          ]
        }
      ]
    },
    {
      "cell_type": "markdown",
      "source": [
        "Supone un 20% de los datos totales. No resulta útil borrarlos, si no que deberíamos rellenar con 0 como hemos explicado anteriormente. "
      ],
      "metadata": {
        "id": "mP70C7kJwTxc"
      },
      "id": "mP70C7kJwTxc"
    },
    {
      "cell_type": "code",
      "source": [
        "df['reviews_per_month'].fillna(0, inplace=True)"
      ],
      "metadata": {
        "id": "EJln4MO6wr2i"
      },
      "id": "EJln4MO6wr2i",
      "execution_count": null,
      "outputs": []
    },
    {
      "cell_type": "markdown",
      "source": [
        "Comprobamos por tanto que en esa columna ya no nos quede ningún NaN"
      ],
      "metadata": {
        "id": "qJ2nrGXAw2UJ"
      },
      "id": "qJ2nrGXAw2UJ"
    },
    {
      "cell_type": "code",
      "source": [
        "reviews_per_month_nan = df['reviews_per_month'].isna().sum()\n",
        "print(reviews_per_month_nan)"
      ],
      "metadata": {
        "id": "spDIo2Few69A",
        "outputId": "d721851c-8285-4ddd-8d12-b4739ad4d355",
        "colab": {
          "base_uri": "https://localhost:8080/"
        }
      },
      "id": "spDIo2Few69A",
      "execution_count": null,
      "outputs": [
        {
          "output_type": "stream",
          "name": "stdout",
          "text": [
            "0\n"
          ]
        }
      ]
    },
    {
      "cell_type": "markdown",
      "source": [
        "Ya nos hemos asegurado que no nos quedad ningún dato NaN, así no encontraremos ningún error a la hora de categorizar la columna, que es el siguiente paso. \n",
        "\n",
        "Lo categorizamos en tres: Baja, Media y Alta. Para ello tomaremos el valor del menor y mayor dato, y etiquetando así cada clase, gracias a la función pd.cut, asignaremos cada valor numérico correspondiente. "
      ],
      "metadata": {
        "id": "ojLK3k16xYEu"
      },
      "id": "ojLK3k16xYEu"
    },
    {
      "cell_type": "code",
      "source": [
        "# Número de intervalos\n",
        "num_intervalos = 3\n",
        "\n",
        "# Lista de intervalos\n",
        "intervalos = np.linspace(df['reviews_per_month'].min()-0.001, df['reviews_per_month'].max(), num_intervalos+1)\n",
        "\n",
        "# Creamos las etiquetas \n",
        "etiquetas = ['Baja', 'Media', 'Alta']\n",
        "\n",
        "# Asigna una categoría a cada intervalo\n",
        "df['reviews_per_month'] = pd.cut(df['reviews_per_month'], intervalos, labels=etiquetas)"
      ],
      "metadata": {
        "id": "j41mwnb23Cz3"
      },
      "id": "j41mwnb23Cz3",
      "execution_count": null,
      "outputs": []
    },
    {
      "cell_type": "markdown",
      "source": [
        "En la lista de intervalos se ha restado -0.001, ya que al tomar el rango mínimo como 0, no incluía ese valor y detectaba aquellos valores 0.00 como NaN a la hora de categorizar. "
      ],
      "metadata": {
        "id": "tmUZMf3bvaYH"
      },
      "id": "tmUZMf3bvaYH"
    },
    {
      "cell_type": "markdown",
      "source": [
        "Por otro lado, vamos a clasificar los alquileres en función de los días que están disponibles. \n",
        "\n",
        "Para ello, siguiendo el patrón anterior, calculamos si hay NaN en la columna correspondiente: \n"
      ],
      "metadata": {
        "id": "PdD3LirDN4nG"
      },
      "id": "PdD3LirDN4nG"
    },
    {
      "cell_type": "code",
      "source": [
        "disponibilidad_nan = df['availability_365'].isna().sum()\n",
        "print(disponibilidad_nan)"
      ],
      "metadata": {
        "colab": {
          "base_uri": "https://localhost:8080/"
        },
        "id": "aIcgUrRyOSpi",
        "outputId": "ebee3d2d-eddc-469c-980d-c164113ad7d7"
      },
      "id": "aIcgUrRyOSpi",
      "execution_count": null,
      "outputs": [
        {
          "output_type": "stream",
          "name": "stdout",
          "text": [
            "0\n"
          ]
        }
      ]
    },
    {
      "cell_type": "markdown",
      "source": [
        "No hay ningún NaN en dicha columna, por lo que no hace falta tratarlos. En el caso de encontrarlos, se tendría que estudiar qué hacer con este conjunto de datos de manera independiente. \n",
        "\n",
        "Calculemos los intervalos de los rangos. "
      ],
      "metadata": {
        "id": "ZxvJl4iWOc35"
      },
      "id": "ZxvJl4iWOc35"
    },
    {
      "cell_type": "code",
      "source": [
        "#Definimos los intervalos\n",
        "n_inter = 3\n",
        "\n",
        "# Creamos una lista de intervalos\n",
        "interv = np.linspace(df['availability_365'].min()-0.001, df['availability_365'].max(), n_inter+1)\n",
        "\n",
        "# Creamos las etiquetas \n",
        "labels = ['Poco disponible', 'Disponible normalmente', 'Altamente disponible']\n",
        "\n",
        "# Asigna una categoría a cada intervalo\n",
        "df['availability_365'] = pd.cut(df['availability_365'], interv, labels=labels)"
      ],
      "metadata": {
        "id": "vmLK7uBjRSw_"
      },
      "id": "vmLK7uBjRSw_",
      "execution_count": null,
      "outputs": []
    },
    {
      "cell_type": "markdown",
      "source": [
        "Imprimimos 5 observaciones del nuevo atributo categorizado para observar si se ha realizado de manera correcta. "
      ],
      "metadata": {
        "id": "bQv6Dt6AxSCu"
      },
      "id": "bQv6Dt6AxSCu"
    },
    {
      "cell_type": "code",
      "source": [
        "print(df['availability_365'].head())"
      ],
      "metadata": {
        "colab": {
          "base_uri": "https://localhost:8080/"
        },
        "id": "9TbEdUnrSn_s",
        "outputId": "4d6dd1ae-d7ed-41cf-89dd-72f1054b00fd"
      },
      "id": "9TbEdUnrSn_s",
      "execution_count": null,
      "outputs": [
        {
          "output_type": "stream",
          "name": "stdout",
          "text": [
            "0      Altamente disponible\n",
            "1      Altamente disponible\n",
            "2      Altamente disponible\n",
            "3    Disponible normalmente\n",
            "4           Poco disponible\n",
            "Name: availability_365, dtype: category\n",
            "Categories (3, object): ['Poco disponible' < 'Disponible normalmente' < 'Altamente disponible']\n"
          ]
        }
      ]
    },
    {
      "cell_type": "markdown",
      "source": [
        "Finalmente, añadimos la nueva columna de clasificación, y la rellenamos con datos NaN, para así más adelante rellenarlo según las reglas definidas en el enunciado."
      ],
      "metadata": {
        "id": "YOtorhGdTaBb"
      },
      "id": "YOtorhGdTaBb"
    },
    {
      "cell_type": "code",
      "source": [
        "df.loc[:,'classification']=np.nan"
      ],
      "metadata": {
        "id": "Rrpl5zmwTfko"
      },
      "id": "Rrpl5zmwTfko",
      "execution_count": null,
      "outputs": []
    },
    {
      "cell_type": "markdown",
      "source": [
        "Imprimimos las 5 primeras observaciones con cada atributo para comprobar que se ha añadidio de manera correcta"
      ],
      "metadata": {
        "id": "yxMLqSy-ydV2"
      },
      "id": "yxMLqSy-ydV2"
    },
    {
      "cell_type": "code",
      "source": [
        "df.head()"
      ],
      "metadata": {
        "colab": {
          "base_uri": "https://localhost:8080/",
          "height": 331
        },
        "id": "Sapn3kXXybNU",
        "outputId": "cecc401e-670a-4d6a-ae3a-8ef184762c72"
      },
      "id": "Sapn3kXXybNU",
      "execution_count": null,
      "outputs": [
        {
          "output_type": "execute_result",
          "data": {
            "text/plain": [
              "     id                                              name  host_id  \\\n",
              "0  2539                Clean & quiet apt home by the park     2787   \n",
              "1  2595                             Skylit Midtown Castle     2845   \n",
              "2  3647               THE VILLAGE OF HARLEM....NEW YORK !     4632   \n",
              "3  3831                   Cozy Entire Floor of Brownstone     4869   \n",
              "4  5022  Entire Apt: Spacious Studio/Loft by central park     7192   \n",
              "\n",
              "     host_name neighbourhood_group neighbourhood  latitude  longitude  \\\n",
              "0         John            Brooklyn    Kensington  40.64749  -73.97237   \n",
              "1     Jennifer           Manhattan       Midtown  40.75362  -73.98377   \n",
              "2    Elisabeth           Manhattan        Harlem  40.80902  -73.94190   \n",
              "3  LisaRoxanne            Brooklyn  Clinton Hill  40.68514  -73.95976   \n",
              "4        Laura           Manhattan   East Harlem  40.79851  -73.94399   \n",
              "\n",
              "         room_type  price  minimum_nights  number_of_reviews last_review  \\\n",
              "0     Private room    149               1                  9  2018-10-19   \n",
              "1  Entire home/apt    225               1                 45  2019-05-21   \n",
              "2     Private room    150               3                  0         NaN   \n",
              "3  Entire home/apt     89               1                270  2019-07-05   \n",
              "4  Entire home/apt     80              10                  9  2018-11-19   \n",
              "\n",
              "  reviews_per_month  calculated_host_listings_count        availability_365  \\\n",
              "0              Baja                               6    Altamente disponible   \n",
              "1              Baja                               2    Altamente disponible   \n",
              "2              Baja                               1    Altamente disponible   \n",
              "3              Baja                               1  Disponible normalmente   \n",
              "4              Baja                               1         Poco disponible   \n",
              "\n",
              "   classification  \n",
              "0             NaN  \n",
              "1             NaN  \n",
              "2             NaN  \n",
              "3             NaN  \n",
              "4             NaN  "
            ],
            "text/html": [
              "\n",
              "  <div id=\"df-894e50e1-7f27-4134-b107-bf2627b89713\">\n",
              "    <div class=\"colab-df-container\">\n",
              "      <div>\n",
              "<style scoped>\n",
              "    .dataframe tbody tr th:only-of-type {\n",
              "        vertical-align: middle;\n",
              "    }\n",
              "\n",
              "    .dataframe tbody tr th {\n",
              "        vertical-align: top;\n",
              "    }\n",
              "\n",
              "    .dataframe thead th {\n",
              "        text-align: right;\n",
              "    }\n",
              "</style>\n",
              "<table border=\"1\" class=\"dataframe\">\n",
              "  <thead>\n",
              "    <tr style=\"text-align: right;\">\n",
              "      <th></th>\n",
              "      <th>id</th>\n",
              "      <th>name</th>\n",
              "      <th>host_id</th>\n",
              "      <th>host_name</th>\n",
              "      <th>neighbourhood_group</th>\n",
              "      <th>neighbourhood</th>\n",
              "      <th>latitude</th>\n",
              "      <th>longitude</th>\n",
              "      <th>room_type</th>\n",
              "      <th>price</th>\n",
              "      <th>minimum_nights</th>\n",
              "      <th>number_of_reviews</th>\n",
              "      <th>last_review</th>\n",
              "      <th>reviews_per_month</th>\n",
              "      <th>calculated_host_listings_count</th>\n",
              "      <th>availability_365</th>\n",
              "      <th>classification</th>\n",
              "    </tr>\n",
              "  </thead>\n",
              "  <tbody>\n",
              "    <tr>\n",
              "      <th>0</th>\n",
              "      <td>2539</td>\n",
              "      <td>Clean &amp; quiet apt home by the park</td>\n",
              "      <td>2787</td>\n",
              "      <td>John</td>\n",
              "      <td>Brooklyn</td>\n",
              "      <td>Kensington</td>\n",
              "      <td>40.64749</td>\n",
              "      <td>-73.97237</td>\n",
              "      <td>Private room</td>\n",
              "      <td>149</td>\n",
              "      <td>1</td>\n",
              "      <td>9</td>\n",
              "      <td>2018-10-19</td>\n",
              "      <td>Baja</td>\n",
              "      <td>6</td>\n",
              "      <td>Altamente disponible</td>\n",
              "      <td>NaN</td>\n",
              "    </tr>\n",
              "    <tr>\n",
              "      <th>1</th>\n",
              "      <td>2595</td>\n",
              "      <td>Skylit Midtown Castle</td>\n",
              "      <td>2845</td>\n",
              "      <td>Jennifer</td>\n",
              "      <td>Manhattan</td>\n",
              "      <td>Midtown</td>\n",
              "      <td>40.75362</td>\n",
              "      <td>-73.98377</td>\n",
              "      <td>Entire home/apt</td>\n",
              "      <td>225</td>\n",
              "      <td>1</td>\n",
              "      <td>45</td>\n",
              "      <td>2019-05-21</td>\n",
              "      <td>Baja</td>\n",
              "      <td>2</td>\n",
              "      <td>Altamente disponible</td>\n",
              "      <td>NaN</td>\n",
              "    </tr>\n",
              "    <tr>\n",
              "      <th>2</th>\n",
              "      <td>3647</td>\n",
              "      <td>THE VILLAGE OF HARLEM....NEW YORK !</td>\n",
              "      <td>4632</td>\n",
              "      <td>Elisabeth</td>\n",
              "      <td>Manhattan</td>\n",
              "      <td>Harlem</td>\n",
              "      <td>40.80902</td>\n",
              "      <td>-73.94190</td>\n",
              "      <td>Private room</td>\n",
              "      <td>150</td>\n",
              "      <td>3</td>\n",
              "      <td>0</td>\n",
              "      <td>NaN</td>\n",
              "      <td>Baja</td>\n",
              "      <td>1</td>\n",
              "      <td>Altamente disponible</td>\n",
              "      <td>NaN</td>\n",
              "    </tr>\n",
              "    <tr>\n",
              "      <th>3</th>\n",
              "      <td>3831</td>\n",
              "      <td>Cozy Entire Floor of Brownstone</td>\n",
              "      <td>4869</td>\n",
              "      <td>LisaRoxanne</td>\n",
              "      <td>Brooklyn</td>\n",
              "      <td>Clinton Hill</td>\n",
              "      <td>40.68514</td>\n",
              "      <td>-73.95976</td>\n",
              "      <td>Entire home/apt</td>\n",
              "      <td>89</td>\n",
              "      <td>1</td>\n",
              "      <td>270</td>\n",
              "      <td>2019-07-05</td>\n",
              "      <td>Baja</td>\n",
              "      <td>1</td>\n",
              "      <td>Disponible normalmente</td>\n",
              "      <td>NaN</td>\n",
              "    </tr>\n",
              "    <tr>\n",
              "      <th>4</th>\n",
              "      <td>5022</td>\n",
              "      <td>Entire Apt: Spacious Studio/Loft by central park</td>\n",
              "      <td>7192</td>\n",
              "      <td>Laura</td>\n",
              "      <td>Manhattan</td>\n",
              "      <td>East Harlem</td>\n",
              "      <td>40.79851</td>\n",
              "      <td>-73.94399</td>\n",
              "      <td>Entire home/apt</td>\n",
              "      <td>80</td>\n",
              "      <td>10</td>\n",
              "      <td>9</td>\n",
              "      <td>2018-11-19</td>\n",
              "      <td>Baja</td>\n",
              "      <td>1</td>\n",
              "      <td>Poco disponible</td>\n",
              "      <td>NaN</td>\n",
              "    </tr>\n",
              "  </tbody>\n",
              "</table>\n",
              "</div>\n",
              "      <button class=\"colab-df-convert\" onclick=\"convertToInteractive('df-894e50e1-7f27-4134-b107-bf2627b89713')\"\n",
              "              title=\"Convert this dataframe to an interactive table.\"\n",
              "              style=\"display:none;\">\n",
              "        \n",
              "  <svg xmlns=\"http://www.w3.org/2000/svg\" height=\"24px\"viewBox=\"0 0 24 24\"\n",
              "       width=\"24px\">\n",
              "    <path d=\"M0 0h24v24H0V0z\" fill=\"none\"/>\n",
              "    <path d=\"M18.56 5.44l.94 2.06.94-2.06 2.06-.94-2.06-.94-.94-2.06-.94 2.06-2.06.94zm-11 1L8.5 8.5l.94-2.06 2.06-.94-2.06-.94L8.5 2.5l-.94 2.06-2.06.94zm10 10l.94 2.06.94-2.06 2.06-.94-2.06-.94-.94-2.06-.94 2.06-2.06.94z\"/><path d=\"M17.41 7.96l-1.37-1.37c-.4-.4-.92-.59-1.43-.59-.52 0-1.04.2-1.43.59L10.3 9.45l-7.72 7.72c-.78.78-.78 2.05 0 2.83L4 21.41c.39.39.9.59 1.41.59.51 0 1.02-.2 1.41-.59l7.78-7.78 2.81-2.81c.8-.78.8-2.07 0-2.86zM5.41 20L4 18.59l7.72-7.72 1.47 1.35L5.41 20z\"/>\n",
              "  </svg>\n",
              "      </button>\n",
              "      \n",
              "  <style>\n",
              "    .colab-df-container {\n",
              "      display:flex;\n",
              "      flex-wrap:wrap;\n",
              "      gap: 12px;\n",
              "    }\n",
              "\n",
              "    .colab-df-convert {\n",
              "      background-color: #E8F0FE;\n",
              "      border: none;\n",
              "      border-radius: 50%;\n",
              "      cursor: pointer;\n",
              "      display: none;\n",
              "      fill: #1967D2;\n",
              "      height: 32px;\n",
              "      padding: 0 0 0 0;\n",
              "      width: 32px;\n",
              "    }\n",
              "\n",
              "    .colab-df-convert:hover {\n",
              "      background-color: #E2EBFA;\n",
              "      box-shadow: 0px 1px 2px rgba(60, 64, 67, 0.3), 0px 1px 3px 1px rgba(60, 64, 67, 0.15);\n",
              "      fill: #174EA6;\n",
              "    }\n",
              "\n",
              "    [theme=dark] .colab-df-convert {\n",
              "      background-color: #3B4455;\n",
              "      fill: #D2E3FC;\n",
              "    }\n",
              "\n",
              "    [theme=dark] .colab-df-convert:hover {\n",
              "      background-color: #434B5C;\n",
              "      box-shadow: 0px 1px 3px 1px rgba(0, 0, 0, 0.15);\n",
              "      filter: drop-shadow(0px 1px 2px rgba(0, 0, 0, 0.3));\n",
              "      fill: #FFFFFF;\n",
              "    }\n",
              "  </style>\n",
              "\n",
              "      <script>\n",
              "        const buttonEl =\n",
              "          document.querySelector('#df-894e50e1-7f27-4134-b107-bf2627b89713 button.colab-df-convert');\n",
              "        buttonEl.style.display =\n",
              "          google.colab.kernel.accessAllowed ? 'block' : 'none';\n",
              "\n",
              "        async function convertToInteractive(key) {\n",
              "          const element = document.querySelector('#df-894e50e1-7f27-4134-b107-bf2627b89713');\n",
              "          const dataTable =\n",
              "            await google.colab.kernel.invokeFunction('convertToInteractive',\n",
              "                                                     [key], {});\n",
              "          if (!dataTable) return;\n",
              "\n",
              "          const docLinkHtml = 'Like what you see? Visit the ' +\n",
              "            '<a target=\"_blank\" href=https://colab.research.google.com/notebooks/data_table.ipynb>data table notebook</a>'\n",
              "            + ' to learn more about interactive tables.';\n",
              "          element.innerHTML = '';\n",
              "          dataTable['output_type'] = 'display_data';\n",
              "          await google.colab.output.renderOutput(dataTable, element);\n",
              "          const docLink = document.createElement('div');\n",
              "          docLink.innerHTML = docLinkHtml;\n",
              "          element.appendChild(docLink);\n",
              "        }\n",
              "      </script>\n",
              "    </div>\n",
              "  </div>\n",
              "  "
            ]
          },
          "metadata": {},
          "execution_count": 12
        }
      ]
    },
    {
      "cell_type": "markdown",
      "source": [
        "Vamos a clasificar los datos según la siguente tabla\n",
        "\n",
        " Poco disponible | Disponible normalmente | Altamente disponible\n",
        "-----:|:--------:| -------\n",
        "Bueno | Regular | Malo\n",
        "Bueno | Regular | Malo\n",
        "Muy bueno | Bueno | Muy Malo\n",
        "\n",
        "\n",
        "\n",
        "Donde cada fila depende del valor de la reseña en Baja, Media y Alta respectivamente"
      ],
      "metadata": {
        "id": "lf_IUOwPXEd_"
      },
      "id": "lf_IUOwPXEd_"
    },
    {
      "cell_type": "code",
      "source": [
        "\n",
        "filas=len(df.axes[0])\n",
        "for i in range (filas):\n",
        "  if df['availability_365'][i]=='Poco disponible':\n",
        "    if df['reviews_per_month'][i]=='Alta':\n",
        "      df['classification'][i]='Muy bueno'\n",
        "    else:\n",
        "      df['classification'][i]='Bueno'\n",
        "  elif df['availability_365'][i]=='Disponible normalmente':\n",
        "    if df['reviews_per_month'][i]=='Alta':\n",
        "      df['classification'][i]='Bueno'\n",
        "    else:\n",
        "      df['classification'][i]='Regular'\n",
        "  else:\n",
        "    if df['reviews_per_month'][i]=='Alta':\n",
        "      df['classification'][i]='Muy malo'\n",
        "    else:\n",
        "      df['classification'][i]='Malo'\n"
      ],
      "metadata": {
        "colab": {
          "base_uri": "https://localhost:8080/"
        },
        "id": "NoLv0nEFUFpF",
        "outputId": "89346f4b-2386-4d33-c37e-0df96bd323dd"
      },
      "id": "NoLv0nEFUFpF",
      "execution_count": null,
      "outputs": [
        {
          "output_type": "stream",
          "name": "stderr",
          "text": [
            "<ipython-input-13-40d0a61399f8>:17: SettingWithCopyWarning: \n",
            "A value is trying to be set on a copy of a slice from a DataFrame\n",
            "\n",
            "See the caveats in the documentation: https://pandas.pydata.org/pandas-docs/stable/user_guide/indexing.html#returning-a-view-versus-a-copy\n",
            "  df['classification'][i]='Malo'\n",
            "/usr/local/lib/python3.8/dist-packages/pandas/core/indexing.py:1732: SettingWithCopyWarning: \n",
            "A value is trying to be set on a copy of a slice from a DataFrame\n",
            "\n",
            "See the caveats in the documentation: https://pandas.pydata.org/pandas-docs/stable/user_guide/indexing.html#returning-a-view-versus-a-copy\n",
            "  self._setitem_single_block(indexer, value, name)\n"
          ]
        }
      ]
    },
    {
      "cell_type": "markdown",
      "source": [
        "Comprobemos que no quede ningun NaN. "
      ],
      "metadata": {
        "id": "cGA8CoPvYkTw"
      },
      "id": "cGA8CoPvYkTw"
    },
    {
      "cell_type": "code",
      "source": [
        "classif_nan = df['classification'].isna().sum()\n",
        "print(classif_nan)"
      ],
      "metadata": {
        "colab": {
          "base_uri": "https://localhost:8080/"
        },
        "id": "qLg3vv7hYjsr",
        "outputId": "abd51325-ae38-4030-f806-c0dbb5053fb1"
      },
      "id": "qLg3vv7hYjsr",
      "execution_count": null,
      "outputs": [
        {
          "output_type": "stream",
          "name": "stdout",
          "text": [
            "0\n"
          ]
        }
      ]
    },
    {
      "cell_type": "markdown",
      "source": [
        "Todos los datos de la nueva columna han sido modificados, por lo que ya tenemos clasificados los alquieleres. "
      ],
      "metadata": {
        "id": "FhZmKIasZWpu"
      },
      "id": "FhZmKIasZWpu"
    },
    {
      "cell_type": "markdown",
      "source": [
        "Estudiaremos cuantos apartamentos pertenecen a cada clase. \n",
        "\n"
      ],
      "metadata": {
        "id": "M7sdmyRxZo6w"
      },
      "id": "M7sdmyRxZo6w"
    },
    {
      "cell_type": "code",
      "source": [
        "cant_bueno = df['classification'].value_counts() \n",
        "print(cant_bueno)\n"
      ],
      "metadata": {
        "id": "4toUjSU8dqwN",
        "outputId": "43c8bc66-aac3-4929-871d-d3241379d272",
        "colab": {
          "base_uri": "https://localhost:8080/"
        }
      },
      "id": "4toUjSU8dqwN",
      "execution_count": null,
      "outputs": [
        {
          "output_type": "stream",
          "name": "stdout",
          "text": [
            "Bueno       30637\n",
            "Malo        11474\n",
            "Regular      6783\n",
            "Muy malo        1\n",
            "Name: classification, dtype: int64\n"
          ]
        }
      ]
    },
    {
      "cell_type": "markdown",
      "source": [
        "Hay un total de 30 637 alquileres buenos, 11 474 malos y solamente 1 muy malo, por lo que podemos considerar que de los alquileres en esta página predominan los buenos. "
      ],
      "metadata": {
        "id": "f6MaZ9sseI03"
      },
      "id": "f6MaZ9sseI03"
    },
    {
      "cell_type": "markdown",
      "source": [
        "## Modelado\n"
      ],
      "metadata": {
        "id": "xK5gIh_DsXan"
      },
      "id": "xK5gIh_DsXan"
    },
    {
      "cell_type": "markdown",
      "source": [
        "Una vez hemos preparado los datos tal y como deseamos, procedemos a modelar y estudiar el objetivo. Vamos a ver cuántos barrios hay, y cuántos apartamentos encontramos en los más populares. "
      ],
      "metadata": {
        "id": "US2QD_ToU4RF"
      },
      "id": "US2QD_ToU4RF"
    },
    {
      "cell_type": "code",
      "source": [
        "df['neighbourhood'].value_counts()\n"
      ],
      "metadata": {
        "colab": {
          "base_uri": "https://localhost:8080/"
        },
        "id": "O5d29tIMT9K2",
        "outputId": "6d211f38-3699-4d4e-e4c0-48b9dd782a88"
      },
      "id": "O5d29tIMT9K2",
      "execution_count": null,
      "outputs": [
        {
          "output_type": "execute_result",
          "data": {
            "text/plain": [
              "Williamsburg          3920\n",
              "Bedford-Stuyvesant    3714\n",
              "Harlem                2658\n",
              "Bushwick              2465\n",
              "Upper West Side       1971\n",
              "                      ... \n",
              "Fort Wadsworth           1\n",
              "Richmondtown             1\n",
              "New Dorp                 1\n",
              "Rossville                1\n",
              "Willowbrook              1\n",
              "Name: neighbourhood, Length: 221, dtype: int64"
            ]
          },
          "metadata": {},
          "execution_count": 16
        }
      ]
    },
    {
      "cell_type": "markdown",
      "source": [
        "Primero observamos que Williamsburg es donde más apartamentos encontramos.\n"
      ],
      "metadata": {
        "id": "sM8cZU-pVQoe"
      },
      "id": "sM8cZU-pVQoe"
    },
    {
      "cell_type": "code",
      "source": [
        "df.loc[:,'classification_num']=np.nan"
      ],
      "metadata": {
        "id": "2jZzLheBYFtB"
      },
      "id": "2jZzLheBYFtB",
      "execution_count": null,
      "outputs": []
    },
    {
      "cell_type": "code",
      "source": [
        "df.head()"
      ],
      "metadata": {
        "colab": {
          "base_uri": "https://localhost:8080/",
          "height": 331
        },
        "id": "2UEi4FG9YdOK",
        "outputId": "0790c7cf-28a4-4a61-d228-98ef2ed9e27f"
      },
      "id": "2UEi4FG9YdOK",
      "execution_count": null,
      "outputs": [
        {
          "output_type": "execute_result",
          "data": {
            "text/plain": [
              "     id                                              name  host_id  \\\n",
              "0  2539                Clean & quiet apt home by the park     2787   \n",
              "1  2595                             Skylit Midtown Castle     2845   \n",
              "2  3647               THE VILLAGE OF HARLEM....NEW YORK !     4632   \n",
              "3  3831                   Cozy Entire Floor of Brownstone     4869   \n",
              "4  5022  Entire Apt: Spacious Studio/Loft by central park     7192   \n",
              "\n",
              "     host_name neighbourhood_group neighbourhood  latitude  longitude  \\\n",
              "0         John            Brooklyn    Kensington  40.64749  -73.97237   \n",
              "1     Jennifer           Manhattan       Midtown  40.75362  -73.98377   \n",
              "2    Elisabeth           Manhattan        Harlem  40.80902  -73.94190   \n",
              "3  LisaRoxanne            Brooklyn  Clinton Hill  40.68514  -73.95976   \n",
              "4        Laura           Manhattan   East Harlem  40.79851  -73.94399   \n",
              "\n",
              "         room_type  price  minimum_nights  number_of_reviews last_review  \\\n",
              "0     Private room    149               1                  9  2018-10-19   \n",
              "1  Entire home/apt    225               1                 45  2019-05-21   \n",
              "2     Private room    150               3                  0         NaN   \n",
              "3  Entire home/apt     89               1                270  2019-07-05   \n",
              "4  Entire home/apt     80              10                  9  2018-11-19   \n",
              "\n",
              "  reviews_per_month  calculated_host_listings_count        availability_365  \\\n",
              "0              Baja                               6    Altamente disponible   \n",
              "1              Baja                               2    Altamente disponible   \n",
              "2              Baja                               1    Altamente disponible   \n",
              "3              Baja                               1  Disponible normalmente   \n",
              "4              Baja                               1         Poco disponible   \n",
              "\n",
              "  classification  classification_num  \n",
              "0           Malo                 NaN  \n",
              "1           Malo                 NaN  \n",
              "2           Malo                 NaN  \n",
              "3        Regular                 NaN  \n",
              "4          Bueno                 NaN  "
            ],
            "text/html": [
              "\n",
              "  <div id=\"df-ce2cbbcb-7bc1-4e56-8f05-e88936463114\">\n",
              "    <div class=\"colab-df-container\">\n",
              "      <div>\n",
              "<style scoped>\n",
              "    .dataframe tbody tr th:only-of-type {\n",
              "        vertical-align: middle;\n",
              "    }\n",
              "\n",
              "    .dataframe tbody tr th {\n",
              "        vertical-align: top;\n",
              "    }\n",
              "\n",
              "    .dataframe thead th {\n",
              "        text-align: right;\n",
              "    }\n",
              "</style>\n",
              "<table border=\"1\" class=\"dataframe\">\n",
              "  <thead>\n",
              "    <tr style=\"text-align: right;\">\n",
              "      <th></th>\n",
              "      <th>id</th>\n",
              "      <th>name</th>\n",
              "      <th>host_id</th>\n",
              "      <th>host_name</th>\n",
              "      <th>neighbourhood_group</th>\n",
              "      <th>neighbourhood</th>\n",
              "      <th>latitude</th>\n",
              "      <th>longitude</th>\n",
              "      <th>room_type</th>\n",
              "      <th>price</th>\n",
              "      <th>minimum_nights</th>\n",
              "      <th>number_of_reviews</th>\n",
              "      <th>last_review</th>\n",
              "      <th>reviews_per_month</th>\n",
              "      <th>calculated_host_listings_count</th>\n",
              "      <th>availability_365</th>\n",
              "      <th>classification</th>\n",
              "      <th>classification_num</th>\n",
              "    </tr>\n",
              "  </thead>\n",
              "  <tbody>\n",
              "    <tr>\n",
              "      <th>0</th>\n",
              "      <td>2539</td>\n",
              "      <td>Clean &amp; quiet apt home by the park</td>\n",
              "      <td>2787</td>\n",
              "      <td>John</td>\n",
              "      <td>Brooklyn</td>\n",
              "      <td>Kensington</td>\n",
              "      <td>40.64749</td>\n",
              "      <td>-73.97237</td>\n",
              "      <td>Private room</td>\n",
              "      <td>149</td>\n",
              "      <td>1</td>\n",
              "      <td>9</td>\n",
              "      <td>2018-10-19</td>\n",
              "      <td>Baja</td>\n",
              "      <td>6</td>\n",
              "      <td>Altamente disponible</td>\n",
              "      <td>Malo</td>\n",
              "      <td>NaN</td>\n",
              "    </tr>\n",
              "    <tr>\n",
              "      <th>1</th>\n",
              "      <td>2595</td>\n",
              "      <td>Skylit Midtown Castle</td>\n",
              "      <td>2845</td>\n",
              "      <td>Jennifer</td>\n",
              "      <td>Manhattan</td>\n",
              "      <td>Midtown</td>\n",
              "      <td>40.75362</td>\n",
              "      <td>-73.98377</td>\n",
              "      <td>Entire home/apt</td>\n",
              "      <td>225</td>\n",
              "      <td>1</td>\n",
              "      <td>45</td>\n",
              "      <td>2019-05-21</td>\n",
              "      <td>Baja</td>\n",
              "      <td>2</td>\n",
              "      <td>Altamente disponible</td>\n",
              "      <td>Malo</td>\n",
              "      <td>NaN</td>\n",
              "    </tr>\n",
              "    <tr>\n",
              "      <th>2</th>\n",
              "      <td>3647</td>\n",
              "      <td>THE VILLAGE OF HARLEM....NEW YORK !</td>\n",
              "      <td>4632</td>\n",
              "      <td>Elisabeth</td>\n",
              "      <td>Manhattan</td>\n",
              "      <td>Harlem</td>\n",
              "      <td>40.80902</td>\n",
              "      <td>-73.94190</td>\n",
              "      <td>Private room</td>\n",
              "      <td>150</td>\n",
              "      <td>3</td>\n",
              "      <td>0</td>\n",
              "      <td>NaN</td>\n",
              "      <td>Baja</td>\n",
              "      <td>1</td>\n",
              "      <td>Altamente disponible</td>\n",
              "      <td>Malo</td>\n",
              "      <td>NaN</td>\n",
              "    </tr>\n",
              "    <tr>\n",
              "      <th>3</th>\n",
              "      <td>3831</td>\n",
              "      <td>Cozy Entire Floor of Brownstone</td>\n",
              "      <td>4869</td>\n",
              "      <td>LisaRoxanne</td>\n",
              "      <td>Brooklyn</td>\n",
              "      <td>Clinton Hill</td>\n",
              "      <td>40.68514</td>\n",
              "      <td>-73.95976</td>\n",
              "      <td>Entire home/apt</td>\n",
              "      <td>89</td>\n",
              "      <td>1</td>\n",
              "      <td>270</td>\n",
              "      <td>2019-07-05</td>\n",
              "      <td>Baja</td>\n",
              "      <td>1</td>\n",
              "      <td>Disponible normalmente</td>\n",
              "      <td>Regular</td>\n",
              "      <td>NaN</td>\n",
              "    </tr>\n",
              "    <tr>\n",
              "      <th>4</th>\n",
              "      <td>5022</td>\n",
              "      <td>Entire Apt: Spacious Studio/Loft by central park</td>\n",
              "      <td>7192</td>\n",
              "      <td>Laura</td>\n",
              "      <td>Manhattan</td>\n",
              "      <td>East Harlem</td>\n",
              "      <td>40.79851</td>\n",
              "      <td>-73.94399</td>\n",
              "      <td>Entire home/apt</td>\n",
              "      <td>80</td>\n",
              "      <td>10</td>\n",
              "      <td>9</td>\n",
              "      <td>2018-11-19</td>\n",
              "      <td>Baja</td>\n",
              "      <td>1</td>\n",
              "      <td>Poco disponible</td>\n",
              "      <td>Bueno</td>\n",
              "      <td>NaN</td>\n",
              "    </tr>\n",
              "  </tbody>\n",
              "</table>\n",
              "</div>\n",
              "      <button class=\"colab-df-convert\" onclick=\"convertToInteractive('df-ce2cbbcb-7bc1-4e56-8f05-e88936463114')\"\n",
              "              title=\"Convert this dataframe to an interactive table.\"\n",
              "              style=\"display:none;\">\n",
              "        \n",
              "  <svg xmlns=\"http://www.w3.org/2000/svg\" height=\"24px\"viewBox=\"0 0 24 24\"\n",
              "       width=\"24px\">\n",
              "    <path d=\"M0 0h24v24H0V0z\" fill=\"none\"/>\n",
              "    <path d=\"M18.56 5.44l.94 2.06.94-2.06 2.06-.94-2.06-.94-.94-2.06-.94 2.06-2.06.94zm-11 1L8.5 8.5l.94-2.06 2.06-.94-2.06-.94L8.5 2.5l-.94 2.06-2.06.94zm10 10l.94 2.06.94-2.06 2.06-.94-2.06-.94-.94-2.06-.94 2.06-2.06.94z\"/><path d=\"M17.41 7.96l-1.37-1.37c-.4-.4-.92-.59-1.43-.59-.52 0-1.04.2-1.43.59L10.3 9.45l-7.72 7.72c-.78.78-.78 2.05 0 2.83L4 21.41c.39.39.9.59 1.41.59.51 0 1.02-.2 1.41-.59l7.78-7.78 2.81-2.81c.8-.78.8-2.07 0-2.86zM5.41 20L4 18.59l7.72-7.72 1.47 1.35L5.41 20z\"/>\n",
              "  </svg>\n",
              "      </button>\n",
              "      \n",
              "  <style>\n",
              "    .colab-df-container {\n",
              "      display:flex;\n",
              "      flex-wrap:wrap;\n",
              "      gap: 12px;\n",
              "    }\n",
              "\n",
              "    .colab-df-convert {\n",
              "      background-color: #E8F0FE;\n",
              "      border: none;\n",
              "      border-radius: 50%;\n",
              "      cursor: pointer;\n",
              "      display: none;\n",
              "      fill: #1967D2;\n",
              "      height: 32px;\n",
              "      padding: 0 0 0 0;\n",
              "      width: 32px;\n",
              "    }\n",
              "\n",
              "    .colab-df-convert:hover {\n",
              "      background-color: #E2EBFA;\n",
              "      box-shadow: 0px 1px 2px rgba(60, 64, 67, 0.3), 0px 1px 3px 1px rgba(60, 64, 67, 0.15);\n",
              "      fill: #174EA6;\n",
              "    }\n",
              "\n",
              "    [theme=dark] .colab-df-convert {\n",
              "      background-color: #3B4455;\n",
              "      fill: #D2E3FC;\n",
              "    }\n",
              "\n",
              "    [theme=dark] .colab-df-convert:hover {\n",
              "      background-color: #434B5C;\n",
              "      box-shadow: 0px 1px 3px 1px rgba(0, 0, 0, 0.15);\n",
              "      filter: drop-shadow(0px 1px 2px rgba(0, 0, 0, 0.3));\n",
              "      fill: #FFFFFF;\n",
              "    }\n",
              "  </style>\n",
              "\n",
              "      <script>\n",
              "        const buttonEl =\n",
              "          document.querySelector('#df-ce2cbbcb-7bc1-4e56-8f05-e88936463114 button.colab-df-convert');\n",
              "        buttonEl.style.display =\n",
              "          google.colab.kernel.accessAllowed ? 'block' : 'none';\n",
              "\n",
              "        async function convertToInteractive(key) {\n",
              "          const element = document.querySelector('#df-ce2cbbcb-7bc1-4e56-8f05-e88936463114');\n",
              "          const dataTable =\n",
              "            await google.colab.kernel.invokeFunction('convertToInteractive',\n",
              "                                                     [key], {});\n",
              "          if (!dataTable) return;\n",
              "\n",
              "          const docLinkHtml = 'Like what you see? Visit the ' +\n",
              "            '<a target=\"_blank\" href=https://colab.research.google.com/notebooks/data_table.ipynb>data table notebook</a>'\n",
              "            + ' to learn more about interactive tables.';\n",
              "          element.innerHTML = '';\n",
              "          dataTable['output_type'] = 'display_data';\n",
              "          await google.colab.output.renderOutput(dataTable, element);\n",
              "          const docLink = document.createElement('div');\n",
              "          docLink.innerHTML = docLinkHtml;\n",
              "          element.appendChild(docLink);\n",
              "        }\n",
              "      </script>\n",
              "    </div>\n",
              "  </div>\n",
              "  "
            ]
          },
          "metadata": {},
          "execution_count": 18
        }
      ]
    },
    {
      "cell_type": "code",
      "source": [
        "filas=len(df.axes[0])\n",
        "for i in range (filas):\n",
        "  if df['availability_365'][i]=='Poco disponible':\n",
        "    if df['reviews_per_month'][i]=='Alta':\n",
        "      df['classification_num'][i]=1\n",
        "    else:\n",
        "      df['classification_num'][i]=0.75\n",
        "  elif df['availability_365'][i]=='Disponible normalmente':\n",
        "    if df['reviews_per_month'][i]=='Alta':\n",
        "      df['classification_num'][i]=0.75\n",
        "    else:\n",
        "      df['classification_num'][i]=0.5\n",
        "  else:\n",
        "    if df['reviews_per_month'][i]=='Alta':\n",
        "      df['classification_num'][i]=0\n",
        "    else:\n",
        "      df['classification_num'][i]=0.25"
      ],
      "metadata": {
        "colab": {
          "base_uri": "https://localhost:8080/"
        },
        "id": "CcCeERNUX6mn",
        "outputId": "5cc5026a-a89e-456c-dc93-9a6da39473f5"
      },
      "id": "CcCeERNUX6mn",
      "execution_count": null,
      "outputs": [
        {
          "output_type": "stream",
          "name": "stderr",
          "text": [
            "<ipython-input-19-812340fe2f91>:17: SettingWithCopyWarning: \n",
            "A value is trying to be set on a copy of a slice from a DataFrame\n",
            "\n",
            "See the caveats in the documentation: https://pandas.pydata.org/pandas-docs/stable/user_guide/indexing.html#returning-a-view-versus-a-copy\n",
            "  df['classification_num'][i]=0.25\n",
            "<ipython-input-19-812340fe2f91>:12: SettingWithCopyWarning: \n",
            "A value is trying to be set on a copy of a slice from a DataFrame\n",
            "\n",
            "See the caveats in the documentation: https://pandas.pydata.org/pandas-docs/stable/user_guide/indexing.html#returning-a-view-versus-a-copy\n",
            "  df['classification_num'][i]=0.5\n",
            "<ipython-input-19-812340fe2f91>:7: SettingWithCopyWarning: \n",
            "A value is trying to be set on a copy of a slice from a DataFrame\n",
            "\n",
            "See the caveats in the documentation: https://pandas.pydata.org/pandas-docs/stable/user_guide/indexing.html#returning-a-view-versus-a-copy\n",
            "  df['classification_num'][i]=0.75\n",
            "<ipython-input-19-812340fe2f91>:15: SettingWithCopyWarning: \n",
            "A value is trying to be set on a copy of a slice from a DataFrame\n",
            "\n",
            "See the caveats in the documentation: https://pandas.pydata.org/pandas-docs/stable/user_guide/indexing.html#returning-a-view-versus-a-copy\n",
            "  df['classification_num'][i]=0\n"
          ]
        }
      ]
    },
    {
      "cell_type": "code",
      "source": [
        "df.head()"
      ],
      "metadata": {
        "colab": {
          "base_uri": "https://localhost:8080/",
          "height": 331
        },
        "id": "m498fzNhYjAA",
        "outputId": "80a4a1c1-5e6d-456d-f60b-6519322b47a4"
      },
      "id": "m498fzNhYjAA",
      "execution_count": null,
      "outputs": [
        {
          "output_type": "execute_result",
          "data": {
            "text/plain": [
              "     id                                              name  host_id  \\\n",
              "0  2539                Clean & quiet apt home by the park     2787   \n",
              "1  2595                             Skylit Midtown Castle     2845   \n",
              "2  3647               THE VILLAGE OF HARLEM....NEW YORK !     4632   \n",
              "3  3831                   Cozy Entire Floor of Brownstone     4869   \n",
              "4  5022  Entire Apt: Spacious Studio/Loft by central park     7192   \n",
              "\n",
              "     host_name neighbourhood_group neighbourhood  latitude  longitude  \\\n",
              "0         John            Brooklyn    Kensington  40.64749  -73.97237   \n",
              "1     Jennifer           Manhattan       Midtown  40.75362  -73.98377   \n",
              "2    Elisabeth           Manhattan        Harlem  40.80902  -73.94190   \n",
              "3  LisaRoxanne            Brooklyn  Clinton Hill  40.68514  -73.95976   \n",
              "4        Laura           Manhattan   East Harlem  40.79851  -73.94399   \n",
              "\n",
              "         room_type  price  minimum_nights  number_of_reviews last_review  \\\n",
              "0     Private room    149               1                  9  2018-10-19   \n",
              "1  Entire home/apt    225               1                 45  2019-05-21   \n",
              "2     Private room    150               3                  0         NaN   \n",
              "3  Entire home/apt     89               1                270  2019-07-05   \n",
              "4  Entire home/apt     80              10                  9  2018-11-19   \n",
              "\n",
              "  reviews_per_month  calculated_host_listings_count        availability_365  \\\n",
              "0              Baja                               6    Altamente disponible   \n",
              "1              Baja                               2    Altamente disponible   \n",
              "2              Baja                               1    Altamente disponible   \n",
              "3              Baja                               1  Disponible normalmente   \n",
              "4              Baja                               1         Poco disponible   \n",
              "\n",
              "  classification  classification_num  \n",
              "0           Malo                0.25  \n",
              "1           Malo                0.25  \n",
              "2           Malo                0.25  \n",
              "3        Regular                0.50  \n",
              "4          Bueno                0.75  "
            ],
            "text/html": [
              "\n",
              "  <div id=\"df-9a4550a9-1eda-4e62-9e50-ad06aee2613b\">\n",
              "    <div class=\"colab-df-container\">\n",
              "      <div>\n",
              "<style scoped>\n",
              "    .dataframe tbody tr th:only-of-type {\n",
              "        vertical-align: middle;\n",
              "    }\n",
              "\n",
              "    .dataframe tbody tr th {\n",
              "        vertical-align: top;\n",
              "    }\n",
              "\n",
              "    .dataframe thead th {\n",
              "        text-align: right;\n",
              "    }\n",
              "</style>\n",
              "<table border=\"1\" class=\"dataframe\">\n",
              "  <thead>\n",
              "    <tr style=\"text-align: right;\">\n",
              "      <th></th>\n",
              "      <th>id</th>\n",
              "      <th>name</th>\n",
              "      <th>host_id</th>\n",
              "      <th>host_name</th>\n",
              "      <th>neighbourhood_group</th>\n",
              "      <th>neighbourhood</th>\n",
              "      <th>latitude</th>\n",
              "      <th>longitude</th>\n",
              "      <th>room_type</th>\n",
              "      <th>price</th>\n",
              "      <th>minimum_nights</th>\n",
              "      <th>number_of_reviews</th>\n",
              "      <th>last_review</th>\n",
              "      <th>reviews_per_month</th>\n",
              "      <th>calculated_host_listings_count</th>\n",
              "      <th>availability_365</th>\n",
              "      <th>classification</th>\n",
              "      <th>classification_num</th>\n",
              "    </tr>\n",
              "  </thead>\n",
              "  <tbody>\n",
              "    <tr>\n",
              "      <th>0</th>\n",
              "      <td>2539</td>\n",
              "      <td>Clean &amp; quiet apt home by the park</td>\n",
              "      <td>2787</td>\n",
              "      <td>John</td>\n",
              "      <td>Brooklyn</td>\n",
              "      <td>Kensington</td>\n",
              "      <td>40.64749</td>\n",
              "      <td>-73.97237</td>\n",
              "      <td>Private room</td>\n",
              "      <td>149</td>\n",
              "      <td>1</td>\n",
              "      <td>9</td>\n",
              "      <td>2018-10-19</td>\n",
              "      <td>Baja</td>\n",
              "      <td>6</td>\n",
              "      <td>Altamente disponible</td>\n",
              "      <td>Malo</td>\n",
              "      <td>0.25</td>\n",
              "    </tr>\n",
              "    <tr>\n",
              "      <th>1</th>\n",
              "      <td>2595</td>\n",
              "      <td>Skylit Midtown Castle</td>\n",
              "      <td>2845</td>\n",
              "      <td>Jennifer</td>\n",
              "      <td>Manhattan</td>\n",
              "      <td>Midtown</td>\n",
              "      <td>40.75362</td>\n",
              "      <td>-73.98377</td>\n",
              "      <td>Entire home/apt</td>\n",
              "      <td>225</td>\n",
              "      <td>1</td>\n",
              "      <td>45</td>\n",
              "      <td>2019-05-21</td>\n",
              "      <td>Baja</td>\n",
              "      <td>2</td>\n",
              "      <td>Altamente disponible</td>\n",
              "      <td>Malo</td>\n",
              "      <td>0.25</td>\n",
              "    </tr>\n",
              "    <tr>\n",
              "      <th>2</th>\n",
              "      <td>3647</td>\n",
              "      <td>THE VILLAGE OF HARLEM....NEW YORK !</td>\n",
              "      <td>4632</td>\n",
              "      <td>Elisabeth</td>\n",
              "      <td>Manhattan</td>\n",
              "      <td>Harlem</td>\n",
              "      <td>40.80902</td>\n",
              "      <td>-73.94190</td>\n",
              "      <td>Private room</td>\n",
              "      <td>150</td>\n",
              "      <td>3</td>\n",
              "      <td>0</td>\n",
              "      <td>NaN</td>\n",
              "      <td>Baja</td>\n",
              "      <td>1</td>\n",
              "      <td>Altamente disponible</td>\n",
              "      <td>Malo</td>\n",
              "      <td>0.25</td>\n",
              "    </tr>\n",
              "    <tr>\n",
              "      <th>3</th>\n",
              "      <td>3831</td>\n",
              "      <td>Cozy Entire Floor of Brownstone</td>\n",
              "      <td>4869</td>\n",
              "      <td>LisaRoxanne</td>\n",
              "      <td>Brooklyn</td>\n",
              "      <td>Clinton Hill</td>\n",
              "      <td>40.68514</td>\n",
              "      <td>-73.95976</td>\n",
              "      <td>Entire home/apt</td>\n",
              "      <td>89</td>\n",
              "      <td>1</td>\n",
              "      <td>270</td>\n",
              "      <td>2019-07-05</td>\n",
              "      <td>Baja</td>\n",
              "      <td>1</td>\n",
              "      <td>Disponible normalmente</td>\n",
              "      <td>Regular</td>\n",
              "      <td>0.50</td>\n",
              "    </tr>\n",
              "    <tr>\n",
              "      <th>4</th>\n",
              "      <td>5022</td>\n",
              "      <td>Entire Apt: Spacious Studio/Loft by central park</td>\n",
              "      <td>7192</td>\n",
              "      <td>Laura</td>\n",
              "      <td>Manhattan</td>\n",
              "      <td>East Harlem</td>\n",
              "      <td>40.79851</td>\n",
              "      <td>-73.94399</td>\n",
              "      <td>Entire home/apt</td>\n",
              "      <td>80</td>\n",
              "      <td>10</td>\n",
              "      <td>9</td>\n",
              "      <td>2018-11-19</td>\n",
              "      <td>Baja</td>\n",
              "      <td>1</td>\n",
              "      <td>Poco disponible</td>\n",
              "      <td>Bueno</td>\n",
              "      <td>0.75</td>\n",
              "    </tr>\n",
              "  </tbody>\n",
              "</table>\n",
              "</div>\n",
              "      <button class=\"colab-df-convert\" onclick=\"convertToInteractive('df-9a4550a9-1eda-4e62-9e50-ad06aee2613b')\"\n",
              "              title=\"Convert this dataframe to an interactive table.\"\n",
              "              style=\"display:none;\">\n",
              "        \n",
              "  <svg xmlns=\"http://www.w3.org/2000/svg\" height=\"24px\"viewBox=\"0 0 24 24\"\n",
              "       width=\"24px\">\n",
              "    <path d=\"M0 0h24v24H0V0z\" fill=\"none\"/>\n",
              "    <path d=\"M18.56 5.44l.94 2.06.94-2.06 2.06-.94-2.06-.94-.94-2.06-.94 2.06-2.06.94zm-11 1L8.5 8.5l.94-2.06 2.06-.94-2.06-.94L8.5 2.5l-.94 2.06-2.06.94zm10 10l.94 2.06.94-2.06 2.06-.94-2.06-.94-.94-2.06-.94 2.06-2.06.94z\"/><path d=\"M17.41 7.96l-1.37-1.37c-.4-.4-.92-.59-1.43-.59-.52 0-1.04.2-1.43.59L10.3 9.45l-7.72 7.72c-.78.78-.78 2.05 0 2.83L4 21.41c.39.39.9.59 1.41.59.51 0 1.02-.2 1.41-.59l7.78-7.78 2.81-2.81c.8-.78.8-2.07 0-2.86zM5.41 20L4 18.59l7.72-7.72 1.47 1.35L5.41 20z\"/>\n",
              "  </svg>\n",
              "      </button>\n",
              "      \n",
              "  <style>\n",
              "    .colab-df-container {\n",
              "      display:flex;\n",
              "      flex-wrap:wrap;\n",
              "      gap: 12px;\n",
              "    }\n",
              "\n",
              "    .colab-df-convert {\n",
              "      background-color: #E8F0FE;\n",
              "      border: none;\n",
              "      border-radius: 50%;\n",
              "      cursor: pointer;\n",
              "      display: none;\n",
              "      fill: #1967D2;\n",
              "      height: 32px;\n",
              "      padding: 0 0 0 0;\n",
              "      width: 32px;\n",
              "    }\n",
              "\n",
              "    .colab-df-convert:hover {\n",
              "      background-color: #E2EBFA;\n",
              "      box-shadow: 0px 1px 2px rgba(60, 64, 67, 0.3), 0px 1px 3px 1px rgba(60, 64, 67, 0.15);\n",
              "      fill: #174EA6;\n",
              "    }\n",
              "\n",
              "    [theme=dark] .colab-df-convert {\n",
              "      background-color: #3B4455;\n",
              "      fill: #D2E3FC;\n",
              "    }\n",
              "\n",
              "    [theme=dark] .colab-df-convert:hover {\n",
              "      background-color: #434B5C;\n",
              "      box-shadow: 0px 1px 3px 1px rgba(0, 0, 0, 0.15);\n",
              "      filter: drop-shadow(0px 1px 2px rgba(0, 0, 0, 0.3));\n",
              "      fill: #FFFFFF;\n",
              "    }\n",
              "  </style>\n",
              "\n",
              "      <script>\n",
              "        const buttonEl =\n",
              "          document.querySelector('#df-9a4550a9-1eda-4e62-9e50-ad06aee2613b button.colab-df-convert');\n",
              "        buttonEl.style.display =\n",
              "          google.colab.kernel.accessAllowed ? 'block' : 'none';\n",
              "\n",
              "        async function convertToInteractive(key) {\n",
              "          const element = document.querySelector('#df-9a4550a9-1eda-4e62-9e50-ad06aee2613b');\n",
              "          const dataTable =\n",
              "            await google.colab.kernel.invokeFunction('convertToInteractive',\n",
              "                                                     [key], {});\n",
              "          if (!dataTable) return;\n",
              "\n",
              "          const docLinkHtml = 'Like what you see? Visit the ' +\n",
              "            '<a target=\"_blank\" href=https://colab.research.google.com/notebooks/data_table.ipynb>data table notebook</a>'\n",
              "            + ' to learn more about interactive tables.';\n",
              "          element.innerHTML = '';\n",
              "          dataTable['output_type'] = 'display_data';\n",
              "          await google.colab.output.renderOutput(dataTable, element);\n",
              "          const docLink = document.createElement('div');\n",
              "          docLink.innerHTML = docLinkHtml;\n",
              "          element.appendChild(docLink);\n",
              "        }\n",
              "      </script>\n",
              "    </div>\n",
              "  </div>\n",
              "  "
            ]
          },
          "metadata": {},
          "execution_count": 20
        }
      ]
    },
    {
      "cell_type": "code",
      "source": [
        "barrios= np.unique(df['neighbourhood'])\n",
        "num_barrios = len(barrios)\n",
        "print('Number of classes:', num_barrios)"
      ],
      "metadata": {
        "colab": {
          "base_uri": "https://localhost:8080/"
        },
        "id": "hJjNi3HycHaz",
        "outputId": "7470fdce-2782-437b-ff6c-5fded0965242"
      },
      "id": "hJjNi3HycHaz",
      "execution_count": null,
      "outputs": [
        {
          "output_type": "stream",
          "name": "stdout",
          "text": [
            "Number of classes: 221\n"
          ]
        }
      ]
    },
    {
      "cell_type": "code",
      "source": [
        "barrios"
      ],
      "metadata": {
        "colab": {
          "base_uri": "https://localhost:8080/"
        },
        "id": "iprLh7AecMuO",
        "outputId": "78b59c82-51de-4bf8-f343-3c3885c5be00"
      },
      "id": "iprLh7AecMuO",
      "execution_count": null,
      "outputs": [
        {
          "output_type": "execute_result",
          "data": {
            "text/plain": [
              "array(['Allerton', 'Arden Heights', 'Arrochar', 'Arverne', 'Astoria',\n",
              "       'Bath Beach', 'Battery Park City', 'Bay Ridge', 'Bay Terrace',\n",
              "       'Bay Terrace, Staten Island', 'Baychester', 'Bayside', 'Bayswater',\n",
              "       'Bedford-Stuyvesant', 'Belle Harbor', 'Bellerose', 'Belmont',\n",
              "       'Bensonhurst', 'Bergen Beach', 'Boerum Hill', 'Borough Park',\n",
              "       'Breezy Point', 'Briarwood', 'Brighton Beach', 'Bronxdale',\n",
              "       'Brooklyn Heights', 'Brownsville', \"Bull's Head\", 'Bushwick',\n",
              "       'Cambria Heights', 'Canarsie', 'Carroll Gardens', 'Castle Hill',\n",
              "       'Castleton Corners', 'Chelsea', 'Chinatown', 'City Island',\n",
              "       'Civic Center', 'Claremont Village', 'Clason Point', 'Clifton',\n",
              "       'Clinton Hill', 'Co-op City', 'Cobble Hill', 'College Point',\n",
              "       'Columbia St', 'Concord', 'Concourse', 'Concourse Village',\n",
              "       'Coney Island', 'Corona', 'Crown Heights', 'Cypress Hills',\n",
              "       'DUMBO', 'Ditmars Steinway', 'Dongan Hills', 'Douglaston',\n",
              "       'Downtown Brooklyn', 'Dyker Heights', 'East Elmhurst',\n",
              "       'East Flatbush', 'East Harlem', 'East Morrisania', 'East New York',\n",
              "       'East Village', 'Eastchester', 'Edenwald', 'Edgemere', 'Elmhurst',\n",
              "       'Eltingville', 'Emerson Hill', 'Far Rockaway', 'Fieldston',\n",
              "       'Financial District', 'Flatbush', 'Flatiron District', 'Flatlands',\n",
              "       'Flushing', 'Fordham', 'Forest Hills', 'Fort Greene',\n",
              "       'Fort Hamilton', 'Fort Wadsworth', 'Fresh Meadows', 'Glendale',\n",
              "       'Gowanus', 'Gramercy', 'Graniteville', 'Grant City', 'Gravesend',\n",
              "       'Great Kills', 'Greenpoint', 'Greenwich Village', 'Grymes Hill',\n",
              "       'Harlem', \"Hell's Kitchen\", 'Highbridge', 'Hollis', 'Holliswood',\n",
              "       'Howard Beach', 'Howland Hook', 'Huguenot', 'Hunts Point',\n",
              "       'Inwood', 'Jackson Heights', 'Jamaica', 'Jamaica Estates',\n",
              "       'Jamaica Hills', 'Kensington', 'Kew Gardens', 'Kew Gardens Hills',\n",
              "       'Kingsbridge', 'Kips Bay', 'Laurelton', 'Lighthouse Hill',\n",
              "       'Little Italy', 'Little Neck', 'Long Island City', 'Longwood',\n",
              "       'Lower East Side', 'Manhattan Beach', 'Marble Hill',\n",
              "       'Mariners Harbor', 'Maspeth', 'Melrose', 'Middle Village',\n",
              "       'Midland Beach', 'Midtown', 'Midwood', 'Mill Basin',\n",
              "       'Morningside Heights', 'Morris Heights', 'Morris Park',\n",
              "       'Morrisania', 'Mott Haven', 'Mount Eden', 'Mount Hope',\n",
              "       'Murray Hill', 'Navy Yard', 'Neponsit', 'New Brighton', 'New Dorp',\n",
              "       'New Dorp Beach', 'New Springville', 'NoHo', 'Nolita',\n",
              "       'North Riverdale', 'Norwood', 'Oakwood', 'Olinville', 'Ozone Park',\n",
              "       'Park Slope', 'Parkchester', 'Pelham Bay', 'Pelham Gardens',\n",
              "       'Port Morris', 'Port Richmond', \"Prince's Bay\", 'Prospect Heights',\n",
              "       'Prospect-Lefferts Gardens', 'Queens Village', 'Randall Manor',\n",
              "       'Red Hook', 'Rego Park', 'Richmond Hill', 'Richmondtown',\n",
              "       'Ridgewood', 'Riverdale', 'Rockaway Beach', 'Roosevelt Island',\n",
              "       'Rosebank', 'Rosedale', 'Rossville', 'Schuylerville', 'Sea Gate',\n",
              "       'Sheepshead Bay', 'Shore Acres', 'Silver Lake', 'SoHo',\n",
              "       'Soundview', 'South Beach', 'South Ozone Park', 'South Slope',\n",
              "       'Springfield Gardens', 'Spuyten Duyvil', 'St. Albans',\n",
              "       'St. George', 'Stapleton', 'Stuyvesant Town', 'Sunnyside',\n",
              "       'Sunset Park', 'Theater District', 'Throgs Neck', 'Todt Hill',\n",
              "       'Tompkinsville', 'Tottenville', 'Tremont', 'Tribeca',\n",
              "       'Two Bridges', 'Unionport', 'University Heights',\n",
              "       'Upper East Side', 'Upper West Side', 'Van Nest', 'Vinegar Hill',\n",
              "       'Wakefield', 'Washington Heights', 'West Brighton', 'West Farms',\n",
              "       'West Village', 'Westchester Square', 'Westerleigh', 'Whitestone',\n",
              "       'Williamsbridge', 'Williamsburg', 'Willowbrook', 'Windsor Terrace',\n",
              "       'Woodhaven', 'Woodlawn', 'Woodrow', 'Woodside'], dtype=object)"
            ]
          },
          "metadata": {},
          "execution_count": 22
        }
      ]
    },
    {
      "cell_type": "code",
      "source": [
        "classification_barrios=np.array(np.zeros(num_barrios))"
      ],
      "metadata": {
        "id": "I2bchhHMEoD6"
      },
      "id": "I2bchhHMEoD6",
      "execution_count": null,
      "outputs": []
    },
    {
      "cell_type": "code",
      "source": [
        "for i in range(len(barrios)):\n",
        "  for j in range(filas):\n",
        "    if barrios[i]==df['neighbourhood'][j]:\n",
        "      classification_barrios[i]=classification_barrios[i]+df['classification_num'][j]\n"
      ],
      "metadata": {
        "id": "gaXgsSLeFyem"
      },
      "id": "gaXgsSLeFyem",
      "execution_count": null,
      "outputs": []
    },
    {
      "cell_type": "code",
      "source": [
        "n=np.array(np.zeros(num_barrios))\n",
        "for i in range(len(barrios)):\n",
        "  for j in range(filas):\n",
        "    if barrios[i]==df['neighbourhood'][j]:\n",
        "      n[i]=n[i]+1\n"
      ],
      "metadata": {
        "id": "aIODnNdqHijC"
      },
      "id": "aIODnNdqHijC",
      "execution_count": null,
      "outputs": []
    },
    {
      "cell_type": "code",
      "source": [
        "total=classification_barrios/n\n",
        "\n",
        "\n",
        "ordenado=total\n",
        "ordenado=sorted(ordenado,reverse=True)\n",
        "print(ordenado)"
      ],
      "metadata": {
        "colab": {
          "base_uri": "https://localhost:8080/"
        },
        "id": "Kv-8I7WNL3Bn",
        "outputId": "bb47a6d1-8941-43ff-fe2e-c5d917e31376"
      },
      "id": "Kv-8I7WNL3Bn",
      "execution_count": null,
      "outputs": [
        {
          "output_type": "stream",
          "name": "stdout",
          "text": [
            "[0.75, 0.75, 0.75, 0.75, 0.71875, 0.713855421686747, 0.7, 0.6979768786127167, 0.6964285714285714, 0.6785714285714286, 0.6742424242424242, 0.6730769230769231, 0.672077922077922, 0.668918918918919, 0.6666666666666666, 0.6640316205533597, 0.6566523605150214, 0.6536697247706422, 0.653188775510204, 0.6525974025974026, 0.65, 0.65, 0.6484304932735426, 0.6470588235294118, 0.6470588235294118, 0.6457142857142857, 0.6454802259887006, 0.6449044585987261, 0.6428571428571429, 0.6423611111111112, 0.6403061224489796, 0.6382042253521126, 0.6376146788990825, 0.6363636363636364, 0.6357421875, 0.6345108695652174, 0.628323108384458, 0.6274703557312253, 0.6265822784810127, 0.6257009345794392, 0.625, 0.625, 0.625, 0.625, 0.625, 0.6247464503042597, 0.6242166517457476, 0.6239935587761675, 0.621900826446281, 0.6213235294117647, 0.6198224852071006, 0.6197552447552448, 0.6190998902305159, 0.6179604261796042, 0.6176307007786429, 0.6160714285714286, 0.6142857142857143, 0.6092927012791572, 0.6071428571428571, 0.607051282051282, 0.6041666666666666, 0.6019444444444444, 0.6012569832402235, 0.6, 0.6, 0.5972222222222222, 0.5972222222222222, 0.5969267139479906, 0.5961538461538461, 0.5952380952380952, 0.5938542825361512, 0.5932165318957772, 0.5930936995153473, 0.593042071197411, 0.5919117647058824, 0.5917132216014898, 0.5909090909090909, 0.5901639344262295, 0.5892857142857143, 0.5873015873015873, 0.5860323886639676, 0.5833333333333334, 0.5833333333333334, 0.58125, 0.5789473684210527, 0.578125, 0.5769230769230769, 0.5766666666666667, 0.5764462809917356, 0.5763888888888888, 0.576063829787234, 0.575, 0.575, 0.5748945147679325, 0.5734463276836158, 0.5731132075471698, 0.5714285714285714, 0.5691489361702128, 0.5681818181818182, 0.5641025641025641, 0.5602655771195098, 0.5597826086956522, 0.5571428571428572, 0.5541666666666667, 0.5535714285714286, 0.5524193548387096, 0.55, 0.549645390070922, 0.5476190476190477, 0.5416666666666666, 0.5416666666666666, 0.5416666666666666, 0.5416666666666666, 0.5394736842105263, 0.5389784946236559, 0.5384615384615384, 0.5365853658536586, 0.5363636363636364, 0.5362903225806451, 0.5357142857142857, 0.5357142857142857, 0.5344827586206896, 0.534037558685446, 0.53125, 0.53125, 0.53125, 0.53, 0.5296610169491526, 0.5277777777777778, 0.527027027027027, 0.5267857142857143, 0.5263157894736842, 0.5258899676375405, 0.5257352941176471, 0.525, 0.5241935483870968, 0.5227272727272727, 0.5223214285714286, 0.5222222222222223, 0.5208333333333334, 0.5208333333333334, 0.5185185185185185, 0.5133928571428571, 0.5108247422680412, 0.5066666666666667, 0.5011467889908257, 0.5005, 0.5, 0.5, 0.5, 0.5, 0.5, 0.5, 0.5, 0.5, 0.5, 0.5, 0.5, 0.5, 0.5, 0.5, 0.5, 0.5, 0.49567099567099565, 0.4935064935064935, 0.4895833333333333, 0.48717948717948717, 0.4861111111111111, 0.484375, 0.4819277108433735, 0.4818181818181818, 0.4787234042553192, 0.475, 0.4722222222222222, 0.4715909090909091, 0.47058823529411764, 0.47058823529411764, 0.47058823529411764, 0.47058823529411764, 0.47058823529411764, 0.46875, 0.4666666666666667, 0.4642857142857143, 0.46153846153846156, 0.4609375, 0.4596774193548387, 0.4557291666666667, 0.4537037037037037, 0.45, 0.44047619047619047, 0.4375, 0.4375, 0.4375, 0.4375, 0.4336734693877551, 0.43125, 0.42857142857142855, 0.4166666666666667, 0.4166666666666667, 0.4166666666666667, 0.4166666666666667, 0.4166666666666667, 0.4166666666666667, 0.4140625, 0.4107142857142857, 0.3942307692307692, 0.39285714285714285, 0.375, 0.375, 0.375, 0.3611111111111111, 0.35714285714285715, 0.35526315789473684, 0.3409090909090909, 0.32142857142857145, 0.3125, 0.28846153846153844, 0.25, 0.25, 0.25, 0.25]\n"
          ]
        }
      ]
    },
    {
      "cell_type": "code",
      "source": [
        "matriz=np.append(barrios,total,axis=0)"
      ],
      "metadata": {
        "id": "GP_XvlupYZWz"
      },
      "id": "GP_XvlupYZWz",
      "execution_count": null,
      "outputs": []
    },
    {
      "cell_type": "code",
      "source": [
        "\n",
        "ordenado=matriz.reshape(2,221)\n",
        "ordenado=ordenado.transpose()\n"
      ],
      "metadata": {
        "id": "1iUIXrbcNxGo"
      },
      "id": "1iUIXrbcNxGo",
      "execution_count": null,
      "outputs": []
    },
    {
      "cell_type": "code",
      "source": [
        "orden=sorted(ordenado, key=lambda x:x[1],reverse=True)"
      ],
      "metadata": {
        "id": "IXkSnxqXclKG"
      },
      "id": "IXkSnxqXclKG",
      "execution_count": null,
      "outputs": []
    },
    {
      "cell_type": "code",
      "source": [
        "print(orden)"
      ],
      "metadata": {
        "colab": {
          "base_uri": "https://localhost:8080/"
        },
        "id": "MictIMuJeT9a",
        "outputId": "05a60903-5dbf-40a8-9420-4d315af79e7b"
      },
      "id": "MictIMuJeT9a",
      "execution_count": null,
      "outputs": [
        {
          "output_type": "stream",
          "name": "stdout",
          "text": [
            "[array(['Bay Terrace, Staten Island', 0.75], dtype=object), array(['New Dorp', 0.75], dtype=object), array(['Rossville', 0.75], dtype=object), array(['Woodrow', 0.75], dtype=object), array(['New Springville', 0.71875], dtype=object), array(['Downtown Brooklyn', 0.713855421686747], dtype=object), array(['Little Neck', 0.7], dtype=object), array(['Morningside Heights', 0.6979768786127167], dtype=object), array(['Navy Yard', 0.6964285714285714], dtype=object), array(['Columbia St', 0.6785714285714286], dtype=object), array(['Cobble Hill', 0.6742424242424242], dtype=object), array(['Civic Center', 0.6730769230769231], dtype=object), array(['Brooklyn Heights', 0.672077922077922], dtype=object), array(['Stuyvesant Town', 0.668918918918919], dtype=object), array(['Breezy Point', 0.6666666666666666], dtype=object), array(['Nolita', 0.6640316205533597], dtype=object), array(['Carroll Gardens', 0.6566523605150214], dtype=object), array(['East Village', 0.6536697247706422], dtype=object), array(['Williamsburg', 0.653188775510204], dtype=object), array(['Roosevelt Island', 0.6525974025974026], dtype=object), array(['Emerson Hill', 0.65], dtype=object), array(['Melrose', 0.65], dtype=object), array(['Greenpoint', 0.6484304932735426], dtype=object), array(['Prospect Heights', 0.6470588235294118], dtype=object), array(['Vinegar Hill', 0.6470588235294118], dtype=object), array(['Kensington', 0.6457142857142857], dtype=object), array(['Boerum Hill', 0.6454802259887006], dtype=object), array(['Windsor Terrace', 0.6449044585987261], dtype=object), array(['Sea Gate', 0.6428571428571429], dtype=object), array(['Two Bridges', 0.6423611111111112], dtype=object), array(['Greenwich Village', 0.6403061224489796], dtype=object), array(['South Slope', 0.6382042253521126], dtype=object), array(['Midwood', 0.6376146788990825], dtype=object), array(['Woodlawn', 0.6363636363636364], dtype=object), array(['West Village', 0.6357421875], dtype=object), array(['Chinatown', 0.6345108695652174], dtype=object), array(['Fort Greene', 0.628323108384458], dtype=object), array(['Park Slope', 0.6274703557312253], dtype=object), array(['Red Hook', 0.6265822784810127], dtype=object), array(['Prospect-Lefferts Gardens', 0.6257009345794392], dtype=object), array(['Arden Heights', 0.625], dtype=object), array(['NoHo', 0.625], dtype=object), array([\"Prince's Bay\", 0.625], dtype=object), array(['Todt Hill', 0.625], dtype=object), array(['Westerleigh', 0.625], dtype=object), array(['Bushwick', 0.6247464503042597], dtype=object), array(['East Harlem', 0.6242166517457476], dtype=object), array(['Flatbush', 0.6239935587761675], dtype=object), array(['Little Italy', 0.621900826446281], dtype=object), array(['Crown Heights', 0.6213235294117647], dtype=object), array(['Gramercy', 0.6198224852071006], dtype=object), array(['Clinton Hill', 0.6197552447552448], dtype=object), array(['Lower East Side', 0.6190998902305159], dtype=object), array(['Upper West Side', 0.6179604261796042], dtype=object), array(['Washington Heights', 0.6176307007786429], dtype=object), array(['Inwood', 0.6160714285714286], dtype=object), array(['Battery Park City', 0.6142857142857143], dtype=object), array(['Harlem', 0.6092927012791572], dtype=object), array(['Shore Acres', 0.6071428571428571], dtype=object), array(['Sunset Park', 0.607051282051282], dtype=object), array(['Marble Hill', 0.6041666666666666], dtype=object), array(['Astoria', 0.6019444444444444], dtype=object), array(['SoHo', 0.6012569832402235], dtype=object), array(['Morris Park', 0.6], dtype=object), array(['New Brighton', 0.6], dtype=object), array(['City Island', 0.5972222222222222], dtype=object), array(['DUMBO', 0.5972222222222222], dtype=object), array(['Ridgewood', 0.5969267139479906], dtype=object), array(['Kew Gardens Hills', 0.5961538461538461], dtype=object), array(['University Heights', 0.5952380952380952], dtype=object), array(['Upper East Side', 0.5938542825361512], dtype=object), array(['Chelsea', 0.5932165318957772], dtype=object), array(['Bedford-Stuyvesant', 0.5930936995153473], dtype=object), array(['Ditmars Steinway', 0.593042071197411], dtype=object), array(['Gravesend', 0.5919117647058824], dtype=object), array(['Long Island City', 0.5917132216014898], dtype=object), array(['Tremont', 0.5909090909090909], dtype=object), array(['Brownsville', 0.5901639344262295], dtype=object), array(['Hollis', 0.5892857142857143], dtype=object), array(['Fordham', 0.5873015873015873], dtype=object), array(['Gowanus', 0.5860323886639676], dtype=object), array(['Morrisania', 0.5833333333333334], dtype=object), array(['Soundview', 0.5833333333333334], dtype=object), array(['Flatiron District', 0.58125], dtype=object), array(['College Point', 0.5789473684210527], dtype=object), array(['Fresh Meadows', 0.578125], dtype=object), array(['Cambria Heights', 0.5769230769230769], dtype=object), array(['Bensonhurst', 0.5766666666666667], dtype=object), array(['Sunnyside', 0.5764462809917356], dtype=object), array(['Forest Hills', 0.5763888888888888], dtype=object), array(['Kips Bay', 0.576063829787234], dtype=object), array(['Bergen Beach', 0.575], dtype=object), array(['Great Kills', 0.575], dtype=object), array(['Elmhurst', 0.5748945147679325], dtype=object), array(['Tribeca', 0.5734463276836158], dtype=object), array(['Rego Park', 0.5731132075471698], dtype=object), array(['Grymes Hill', 0.5714285714285714], dtype=object), array(['Woodside', 0.5691489361702128], dtype=object), array(['Van Nest', 0.5681818181818182], dtype=object), array(['Parkchester', 0.5641025641025641], dtype=object), array([\"Hell's Kitchen\", 0.5602655771195098], dtype=object), array(['Port Morris', 0.5597826086956522], dtype=object), array(['Kingsbridge', 0.5571428571428572], dtype=object), array(['Mott Haven', 0.5541666666666667], dtype=object), array(['Pelham Gardens', 0.5535714285714286], dtype=object), array(['Ozone Park', 0.5524193548387096], dtype=object), array(['Mount Hope', 0.55], dtype=object), array(['Bay Ridge', 0.549645390070922], dtype=object), array(['Allerton', 0.5476190476190477], dtype=object), array([\"Bull's Head\", 0.5416666666666666], dtype=object), array(['Fieldston', 0.5416666666666666], dtype=object), array(['Glendale', 0.5416666666666666], dtype=object), array(['Mount Eden', 0.5416666666666666], dtype=object), array(['Bronxdale', 0.5394736842105263], dtype=object), array(['Jackson Heights', 0.5389784946236559], dtype=object), array(['Schuylerville', 0.5384615384615384], dtype=object), array(['Sheepshead Bay', 0.5365853658536586], dtype=object), array(['Fort Hamilton', 0.5363636363636364], dtype=object), array(['Longwood', 0.5362903225806451], dtype=object), array(['Baychester', 0.5357142857142857], dtype=object), array(['Dongan Hills', 0.5357142857142857], dtype=object), array(['Far Rockaway', 0.5344827586206896], dtype=object), array(['Flushing', 0.534037558685446], dtype=object), array(['Concourse Village', 0.53125], dtype=object), array(['Jamaica Hills', 0.53125], dtype=object), array(['Throgs Neck', 0.53125], dtype=object), array(['Concourse', 0.53], dtype=object), array(['Rosedale', 0.5296610169491526], dtype=object), array(['Castle Hill', 0.5277777777777778], dtype=object), array(['East Elmhurst', 0.527027027027027], dtype=object), array(['Claremont Village', 0.5267857142857143], dtype=object), array(['Jamaica Estates', 0.5263157894736842], dtype=object), array(['Midtown', 0.5258899676375405], dtype=object), array(['Borough Park', 0.5257352941176471], dtype=object), array(['North Riverdale', 0.525], dtype=object), array(['Norwood', 0.5241935483870968], dtype=object), array(['Whitestone', 0.5227272727272727], dtype=object), array(['Rockaway Beach', 0.5223214285714286], dtype=object), array(['Cypress Hills', 0.5222222222222223], dtype=object), array(['Dyker Heights', 0.5208333333333334], dtype=object), array(['Queens Village', 0.5208333333333334], dtype=object), array(['Highbridge', 0.5185185185185185], dtype=object), array(['Briarwood', 0.5133928571428571], dtype=object), array(['Murray Hill', 0.5108247422680412], dtype=object), array(['Brighton Beach', 0.5066666666666667], dtype=object), array(['East New York', 0.5011467889908257], dtype=object), array(['East Flatbush', 0.5005], dtype=object), array(['Belle Harbor', 0.5], dtype=object), array(['Castleton Corners', 0.5], dtype=object), array(['Coney Island', 0.5], dtype=object), array(['East Morrisania', 0.5], dtype=object), array(['Graniteville', 0.5], dtype=object), array(['Holliswood', 0.5], dtype=object), array(['Howland Hook', 0.5], dtype=object), array(['Lighthouse Hill', 0.5], dtype=object), array(['Mariners Harbor', 0.5], dtype=object), array(['New Dorp Beach', 0.5], dtype=object), array(['Oakwood', 0.5], dtype=object), array(['Olinville', 0.5], dtype=object), array(['Riverdale', 0.5], dtype=object), array(['Silver Lake', 0.5], dtype=object), array(['South Beach', 0.5], dtype=object), array(['Westchester Square', 0.5], dtype=object), array(['Jamaica', 0.49567099567099565], dtype=object), array(['Arverne', 0.4935064935064935], dtype=object), array(['Belmont', 0.4895833333333333], dtype=object), array(['Bayside', 0.48717948717948717], dtype=object), array(['Laurelton', 0.4861111111111111], dtype=object), array(['St. George', 0.484375], dtype=object), array(['Flatlands', 0.4819277108433735], dtype=object), array(['Maspeth', 0.4818181818181818], dtype=object), array(['Richmond Hill', 0.4787234042553192], dtype=object), array(['Wakefield', 0.475], dtype=object), array(['Port Richmond', 0.4722222222222222], dtype=object), array(['Woodhaven', 0.4715909090909091], dtype=object), array(['Bath Beach', 0.47058823529411764], dtype=object), array(['Bayswater', 0.47058823529411764], dtype=object), array(['Morris Heights', 0.47058823529411764], dtype=object), array(['Pelham Bay', 0.47058823529411764], dtype=object), array(['Springfield Gardens', 0.47058823529411764], dtype=object), array(['Financial District', 0.46875], dtype=object), array(['Clifton', 0.4666666666666667], dtype=object), array(['Rosebank', 0.4642857142857143], dtype=object), array(['Edenwald', 0.46153846153846156], dtype=object), array(['Kew Gardens', 0.4609375], dtype=object), array(['Middle Village', 0.4596774193548387], dtype=object), array(['Theater District', 0.4557291666666667], dtype=object), array(['Stapleton', 0.4537037037037037], dtype=object), array(['Howard Beach', 0.45], dtype=object), array(['Tompkinsville', 0.44047619047619047], dtype=object), array(['Douglaston', 0.4375], dtype=object), array(['Manhattan Beach', 0.4375], dtype=object), array(['South Ozone Park', 0.4375], dtype=object), array(['St. Albans', 0.4375], dtype=object), array(['Canarsie', 0.4336734693877551], dtype=object), array(['Williamsbridge', 0.43125], dtype=object), array(['Clason Point', 0.42857142857142855], dtype=object), array(['Bay Terrace', 0.4166666666666667], dtype=object), array(['Eltingville', 0.4166666666666667], dtype=object), array(['Huguenot', 0.4166666666666667], dtype=object), array(['Hunts Point', 0.4166666666666667], dtype=object), array(['Midland Beach', 0.4166666666666667], dtype=object), array(['Neponsit', 0.4166666666666667], dtype=object), array(['Corona', 0.4140625], dtype=object), array(['Bellerose', 0.4107142857142857], dtype=object), array(['Concord', 0.3942307692307692], dtype=object), array(['Arrochar', 0.39285714285714285], dtype=object), array(['Grant City', 0.375], dtype=object), array(['Spuyten Duyvil', 0.375], dtype=object), array(['West Farms', 0.375], dtype=object), array(['West Brighton', 0.3611111111111111], dtype=object), array(['Unionport', 0.35714285714285715], dtype=object), array(['Randall Manor', 0.35526315789473684], dtype=object), array(['Edgemere', 0.3409090909090909], dtype=object), array(['Tottenville', 0.32142857142857145], dtype=object), array(['Mill Basin', 0.3125], dtype=object), array(['Eastchester', 0.28846153846153844], dtype=object), array(['Co-op City', 0.25], dtype=object), array(['Fort Wadsworth', 0.25], dtype=object), array(['Richmondtown', 0.25], dtype=object), array(['Willowbrook', 0.25], dtype=object)]\n"
          ]
        }
      ]
    },
    {
      "cell_type": "code",
      "source": [
        "pos=0\n",
        "for i in range (len(orden)):\n",
        "  if orden[i][0]=='Williamsburg':\n",
        "    pos=i;\n"
      ],
      "metadata": {
        "colab": {
          "base_uri": "https://localhost:8080/"
        },
        "id": "XucqP9oce14D",
        "outputId": "d9e2b126-b4ca-4462-b0df-44d73e7a0328"
      },
      "id": "XucqP9oce14D",
      "execution_count": null,
      "outputs": [
        {
          "output_type": "execute_result",
          "data": {
            "text/plain": [
              "18"
            ]
          },
          "metadata": {},
          "execution_count": 71
        }
      ]
    },
    {
      "cell_type": "markdown",
      "source": [
        "Podemos concluir que el Barrio está en la posición 18 mejor valorado respecto a los 221 barrios. "
      ],
      "metadata": {
        "id": "3Y-EL1kXg4b0"
      },
      "id": "3Y-EL1kXg4b0"
    },
    {
      "cell_type": "markdown",
      "source": [
        "##Evaluación\n"
      ],
      "metadata": {
        "id": "vUrohiUese1R"
      },
      "id": "vUrohiUese1R"
    },
    {
      "cell_type": "markdown",
      "source": [],
      "metadata": {
        "id": "-6pLUvsVdm_f"
      },
      "id": "-6pLUvsVdm_f"
    },
    {
      "cell_type": "markdown",
      "source": [
        "##Despliegue"
      ],
      "metadata": {
        "id": "gj1dxH0usgFA"
      },
      "id": "gj1dxH0usgFA"
    },
    {
      "cell_type": "markdown",
      "source": [
        "#EJERCICIO 2"
      ],
      "metadata": {
        "id": "FXEJSzskl9bL"
      },
      "id": "FXEJSzskl9bL"
    },
    {
      "cell_type": "markdown",
      "source": [
        " Explica visualmente como se distribuyen los 5 barrios más populares (esto serán aquellos cuyos apartamentos estén más solicitados en números absolutos. Para ello utiliza un diagrama de burbuja donde el eje de las X indica el barrio y el eje Y la calidad de los apartamentos. Usa todos los diagramas que necesites para llegar a esta conclusión final."
      ],
      "metadata": {
        "id": "2LJzHbXxtpt4"
      },
      "id": "2LJzHbXxtpt4"
    },
    {
      "cell_type": "code",
      "source": [
        "#Bubble Plot. The size of points changes based on a third variable\n",
        "# x = barrio (ya tenemos una variable de los barrios)\n",
        "# y = calidad de los apartamentos (classification)\n",
        "# s = disponibilidad\n",
        "x=barrios\n",
        "plt.scatter(x,y,s)"
      ],
      "metadata": {
        "id": "lbzqM0lzsEdV"
      },
      "id": "lbzqM0lzsEdV",
      "execution_count": null,
      "outputs": []
    },
    {
      "cell_type": "markdown",
      "source": [
        "#EJERCICIO 3"
      ],
      "metadata": {
        "id": "hzYraWnUmAVI"
      },
      "id": "hzYraWnUmAVI"
    },
    {
      "cell_type": "markdown",
      "source": [
        "Una vez obtenida la información del apartado anterior, queremos tratar de entender las diferencias de precio entre alquilar un apartamento entero y una habitación privada. Usa los diagramas de cajas donde cada uno de los 5 barrios más populares está representado por una caja y haz una interpretación de los resultados."
      ],
      "metadata": {
        "id": "eJYt8qBctuGf"
      },
      "id": "eJYt8qBctuGf"
    },
    {
      "cell_type": "markdown",
      "source": [
        "#EJERCICIO 4"
      ],
      "metadata": {
        "id": "rbNsTsHDmDiH"
      },
      "id": "rbNsTsHDmDiH"
    },
    {
      "cell_type": "markdown",
      "source": [
        "Por último, se intuye que la tendencia a dejar reseñas en las apps que prestan servicios, ha aumentado en los últimos años. Decide que diagrama es más útil para este caso. Dibújalo y realiza una interpretación del mismo. Tomaremos la fecha de la última reseña como el dato útil para realizar dicho caso."
      ],
      "metadata": {
        "id": "9BsU2eb2txZt"
      },
      "id": "9BsU2eb2txZt"
    }
  ],
  "metadata": {
    "kernelspec": {
      "display_name": "Python 3 (ipykernel)",
      "language": "python",
      "name": "python3"
    },
    "language_info": {
      "codemirror_mode": {
        "name": "ipython",
        "version": 3
      },
      "file_extension": ".py",
      "mimetype": "text/x-python",
      "name": "python",
      "nbconvert_exporter": "python",
      "pygments_lexer": "ipython3",
      "version": "3.9.13"
    },
    "colab": {
      "provenance": []
    },
    "accelerator": "GPU",
    "gpuClass": "standard"
  },
  "nbformat": 4,
  "nbformat_minor": 5
}