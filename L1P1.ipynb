{
  "cells": [
    {
      "cell_type": "markdown",
      "source": [
        "PILAR ARIAS, YEDRA MARTÍN, PATRICIA MEDIAVILLA, AMAYA SARASA\n",
        "\n",
        "<GRUPO 9>"
      ],
      "metadata": {
        "id": "8pT2SbACjlE2"
      },
      "id": "8pT2SbACjlE2"
    },
    {
      "cell_type": "markdown",
      "source": [
        "#INTRODUCCIÓN"
      ],
      "metadata": {
        "id": "s8YerDrYkdxK"
      },
      "id": "s8YerDrYkdxK"
    },
    {
      "cell_type": "markdown",
      "source": [
        "Esta es la primera práctica del primer laboratorio. Dada una base de datos en formato .csv, se nos pide contestar a una serie de cuestiones. Para ello, lo primero que debemos hacer es cargar y leer la base de datos:"
      ],
      "metadata": {
        "id": "r8GDGWfBlHe5"
      },
      "id": "r8GDGWfBlHe5"
    },
    {
      "cell_type": "code",
      "execution_count": 98,
      "id": "a0bb4051",
      "metadata": {
        "id": "a0bb4051",
        "outputId": "b0e0cb35-8530-4766-fa7a-f50b5925a5ef",
        "colab": {
          "base_uri": "https://localhost:8080/",
          "height": 447
        }
      },
      "outputs": [
        {
          "output_type": "execute_result",
          "data": {
            "text/plain": [
              "     id                                              name  host_id  \\\n",
              "0  2539                Clean & quiet apt home by the park     2787   \n",
              "1  2595                             Skylit Midtown Castle     2845   \n",
              "2  3647               THE VILLAGE OF HARLEM....NEW YORK !     4632   \n",
              "3  3831                   Cozy Entire Floor of Brownstone     4869   \n",
              "4  5022  Entire Apt: Spacious Studio/Loft by central park     7192   \n",
              "\n",
              "     host_name neighbourhood_group neighbourhood  latitude  longitude  \\\n",
              "0         John            Brooklyn    Kensington  40.64749  -73.97237   \n",
              "1     Jennifer           Manhattan       Midtown  40.75362  -73.98377   \n",
              "2    Elisabeth           Manhattan        Harlem  40.80902  -73.94190   \n",
              "3  LisaRoxanne            Brooklyn  Clinton Hill  40.68514  -73.95976   \n",
              "4        Laura           Manhattan   East Harlem  40.79851  -73.94399   \n",
              "\n",
              "         room_type  price  minimum_nights  number_of_reviews last_review  \\\n",
              "0     Private room  149.0             1.0                9.0  2018-10-19   \n",
              "1  Entire home/apt  225.0             1.0               45.0  2019-05-21   \n",
              "2     Private room  150.0             3.0                0.0         NaN   \n",
              "3  Entire home/apt   89.0             1.0              270.0  2019-07-05   \n",
              "4  Entire home/apt   80.0            10.0                9.0  2018-11-19   \n",
              "\n",
              "   reviews_per_month  calculated_host_listings_count  availability_365  \n",
              "0               0.21                             6.0             365.0  \n",
              "1               0.38                             2.0             355.0  \n",
              "2                NaN                             1.0             365.0  \n",
              "3               4.64                             1.0             194.0  \n",
              "4               0.10                             1.0               0.0  "
            ],
            "text/html": [
              "\n",
              "  <div id=\"df-51b38521-8726-4c33-8eb8-4a5b84b6e6a7\">\n",
              "    <div class=\"colab-df-container\">\n",
              "      <div>\n",
              "<style scoped>\n",
              "    .dataframe tbody tr th:only-of-type {\n",
              "        vertical-align: middle;\n",
              "    }\n",
              "\n",
              "    .dataframe tbody tr th {\n",
              "        vertical-align: top;\n",
              "    }\n",
              "\n",
              "    .dataframe thead th {\n",
              "        text-align: right;\n",
              "    }\n",
              "</style>\n",
              "<table border=\"1\" class=\"dataframe\">\n",
              "  <thead>\n",
              "    <tr style=\"text-align: right;\">\n",
              "      <th></th>\n",
              "      <th>id</th>\n",
              "      <th>name</th>\n",
              "      <th>host_id</th>\n",
              "      <th>host_name</th>\n",
              "      <th>neighbourhood_group</th>\n",
              "      <th>neighbourhood</th>\n",
              "      <th>latitude</th>\n",
              "      <th>longitude</th>\n",
              "      <th>room_type</th>\n",
              "      <th>price</th>\n",
              "      <th>minimum_nights</th>\n",
              "      <th>number_of_reviews</th>\n",
              "      <th>last_review</th>\n",
              "      <th>reviews_per_month</th>\n",
              "      <th>calculated_host_listings_count</th>\n",
              "      <th>availability_365</th>\n",
              "    </tr>\n",
              "  </thead>\n",
              "  <tbody>\n",
              "    <tr>\n",
              "      <th>0</th>\n",
              "      <td>2539</td>\n",
              "      <td>Clean &amp; quiet apt home by the park</td>\n",
              "      <td>2787</td>\n",
              "      <td>John</td>\n",
              "      <td>Brooklyn</td>\n",
              "      <td>Kensington</td>\n",
              "      <td>40.64749</td>\n",
              "      <td>-73.97237</td>\n",
              "      <td>Private room</td>\n",
              "      <td>149.0</td>\n",
              "      <td>1.0</td>\n",
              "      <td>9.0</td>\n",
              "      <td>2018-10-19</td>\n",
              "      <td>0.21</td>\n",
              "      <td>6.0</td>\n",
              "      <td>365.0</td>\n",
              "    </tr>\n",
              "    <tr>\n",
              "      <th>1</th>\n",
              "      <td>2595</td>\n",
              "      <td>Skylit Midtown Castle</td>\n",
              "      <td>2845</td>\n",
              "      <td>Jennifer</td>\n",
              "      <td>Manhattan</td>\n",
              "      <td>Midtown</td>\n",
              "      <td>40.75362</td>\n",
              "      <td>-73.98377</td>\n",
              "      <td>Entire home/apt</td>\n",
              "      <td>225.0</td>\n",
              "      <td>1.0</td>\n",
              "      <td>45.0</td>\n",
              "      <td>2019-05-21</td>\n",
              "      <td>0.38</td>\n",
              "      <td>2.0</td>\n",
              "      <td>355.0</td>\n",
              "    </tr>\n",
              "    <tr>\n",
              "      <th>2</th>\n",
              "      <td>3647</td>\n",
              "      <td>THE VILLAGE OF HARLEM....NEW YORK !</td>\n",
              "      <td>4632</td>\n",
              "      <td>Elisabeth</td>\n",
              "      <td>Manhattan</td>\n",
              "      <td>Harlem</td>\n",
              "      <td>40.80902</td>\n",
              "      <td>-73.94190</td>\n",
              "      <td>Private room</td>\n",
              "      <td>150.0</td>\n",
              "      <td>3.0</td>\n",
              "      <td>0.0</td>\n",
              "      <td>NaN</td>\n",
              "      <td>NaN</td>\n",
              "      <td>1.0</td>\n",
              "      <td>365.0</td>\n",
              "    </tr>\n",
              "    <tr>\n",
              "      <th>3</th>\n",
              "      <td>3831</td>\n",
              "      <td>Cozy Entire Floor of Brownstone</td>\n",
              "      <td>4869</td>\n",
              "      <td>LisaRoxanne</td>\n",
              "      <td>Brooklyn</td>\n",
              "      <td>Clinton Hill</td>\n",
              "      <td>40.68514</td>\n",
              "      <td>-73.95976</td>\n",
              "      <td>Entire home/apt</td>\n",
              "      <td>89.0</td>\n",
              "      <td>1.0</td>\n",
              "      <td>270.0</td>\n",
              "      <td>2019-07-05</td>\n",
              "      <td>4.64</td>\n",
              "      <td>1.0</td>\n",
              "      <td>194.0</td>\n",
              "    </tr>\n",
              "    <tr>\n",
              "      <th>4</th>\n",
              "      <td>5022</td>\n",
              "      <td>Entire Apt: Spacious Studio/Loft by central park</td>\n",
              "      <td>7192</td>\n",
              "      <td>Laura</td>\n",
              "      <td>Manhattan</td>\n",
              "      <td>East Harlem</td>\n",
              "      <td>40.79851</td>\n",
              "      <td>-73.94399</td>\n",
              "      <td>Entire home/apt</td>\n",
              "      <td>80.0</td>\n",
              "      <td>10.0</td>\n",
              "      <td>9.0</td>\n",
              "      <td>2018-11-19</td>\n",
              "      <td>0.10</td>\n",
              "      <td>1.0</td>\n",
              "      <td>0.0</td>\n",
              "    </tr>\n",
              "  </tbody>\n",
              "</table>\n",
              "</div>\n",
              "      <button class=\"colab-df-convert\" onclick=\"convertToInteractive('df-51b38521-8726-4c33-8eb8-4a5b84b6e6a7')\"\n",
              "              title=\"Convert this dataframe to an interactive table.\"\n",
              "              style=\"display:none;\">\n",
              "        \n",
              "  <svg xmlns=\"http://www.w3.org/2000/svg\" height=\"24px\"viewBox=\"0 0 24 24\"\n",
              "       width=\"24px\">\n",
              "    <path d=\"M0 0h24v24H0V0z\" fill=\"none\"/>\n",
              "    <path d=\"M18.56 5.44l.94 2.06.94-2.06 2.06-.94-2.06-.94-.94-2.06-.94 2.06-2.06.94zm-11 1L8.5 8.5l.94-2.06 2.06-.94-2.06-.94L8.5 2.5l-.94 2.06-2.06.94zm10 10l.94 2.06.94-2.06 2.06-.94-2.06-.94-.94-2.06-.94 2.06-2.06.94z\"/><path d=\"M17.41 7.96l-1.37-1.37c-.4-.4-.92-.59-1.43-.59-.52 0-1.04.2-1.43.59L10.3 9.45l-7.72 7.72c-.78.78-.78 2.05 0 2.83L4 21.41c.39.39.9.59 1.41.59.51 0 1.02-.2 1.41-.59l7.78-7.78 2.81-2.81c.8-.78.8-2.07 0-2.86zM5.41 20L4 18.59l7.72-7.72 1.47 1.35L5.41 20z\"/>\n",
              "  </svg>\n",
              "      </button>\n",
              "      \n",
              "  <style>\n",
              "    .colab-df-container {\n",
              "      display:flex;\n",
              "      flex-wrap:wrap;\n",
              "      gap: 12px;\n",
              "    }\n",
              "\n",
              "    .colab-df-convert {\n",
              "      background-color: #E8F0FE;\n",
              "      border: none;\n",
              "      border-radius: 50%;\n",
              "      cursor: pointer;\n",
              "      display: none;\n",
              "      fill: #1967D2;\n",
              "      height: 32px;\n",
              "      padding: 0 0 0 0;\n",
              "      width: 32px;\n",
              "    }\n",
              "\n",
              "    .colab-df-convert:hover {\n",
              "      background-color: #E2EBFA;\n",
              "      box-shadow: 0px 1px 2px rgba(60, 64, 67, 0.3), 0px 1px 3px 1px rgba(60, 64, 67, 0.15);\n",
              "      fill: #174EA6;\n",
              "    }\n",
              "\n",
              "    [theme=dark] .colab-df-convert {\n",
              "      background-color: #3B4455;\n",
              "      fill: #D2E3FC;\n",
              "    }\n",
              "\n",
              "    [theme=dark] .colab-df-convert:hover {\n",
              "      background-color: #434B5C;\n",
              "      box-shadow: 0px 1px 3px 1px rgba(0, 0, 0, 0.15);\n",
              "      filter: drop-shadow(0px 1px 2px rgba(0, 0, 0, 0.3));\n",
              "      fill: #FFFFFF;\n",
              "    }\n",
              "  </style>\n",
              "\n",
              "      <script>\n",
              "        const buttonEl =\n",
              "          document.querySelector('#df-51b38521-8726-4c33-8eb8-4a5b84b6e6a7 button.colab-df-convert');\n",
              "        buttonEl.style.display =\n",
              "          google.colab.kernel.accessAllowed ? 'block' : 'none';\n",
              "\n",
              "        async function convertToInteractive(key) {\n",
              "          const element = document.querySelector('#df-51b38521-8726-4c33-8eb8-4a5b84b6e6a7');\n",
              "          const dataTable =\n",
              "            await google.colab.kernel.invokeFunction('convertToInteractive',\n",
              "                                                     [key], {});\n",
              "          if (!dataTable) return;\n",
              "\n",
              "          const docLinkHtml = 'Like what you see? Visit the ' +\n",
              "            '<a target=\"_blank\" href=https://colab.research.google.com/notebooks/data_table.ipynb>data table notebook</a>'\n",
              "            + ' to learn more about interactive tables.';\n",
              "          element.innerHTML = '';\n",
              "          dataTable['output_type'] = 'display_data';\n",
              "          await google.colab.output.renderOutput(dataTable, element);\n",
              "          const docLink = document.createElement('div');\n",
              "          docLink.innerHTML = docLinkHtml;\n",
              "          element.appendChild(docLink);\n",
              "        }\n",
              "      </script>\n",
              "    </div>\n",
              "  </div>\n",
              "  "
            ]
          },
          "metadata": {},
          "execution_count": 98
        }
      ],
      "source": [
        "#importamos la base de datos\n",
        "import pandas as pd #pandas\n",
        "df=pd.read_csv('airbnb.csv',encoding='latin-1')\n",
        "df.head()"
      ]
    },
    {
      "cell_type": "markdown",
      "source": [
        "Se observa que se ha cargado de manera correcta. "
      ],
      "metadata": {
        "id": "FmdArPK4mfGK"
      },
      "id": "FmdArPK4mfGK"
    },
    {
      "cell_type": "markdown",
      "source": [
        "Importamos así también todas las librerías necesarias para ejecutar esta práctica. "
      ],
      "metadata": {
        "id": "ocoXyf9Oluyf"
      },
      "id": "ocoXyf9Oluyf"
    },
    {
      "cell_type": "code",
      "source": [
        "#importamos todas las librerías necesarias: \n",
        "import sklearn #scikit-learn\n",
        "import matplotlib.pyplot as plt #gráfica Matplotlib\n",
        "import numpy as np #NumPy"
      ],
      "metadata": {
        "id": "s8pAtTFxtCJW"
      },
      "id": "s8pAtTFxtCJW",
      "execution_count": 99,
      "outputs": []
    },
    {
      "cell_type": "markdown",
      "source": [
        "Según se ha estudiado en clase, encontramos dos métodos para afrontarlo. Nos decantaremos por CRISP-DM. Las siglas para: CRoss-Industry Standard Process for Data Mining. \n",
        "\n",
        "Es un modelo de proceso de minería de datos que se utiliza en la industria. Es un marco de trabajo que define un proceso estandarizado para llevar a cabo proyectos de minería de datos, desde la definición del problema hasta la implementación y evaluación del resultado. Los seis pasos que componen Crisp-DM son los siguientes:\n",
        "\n",
        "- Comprensión de los negocios y definición del problema: comprender la naturaleza del problema y los objetivos de negocio.\n",
        "\n",
        "- Comprensión de los datos: recopilación inicial, descripción y exploración  de datos.\n",
        "\n",
        "- Preparación de los datos: Selección, limpieza, construcción, integración, formateo de los datos.\n",
        "\n",
        "- Modelado: aplicar las técnicas de minería de datos a los dataset.\n",
        "\n",
        "- Evaluación: determinar si los resultados son útiles a las necesidades del negocio.\n",
        "\n",
        "- Despliegue: explotar utilidad de los modelos, integrándolos en las tareas de toma de decisiones de la organización -> Call to Action. \n"
      ],
      "metadata": {
        "id": "YBQbx7EFmjR6"
      },
      "id": "YBQbx7EFmjR6"
    },
    {
      "cell_type": "markdown",
      "source": [
        "#EJERCICIO 1"
      ],
      "metadata": {
        "id": "35WzfLjxl0OU"
      },
      "id": "35WzfLjxl0OU"
    },
    {
      "cell_type": "markdown",
      "source": [
        "## Comprensión del negocio y definición del problema"
      ],
      "metadata": {
        "id": "XX4P0W_Fozcz"
      },
      "id": "XX4P0W_Fozcz"
    },
    {
      "cell_type": "markdown",
      "source": [
        "El barrio de Williamsburg es uno de los barrios de moda hoy en día. Desde 2005 ha pasado de ser un distrito donde principalmente se encontraban fabricas a acoger una gran cantidad de gente joven y nuevos negocios. ¿Teniendo en cuenta los datos proporcionados que posición en términos de popularidad/calidad se puede decir que ostenta el barrio con respecto a los demás que forma New York?"
      ],
      "metadata": {
        "id": "3S06NbYgmKb-"
      },
      "id": "3S06NbYgmKb-"
    },
    {
      "cell_type": "markdown",
      "source": [
        "Para medir la popularidad/calidad del barrio, tendremos primero en cuenta el número de apartamentos de calidad según los usuarios. Para ello, lo primero será clasificar los apartamentos como “Muy Malos”, “Malos”, “Regulares”, “Buenos” y “Muy Buenos”. Para ello primero haremos un par de transformaciones de los datos. La columna de reseñas por mes, se dividirán en 3 rangos iguales, después dependiendo del valor concreto que tenga cada apartamento se le asignarán las etiquetas: “Baja”, “Media” y ”Alta”. Para la columna que indica el número de días que está disponible asignaremos las etiquetas de menor valor a mayor de la siguiente manera: “Poco disponible”, “Disponible normalmente” y “Altamente disponible”. Finalmente crearemos una columna para clasificar los apartamentos, teniendo en cuenta una serie de reglas, que se explicarán más adelante. "
      ],
      "metadata": {
        "id": "jCZKl6EfuQDS"
      },
      "id": "jCZKl6EfuQDS"
    },
    {
      "cell_type": "markdown",
      "source": [
        "## Comprensión de los datos"
      ],
      "metadata": {
        "id": "aA5iEGYOo4RB"
      },
      "id": "aA5iEGYOo4RB"
    },
    {
      "cell_type": "markdown",
      "source": [
        "La base de datos que utilizaremos consta de 48895 observaciones. En cada observación recopilamos los siguientes atributos: \n",
        "- id: id del apartamento en cuestión. \n",
        "- name: nombre del apartamento\n",
        "- host_id: id del anfitrión \n",
        "- host_name: nombre del anfitrión \n",
        "- neighbourhood_group: estado al que pertenece\n",
        "- neighbourhood: barrio al que pertenece \n",
        "- latitude: coordenadas de latitud\n",
        "- longitude: coordenadas de longitud \n",
        "- room_type: tipo de habitación \n",
        "- price: precio en dólares\n",
        "- minimum_nights: noches mínimas que te puedes hospedar\n",
        "- number_of_reviews: número de reseñas \n",
        "- last_review: última reseña \n",
        "- reviews_per_month: reseñas por mes\n",
        "- calculated_host_listings_count: ??? \n",
        "- availability_365: días disponibles por año. \n"
      ],
      "metadata": {
        "id": "9FyCQqOUo8Gp"
      },
      "id": "9FyCQqOUo8Gp"
    },
    {
      "cell_type": "markdown",
      "source": [
        "TENEMOS QUE ESTUDIAR ESTO: datos redundantes o anómalos."
      ],
      "metadata": {
        "id": "iRCkTU41uKX1"
      },
      "id": "iRCkTU41uKX1"
    },
    {
      "cell_type": "markdown",
      "source": [
        "## Preparación de los datos"
      ],
      "metadata": {
        "id": "MRRVog71rZU4"
      },
      "id": "MRRVog71rZU4"
    },
    {
      "cell_type": "markdown",
      "source": [
        "Primero debemos tratar la base de datos para así estudiar qué hacer con los datos NaN que encontraremos. \n",
        "\n",
        "Analizamos cuántos datos NaN hay en la columna 'reviews_per_month', ya que la trataremos posteriormente, y deberemos conocer el contenido de esta. \n"
      ],
      "metadata": {
        "id": "6TRpV0iDuXpi"
      },
      "id": "6TRpV0iDuXpi"
    },
    {
      "cell_type": "code",
      "source": [
        "reviews_per_month_nan = df['reviews_per_month'].isna().sum()\n",
        "print(reviews_per_month_nan)"
      ],
      "metadata": {
        "id": "eRGBwWnHuxTV",
        "outputId": "23a444a7-8a72-4eee-c8ad-b07cf15e9c75",
        "colab": {
          "base_uri": "https://localhost:8080/"
        }
      },
      "id": "eRGBwWnHuxTV",
      "execution_count": 100,
      "outputs": [
        {
          "output_type": "stream",
          "name": "stdout",
          "text": [
            "2456\n"
          ]
        }
      ]
    },
    {
      "cell_type": "markdown",
      "source": [
        "Ahora bien, vemos que hay 10052 datos NaN en la columna. Observemos cuántos datos hay en total para barajar las distintas opciones de qué hacer con estos datos NaN. Si es poca cantidad comparado con la cantidad de observaciones en total, podremos eliminar directamente esas observaciones, sin embargo, si suponen gran cantidad, podríamos buscar otras opciones, como rellenar con la media para así no afectar al equilibrio del resto de datos. \n",
        "\n",
        "Es verdad que como hablamos de reseñas por mes, sería factible convertir esos NaN en 0, para que así a la hora de categorizar la columna, lo detecte como Bajo. \n",
        "\n",
        "¿Por qué rellenamos con 0's? Encontramos un NaN en la columna de 'reviews_per_month', cuando en la columna de 'number_of_reviews' aparece un 0, o un NaN directamente, es decir, que anteriormente no se ha hecho ninguna reseña, por lo que obviamente, en el último mes, tampoco. No deberíamos rellenar con la media, ya que ahí estamos aportando una cierta cantidad de reseñas que no se han hecho. "
      ],
      "metadata": {
        "id": "hlY_0vIJvh77"
      },
      "id": "hlY_0vIJvh77"
    },
    {
      "cell_type": "code",
      "source": [
        "num_observations = df.shape[0]\n",
        "print(num_observations)"
      ],
      "metadata": {
        "id": "NXgkAGjewOwD",
        "outputId": "513c0aa9-24f9-46de-b72e-428ede0e9b89",
        "colab": {
          "base_uri": "https://localhost:8080/"
        }
      },
      "id": "NXgkAGjewOwD",
      "execution_count": 101,
      "outputs": [
        {
          "output_type": "stream",
          "name": "stdout",
          "text": [
            "14884\n"
          ]
        }
      ]
    },
    {
      "cell_type": "markdown",
      "source": [
        "Supone un 20% de los datos totales. No resulta útil borrarlos, si no que deberíamos rellenar con 0 como hemos explicado anteriormente. "
      ],
      "metadata": {
        "id": "mP70C7kJwTxc"
      },
      "id": "mP70C7kJwTxc"
    },
    {
      "cell_type": "code",
      "source": [
        "df['reviews_per_month'].fillna(0, inplace=True)"
      ],
      "metadata": {
        "id": "EJln4MO6wr2i"
      },
      "id": "EJln4MO6wr2i",
      "execution_count": 102,
      "outputs": []
    },
    {
      "cell_type": "markdown",
      "source": [
        "Comprobamos por tanto que en esa columna ya no nos quede ningún NaN"
      ],
      "metadata": {
        "id": "qJ2nrGXAw2UJ"
      },
      "id": "qJ2nrGXAw2UJ"
    },
    {
      "cell_type": "code",
      "source": [
        "reviews_per_month_nan = df['reviews_per_month'].isna().sum()\n",
        "print(reviews_per_month_nan)"
      ],
      "metadata": {
        "id": "spDIo2Few69A",
        "outputId": "05b1e175-e987-4149-acd6-252d44532211",
        "colab": {
          "base_uri": "https://localhost:8080/"
        }
      },
      "id": "spDIo2Few69A",
      "execution_count": 103,
      "outputs": [
        {
          "output_type": "stream",
          "name": "stdout",
          "text": [
            "0\n"
          ]
        }
      ]
    },
    {
      "cell_type": "markdown",
      "source": [
        "Def: review_per_month"
      ],
      "metadata": {
        "id": "XcGn1IoxkmXq"
      },
      "id": "XcGn1IoxkmXq"
    },
    {
      "cell_type": "markdown",
      "source": [
        "Ahora debemos estudiar la distribución de esta, para ello haremos uso de boxplot, representando así cada apartamento para ver si hay outliers o datos rebundantes. "
      ],
      "metadata": {
        "id": "hZBwxiT99iBX"
      },
      "id": "hZBwxiT99iBX"
    },
    {
      "cell_type": "code",
      "source": [
        "import matplotlib.pyplot as plt\n",
        "boxplot_reviews=df['reviews_per_month']\n",
        "plt.boxplot(boxplot_reviews)\n",
        "plt.title('Boxplot reseña apartamentos ')\n",
        "plt.show()"
      ],
      "metadata": {
        "colab": {
          "base_uri": "https://localhost:8080/",
          "height": 302
        },
        "id": "XpVLKGfQ9xsl",
        "outputId": "efccf044-7c00-4ad9-9169-b22b3cd456c3"
      },
      "id": "XpVLKGfQ9xsl",
      "execution_count": 104,
      "outputs": [
        {
          "output_type": "display_data",
          "data": {
            "text/plain": [
              "<Figure size 432x288 with 1 Axes>"
            ],
            "image/png": "[encoded data removed]"
          },
          "metadata": {
            "needs_background": "light"
          }
        }
      ]
    },
    {
      "cell_type": "code",
      "source": [
        "from matplotlib.cbook import boxplot_stats \n",
        "stats = boxplot_stats(boxplot_reviews)\n",
        "stats = stats[0] \n",
        "outliers = stats['fliers']\n",
        "min = stats['q1']-1.5*stats['iqr']\n",
        "max = stats['q3']+1.5*stats['iqr']\n",
        "print(min, max, len(outliers))\n",
        "            "
      ],
      "metadata": {
        "colab": {
          "base_uri": "https://localhost:8080/"
        },
        "id": "Fr9ewCF6-qJX",
        "outputId": "5791e428-2af3-4d6e-b50e-b570d3f6bfb7"
      },
      "id": "Fr9ewCF6-qJX",
      "execution_count": 105,
      "outputs": [
        {
          "output_type": "stream",
          "name": "stdout",
          "text": [
            "-1.305 2.255 1590\n"
          ]
        }
      ]
    },
    {
      "cell_type": "markdown",
      "source": [
        "Con esta información interpretamos que tenemos 3312 outliers, y que de valor máximo aceptado, se obtendrá 3,89, y mínimo lo interpretamos como 0, ya que no vamos a encontrar valores negativos en el número de reseñas por mes. \n"
      ],
      "metadata": {
        "id": "2k1FSZzGFyPG"
      },
      "id": "2k1FSZzGFyPG"
    },
    {
      "cell_type": "markdown",
      "source": [
        "Ya nos hemos asegurado que no nos quedad ningún dato NaN, así no encontraremos ningún error a la hora de categorizar la columna, que es el siguiente paso. \n",
        "\n",
        "Lo categorizamos en tres: Baja, Media y Alta. "
      ],
      "metadata": {
        "id": "ojLK3k16xYEu"
      },
      "id": "ojLK3k16xYEu"
    },
    {
      "cell_type": "markdown",
      "source": [
        "Considerando que según los rangos intercuartiles hemos obtenido que el máximo valor que se considera aceptable es 3,89, y que el outlier mayor que se puede conseguir es 60, no podemos hacer los rangos teniendo en cuenta el mayor que se pueda tomar, si no el mayor aceptado. Es por ello que para definir cada uno,tendremos en cuenta el rango intercuartilíco: [0-3.89] \n",
        "\n",
        "Por lo que: \n",
        "- [0-1.3) = 'Baja'\n",
        "- [1.3 - 2.6) = 'Media'\n",
        "- [2.6 - 60) = 'Alta' (si no encontrásemos outliers, terminaría en 3.89, pero lo que vamos a hacer es simplemente ignorar esos outliers)"
      ],
      "metadata": {
        "id": "W3xLyeCoH6g2"
      },
      "id": "W3xLyeCoH6g2"
    },
    {
      "cell_type": "code",
      "source": [
        "filas=len(df.axes[0])\n",
        "df.loc[:,'reviews_per_month_cat']=np.nan\n",
        "for i in range(filas):\n",
        "  if df['reviews_per_month'][i]<1.3: \n",
        "    df['reviews_per_month_cat'][i]='Baja'\n",
        "  elif (df['reviews_per_month'][i]>1.3) & (df['reviews_per_month'][i]<=2.6): \n",
        "    df['reviews_per_month_cat'][i]='Media'\n",
        "  else:\n",
        "    df['reviews_per_month_cat'][i]='Alta'\n",
        "\n",
        "df.head()"
      ],
      "metadata": {
        "colab": {
          "base_uri": "https://localhost:8080/",
          "height": 613
        },
        "id": "th--hcdoH55M",
        "outputId": "8491bd54-59ea-487a-f720-7bc1aaababf9"
      },
      "id": "th--hcdoH55M",
      "execution_count": 106,
      "outputs": [
        {
          "output_type": "stream",
          "name": "stderr",
          "text": [
            "<ipython-input-106-32e49cfa6a12>:5: SettingWithCopyWarning: \n",
            "A value is trying to be set on a copy of a slice from a DataFrame\n",
            "\n",
            "See the caveats in the documentation: https://pandas.pydata.org/pandas-docs/stable/user_guide/indexing.html#returning-a-view-versus-a-copy\n",
            "  df['reviews_per_month_cat'][i]='Baja'\n",
            "/usr/local/lib/python3.8/dist-packages/pandas/core/indexing.py:1732: SettingWithCopyWarning: \n",
            "A value is trying to be set on a copy of a slice from a DataFrame\n",
            "\n",
            "See the caveats in the documentation: https://pandas.pydata.org/pandas-docs/stable/user_guide/indexing.html#returning-a-view-versus-a-copy\n",
            "  self._setitem_single_block(indexer, value, name)\n"
          ]
        },
        {
          "output_type": "execute_result",
          "data": {
            "text/plain": [
              "     id                                              name  host_id  \\\n",
              "0  2539                Clean & quiet apt home by the park     2787   \n",
              "1  2595                             Skylit Midtown Castle     2845   \n",
              "2  3647               THE VILLAGE OF HARLEM....NEW YORK !     4632   \n",
              "3  3831                   Cozy Entire Floor of Brownstone     4869   \n",
              "4  5022  Entire Apt: Spacious Studio/Loft by central park     7192   \n",
              "\n",
              "     host_name neighbourhood_group neighbourhood  latitude  longitude  \\\n",
              "0         John            Brooklyn    Kensington  40.64749  -73.97237   \n",
              "1     Jennifer           Manhattan       Midtown  40.75362  -73.98377   \n",
              "2    Elisabeth           Manhattan        Harlem  40.80902  -73.94190   \n",
              "3  LisaRoxanne            Brooklyn  Clinton Hill  40.68514  -73.95976   \n",
              "4        Laura           Manhattan   East Harlem  40.79851  -73.94399   \n",
              "\n",
              "         room_type  price  minimum_nights  number_of_reviews last_review  \\\n",
              "0     Private room  149.0             1.0                9.0  2018-10-19   \n",
              "1  Entire home/apt  225.0             1.0               45.0  2019-05-21   \n",
              "2     Private room  150.0             3.0                0.0         NaN   \n",
              "3  Entire home/apt   89.0             1.0              270.0  2019-07-05   \n",
              "4  Entire home/apt   80.0            10.0                9.0  2018-11-19   \n",
              "\n",
              "   reviews_per_month  calculated_host_listings_count  availability_365  \\\n",
              "0               0.21                             6.0             365.0   \n",
              "1               0.38                             2.0             355.0   \n",
              "2               0.00                             1.0             365.0   \n",
              "3               4.64                             1.0             194.0   \n",
              "4               0.10                             1.0               0.0   \n",
              "\n",
              "  reviews_per_month_cat  \n",
              "0                  Baja  \n",
              "1                  Baja  \n",
              "2                  Baja  \n",
              "3                  Alta  \n",
              "4                  Baja  "
            ],
            "text/html": [
              "\n",
              "  <div id=\"df-44571e6e-7133-47d9-975b-7bbfbc7fcfb4\">\n",
              "    <div class=\"colab-df-container\">\n",
              "      <div>\n",
              "<style scoped>\n",
              "    .dataframe tbody tr th:only-of-type {\n",
              "        vertical-align: middle;\n",
              "    }\n",
              "\n",
              "    .dataframe tbody tr th {\n",
              "        vertical-align: top;\n",
              "    }\n",
              "\n",
              "    .dataframe thead th {\n",
              "        text-align: right;\n",
              "    }\n",
              "</style>\n",
              "<table border=\"1\" class=\"dataframe\">\n",
              "  <thead>\n",
              "    <tr style=\"text-align: right;\">\n",
              "      <th></th>\n",
              "      <th>id</th>\n",
              "      <th>name</th>\n",
              "      <th>host_id</th>\n",
              "      <th>host_name</th>\n",
              "      <th>neighbourhood_group</th>\n",
              "      <th>neighbourhood</th>\n",
              "      <th>latitude</th>\n",
              "      <th>longitude</th>\n",
              "      <th>room_type</th>\n",
              "      <th>price</th>\n",
              "      <th>minimum_nights</th>\n",
              "      <th>number_of_reviews</th>\n",
              "      <th>last_review</th>\n",
              "      <th>reviews_per_month</th>\n",
              "      <th>calculated_host_listings_count</th>\n",
              "      <th>availability_365</th>\n",
              "      <th>reviews_per_month_cat</th>\n",
              "    </tr>\n",
              "  </thead>\n",
              "  <tbody>\n",
              "    <tr>\n",
              "      <th>0</th>\n",
              "      <td>2539</td>\n",
              "      <td>Clean &amp; quiet apt home by the park</td>\n",
              "      <td>2787</td>\n",
              "      <td>John</td>\n",
              "      <td>Brooklyn</td>\n",
              "      <td>Kensington</td>\n",
              "      <td>40.64749</td>\n",
              "      <td>-73.97237</td>\n",
              "      <td>Private room</td>\n",
              "      <td>149.0</td>\n",
              "      <td>1.0</td>\n",
              "      <td>9.0</td>\n",
              "      <td>2018-10-19</td>\n",
              "      <td>0.21</td>\n",
              "      <td>6.0</td>\n",
              "      <td>365.0</td>\n",
              "      <td>Baja</td>\n",
              "    </tr>\n",
              "    <tr>\n",
              "      <th>1</th>\n",
              "      <td>2595</td>\n",
              "      <td>Skylit Midtown Castle</td>\n",
              "      <td>2845</td>\n",
              "      <td>Jennifer</td>\n",
              "      <td>Manhattan</td>\n",
              "      <td>Midtown</td>\n",
              "      <td>40.75362</td>\n",
              "      <td>-73.98377</td>\n",
              "      <td>Entire home/apt</td>\n",
              "      <td>225.0</td>\n",
              "      <td>1.0</td>\n",
              "      <td>45.0</td>\n",
              "      <td>2019-05-21</td>\n",
              "      <td>0.38</td>\n",
              "      <td>2.0</td>\n",
              "      <td>355.0</td>\n",
              "      <td>Baja</td>\n",
              "    </tr>\n",
              "    <tr>\n",
              "      <th>2</th>\n",
              "      <td>3647</td>\n",
              "      <td>THE VILLAGE OF HARLEM....NEW YORK !</td>\n",
              "      <td>4632</td>\n",
              "      <td>Elisabeth</td>\n",
              "      <td>Manhattan</td>\n",
              "      <td>Harlem</td>\n",
              "      <td>40.80902</td>\n",
              "      <td>-73.94190</td>\n",
              "      <td>Private room</td>\n",
              "      <td>150.0</td>\n",
              "      <td>3.0</td>\n",
              "      <td>0.0</td>\n",
              "      <td>NaN</td>\n",
              "      <td>0.00</td>\n",
              "      <td>1.0</td>\n",
              "      <td>365.0</td>\n",
              "      <td>Baja</td>\n",
              "    </tr>\n",
              "    <tr>\n",
              "      <th>3</th>\n",
              "      <td>3831</td>\n",
              "      <td>Cozy Entire Floor of Brownstone</td>\n",
              "      <td>4869</td>\n",
              "      <td>LisaRoxanne</td>\n",
              "      <td>Brooklyn</td>\n",
              "      <td>Clinton Hill</td>\n",
              "      <td>40.68514</td>\n",
              "      <td>-73.95976</td>\n",
              "      <td>Entire home/apt</td>\n",
              "      <td>89.0</td>\n",
              "      <td>1.0</td>\n",
              "      <td>270.0</td>\n",
              "      <td>2019-07-05</td>\n",
              "      <td>4.64</td>\n",
              "      <td>1.0</td>\n",
              "      <td>194.0</td>\n",
              "      <td>Alta</td>\n",
              "    </tr>\n",
              "    <tr>\n",
              "      <th>4</th>\n",
              "      <td>5022</td>\n",
              "      <td>Entire Apt: Spacious Studio/Loft by central park</td>\n",
              "      <td>7192</td>\n",
              "      <td>Laura</td>\n",
              "      <td>Manhattan</td>\n",
              "      <td>East Harlem</td>\n",
              "      <td>40.79851</td>\n",
              "      <td>-73.94399</td>\n",
              "      <td>Entire home/apt</td>\n",
              "      <td>80.0</td>\n",
              "      <td>10.0</td>\n",
              "      <td>9.0</td>\n",
              "      <td>2018-11-19</td>\n",
              "      <td>0.10</td>\n",
              "      <td>1.0</td>\n",
              "      <td>0.0</td>\n",
              "      <td>Baja</td>\n",
              "    </tr>\n",
              "  </tbody>\n",
              "</table>\n",
              "</div>\n",
              "      <button class=\"colab-df-convert\" onclick=\"convertToInteractive('df-44571e6e-7133-47d9-975b-7bbfbc7fcfb4')\"\n",
              "              title=\"Convert this dataframe to an interactive table.\"\n",
              "              style=\"display:none;\">\n",
              "        \n",
              "  <svg xmlns=\"http://www.w3.org/2000/svg\" height=\"24px\"viewBox=\"0 0 24 24\"\n",
              "       width=\"24px\">\n",
              "    <path d=\"M0 0h24v24H0V0z\" fill=\"none\"/>\n",
              "    <path d=\"M18.56 5.44l.94 2.06.94-2.06 2.06-.94-2.06-.94-.94-2.06-.94 2.06-2.06.94zm-11 1L8.5 8.5l.94-2.06 2.06-.94-2.06-.94L8.5 2.5l-.94 2.06-2.06.94zm10 10l.94 2.06.94-2.06 2.06-.94-2.06-.94-.94-2.06-.94 2.06-2.06.94z\"/><path d=\"M17.41 7.96l-1.37-1.37c-.4-.4-.92-.59-1.43-.59-.52 0-1.04.2-1.43.59L10.3 9.45l-7.72 7.72c-.78.78-.78 2.05 0 2.83L4 21.41c.39.39.9.59 1.41.59.51 0 1.02-.2 1.41-.59l7.78-7.78 2.81-2.81c.8-.78.8-2.07 0-2.86zM5.41 20L4 18.59l7.72-7.72 1.47 1.35L5.41 20z\"/>\n",
              "  </svg>\n",
              "      </button>\n",
              "      \n",
              "  <style>\n",
              "    .colab-df-container {\n",
              "      display:flex;\n",
              "      flex-wrap:wrap;\n",
              "      gap: 12px;\n",
              "    }\n",
              "\n",
              "    .colab-df-convert {\n",
              "      background-color: #E8F0FE;\n",
              "      border: none;\n",
              "      border-radius: 50%;\n",
              "      cursor: pointer;\n",
              "      display: none;\n",
              "      fill: #1967D2;\n",
              "      height: 32px;\n",
              "      padding: 0 0 0 0;\n",
              "      width: 32px;\n",
              "    }\n",
              "\n",
              "    .colab-df-convert:hover {\n",
              "      background-color: #E2EBFA;\n",
              "      box-shadow: 0px 1px 2px rgba(60, 64, 67, 0.3), 0px 1px 3px 1px rgba(60, 64, 67, 0.15);\n",
              "      fill: #174EA6;\n",
              "    }\n",
              "\n",
              "    [theme=dark] .colab-df-convert {\n",
              "      background-color: #3B4455;\n",
              "      fill: #D2E3FC;\n",
              "    }\n",
              "\n",
              "    [theme=dark] .colab-df-convert:hover {\n",
              "      background-color: #434B5C;\n",
              "      box-shadow: 0px 1px 3px 1px rgba(0, 0, 0, 0.15);\n",
              "      filter: drop-shadow(0px 1px 2px rgba(0, 0, 0, 0.3));\n",
              "      fill: #FFFFFF;\n",
              "    }\n",
              "  </style>\n",
              "\n",
              "      <script>\n",
              "        const buttonEl =\n",
              "          document.querySelector('#df-44571e6e-7133-47d9-975b-7bbfbc7fcfb4 button.colab-df-convert');\n",
              "        buttonEl.style.display =\n",
              "          google.colab.kernel.accessAllowed ? 'block' : 'none';\n",
              "\n",
              "        async function convertToInteractive(key) {\n",
              "          const element = document.querySelector('#df-44571e6e-7133-47d9-975b-7bbfbc7fcfb4');\n",
              "          const dataTable =\n",
              "            await google.colab.kernel.invokeFunction('convertToInteractive',\n",
              "                                                     [key], {});\n",
              "          if (!dataTable) return;\n",
              "\n",
              "          const docLinkHtml = 'Like what you see? Visit the ' +\n",
              "            '<a target=\"_blank\" href=https://colab.research.google.com/notebooks/data_table.ipynb>data table notebook</a>'\n",
              "            + ' to learn more about interactive tables.';\n",
              "          element.innerHTML = '';\n",
              "          dataTable['output_type'] = 'display_data';\n",
              "          await google.colab.output.renderOutput(dataTable, element);\n",
              "          const docLink = document.createElement('div');\n",
              "          docLink.innerHTML = docLinkHtml;\n",
              "          element.appendChild(docLink);\n",
              "        }\n",
              "      </script>\n",
              "    </div>\n",
              "  </div>\n",
              "  "
            ]
          },
          "metadata": {},
          "execution_count": 106
        }
      ]
    },
    {
      "cell_type": "markdown",
      "source": [
        "Comprobamos si se ha ejecutado bien: "
      ],
      "metadata": {
        "id": "K2w7OO1Nrx50"
      },
      "id": "K2w7OO1Nrx50"
    },
    {
      "cell_type": "code",
      "source": [
        "reviews_per_month_cat_nan = df['reviews_per_month_cat'].isna().sum()\n",
        "print(reviews_per_month_cat_nan)"
      ],
      "metadata": {
        "colab": {
          "base_uri": "https://localhost:8080/"
        },
        "id": "oIy_BLGkrmKw",
        "outputId": "34175194-bddf-4983-e66d-44af8a00cdc7"
      },
      "id": "oIy_BLGkrmKw",
      "execution_count": 107,
      "outputs": [
        {
          "output_type": "stream",
          "name": "stdout",
          "text": [
            "0\n"
          ]
        }
      ]
    },
    {
      "cell_type": "markdown",
      "source": [
        "Efectivamente. "
      ],
      "metadata": {
        "id": "Dh1Ws27lr0Gq"
      },
      "id": "Dh1Ws27lr0Gq"
    },
    {
      "cell_type": "code",
      "source": [
        "# Número de intervalos\n",
        "#num_intervalos = 3\n",
        "\n",
        "# Lista de intervalos\n",
        "#intervalos = np.linspace(df['reviews_per_month'].min()-0.001, df['reviews_per_month'].max(), num_intervalos+1)\n",
        "\n",
        "# Creamos las etiquetas \n",
        "#etiquetas = ['Baja', 'Media', 'Alta']\n",
        "\n",
        "# Asigna una categoría a cada intervalo\n",
        "#df['reviews_per_month'] = pd.cut(df['reviews_per_month'], intervalos, labels=etiquetas)"
      ],
      "metadata": {
        "id": "j41mwnb23Cz3"
      },
      "id": "j41mwnb23Cz3",
      "execution_count": 108,
      "outputs": []
    },
    {
      "cell_type": "markdown",
      "source": [
        "Por otro lado, vamos a clasificar los alquileres en función de los días que están disponibles. \n",
        "\n",
        "Para ello, siguiendo el patrón anterior, calculamos si hay NaN en la columna correspondiente: \n"
      ],
      "metadata": {
        "id": "PdD3LirDN4nG"
      },
      "id": "PdD3LirDN4nG"
    },
    {
      "cell_type": "code",
      "source": [
        "disponibilidad_nan = df['availability_365'].isna().sum()\n",
        "print(disponibilidad_nan)"
      ],
      "metadata": {
        "colab": {
          "base_uri": "https://localhost:8080/"
        },
        "id": "aIcgUrRyOSpi",
        "outputId": "94a46285-8717-4acb-bb68-a1de1919b972"
      },
      "id": "aIcgUrRyOSpi",
      "execution_count": 109,
      "outputs": [
        {
          "output_type": "stream",
          "name": "stdout",
          "text": [
            "1\n"
          ]
        }
      ]
    },
    {
      "cell_type": "markdown",
      "source": [
        "No hay ningún NaN en dicha columna, por lo que no hace falta tratarlos. En el caso de encontrarlos, se tendría que estudiar qué hacer con este conjunto de datos de manera independiente. \n",
        "\n"
      ],
      "metadata": {
        "id": "ZxvJl4iWOc35"
      },
      "id": "ZxvJl4iWOc35"
    },
    {
      "cell_type": "markdown",
      "source": [
        "Ahora pasamos a estudiar de la misma manera la distribución de esta variable, gracias al uso de Boxplot."
      ],
      "metadata": {
        "id": "GQhj_NrEkfKv"
      },
      "id": "GQhj_NrEkfKv"
    },
    {
      "cell_type": "code",
      "source": [
        "import matplotlib.pyplot as plt\n",
        "boxplot_availability_365=df['availability_365']\n",
        "plt.boxplot(boxplot_availability_365)\n",
        "plt.title('Boxplot availability_365 apartamentos ')\n",
        "plt.show()"
      ],
      "metadata": {
        "id": "OGm38mHhkmYi",
        "outputId": "b8d79b64-55c5-49eb-e09d-a1943e74a9e1",
        "colab": {
          "base_uri": "https://localhost:8080/",
          "height": 302
        }
      },
      "id": "OGm38mHhkmYi",
      "execution_count": 110,
      "outputs": [
        {
          "output_type": "display_data",
          "data": {
            "text/plain": [
              "<Figure size 432x288 with 1 Axes>"
            ],
            "image/png": "[encoded data removed]"
          },
          "metadata": {
            "needs_background": "light"
          }
        }
      ]
    },
    {
      "cell_type": "code",
      "source": [
        "from matplotlib.cbook import boxplot_stats \n",
        "stats = boxplot_stats(boxplot_availability_365)\n",
        "stats = stats[0] \n",
        "outliers = stats['fliers']\n",
        "min = stats['q1']-1.5*stats['iqr']\n",
        "max = stats['q3']+1.5*stats['iqr']\n",
        "print(min, max, len(outliers))"
      ],
      "metadata": {
        "id": "-vII3qs3kwOr",
        "outputId": "a5256bc4-23fe-4b18-d933-c32b0e1de80b",
        "colab": {
          "base_uri": "https://localhost:8080/"
        }
      },
      "id": "-vII3qs3kwOr",
      "execution_count": 111,
      "outputs": [
        {
          "output_type": "stream",
          "name": "stdout",
          "text": [
            "nan nan 0\n"
          ]
        }
      ]
    },
    {
      "cell_type": "markdown",
      "source": [
        "Según este modelo, no encontramos ningún outliers, por lo que podemos continuar. "
      ],
      "metadata": {
        "id": "b3abdvOkk5C6"
      },
      "id": "b3abdvOkk5C6"
    },
    {
      "cell_type": "markdown",
      "source": [
        "Calculemos los intervalos de los rangos. "
      ],
      "metadata": {
        "id": "F6dMwu6okehh"
      },
      "id": "F6dMwu6okehh"
    },
    {
      "cell_type": "code",
      "source": [
        "df.loc[:,'availability_365_range']=np.nan"
      ],
      "metadata": {
        "id": "5xgdQASLkQzF"
      },
      "id": "5xgdQASLkQzF",
      "execution_count": 112,
      "outputs": []
    },
    {
      "cell_type": "code",
      "source": [
        "#Definimos los intervalos\n",
        "n_inter = 3\n",
        "\n",
        "# Creamos una lista de intervalos\n",
        "interv = np.linspace(df['availability_365'].min()-0.001, df['availability_365'].max(), n_inter+1)\n",
        "\n",
        "# Creamos las etiquetas \n",
        "labels = ['Poco disponible', 'Disponible normalmente', 'Altamente disponible']\n",
        "\n",
        "# Asigna una categoría a cada intervalo\n",
        "df['availability_365_range'] = pd.cut(df['availability_365'], interv, labels=labels)"
      ],
      "metadata": {
        "id": "vmLK7uBjRSw_"
      },
      "id": "vmLK7uBjRSw_",
      "execution_count": 113,
      "outputs": []
    },
    {
      "cell_type": "markdown",
      "source": [
        "Imprimimos 5 observaciones del nuevo atributo categorizado para observar si se ha realizado de manera correcta. "
      ],
      "metadata": {
        "id": "bQv6Dt6AxSCu"
      },
      "id": "bQv6Dt6AxSCu"
    },
    {
      "cell_type": "code",
      "source": [
        "print(df['availability_365_range'].head())"
      ],
      "metadata": {
        "colab": {
          "base_uri": "https://localhost:8080/"
        },
        "id": "9TbEdUnrSn_s",
        "outputId": "956bade4-42bb-4be2-9385-b93ce75cf7ed"
      },
      "id": "9TbEdUnrSn_s",
      "execution_count": 114,
      "outputs": [
        {
          "output_type": "stream",
          "name": "stdout",
          "text": [
            "0      Altamente disponible\n",
            "1      Altamente disponible\n",
            "2      Altamente disponible\n",
            "3    Disponible normalmente\n",
            "4           Poco disponible\n",
            "Name: availability_365_range, dtype: category\n",
            "Categories (3, object): ['Poco disponible' < 'Disponible normalmente' < 'Altamente disponible']\n"
          ]
        }
      ]
    },
    {
      "cell_type": "markdown",
      "source": [
        "Finalmente, añadimos la nueva columna de clasificación, y la rellenamos con datos NaN, para así más adelante rellenarlo según las reglas definidas en el enunciado."
      ],
      "metadata": {
        "id": "YOtorhGdTaBb"
      },
      "id": "YOtorhGdTaBb"
    },
    {
      "cell_type": "code",
      "source": [
        "df.loc[:,'classification']=np.nan"
      ],
      "metadata": {
        "id": "Rrpl5zmwTfko"
      },
      "id": "Rrpl5zmwTfko",
      "execution_count": 115,
      "outputs": []
    },
    {
      "cell_type": "markdown",
      "source": [
        "Imprimimos las 5 primeras observaciones con cada atributo para comprobar que se ha añadidio de manera correcta"
      ],
      "metadata": {
        "id": "yxMLqSy-ydV2"
      },
      "id": "yxMLqSy-ydV2"
    },
    {
      "cell_type": "code",
      "source": [
        "df.head()"
      ],
      "metadata": {
        "colab": {
          "base_uri": "https://localhost:8080/",
          "height": 447
        },
        "id": "Sapn3kXXybNU",
        "outputId": "be81f747-da07-4d1b-a010-b11316626487"
      },
      "id": "Sapn3kXXybNU",
      "execution_count": 116,
      "outputs": [
        {
          "output_type": "execute_result",
          "data": {
            "text/plain": [
              "     id                                              name  host_id  \\\n",
              "0  2539                Clean & quiet apt home by the park     2787   \n",
              "1  2595                             Skylit Midtown Castle     2845   \n",
              "2  3647               THE VILLAGE OF HARLEM....NEW YORK !     4632   \n",
              "3  3831                   Cozy Entire Floor of Brownstone     4869   \n",
              "4  5022  Entire Apt: Spacious Studio/Loft by central park     7192   \n",
              "\n",
              "     host_name neighbourhood_group neighbourhood  latitude  longitude  \\\n",
              "0         John            Brooklyn    Kensington  40.64749  -73.97237   \n",
              "1     Jennifer           Manhattan       Midtown  40.75362  -73.98377   \n",
              "2    Elisabeth           Manhattan        Harlem  40.80902  -73.94190   \n",
              "3  LisaRoxanne            Brooklyn  Clinton Hill  40.68514  -73.95976   \n",
              "4        Laura           Manhattan   East Harlem  40.79851  -73.94399   \n",
              "\n",
              "         room_type  price  minimum_nights  number_of_reviews last_review  \\\n",
              "0     Private room  149.0             1.0                9.0  2018-10-19   \n",
              "1  Entire home/apt  225.0             1.0               45.0  2019-05-21   \n",
              "2     Private room  150.0             3.0                0.0         NaN   \n",
              "3  Entire home/apt   89.0             1.0              270.0  2019-07-05   \n",
              "4  Entire home/apt   80.0            10.0                9.0  2018-11-19   \n",
              "\n",
              "   reviews_per_month  calculated_host_listings_count  availability_365  \\\n",
              "0               0.21                             6.0             365.0   \n",
              "1               0.38                             2.0             355.0   \n",
              "2               0.00                             1.0             365.0   \n",
              "3               4.64                             1.0             194.0   \n",
              "4               0.10                             1.0               0.0   \n",
              "\n",
              "  reviews_per_month_cat  availability_365_range  classification  \n",
              "0                  Baja    Altamente disponible             NaN  \n",
              "1                  Baja    Altamente disponible             NaN  \n",
              "2                  Baja    Altamente disponible             NaN  \n",
              "3                  Alta  Disponible normalmente             NaN  \n",
              "4                  Baja         Poco disponible             NaN  "
            ],
            "text/html": [
              "\n",
              "  <div id=\"df-a6ca9018-6de9-4bc6-b27a-f91f66081cd6\">\n",
              "    <div class=\"colab-df-container\">\n",
              "      <div>\n",
              "<style scoped>\n",
              "    .dataframe tbody tr th:only-of-type {\n",
              "        vertical-align: middle;\n",
              "    }\n",
              "\n",
              "    .dataframe tbody tr th {\n",
              "        vertical-align: top;\n",
              "    }\n",
              "\n",
              "    .dataframe thead th {\n",
              "        text-align: right;\n",
              "    }\n",
              "</style>\n",
              "<table border=\"1\" class=\"dataframe\">\n",
              "  <thead>\n",
              "    <tr style=\"text-align: right;\">\n",
              "      <th></th>\n",
              "      <th>id</th>\n",
              "      <th>name</th>\n",
              "      <th>host_id</th>\n",
              "      <th>host_name</th>\n",
              "      <th>neighbourhood_group</th>\n",
              "      <th>neighbourhood</th>\n",
              "      <th>latitude</th>\n",
              "      <th>longitude</th>\n",
              "      <th>room_type</th>\n",
              "      <th>price</th>\n",
              "      <th>minimum_nights</th>\n",
              "      <th>number_of_reviews</th>\n",
              "      <th>last_review</th>\n",
              "      <th>reviews_per_month</th>\n",
              "      <th>calculated_host_listings_count</th>\n",
              "      <th>availability_365</th>\n",
              "      <th>reviews_per_month_cat</th>\n",
              "      <th>availability_365_range</th>\n",
              "      <th>classification</th>\n",
              "    </tr>\n",
              "  </thead>\n",
              "  <tbody>\n",
              "    <tr>\n",
              "      <th>0</th>\n",
              "      <td>2539</td>\n",
              "      <td>Clean &amp; quiet apt home by the park</td>\n",
              "      <td>2787</td>\n",
              "      <td>John</td>\n",
              "      <td>Brooklyn</td>\n",
              "      <td>Kensington</td>\n",
              "      <td>40.64749</td>\n",
              "      <td>-73.97237</td>\n",
              "      <td>Private room</td>\n",
              "      <td>149.0</td>\n",
              "      <td>1.0</td>\n",
              "      <td>9.0</td>\n",
              "      <td>2018-10-19</td>\n",
              "      <td>0.21</td>\n",
              "      <td>6.0</td>\n",
              "      <td>365.0</td>\n",
              "      <td>Baja</td>\n",
              "      <td>Altamente disponible</td>\n",
              "      <td>NaN</td>\n",
              "    </tr>\n",
              "    <tr>\n",
              "      <th>1</th>\n",
              "      <td>2595</td>\n",
              "      <td>Skylit Midtown Castle</td>\n",
              "      <td>2845</td>\n",
              "      <td>Jennifer</td>\n",
              "      <td>Manhattan</td>\n",
              "      <td>Midtown</td>\n",
              "      <td>40.75362</td>\n",
              "      <td>-73.98377</td>\n",
              "      <td>Entire home/apt</td>\n",
              "      <td>225.0</td>\n",
              "      <td>1.0</td>\n",
              "      <td>45.0</td>\n",
              "      <td>2019-05-21</td>\n",
              "      <td>0.38</td>\n",
              "      <td>2.0</td>\n",
              "      <td>355.0</td>\n",
              "      <td>Baja</td>\n",
              "      <td>Altamente disponible</td>\n",
              "      <td>NaN</td>\n",
              "    </tr>\n",
              "    <tr>\n",
              "      <th>2</th>\n",
              "      <td>3647</td>\n",
              "      <td>THE VILLAGE OF HARLEM....NEW YORK !</td>\n",
              "      <td>4632</td>\n",
              "      <td>Elisabeth</td>\n",
              "      <td>Manhattan</td>\n",
              "      <td>Harlem</td>\n",
              "      <td>40.80902</td>\n",
              "      <td>-73.94190</td>\n",
              "      <td>Private room</td>\n",
              "      <td>150.0</td>\n",
              "      <td>3.0</td>\n",
              "      <td>0.0</td>\n",
              "      <td>NaN</td>\n",
              "      <td>0.00</td>\n",
              "      <td>1.0</td>\n",
              "      <td>365.0</td>\n",
              "      <td>Baja</td>\n",
              "      <td>Altamente disponible</td>\n",
              "      <td>NaN</td>\n",
              "    </tr>\n",
              "    <tr>\n",
              "      <th>3</th>\n",
              "      <td>3831</td>\n",
              "      <td>Cozy Entire Floor of Brownstone</td>\n",
              "      <td>4869</td>\n",
              "      <td>LisaRoxanne</td>\n",
              "      <td>Brooklyn</td>\n",
              "      <td>Clinton Hill</td>\n",
              "      <td>40.68514</td>\n",
              "      <td>-73.95976</td>\n",
              "      <td>Entire home/apt</td>\n",
              "      <td>89.0</td>\n",
              "      <td>1.0</td>\n",
              "      <td>270.0</td>\n",
              "      <td>2019-07-05</td>\n",
              "      <td>4.64</td>\n",
              "      <td>1.0</td>\n",
              "      <td>194.0</td>\n",
              "      <td>Alta</td>\n",
              "      <td>Disponible normalmente</td>\n",
              "      <td>NaN</td>\n",
              "    </tr>\n",
              "    <tr>\n",
              "      <th>4</th>\n",
              "      <td>5022</td>\n",
              "      <td>Entire Apt: Spacious Studio/Loft by central park</td>\n",
              "      <td>7192</td>\n",
              "      <td>Laura</td>\n",
              "      <td>Manhattan</td>\n",
              "      <td>East Harlem</td>\n",
              "      <td>40.79851</td>\n",
              "      <td>-73.94399</td>\n",
              "      <td>Entire home/apt</td>\n",
              "      <td>80.0</td>\n",
              "      <td>10.0</td>\n",
              "      <td>9.0</td>\n",
              "      <td>2018-11-19</td>\n",
              "      <td>0.10</td>\n",
              "      <td>1.0</td>\n",
              "      <td>0.0</td>\n",
              "      <td>Baja</td>\n",
              "      <td>Poco disponible</td>\n",
              "      <td>NaN</td>\n",
              "    </tr>\n",
              "  </tbody>\n",
              "</table>\n",
              "</div>\n",
              "      <button class=\"colab-df-convert\" onclick=\"convertToInteractive('df-a6ca9018-6de9-4bc6-b27a-f91f66081cd6')\"\n",
              "              title=\"Convert this dataframe to an interactive table.\"\n",
              "              style=\"display:none;\">\n",
              "        \n",
              "  <svg xmlns=\"http://www.w3.org/2000/svg\" height=\"24px\"viewBox=\"0 0 24 24\"\n",
              "       width=\"24px\">\n",
              "    <path d=\"M0 0h24v24H0V0z\" fill=\"none\"/>\n",
              "    <path d=\"M18.56 5.44l.94 2.06.94-2.06 2.06-.94-2.06-.94-.94-2.06-.94 2.06-2.06.94zm-11 1L8.5 8.5l.94-2.06 2.06-.94-2.06-.94L8.5 2.5l-.94 2.06-2.06.94zm10 10l.94 2.06.94-2.06 2.06-.94-2.06-.94-.94-2.06-.94 2.06-2.06.94z\"/><path d=\"M17.41 7.96l-1.37-1.37c-.4-.4-.92-.59-1.43-.59-.52 0-1.04.2-1.43.59L10.3 9.45l-7.72 7.72c-.78.78-.78 2.05 0 2.83L4 21.41c.39.39.9.59 1.41.59.51 0 1.02-.2 1.41-.59l7.78-7.78 2.81-2.81c.8-.78.8-2.07 0-2.86zM5.41 20L4 18.59l7.72-7.72 1.47 1.35L5.41 20z\"/>\n",
              "  </svg>\n",
              "      </button>\n",
              "      \n",
              "  <style>\n",
              "    .colab-df-container {\n",
              "      display:flex;\n",
              "      flex-wrap:wrap;\n",
              "      gap: 12px;\n",
              "    }\n",
              "\n",
              "    .colab-df-convert {\n",
              "      background-color: #E8F0FE;\n",
              "      border: none;\n",
              "      border-radius: 50%;\n",
              "      cursor: pointer;\n",
              "      display: none;\n",
              "      fill: #1967D2;\n",
              "      height: 32px;\n",
              "      padding: 0 0 0 0;\n",
              "      width: 32px;\n",
              "    }\n",
              "\n",
              "    .colab-df-convert:hover {\n",
              "      background-color: #E2EBFA;\n",
              "      box-shadow: 0px 1px 2px rgba(60, 64, 67, 0.3), 0px 1px 3px 1px rgba(60, 64, 67, 0.15);\n",
              "      fill: #174EA6;\n",
              "    }\n",
              "\n",
              "    [theme=dark] .colab-df-convert {\n",
              "      background-color: #3B4455;\n",
              "      fill: #D2E3FC;\n",
              "    }\n",
              "\n",
              "    [theme=dark] .colab-df-convert:hover {\n",
              "      background-color: #434B5C;\n",
              "      box-shadow: 0px 1px 3px 1px rgba(0, 0, 0, 0.15);\n",
              "      filter: drop-shadow(0px 1px 2px rgba(0, 0, 0, 0.3));\n",
              "      fill: #FFFFFF;\n",
              "    }\n",
              "  </style>\n",
              "\n",
              "      <script>\n",
              "        const buttonEl =\n",
              "          document.querySelector('#df-a6ca9018-6de9-4bc6-b27a-f91f66081cd6 button.colab-df-convert');\n",
              "        buttonEl.style.display =\n",
              "          google.colab.kernel.accessAllowed ? 'block' : 'none';\n",
              "\n",
              "        async function convertToInteractive(key) {\n",
              "          const element = document.querySelector('#df-a6ca9018-6de9-4bc6-b27a-f91f66081cd6');\n",
              "          const dataTable =\n",
              "            await google.colab.kernel.invokeFunction('convertToInteractive',\n",
              "                                                     [key], {});\n",
              "          if (!dataTable) return;\n",
              "\n",
              "          const docLinkHtml = 'Like what you see? Visit the ' +\n",
              "            '<a target=\"_blank\" href=https://colab.research.google.com/notebooks/data_table.ipynb>data table notebook</a>'\n",
              "            + ' to learn more about interactive tables.';\n",
              "          element.innerHTML = '';\n",
              "          dataTable['output_type'] = 'display_data';\n",
              "          await google.colab.output.renderOutput(dataTable, element);\n",
              "          const docLink = document.createElement('div');\n",
              "          docLink.innerHTML = docLinkHtml;\n",
              "          element.appendChild(docLink);\n",
              "        }\n",
              "      </script>\n",
              "    </div>\n",
              "  </div>\n",
              "  "
            ]
          },
          "metadata": {},
          "execution_count": 116
        }
      ]
    },
    {
      "cell_type": "markdown",
      "source": [
        "Vamos a clasificar los datos según la siguente tabla\n",
        "\n",
        " Poco disponible | Disponible normalmente | Altamente disponible\n",
        "-----:|:--------:| -------\n",
        "Bueno | Regular | Malo\n",
        "Bueno | Regular | Malo\n",
        "Muy bueno | Bueno | Muy Malo\n",
        "\n",
        "\n",
        "\n",
        "Donde cada fila depende del valor de la reseña en Baja, Media y Alta respectivamente"
      ],
      "metadata": {
        "id": "lf_IUOwPXEd_"
      },
      "id": "lf_IUOwPXEd_"
    },
    {
      "cell_type": "code",
      "source": [
        "\n",
        "filas=len(df.axes[0])\n",
        "for i in range (filas):\n",
        "  if df['availability_365_range'][i]=='Poco disponible':\n",
        "    if df['reviews_per_month_cat'][i]=='Alta':\n",
        "      df['classification'][i]='Muy bueno'\n",
        "    else:\n",
        "      df['classification'][i]='Bueno'\n",
        "  elif df['availability_365_range'][i]=='Disponible normalmente':\n",
        "    if df['reviews_per_month_cat'][i]=='Alta':\n",
        "      df['classification'][i]='Bueno'\n",
        "    else:\n",
        "      df['classification'][i]='Regular'\n",
        "  else:\n",
        "    if df['reviews_per_month_cat'][i]=='Alta':\n",
        "      df['classification'][i]='Muy malo'\n",
        "    else:\n",
        "      df['classification'][i]='Malo'\n"
      ],
      "metadata": {
        "colab": {
          "base_uri": "https://localhost:8080/"
        },
        "id": "NoLv0nEFUFpF",
        "outputId": "94c6e270-29a7-44cf-a2ba-5d92232dfa9a"
      },
      "id": "NoLv0nEFUFpF",
      "execution_count": 117,
      "outputs": [
        {
          "output_type": "stream",
          "name": "stderr",
          "text": [
            "<ipython-input-117-6bf71fe99177>:17: SettingWithCopyWarning: \n",
            "A value is trying to be set on a copy of a slice from a DataFrame\n",
            "\n",
            "See the caveats in the documentation: https://pandas.pydata.org/pandas-docs/stable/user_guide/indexing.html#returning-a-view-versus-a-copy\n",
            "  df['classification'][i]='Malo'\n",
            "/usr/local/lib/python3.8/dist-packages/pandas/core/indexing.py:1732: SettingWithCopyWarning: \n",
            "A value is trying to be set on a copy of a slice from a DataFrame\n",
            "\n",
            "See the caveats in the documentation: https://pandas.pydata.org/pandas-docs/stable/user_guide/indexing.html#returning-a-view-versus-a-copy\n",
            "  self._setitem_single_block(indexer, value, name)\n"
          ]
        }
      ]
    },
    {
      "cell_type": "markdown",
      "source": [
        "Comprobemos que no quede ningun NaN. "
      ],
      "metadata": {
        "id": "cGA8CoPvYkTw"
      },
      "id": "cGA8CoPvYkTw"
    },
    {
      "cell_type": "code",
      "source": [
        "classif_nan = df['classification'].isna().sum()\n",
        "print(classif_nan)"
      ],
      "metadata": {
        "colab": {
          "base_uri": "https://localhost:8080/"
        },
        "id": "qLg3vv7hYjsr",
        "outputId": "d95eff2c-3ee9-448d-ff52-27b8e7e86099"
      },
      "id": "qLg3vv7hYjsr",
      "execution_count": 118,
      "outputs": [
        {
          "output_type": "stream",
          "name": "stdout",
          "text": [
            "0\n"
          ]
        }
      ]
    },
    {
      "cell_type": "markdown",
      "source": [
        "Todos los datos de la nueva columna han sido modificados, por lo que ya tenemos clasificados los alquieleres. "
      ],
      "metadata": {
        "id": "FhZmKIasZWpu"
      },
      "id": "FhZmKIasZWpu"
    },
    {
      "cell_type": "markdown",
      "source": [
        "Estudiaremos cuantos apartamentos pertenecen a cada clase. \n",
        "\n"
      ],
      "metadata": {
        "id": "M7sdmyRxZo6w"
      },
      "id": "M7sdmyRxZo6w"
    },
    {
      "cell_type": "code",
      "source": [
        "cant_bueno = df['classification'].value_counts() \n",
        "print(cant_bueno)\n"
      ],
      "metadata": {
        "id": "4toUjSU8dqwN",
        "outputId": "d0faca35-3eea-40f5-cfbe-417babfa74d5",
        "colab": {
          "base_uri": "https://localhost:8080/"
        }
      },
      "id": "4toUjSU8dqwN",
      "execution_count": 119,
      "outputs": [
        {
          "output_type": "stream",
          "name": "stdout",
          "text": [
            "Bueno        9397\n",
            "Malo         3172\n",
            "Regular      1413\n",
            "Muy malo      470\n",
            "Muy bueno     432\n",
            "Name: classification, dtype: int64\n"
          ]
        }
      ]
    },
    {
      "cell_type": "markdown",
      "source": [
        "Hay un total de 29 017 alquileres buenos, 9 451 malos y 2 024 muy malos, por lo que podemos considerar que de los alquileres en esta página predominan los buenos. "
      ],
      "metadata": {
        "id": "f6MaZ9sseI03"
      },
      "id": "f6MaZ9sseI03"
    },
    {
      "cell_type": "markdown",
      "source": [
        "## Modelado\n"
      ],
      "metadata": {
        "id": "xK5gIh_DsXan"
      },
      "id": "xK5gIh_DsXan"
    },
    {
      "cell_type": "markdown",
      "source": [
        "Una vez hemos preparado los datos tal y como deseamos, procedemos a modelar y estudiar el objetivo. Vamos a ver cuántos barrios hay, y cuántos apartamentos encontramos en los más populares. "
      ],
      "metadata": {
        "id": "US2QD_ToU4RF"
      },
      "id": "US2QD_ToU4RF"
    },
    {
      "cell_type": "code",
      "source": [
        "df['neighbourhood'].value_counts()\n"
      ],
      "metadata": {
        "colab": {
          "base_uri": "https://localhost:8080/"
        },
        "id": "O5d29tIMT9K2",
        "outputId": "31b9ebde-df17-47f7-9263-5999866349ec"
      },
      "id": "O5d29tIMT9K2",
      "execution_count": 120,
      "outputs": [
        {
          "output_type": "execute_result",
          "data": {
            "text/plain": [
              "Williamsburg          1376\n",
              "Bedford-Stuyvesant    1095\n",
              "Harlem                 907\n",
              "Upper West Side        760\n",
              "East Village           738\n",
              "                      ... \n",
              "Van Nest                 1\n",
              "Emerson Hill             1\n",
              "South Ozone Park         1\n",
              "Dongan Hills             1\n",
              "Melrose                  1\n",
              "Name: neighbourhood, Length: 189, dtype: int64"
            ]
          },
          "metadata": {},
          "execution_count": 120
        }
      ]
    },
    {
      "cell_type": "markdown",
      "source": [
        "Primero observamos que Williamsburg es donde más apartamentos encontramos.\n"
      ],
      "metadata": {
        "id": "sM8cZU-pVQoe"
      },
      "id": "sM8cZU-pVQoe"
    },
    {
      "cell_type": "markdown",
      "source": [
        "Como el objetivo del ejercicio es obtener la popularidad/calidad de cada barrio, para así ordenarlos y averiguar en qué ranking se encuentra, debemos por tanto hacer la media de cada uno. \n",
        "\n",
        "Anteriormente los clasificamos en unos rangos, pero eso no es efectivo, volveremos a clasificarlos en una nueva columna llamada 'classification_num', que se regirá a partir de las nuevas reglas proporcionadas, pero con un ligero cambio, y es que cada rango va a pasar a obtener un valor, tal que así: \n",
        "- muy malo: 0\n",
        "- malo: 0.25\n",
        "- regular: 0.5 \n",
        "- bueno: 0.75 \n",
        "- muy bueno: 1 \n",
        "\n",
        "Al igual que se ha ejecutado anteriormente, creamos una nueva variable, y lo añadimos como columna a nuestra base de datos. "
      ],
      "metadata": {
        "id": "rTJDRvFNYJqa"
      },
      "id": "rTJDRvFNYJqa"
    },
    {
      "cell_type": "markdown",
      "source": [
        "Lo que conseguimos con esto es que más tarde, al hacer la media, consigamos valores entre [0,1] por cada barrio. "
      ],
      "metadata": {
        "id": "BgrxiOEZlmgC"
      },
      "id": "BgrxiOEZlmgC"
    },
    {
      "cell_type": "code",
      "source": [
        "df.loc[:,'classification_num']=np.nan"
      ],
      "metadata": {
        "id": "2jZzLheBYFtB"
      },
      "id": "2jZzLheBYFtB",
      "execution_count": 121,
      "outputs": []
    },
    {
      "cell_type": "markdown",
      "source": [
        "Comprobamos de que se haya añadido correctamente. "
      ],
      "metadata": {
        "id": "uuNYeCWqZWMT"
      },
      "id": "uuNYeCWqZWMT"
    },
    {
      "cell_type": "code",
      "source": [
        "df.head()"
      ],
      "metadata": {
        "colab": {
          "base_uri": "https://localhost:8080/",
          "height": 447
        },
        "id": "2UEi4FG9YdOK",
        "outputId": "8f2675d1-c070-4e7e-a8a0-8fae4279072f"
      },
      "id": "2UEi4FG9YdOK",
      "execution_count": 122,
      "outputs": [
        {
          "output_type": "execute_result",
          "data": {
            "text/plain": [
              "     id                                              name  host_id  \\\n",
              "0  2539                Clean & quiet apt home by the park     2787   \n",
              "1  2595                             Skylit Midtown Castle     2845   \n",
              "2  3647               THE VILLAGE OF HARLEM....NEW YORK !     4632   \n",
              "3  3831                   Cozy Entire Floor of Brownstone     4869   \n",
              "4  5022  Entire Apt: Spacious Studio/Loft by central park     7192   \n",
              "\n",
              "     host_name neighbourhood_group neighbourhood  latitude  longitude  \\\n",
              "0         John            Brooklyn    Kensington  40.64749  -73.97237   \n",
              "1     Jennifer           Manhattan       Midtown  40.75362  -73.98377   \n",
              "2    Elisabeth           Manhattan        Harlem  40.80902  -73.94190   \n",
              "3  LisaRoxanne            Brooklyn  Clinton Hill  40.68514  -73.95976   \n",
              "4        Laura           Manhattan   East Harlem  40.79851  -73.94399   \n",
              "\n",
              "         room_type  price  minimum_nights  number_of_reviews last_review  \\\n",
              "0     Private room  149.0             1.0                9.0  2018-10-19   \n",
              "1  Entire home/apt  225.0             1.0               45.0  2019-05-21   \n",
              "2     Private room  150.0             3.0                0.0         NaN   \n",
              "3  Entire home/apt   89.0             1.0              270.0  2019-07-05   \n",
              "4  Entire home/apt   80.0            10.0                9.0  2018-11-19   \n",
              "\n",
              "   reviews_per_month  calculated_host_listings_count  availability_365  \\\n",
              "0               0.21                             6.0             365.0   \n",
              "1               0.38                             2.0             355.0   \n",
              "2               0.00                             1.0             365.0   \n",
              "3               4.64                             1.0             194.0   \n",
              "4               0.10                             1.0               0.0   \n",
              "\n",
              "  reviews_per_month_cat  availability_365_range classification  \\\n",
              "0                  Baja    Altamente disponible           Malo   \n",
              "1                  Baja    Altamente disponible           Malo   \n",
              "2                  Baja    Altamente disponible           Malo   \n",
              "3                  Alta  Disponible normalmente          Bueno   \n",
              "4                  Baja         Poco disponible          Bueno   \n",
              "\n",
              "   classification_num  \n",
              "0                 NaN  \n",
              "1                 NaN  \n",
              "2                 NaN  \n",
              "3                 NaN  \n",
              "4                 NaN  "
            ],
            "text/html": [
              "\n",
              "  <div id=\"df-2a954fa5-8134-4c64-a05a-855b7a631456\">\n",
              "    <div class=\"colab-df-container\">\n",
              "      <div>\n",
              "<style scoped>\n",
              "    .dataframe tbody tr th:only-of-type {\n",
              "        vertical-align: middle;\n",
              "    }\n",
              "\n",
              "    .dataframe tbody tr th {\n",
              "        vertical-align: top;\n",
              "    }\n",
              "\n",
              "    .dataframe thead th {\n",
              "        text-align: right;\n",
              "    }\n",
              "</style>\n",
              "<table border=\"1\" class=\"dataframe\">\n",
              "  <thead>\n",
              "    <tr style=\"text-align: right;\">\n",
              "      <th></th>\n",
              "      <th>id</th>\n",
              "      <th>name</th>\n",
              "      <th>host_id</th>\n",
              "      <th>host_name</th>\n",
              "      <th>neighbourhood_group</th>\n",
              "      <th>neighbourhood</th>\n",
              "      <th>latitude</th>\n",
              "      <th>longitude</th>\n",
              "      <th>room_type</th>\n",
              "      <th>price</th>\n",
              "      <th>minimum_nights</th>\n",
              "      <th>number_of_reviews</th>\n",
              "      <th>last_review</th>\n",
              "      <th>reviews_per_month</th>\n",
              "      <th>calculated_host_listings_count</th>\n",
              "      <th>availability_365</th>\n",
              "      <th>reviews_per_month_cat</th>\n",
              "      <th>availability_365_range</th>\n",
              "      <th>classification</th>\n",
              "      <th>classification_num</th>\n",
              "    </tr>\n",
              "  </thead>\n",
              "  <tbody>\n",
              "    <tr>\n",
              "      <th>0</th>\n",
              "      <td>2539</td>\n",
              "      <td>Clean &amp; quiet apt home by the park</td>\n",
              "      <td>2787</td>\n",
              "      <td>John</td>\n",
              "      <td>Brooklyn</td>\n",
              "      <td>Kensington</td>\n",
              "      <td>40.64749</td>\n",
              "      <td>-73.97237</td>\n",
              "      <td>Private room</td>\n",
              "      <td>149.0</td>\n",
              "      <td>1.0</td>\n",
              "      <td>9.0</td>\n",
              "      <td>2018-10-19</td>\n",
              "      <td>0.21</td>\n",
              "      <td>6.0</td>\n",
              "      <td>365.0</td>\n",
              "      <td>Baja</td>\n",
              "      <td>Altamente disponible</td>\n",
              "      <td>Malo</td>\n",
              "      <td>NaN</td>\n",
              "    </tr>\n",
              "    <tr>\n",
              "      <th>1</th>\n",
              "      <td>2595</td>\n",
              "      <td>Skylit Midtown Castle</td>\n",
              "      <td>2845</td>\n",
              "      <td>Jennifer</td>\n",
              "      <td>Manhattan</td>\n",
              "      <td>Midtown</td>\n",
              "      <td>40.75362</td>\n",
              "      <td>-73.98377</td>\n",
              "      <td>Entire home/apt</td>\n",
              "      <td>225.0</td>\n",
              "      <td>1.0</td>\n",
              "      <td>45.0</td>\n",
              "      <td>2019-05-21</td>\n",
              "      <td>0.38</td>\n",
              "      <td>2.0</td>\n",
              "      <td>355.0</td>\n",
              "      <td>Baja</td>\n",
              "      <td>Altamente disponible</td>\n",
              "      <td>Malo</td>\n",
              "      <td>NaN</td>\n",
              "    </tr>\n",
              "    <tr>\n",
              "      <th>2</th>\n",
              "      <td>3647</td>\n",
              "      <td>THE VILLAGE OF HARLEM....NEW YORK !</td>\n",
              "      <td>4632</td>\n",
              "      <td>Elisabeth</td>\n",
              "      <td>Manhattan</td>\n",
              "      <td>Harlem</td>\n",
              "      <td>40.80902</td>\n",
              "      <td>-73.94190</td>\n",
              "      <td>Private room</td>\n",
              "      <td>150.0</td>\n",
              "      <td>3.0</td>\n",
              "      <td>0.0</td>\n",
              "      <td>NaN</td>\n",
              "      <td>0.00</td>\n",
              "      <td>1.0</td>\n",
              "      <td>365.0</td>\n",
              "      <td>Baja</td>\n",
              "      <td>Altamente disponible</td>\n",
              "      <td>Malo</td>\n",
              "      <td>NaN</td>\n",
              "    </tr>\n",
              "    <tr>\n",
              "      <th>3</th>\n",
              "      <td>3831</td>\n",
              "      <td>Cozy Entire Floor of Brownstone</td>\n",
              "      <td>4869</td>\n",
              "      <td>LisaRoxanne</td>\n",
              "      <td>Brooklyn</td>\n",
              "      <td>Clinton Hill</td>\n",
              "      <td>40.68514</td>\n",
              "      <td>-73.95976</td>\n",
              "      <td>Entire home/apt</td>\n",
              "      <td>89.0</td>\n",
              "      <td>1.0</td>\n",
              "      <td>270.0</td>\n",
              "      <td>2019-07-05</td>\n",
              "      <td>4.64</td>\n",
              "      <td>1.0</td>\n",
              "      <td>194.0</td>\n",
              "      <td>Alta</td>\n",
              "      <td>Disponible normalmente</td>\n",
              "      <td>Bueno</td>\n",
              "      <td>NaN</td>\n",
              "    </tr>\n",
              "    <tr>\n",
              "      <th>4</th>\n",
              "      <td>5022</td>\n",
              "      <td>Entire Apt: Spacious Studio/Loft by central park</td>\n",
              "      <td>7192</td>\n",
              "      <td>Laura</td>\n",
              "      <td>Manhattan</td>\n",
              "      <td>East Harlem</td>\n",
              "      <td>40.79851</td>\n",
              "      <td>-73.94399</td>\n",
              "      <td>Entire home/apt</td>\n",
              "      <td>80.0</td>\n",
              "      <td>10.0</td>\n",
              "      <td>9.0</td>\n",
              "      <td>2018-11-19</td>\n",
              "      <td>0.10</td>\n",
              "      <td>1.0</td>\n",
              "      <td>0.0</td>\n",
              "      <td>Baja</td>\n",
              "      <td>Poco disponible</td>\n",
              "      <td>Bueno</td>\n",
              "      <td>NaN</td>\n",
              "    </tr>\n",
              "  </tbody>\n",
              "</table>\n",
              "</div>\n",
              "      <button class=\"colab-df-convert\" onclick=\"convertToInteractive('df-2a954fa5-8134-4c64-a05a-855b7a631456')\"\n",
              "              title=\"Convert this dataframe to an interactive table.\"\n",
              "              style=\"display:none;\">\n",
              "        \n",
              "  <svg xmlns=\"http://www.w3.org/2000/svg\" height=\"24px\"viewBox=\"0 0 24 24\"\n",
              "       width=\"24px\">\n",
              "    <path d=\"M0 0h24v24H0V0z\" fill=\"none\"/>\n",
              "    <path d=\"M18.56 5.44l.94 2.06.94-2.06 2.06-.94-2.06-.94-.94-2.06-.94 2.06-2.06.94zm-11 1L8.5 8.5l.94-2.06 2.06-.94-2.06-.94L8.5 2.5l-.94 2.06-2.06.94zm10 10l.94 2.06.94-2.06 2.06-.94-2.06-.94-.94-2.06-.94 2.06-2.06.94z\"/><path d=\"M17.41 7.96l-1.37-1.37c-.4-.4-.92-.59-1.43-.59-.52 0-1.04.2-1.43.59L10.3 9.45l-7.72 7.72c-.78.78-.78 2.05 0 2.83L4 21.41c.39.39.9.59 1.41.59.51 0 1.02-.2 1.41-.59l7.78-7.78 2.81-2.81c.8-.78.8-2.07 0-2.86zM5.41 20L4 18.59l7.72-7.72 1.47 1.35L5.41 20z\"/>\n",
              "  </svg>\n",
              "      </button>\n",
              "      \n",
              "  <style>\n",
              "    .colab-df-container {\n",
              "      display:flex;\n",
              "      flex-wrap:wrap;\n",
              "      gap: 12px;\n",
              "    }\n",
              "\n",
              "    .colab-df-convert {\n",
              "      background-color: #E8F0FE;\n",
              "      border: none;\n",
              "      border-radius: 50%;\n",
              "      cursor: pointer;\n",
              "      display: none;\n",
              "      fill: #1967D2;\n",
              "      height: 32px;\n",
              "      padding: 0 0 0 0;\n",
              "      width: 32px;\n",
              "    }\n",
              "\n",
              "    .colab-df-convert:hover {\n",
              "      background-color: #E2EBFA;\n",
              "      box-shadow: 0px 1px 2px rgba(60, 64, 67, 0.3), 0px 1px 3px 1px rgba(60, 64, 67, 0.15);\n",
              "      fill: #174EA6;\n",
              "    }\n",
              "\n",
              "    [theme=dark] .colab-df-convert {\n",
              "      background-color: #3B4455;\n",
              "      fill: #D2E3FC;\n",
              "    }\n",
              "\n",
              "    [theme=dark] .colab-df-convert:hover {\n",
              "      background-color: #434B5C;\n",
              "      box-shadow: 0px 1px 3px 1px rgba(0, 0, 0, 0.15);\n",
              "      filter: drop-shadow(0px 1px 2px rgba(0, 0, 0, 0.3));\n",
              "      fill: #FFFFFF;\n",
              "    }\n",
              "  </style>\n",
              "\n",
              "      <script>\n",
              "        const buttonEl =\n",
              "          document.querySelector('#df-2a954fa5-8134-4c64-a05a-855b7a631456 button.colab-df-convert');\n",
              "        buttonEl.style.display =\n",
              "          google.colab.kernel.accessAllowed ? 'block' : 'none';\n",
              "\n",
              "        async function convertToInteractive(key) {\n",
              "          const element = document.querySelector('#df-2a954fa5-8134-4c64-a05a-855b7a631456');\n",
              "          const dataTable =\n",
              "            await google.colab.kernel.invokeFunction('convertToInteractive',\n",
              "                                                     [key], {});\n",
              "          if (!dataTable) return;\n",
              "\n",
              "          const docLinkHtml = 'Like what you see? Visit the ' +\n",
              "            '<a target=\"_blank\" href=https://colab.research.google.com/notebooks/data_table.ipynb>data table notebook</a>'\n",
              "            + ' to learn more about interactive tables.';\n",
              "          element.innerHTML = '';\n",
              "          dataTable['output_type'] = 'display_data';\n",
              "          await google.colab.output.renderOutput(dataTable, element);\n",
              "          const docLink = document.createElement('div');\n",
              "          docLink.innerHTML = docLinkHtml;\n",
              "          element.appendChild(docLink);\n",
              "        }\n",
              "      </script>\n",
              "    </div>\n",
              "  </div>\n",
              "  "
            ]
          },
          "metadata": {},
          "execution_count": 122
        }
      ]
    },
    {
      "cell_type": "markdown",
      "source": [
        "Procedemos a la clasificación de cada apartameto, tal y como se explicó anteriormente. "
      ],
      "metadata": {
        "id": "5hDcpu_SZbFt"
      },
      "id": "5hDcpu_SZbFt"
    },
    {
      "cell_type": "code",
      "source": [
        "filas=len(df.axes[0])\n",
        "for i in range (filas):\n",
        "  if df['availability_365_range'][i]=='Poco disponible':\n",
        "    if df['reviews_per_month_cat'][i]=='Alta':\n",
        "      df['classification_num'][i]=1\n",
        "    else:\n",
        "      df['classification_num'][i]=0.75\n",
        "  elif df['availability_365_range'][i]=='Disponible normalmente':\n",
        "    if df['reviews_per_month_cat'][i]=='Alta':\n",
        "      df['classification_num'][i]=0.75\n",
        "    else:\n",
        "      df['classification_num'][i]=0.5\n",
        "  else:\n",
        "    if df['reviews_per_month_cat'][i]=='Alta':\n",
        "      df['classification_num'][i]=0\n",
        "    else:\n",
        "      df['classification_num'][i]=0.25"
      ],
      "metadata": {
        "colab": {
          "base_uri": "https://localhost:8080/"
        },
        "id": "CcCeERNUX6mn",
        "outputId": "d18fe8d6-61c3-44cc-f9ae-47ee3a7fb9c6"
      },
      "id": "CcCeERNUX6mn",
      "execution_count": 123,
      "outputs": [
        {
          "output_type": "stream",
          "name": "stderr",
          "text": [
            "<ipython-input-123-06fd58d22def>:17: SettingWithCopyWarning: \n",
            "A value is trying to be set on a copy of a slice from a DataFrame\n",
            "\n",
            "See the caveats in the documentation: https://pandas.pydata.org/pandas-docs/stable/user_guide/indexing.html#returning-a-view-versus-a-copy\n",
            "  df['classification_num'][i]=0.25\n",
            "<ipython-input-123-06fd58d22def>:10: SettingWithCopyWarning: \n",
            "A value is trying to be set on a copy of a slice from a DataFrame\n",
            "\n",
            "See the caveats in the documentation: https://pandas.pydata.org/pandas-docs/stable/user_guide/indexing.html#returning-a-view-versus-a-copy\n",
            "  df['classification_num'][i]=0.75\n",
            "<ipython-input-123-06fd58d22def>:7: SettingWithCopyWarning: \n",
            "A value is trying to be set on a copy of a slice from a DataFrame\n",
            "\n",
            "See the caveats in the documentation: https://pandas.pydata.org/pandas-docs/stable/user_guide/indexing.html#returning-a-view-versus-a-copy\n",
            "  df['classification_num'][i]=0.75\n",
            "<ipython-input-123-06fd58d22def>:12: SettingWithCopyWarning: \n",
            "A value is trying to be set on a copy of a slice from a DataFrame\n",
            "\n",
            "See the caveats in the documentation: https://pandas.pydata.org/pandas-docs/stable/user_guide/indexing.html#returning-a-view-versus-a-copy\n",
            "  df['classification_num'][i]=0.5\n",
            "<ipython-input-123-06fd58d22def>:5: SettingWithCopyWarning: \n",
            "A value is trying to be set on a copy of a slice from a DataFrame\n",
            "\n",
            "See the caveats in the documentation: https://pandas.pydata.org/pandas-docs/stable/user_guide/indexing.html#returning-a-view-versus-a-copy\n",
            "  df['classification_num'][i]=1\n",
            "<ipython-input-123-06fd58d22def>:15: SettingWithCopyWarning: \n",
            "A value is trying to be set on a copy of a slice from a DataFrame\n",
            "\n",
            "See the caveats in the documentation: https://pandas.pydata.org/pandas-docs/stable/user_guide/indexing.html#returning-a-view-versus-a-copy\n",
            "  df['classification_num'][i]=0\n"
          ]
        }
      ]
    },
    {
      "cell_type": "markdown",
      "source": [
        "A priori, parece que los valores se han añadido correctamente, pero lo comprobaremos estudiando a ver si hay algún NaN (que no debería)."
      ],
      "metadata": {
        "id": "3kIYCLvQZ2h_"
      },
      "id": "3kIYCLvQZ2h_"
    },
    {
      "cell_type": "code",
      "source": [
        "df.head()"
      ],
      "metadata": {
        "colab": {
          "base_uri": "https://localhost:8080/",
          "height": 447
        },
        "id": "m498fzNhYjAA",
        "outputId": "5ae0fc1f-49cb-4e64-e39b-5dfa64e59e39"
      },
      "id": "m498fzNhYjAA",
      "execution_count": 124,
      "outputs": [
        {
          "output_type": "execute_result",
          "data": {
            "text/plain": [
              "     id                                              name  host_id  \\\n",
              "0  2539                Clean & quiet apt home by the park     2787   \n",
              "1  2595                             Skylit Midtown Castle     2845   \n",
              "2  3647               THE VILLAGE OF HARLEM....NEW YORK !     4632   \n",
              "3  3831                   Cozy Entire Floor of Brownstone     4869   \n",
              "4  5022  Entire Apt: Spacious Studio/Loft by central park     7192   \n",
              "\n",
              "     host_name neighbourhood_group neighbourhood  latitude  longitude  \\\n",
              "0         John            Brooklyn    Kensington  40.64749  -73.97237   \n",
              "1     Jennifer           Manhattan       Midtown  40.75362  -73.98377   \n",
              "2    Elisabeth           Manhattan        Harlem  40.80902  -73.94190   \n",
              "3  LisaRoxanne            Brooklyn  Clinton Hill  40.68514  -73.95976   \n",
              "4        Laura           Manhattan   East Harlem  40.79851  -73.94399   \n",
              "\n",
              "         room_type  price  minimum_nights  number_of_reviews last_review  \\\n",
              "0     Private room  149.0             1.0                9.0  2018-10-19   \n",
              "1  Entire home/apt  225.0             1.0               45.0  2019-05-21   \n",
              "2     Private room  150.0             3.0                0.0         NaN   \n",
              "3  Entire home/apt   89.0             1.0              270.0  2019-07-05   \n",
              "4  Entire home/apt   80.0            10.0                9.0  2018-11-19   \n",
              "\n",
              "   reviews_per_month  calculated_host_listings_count  availability_365  \\\n",
              "0               0.21                             6.0             365.0   \n",
              "1               0.38                             2.0             355.0   \n",
              "2               0.00                             1.0             365.0   \n",
              "3               4.64                             1.0             194.0   \n",
              "4               0.10                             1.0               0.0   \n",
              "\n",
              "  reviews_per_month_cat  availability_365_range classification  \\\n",
              "0                  Baja    Altamente disponible           Malo   \n",
              "1                  Baja    Altamente disponible           Malo   \n",
              "2                  Baja    Altamente disponible           Malo   \n",
              "3                  Alta  Disponible normalmente          Bueno   \n",
              "4                  Baja         Poco disponible          Bueno   \n",
              "\n",
              "   classification_num  \n",
              "0                0.25  \n",
              "1                0.25  \n",
              "2                0.25  \n",
              "3                0.75  \n",
              "4                0.75  "
            ],
            "text/html": [
              "\n",
              "  <div id=\"df-00bdebd4-55f7-4b4f-8569-edf793bd92e3\">\n",
              "    <div class=\"colab-df-container\">\n",
              "      <div>\n",
              "<style scoped>\n",
              "    .dataframe tbody tr th:only-of-type {\n",
              "        vertical-align: middle;\n",
              "    }\n",
              "\n",
              "    .dataframe tbody tr th {\n",
              "        vertical-align: top;\n",
              "    }\n",
              "\n",
              "    .dataframe thead th {\n",
              "        text-align: right;\n",
              "    }\n",
              "</style>\n",
              "<table border=\"1\" class=\"dataframe\">\n",
              "  <thead>\n",
              "    <tr style=\"text-align: right;\">\n",
              "      <th></th>\n",
              "      <th>id</th>\n",
              "      <th>name</th>\n",
              "      <th>host_id</th>\n",
              "      <th>host_name</th>\n",
              "      <th>neighbourhood_group</th>\n",
              "      <th>neighbourhood</th>\n",
              "      <th>latitude</th>\n",
              "      <th>longitude</th>\n",
              "      <th>room_type</th>\n",
              "      <th>price</th>\n",
              "      <th>minimum_nights</th>\n",
              "      <th>number_of_reviews</th>\n",
              "      <th>last_review</th>\n",
              "      <th>reviews_per_month</th>\n",
              "      <th>calculated_host_listings_count</th>\n",
              "      <th>availability_365</th>\n",
              "      <th>reviews_per_month_cat</th>\n",
              "      <th>availability_365_range</th>\n",
              "      <th>classification</th>\n",
              "      <th>classification_num</th>\n",
              "    </tr>\n",
              "  </thead>\n",
              "  <tbody>\n",
              "    <tr>\n",
              "      <th>0</th>\n",
              "      <td>2539</td>\n",
              "      <td>Clean &amp; quiet apt home by the park</td>\n",
              "      <td>2787</td>\n",
              "      <td>John</td>\n",
              "      <td>Brooklyn</td>\n",
              "      <td>Kensington</td>\n",
              "      <td>40.64749</td>\n",
              "      <td>-73.97237</td>\n",
              "      <td>Private room</td>\n",
              "      <td>149.0</td>\n",
              "      <td>1.0</td>\n",
              "      <td>9.0</td>\n",
              "      <td>2018-10-19</td>\n",
              "      <td>0.21</td>\n",
              "      <td>6.0</td>\n",
              "      <td>365.0</td>\n",
              "      <td>Baja</td>\n",
              "      <td>Altamente disponible</td>\n",
              "      <td>Malo</td>\n",
              "      <td>0.25</td>\n",
              "    </tr>\n",
              "    <tr>\n",
              "      <th>1</th>\n",
              "      <td>2595</td>\n",
              "      <td>Skylit Midtown Castle</td>\n",
              "      <td>2845</td>\n",
              "      <td>Jennifer</td>\n",
              "      <td>Manhattan</td>\n",
              "      <td>Midtown</td>\n",
              "      <td>40.75362</td>\n",
              "      <td>-73.98377</td>\n",
              "      <td>Entire home/apt</td>\n",
              "      <td>225.0</td>\n",
              "      <td>1.0</td>\n",
              "      <td>45.0</td>\n",
              "      <td>2019-05-21</td>\n",
              "      <td>0.38</td>\n",
              "      <td>2.0</td>\n",
              "      <td>355.0</td>\n",
              "      <td>Baja</td>\n",
              "      <td>Altamente disponible</td>\n",
              "      <td>Malo</td>\n",
              "      <td>0.25</td>\n",
              "    </tr>\n",
              "    <tr>\n",
              "      <th>2</th>\n",
              "      <td>3647</td>\n",
              "      <td>THE VILLAGE OF HARLEM....NEW YORK !</td>\n",
              "      <td>4632</td>\n",
              "      <td>Elisabeth</td>\n",
              "      <td>Manhattan</td>\n",
              "      <td>Harlem</td>\n",
              "      <td>40.80902</td>\n",
              "      <td>-73.94190</td>\n",
              "      <td>Private room</td>\n",
              "      <td>150.0</td>\n",
              "      <td>3.0</td>\n",
              "      <td>0.0</td>\n",
              "      <td>NaN</td>\n",
              "      <td>0.00</td>\n",
              "      <td>1.0</td>\n",
              "      <td>365.0</td>\n",
              "      <td>Baja</td>\n",
              "      <td>Altamente disponible</td>\n",
              "      <td>Malo</td>\n",
              "      <td>0.25</td>\n",
              "    </tr>\n",
              "    <tr>\n",
              "      <th>3</th>\n",
              "      <td>3831</td>\n",
              "      <td>Cozy Entire Floor of Brownstone</td>\n",
              "      <td>4869</td>\n",
              "      <td>LisaRoxanne</td>\n",
              "      <td>Brooklyn</td>\n",
              "      <td>Clinton Hill</td>\n",
              "      <td>40.68514</td>\n",
              "      <td>-73.95976</td>\n",
              "      <td>Entire home/apt</td>\n",
              "      <td>89.0</td>\n",
              "      <td>1.0</td>\n",
              "      <td>270.0</td>\n",
              "      <td>2019-07-05</td>\n",
              "      <td>4.64</td>\n",
              "      <td>1.0</td>\n",
              "      <td>194.0</td>\n",
              "      <td>Alta</td>\n",
              "      <td>Disponible normalmente</td>\n",
              "      <td>Bueno</td>\n",
              "      <td>0.75</td>\n",
              "    </tr>\n",
              "    <tr>\n",
              "      <th>4</th>\n",
              "      <td>5022</td>\n",
              "      <td>Entire Apt: Spacious Studio/Loft by central park</td>\n",
              "      <td>7192</td>\n",
              "      <td>Laura</td>\n",
              "      <td>Manhattan</td>\n",
              "      <td>East Harlem</td>\n",
              "      <td>40.79851</td>\n",
              "      <td>-73.94399</td>\n",
              "      <td>Entire home/apt</td>\n",
              "      <td>80.0</td>\n",
              "      <td>10.0</td>\n",
              "      <td>9.0</td>\n",
              "      <td>2018-11-19</td>\n",
              "      <td>0.10</td>\n",
              "      <td>1.0</td>\n",
              "      <td>0.0</td>\n",
              "      <td>Baja</td>\n",
              "      <td>Poco disponible</td>\n",
              "      <td>Bueno</td>\n",
              "      <td>0.75</td>\n",
              "    </tr>\n",
              "  </tbody>\n",
              "</table>\n",
              "</div>\n",
              "      <button class=\"colab-df-convert\" onclick=\"convertToInteractive('df-00bdebd4-55f7-4b4f-8569-edf793bd92e3')\"\n",
              "              title=\"Convert this dataframe to an interactive table.\"\n",
              "              style=\"display:none;\">\n",
              "        \n",
              "  <svg xmlns=\"http://www.w3.org/2000/svg\" height=\"24px\"viewBox=\"0 0 24 24\"\n",
              "       width=\"24px\">\n",
              "    <path d=\"M0 0h24v24H0V0z\" fill=\"none\"/>\n",
              "    <path d=\"M18.56 5.44l.94 2.06.94-2.06 2.06-.94-2.06-.94-.94-2.06-.94 2.06-2.06.94zm-11 1L8.5 8.5l.94-2.06 2.06-.94-2.06-.94L8.5 2.5l-.94 2.06-2.06.94zm10 10l.94 2.06.94-2.06 2.06-.94-2.06-.94-.94-2.06-.94 2.06-2.06.94z\"/><path d=\"M17.41 7.96l-1.37-1.37c-.4-.4-.92-.59-1.43-.59-.52 0-1.04.2-1.43.59L10.3 9.45l-7.72 7.72c-.78.78-.78 2.05 0 2.83L4 21.41c.39.39.9.59 1.41.59.51 0 1.02-.2 1.41-.59l7.78-7.78 2.81-2.81c.8-.78.8-2.07 0-2.86zM5.41 20L4 18.59l7.72-7.72 1.47 1.35L5.41 20z\"/>\n",
              "  </svg>\n",
              "      </button>\n",
              "      \n",
              "  <style>\n",
              "    .colab-df-container {\n",
              "      display:flex;\n",
              "      flex-wrap:wrap;\n",
              "      gap: 12px;\n",
              "    }\n",
              "\n",
              "    .colab-df-convert {\n",
              "      background-color: #E8F0FE;\n",
              "      border: none;\n",
              "      border-radius: 50%;\n",
              "      cursor: pointer;\n",
              "      display: none;\n",
              "      fill: #1967D2;\n",
              "      height: 32px;\n",
              "      padding: 0 0 0 0;\n",
              "      width: 32px;\n",
              "    }\n",
              "\n",
              "    .colab-df-convert:hover {\n",
              "      background-color: #E2EBFA;\n",
              "      box-shadow: 0px 1px 2px rgba(60, 64, 67, 0.3), 0px 1px 3px 1px rgba(60, 64, 67, 0.15);\n",
              "      fill: #174EA6;\n",
              "    }\n",
              "\n",
              "    [theme=dark] .colab-df-convert {\n",
              "      background-color: #3B4455;\n",
              "      fill: #D2E3FC;\n",
              "    }\n",
              "\n",
              "    [theme=dark] .colab-df-convert:hover {\n",
              "      background-color: #434B5C;\n",
              "      box-shadow: 0px 1px 3px 1px rgba(0, 0, 0, 0.15);\n",
              "      filter: drop-shadow(0px 1px 2px rgba(0, 0, 0, 0.3));\n",
              "      fill: #FFFFFF;\n",
              "    }\n",
              "  </style>\n",
              "\n",
              "      <script>\n",
              "        const buttonEl =\n",
              "          document.querySelector('#df-00bdebd4-55f7-4b4f-8569-edf793bd92e3 button.colab-df-convert');\n",
              "        buttonEl.style.display =\n",
              "          google.colab.kernel.accessAllowed ? 'block' : 'none';\n",
              "\n",
              "        async function convertToInteractive(key) {\n",
              "          const element = document.querySelector('#df-00bdebd4-55f7-4b4f-8569-edf793bd92e3');\n",
              "          const dataTable =\n",
              "            await google.colab.kernel.invokeFunction('convertToInteractive',\n",
              "                                                     [key], {});\n",
              "          if (!dataTable) return;\n",
              "\n",
              "          const docLinkHtml = 'Like what you see? Visit the ' +\n",
              "            '<a target=\"_blank\" href=https://colab.research.google.com/notebooks/data_table.ipynb>data table notebook</a>'\n",
              "            + ' to learn more about interactive tables.';\n",
              "          element.innerHTML = '';\n",
              "          dataTable['output_type'] = 'display_data';\n",
              "          await google.colab.output.renderOutput(dataTable, element);\n",
              "          const docLink = document.createElement('div');\n",
              "          docLink.innerHTML = docLinkHtml;\n",
              "          element.appendChild(docLink);\n",
              "        }\n",
              "      </script>\n",
              "    </div>\n",
              "  </div>\n",
              "  "
            ]
          },
          "metadata": {},
          "execution_count": 124
        }
      ]
    },
    {
      "cell_type": "code",
      "source": [
        "classif_num_nan = df['classification_num'].isna().sum()\n",
        "print(classif_num_nan)"
      ],
      "metadata": {
        "colab": {
          "base_uri": "https://localhost:8080/"
        },
        "id": "vZYXk3bcaEgD",
        "outputId": "fd6a63f7-ea57-402a-b1e2-e012ec71ab2a"
      },
      "id": "vZYXk3bcaEgD",
      "execution_count": 125,
      "outputs": [
        {
          "output_type": "stream",
          "name": "stdout",
          "text": [
            "0\n"
          ]
        }
      ]
    },
    {
      "cell_type": "markdown",
      "source": [
        "Obtenemos el valor deseado. Ahora, gracias a la función '.value_counts', compararemos las dos columnas 'classification' y 'classification_num', ya que deberán tener el mismo número de apartamentos en cada rango o valor corresponidentemente. "
      ],
      "metadata": {
        "id": "Aa-a4uGYaTy5"
      },
      "id": "Aa-a4uGYaTy5"
    },
    {
      "cell_type": "code",
      "source": [
        "df['classification'].value_counts()"
      ],
      "metadata": {
        "colab": {
          "base_uri": "https://localhost:8080/"
        },
        "id": "9QmHtgUIabFU",
        "outputId": "9288f617-648b-4a01-8260-894a72487e99"
      },
      "id": "9QmHtgUIabFU",
      "execution_count": 126,
      "outputs": [
        {
          "output_type": "execute_result",
          "data": {
            "text/plain": [
              "Bueno        9397\n",
              "Malo         3172\n",
              "Regular      1413\n",
              "Muy malo      470\n",
              "Muy bueno     432\n",
              "Name: classification, dtype: int64"
            ]
          },
          "metadata": {},
          "execution_count": 126
        }
      ]
    },
    {
      "cell_type": "code",
      "source": [
        "df['classification_num'].value_counts()"
      ],
      "metadata": {
        "colab": {
          "base_uri": "https://localhost:8080/"
        },
        "id": "uRjLfIM4awcz",
        "outputId": "97915a06-2c12-4409-9868-d8507bd66b77"
      },
      "id": "uRjLfIM4awcz",
      "execution_count": 127,
      "outputs": [
        {
          "output_type": "execute_result",
          "data": {
            "text/plain": [
              "0.75    9397\n",
              "0.25    3172\n",
              "0.50    1413\n",
              "0.00     470\n",
              "1.00     432\n",
              "Name: classification_num, dtype: int64"
            ]
          },
          "metadata": {},
          "execution_count": 127
        }
      ]
    },
    {
      "cell_type": "markdown",
      "source": [
        "Lo que deseábamos se ha ejecutado correctamente. "
      ],
      "metadata": {
        "id": "WW_8JJxia09Y"
      },
      "id": "WW_8JJxia09Y"
    },
    {
      "cell_type": "markdown",
      "source": [
        "Para proceder con el estudio de las clasificaciones medias de cada barrio, crearemos un nuevo vector llamado barrios en el cual se guardará cada barrio sin repetición, y otra variables num_barrios, que será la longitud de este último. "
      ],
      "metadata": {
        "id": "m9_1-NLWbD0a"
      },
      "id": "m9_1-NLWbD0a"
    },
    {
      "cell_type": "code",
      "source": [
        "df.head()"
      ],
      "metadata": {
        "id": "xFFsoS2gwD8E",
        "outputId": "fedb42f8-1bfa-4097-a5bb-785dac7d7319",
        "colab": {
          "base_uri": "https://localhost:8080/",
          "height": 447
        }
      },
      "id": "xFFsoS2gwD8E",
      "execution_count": 129,
      "outputs": [
        {
          "output_type": "execute_result",
          "data": {
            "text/plain": [
              "     id                                              name  host_id  \\\n",
              "0  2539                Clean & quiet apt home by the park     2787   \n",
              "1  2595                             Skylit Midtown Castle     2845   \n",
              "2  3647               THE VILLAGE OF HARLEM....NEW YORK !     4632   \n",
              "3  3831                   Cozy Entire Floor of Brownstone     4869   \n",
              "4  5022  Entire Apt: Spacious Studio/Loft by central park     7192   \n",
              "\n",
              "     host_name neighbourhood_group neighbourhood  latitude  longitude  \\\n",
              "0         John            Brooklyn    Kensington  40.64749  -73.97237   \n",
              "1     Jennifer           Manhattan       Midtown  40.75362  -73.98377   \n",
              "2    Elisabeth           Manhattan        Harlem  40.80902  -73.94190   \n",
              "3  LisaRoxanne            Brooklyn  Clinton Hill  40.68514  -73.95976   \n",
              "4        Laura           Manhattan   East Harlem  40.79851  -73.94399   \n",
              "\n",
              "         room_type  price  minimum_nights  number_of_reviews last_review  \\\n",
              "0     Private room  149.0             1.0                9.0  2018-10-19   \n",
              "1  Entire home/apt  225.0             1.0               45.0  2019-05-21   \n",
              "2     Private room  150.0             3.0                0.0         NaN   \n",
              "3  Entire home/apt   89.0             1.0              270.0  2019-07-05   \n",
              "4  Entire home/apt   80.0            10.0                9.0  2018-11-19   \n",
              "\n",
              "   reviews_per_month  calculated_host_listings_count  availability_365  \\\n",
              "0               0.21                             6.0             365.0   \n",
              "1               0.38                             2.0             355.0   \n",
              "2               0.00                             1.0             365.0   \n",
              "3               4.64                             1.0             194.0   \n",
              "4               0.10                             1.0               0.0   \n",
              "\n",
              "  reviews_per_month_cat  availability_365_range classification  \\\n",
              "0                  Baja    Altamente disponible           Malo   \n",
              "1                  Baja    Altamente disponible           Malo   \n",
              "2                  Baja    Altamente disponible           Malo   \n",
              "3                  Alta  Disponible normalmente          Bueno   \n",
              "4                  Baja         Poco disponible          Bueno   \n",
              "\n",
              "   classification_num  \n",
              "0                0.25  \n",
              "1                0.25  \n",
              "2                0.25  \n",
              "3                0.75  \n",
              "4                0.75  "
            ],
            "text/html": [
              "\n",
              "  <div id=\"df-265fbcc6-f58b-4e12-b7d7-48cec86f2495\">\n",
              "    <div class=\"colab-df-container\">\n",
              "      <div>\n",
              "<style scoped>\n",
              "    .dataframe tbody tr th:only-of-type {\n",
              "        vertical-align: middle;\n",
              "    }\n",
              "\n",
              "    .dataframe tbody tr th {\n",
              "        vertical-align: top;\n",
              "    }\n",
              "\n",
              "    .dataframe thead th {\n",
              "        text-align: right;\n",
              "    }\n",
              "</style>\n",
              "<table border=\"1\" class=\"dataframe\">\n",
              "  <thead>\n",
              "    <tr style=\"text-align: right;\">\n",
              "      <th></th>\n",
              "      <th>id</th>\n",
              "      <th>name</th>\n",
              "      <th>host_id</th>\n",
              "      <th>host_name</th>\n",
              "      <th>neighbourhood_group</th>\n",
              "      <th>neighbourhood</th>\n",
              "      <th>latitude</th>\n",
              "      <th>longitude</th>\n",
              "      <th>room_type</th>\n",
              "      <th>price</th>\n",
              "      <th>minimum_nights</th>\n",
              "      <th>number_of_reviews</th>\n",
              "      <th>last_review</th>\n",
              "      <th>reviews_per_month</th>\n",
              "      <th>calculated_host_listings_count</th>\n",
              "      <th>availability_365</th>\n",
              "      <th>reviews_per_month_cat</th>\n",
              "      <th>availability_365_range</th>\n",
              "      <th>classification</th>\n",
              "      <th>classification_num</th>\n",
              "    </tr>\n",
              "  </thead>\n",
              "  <tbody>\n",
              "    <tr>\n",
              "      <th>0</th>\n",
              "      <td>2539</td>\n",
              "      <td>Clean &amp; quiet apt home by the park</td>\n",
              "      <td>2787</td>\n",
              "      <td>John</td>\n",
              "      <td>Brooklyn</td>\n",
              "      <td>Kensington</td>\n",
              "      <td>40.64749</td>\n",
              "      <td>-73.97237</td>\n",
              "      <td>Private room</td>\n",
              "      <td>149.0</td>\n",
              "      <td>1.0</td>\n",
              "      <td>9.0</td>\n",
              "      <td>2018-10-19</td>\n",
              "      <td>0.21</td>\n",
              "      <td>6.0</td>\n",
              "      <td>365.0</td>\n",
              "      <td>Baja</td>\n",
              "      <td>Altamente disponible</td>\n",
              "      <td>Malo</td>\n",
              "      <td>0.25</td>\n",
              "    </tr>\n",
              "    <tr>\n",
              "      <th>1</th>\n",
              "      <td>2595</td>\n",
              "      <td>Skylit Midtown Castle</td>\n",
              "      <td>2845</td>\n",
              "      <td>Jennifer</td>\n",
              "      <td>Manhattan</td>\n",
              "      <td>Midtown</td>\n",
              "      <td>40.75362</td>\n",
              "      <td>-73.98377</td>\n",
              "      <td>Entire home/apt</td>\n",
              "      <td>225.0</td>\n",
              "      <td>1.0</td>\n",
              "      <td>45.0</td>\n",
              "      <td>2019-05-21</td>\n",
              "      <td>0.38</td>\n",
              "      <td>2.0</td>\n",
              "      <td>355.0</td>\n",
              "      <td>Baja</td>\n",
              "      <td>Altamente disponible</td>\n",
              "      <td>Malo</td>\n",
              "      <td>0.25</td>\n",
              "    </tr>\n",
              "    <tr>\n",
              "      <th>2</th>\n",
              "      <td>3647</td>\n",
              "      <td>THE VILLAGE OF HARLEM....NEW YORK !</td>\n",
              "      <td>4632</td>\n",
              "      <td>Elisabeth</td>\n",
              "      <td>Manhattan</td>\n",
              "      <td>Harlem</td>\n",
              "      <td>40.80902</td>\n",
              "      <td>-73.94190</td>\n",
              "      <td>Private room</td>\n",
              "      <td>150.0</td>\n",
              "      <td>3.0</td>\n",
              "      <td>0.0</td>\n",
              "      <td>NaN</td>\n",
              "      <td>0.00</td>\n",
              "      <td>1.0</td>\n",
              "      <td>365.0</td>\n",
              "      <td>Baja</td>\n",
              "      <td>Altamente disponible</td>\n",
              "      <td>Malo</td>\n",
              "      <td>0.25</td>\n",
              "    </tr>\n",
              "    <tr>\n",
              "      <th>3</th>\n",
              "      <td>3831</td>\n",
              "      <td>Cozy Entire Floor of Brownstone</td>\n",
              "      <td>4869</td>\n",
              "      <td>LisaRoxanne</td>\n",
              "      <td>Brooklyn</td>\n",
              "      <td>Clinton Hill</td>\n",
              "      <td>40.68514</td>\n",
              "      <td>-73.95976</td>\n",
              "      <td>Entire home/apt</td>\n",
              "      <td>89.0</td>\n",
              "      <td>1.0</td>\n",
              "      <td>270.0</td>\n",
              "      <td>2019-07-05</td>\n",
              "      <td>4.64</td>\n",
              "      <td>1.0</td>\n",
              "      <td>194.0</td>\n",
              "      <td>Alta</td>\n",
              "      <td>Disponible normalmente</td>\n",
              "      <td>Bueno</td>\n",
              "      <td>0.75</td>\n",
              "    </tr>\n",
              "    <tr>\n",
              "      <th>4</th>\n",
              "      <td>5022</td>\n",
              "      <td>Entire Apt: Spacious Studio/Loft by central park</td>\n",
              "      <td>7192</td>\n",
              "      <td>Laura</td>\n",
              "      <td>Manhattan</td>\n",
              "      <td>East Harlem</td>\n",
              "      <td>40.79851</td>\n",
              "      <td>-73.94399</td>\n",
              "      <td>Entire home/apt</td>\n",
              "      <td>80.0</td>\n",
              "      <td>10.0</td>\n",
              "      <td>9.0</td>\n",
              "      <td>2018-11-19</td>\n",
              "      <td>0.10</td>\n",
              "      <td>1.0</td>\n",
              "      <td>0.0</td>\n",
              "      <td>Baja</td>\n",
              "      <td>Poco disponible</td>\n",
              "      <td>Bueno</td>\n",
              "      <td>0.75</td>\n",
              "    </tr>\n",
              "  </tbody>\n",
              "</table>\n",
              "</div>\n",
              "      <button class=\"colab-df-convert\" onclick=\"convertToInteractive('df-265fbcc6-f58b-4e12-b7d7-48cec86f2495')\"\n",
              "              title=\"Convert this dataframe to an interactive table.\"\n",
              "              style=\"display:none;\">\n",
              "        \n",
              "  <svg xmlns=\"http://www.w3.org/2000/svg\" height=\"24px\"viewBox=\"0 0 24 24\"\n",
              "       width=\"24px\">\n",
              "    <path d=\"M0 0h24v24H0V0z\" fill=\"none\"/>\n",
              "    <path d=\"M18.56 5.44l.94 2.06.94-2.06 2.06-.94-2.06-.94-.94-2.06-.94 2.06-2.06.94zm-11 1L8.5 8.5l.94-2.06 2.06-.94-2.06-.94L8.5 2.5l-.94 2.06-2.06.94zm10 10l.94 2.06.94-2.06 2.06-.94-2.06-.94-.94-2.06-.94 2.06-2.06.94z\"/><path d=\"M17.41 7.96l-1.37-1.37c-.4-.4-.92-.59-1.43-.59-.52 0-1.04.2-1.43.59L10.3 9.45l-7.72 7.72c-.78.78-.78 2.05 0 2.83L4 21.41c.39.39.9.59 1.41.59.51 0 1.02-.2 1.41-.59l7.78-7.78 2.81-2.81c.8-.78.8-2.07 0-2.86zM5.41 20L4 18.59l7.72-7.72 1.47 1.35L5.41 20z\"/>\n",
              "  </svg>\n",
              "      </button>\n",
              "      \n",
              "  <style>\n",
              "    .colab-df-container {\n",
              "      display:flex;\n",
              "      flex-wrap:wrap;\n",
              "      gap: 12px;\n",
              "    }\n",
              "\n",
              "    .colab-df-convert {\n",
              "      background-color: #E8F0FE;\n",
              "      border: none;\n",
              "      border-radius: 50%;\n",
              "      cursor: pointer;\n",
              "      display: none;\n",
              "      fill: #1967D2;\n",
              "      height: 32px;\n",
              "      padding: 0 0 0 0;\n",
              "      width: 32px;\n",
              "    }\n",
              "\n",
              "    .colab-df-convert:hover {\n",
              "      background-color: #E2EBFA;\n",
              "      box-shadow: 0px 1px 2px rgba(60, 64, 67, 0.3), 0px 1px 3px 1px rgba(60, 64, 67, 0.15);\n",
              "      fill: #174EA6;\n",
              "    }\n",
              "\n",
              "    [theme=dark] .colab-df-convert {\n",
              "      background-color: #3B4455;\n",
              "      fill: #D2E3FC;\n",
              "    }\n",
              "\n",
              "    [theme=dark] .colab-df-convert:hover {\n",
              "      background-color: #434B5C;\n",
              "      box-shadow: 0px 1px 3px 1px rgba(0, 0, 0, 0.15);\n",
              "      filter: drop-shadow(0px 1px 2px rgba(0, 0, 0, 0.3));\n",
              "      fill: #FFFFFF;\n",
              "    }\n",
              "  </style>\n",
              "\n",
              "      <script>\n",
              "        const buttonEl =\n",
              "          document.querySelector('#df-265fbcc6-f58b-4e12-b7d7-48cec86f2495 button.colab-df-convert');\n",
              "        buttonEl.style.display =\n",
              "          google.colab.kernel.accessAllowed ? 'block' : 'none';\n",
              "\n",
              "        async function convertToInteractive(key) {\n",
              "          const element = document.querySelector('#df-265fbcc6-f58b-4e12-b7d7-48cec86f2495');\n",
              "          const dataTable =\n",
              "            await google.colab.kernel.invokeFunction('convertToInteractive',\n",
              "                                                     [key], {});\n",
              "          if (!dataTable) return;\n",
              "\n",
              "          const docLinkHtml = 'Like what you see? Visit the ' +\n",
              "            '<a target=\"_blank\" href=https://colab.research.google.com/notebooks/data_table.ipynb>data table notebook</a>'\n",
              "            + ' to learn more about interactive tables.';\n",
              "          element.innerHTML = '';\n",
              "          dataTable['output_type'] = 'display_data';\n",
              "          await google.colab.output.renderOutput(dataTable, element);\n",
              "          const docLink = document.createElement('div');\n",
              "          docLink.innerHTML = docLinkHtml;\n",
              "          element.appendChild(docLink);\n",
              "        }\n",
              "      </script>\n",
              "    </div>\n",
              "  </div>\n",
              "  "
            ]
          },
          "metadata": {},
          "execution_count": 129
        }
      ]
    },
    {
      "cell_type": "code",
      "source": [
        "barrios= np.unique(df['neighbourhood'])\n",
        "num_barrios = len(barrios)\n",
        "print('Número de barrios:', num_barrios)"
      ],
      "metadata": {
        "colab": {
          "base_uri": "https://localhost:8080/",
          "height": 404
        },
        "id": "hJjNi3HycHaz",
        "outputId": "52f2b3f4-5d4c-4f0f-9ffe-ff5fa314b822"
      },
      "id": "hJjNi3HycHaz",
      "execution_count": 131,
      "outputs": [
        {
          "output_type": "error",
          "ename": "TypeError",
          "evalue": "ignored",
          "traceback": [
            "\u001b[0;31m---------------------------------------------------------------------------\u001b[0m",
            "\u001b[0;31mTypeError\u001b[0m                                 Traceback (most recent call last)",
            "\u001b[0;32m<ipython-input-131-a60fc9e59a05>\u001b[0m in \u001b[0;36m<module>\u001b[0;34m\u001b[0m\n\u001b[0;32m----> 1\u001b[0;31m \u001b[0mbarrios\u001b[0m\u001b[0;34m=\u001b[0m \u001b[0mnp\u001b[0m\u001b[0;34m.\u001b[0m\u001b[0munique\u001b[0m\u001b[0;34m(\u001b[0m\u001b[0mdf\u001b[0m\u001b[0;34m[\u001b[0m\u001b[0;34m'neighbourhood'\u001b[0m\u001b[0;34m]\u001b[0m\u001b[0;34m)\u001b[0m\u001b[0;34m\u001b[0m\u001b[0;34m\u001b[0m\u001b[0m\n\u001b[0m\u001b[1;32m      2\u001b[0m \u001b[0mnum_barrios\u001b[0m \u001b[0;34m=\u001b[0m \u001b[0mlen\u001b[0m\u001b[0;34m(\u001b[0m\u001b[0mbarrios\u001b[0m\u001b[0;34m)\u001b[0m\u001b[0;34m\u001b[0m\u001b[0;34m\u001b[0m\u001b[0m\n\u001b[1;32m      3\u001b[0m \u001b[0mprint\u001b[0m\u001b[0;34m(\u001b[0m\u001b[0;34m'Número de barrios:'\u001b[0m\u001b[0;34m,\u001b[0m \u001b[0mnum_barrios\u001b[0m\u001b[0;34m)\u001b[0m\u001b[0;34m\u001b[0m\u001b[0;34m\u001b[0m\u001b[0m\n",
            "\u001b[0;32m<__array_function__ internals>\u001b[0m in \u001b[0;36munique\u001b[0;34m(*args, **kwargs)\u001b[0m\n",
            "\u001b[0;32m/usr/local/lib/python3.8/dist-packages/numpy/lib/arraysetops.py\u001b[0m in \u001b[0;36munique\u001b[0;34m(ar, return_index, return_inverse, return_counts, axis)\u001b[0m\n\u001b[1;32m    270\u001b[0m     \u001b[0mar\u001b[0m \u001b[0;34m=\u001b[0m \u001b[0mnp\u001b[0m\u001b[0;34m.\u001b[0m\u001b[0masanyarray\u001b[0m\u001b[0;34m(\u001b[0m\u001b[0mar\u001b[0m\u001b[0;34m)\u001b[0m\u001b[0;34m\u001b[0m\u001b[0;34m\u001b[0m\u001b[0m\n\u001b[1;32m    271\u001b[0m     \u001b[0;32mif\u001b[0m \u001b[0maxis\u001b[0m \u001b[0;32mis\u001b[0m \u001b[0;32mNone\u001b[0m\u001b[0;34m:\u001b[0m\u001b[0;34m\u001b[0m\u001b[0;34m\u001b[0m\u001b[0m\n\u001b[0;32m--> 272\u001b[0;31m         \u001b[0mret\u001b[0m \u001b[0;34m=\u001b[0m \u001b[0m_unique1d\u001b[0m\u001b[0;34m(\u001b[0m\u001b[0mar\u001b[0m\u001b[0;34m,\u001b[0m \u001b[0mreturn_index\u001b[0m\u001b[0;34m,\u001b[0m \u001b[0mreturn_inverse\u001b[0m\u001b[0;34m,\u001b[0m \u001b[0mreturn_counts\u001b[0m\u001b[0;34m)\u001b[0m\u001b[0;34m\u001b[0m\u001b[0;34m\u001b[0m\u001b[0m\n\u001b[0m\u001b[1;32m    273\u001b[0m         \u001b[0;32mreturn\u001b[0m \u001b[0m_unpack_tuple\u001b[0m\u001b[0;34m(\u001b[0m\u001b[0mret\u001b[0m\u001b[0;34m)\u001b[0m\u001b[0;34m\u001b[0m\u001b[0;34m\u001b[0m\u001b[0m\n\u001b[1;32m    274\u001b[0m \u001b[0;34m\u001b[0m\u001b[0m\n",
            "\u001b[0;32m/usr/local/lib/python3.8/dist-packages/numpy/lib/arraysetops.py\u001b[0m in \u001b[0;36m_unique1d\u001b[0;34m(ar, return_index, return_inverse, return_counts)\u001b[0m\n\u001b[1;32m    331\u001b[0m         \u001b[0maux\u001b[0m \u001b[0;34m=\u001b[0m \u001b[0mar\u001b[0m\u001b[0;34m[\u001b[0m\u001b[0mperm\u001b[0m\u001b[0;34m]\u001b[0m\u001b[0;34m\u001b[0m\u001b[0;34m\u001b[0m\u001b[0m\n\u001b[1;32m    332\u001b[0m     \u001b[0;32melse\u001b[0m\u001b[0;34m:\u001b[0m\u001b[0;34m\u001b[0m\u001b[0;34m\u001b[0m\u001b[0m\n\u001b[0;32m--> 333\u001b[0;31m         \u001b[0mar\u001b[0m\u001b[0;34m.\u001b[0m\u001b[0msort\u001b[0m\u001b[0;34m(\u001b[0m\u001b[0;34m)\u001b[0m\u001b[0;34m\u001b[0m\u001b[0;34m\u001b[0m\u001b[0m\n\u001b[0m\u001b[1;32m    334\u001b[0m         \u001b[0maux\u001b[0m \u001b[0;34m=\u001b[0m \u001b[0mar\u001b[0m\u001b[0;34m\u001b[0m\u001b[0;34m\u001b[0m\u001b[0m\n\u001b[1;32m    335\u001b[0m     \u001b[0mmask\u001b[0m \u001b[0;34m=\u001b[0m \u001b[0mnp\u001b[0m\u001b[0;34m.\u001b[0m\u001b[0mempty\u001b[0m\u001b[0;34m(\u001b[0m\u001b[0maux\u001b[0m\u001b[0;34m.\u001b[0m\u001b[0mshape\u001b[0m\u001b[0;34m,\u001b[0m \u001b[0mdtype\u001b[0m\u001b[0;34m=\u001b[0m\u001b[0mnp\u001b[0m\u001b[0;34m.\u001b[0m\u001b[0mbool_\u001b[0m\u001b[0;34m)\u001b[0m\u001b[0;34m\u001b[0m\u001b[0;34m\u001b[0m\u001b[0m\n",
            "\u001b[0;31mTypeError\u001b[0m: '<' not supported between instances of 'float' and 'str'"
          ]
        }
      ]
    },
    {
      "cell_type": "markdown",
      "source": [
        "Tenemos 221 barrios distintos. "
      ],
      "metadata": {
        "id": "NLUxwp0hbSRi"
      },
      "id": "NLUxwp0hbSRi"
    },
    {
      "cell_type": "code",
      "source": [
        "neighbourhood_nan = df['neighbourhood'].isna().sum()\n",
        "print(neighbourhood_nan)"
      ],
      "metadata": {
        "colab": {
          "base_uri": "https://localhost:8080/"
        },
        "id": "jbVD7uJehtnF",
        "outputId": "c6908775-7e77-4f69-9b72-da3a935ba1b6"
      },
      "id": "jbVD7uJehtnF",
      "execution_count": 130,
      "outputs": [
        {
          "output_type": "stream",
          "name": "stdout",
          "text": [
            "1\n"
          ]
        }
      ]
    },
    {
      "cell_type": "code",
      "source": [
        "barrios"
      ],
      "metadata": {
        "id": "iprLh7AecMuO"
      },
      "id": "iprLh7AecMuO",
      "execution_count": null,
      "outputs": []
    },
    {
      "cell_type": "markdown",
      "source": [
        "Creamos una nueva variable vector que se llame classification_barrios, la cual será de la misma longitud que el vector barrios definido anteriormente. Esta guardará las clasificaciones. "
      ],
      "metadata": {
        "id": "efTR0J55bYvT"
      },
      "id": "efTR0J55bYvT"
    },
    {
      "cell_type": "code",
      "source": [
        "classification_barrios=np.array(np.zeros(num_barrios))"
      ],
      "metadata": {
        "id": "I2bchhHMEoD6"
      },
      "id": "I2bchhHMEoD6",
      "execution_count": null,
      "outputs": []
    },
    {
      "cell_type": "markdown",
      "source": [
        "Gracias al uso de dos bucles, guardaremos por cada barrio la suma de clasificación de cada apartamento, para así más adelante dividir entre el total de apartamentos(n), para calcular la media. "
      ],
      "metadata": {
        "id": "vRmd9_MjcT0b"
      },
      "id": "vRmd9_MjcT0b"
    },
    {
      "cell_type": "code",
      "source": [
        "for i in range(len(barrios)):\n",
        "  for j in range(filas):\n",
        "    if barrios[i]==df['neighbourhood'][j]:\n",
        "      classification_barrios[i]=classification_barrios[i]+df['classification_num'][j]\n"
      ],
      "metadata": {
        "id": "gaXgsSLeFyem"
      },
      "id": "gaXgsSLeFyem",
      "execution_count": null,
      "outputs": []
    },
    {
      "cell_type": "code",
      "source": [
        "n=np.array(np.zeros(num_barrios))\n",
        "for i in range(len(barrios)):\n",
        "  for j in range(filas):\n",
        "    if barrios[i]==df['neighbourhood'][j]:\n",
        "      n[i]=n[i]+1\n"
      ],
      "metadata": {
        "id": "aIODnNdqHijC"
      },
      "id": "aIODnNdqHijC",
      "execution_count": null,
      "outputs": []
    },
    {
      "cell_type": "markdown",
      "source": [
        "Calculamos la media: "
      ],
      "metadata": {
        "id": "AWUGUZsdcoPX"
      },
      "id": "AWUGUZsdcoPX"
    },
    {
      "cell_type": "code",
      "source": [
        "total=classification_barrios/n\n",
        "#ordenado=total\n",
        "#ordenado=sorted(ordenado,reverse=True)\n",
        "#print(ordenado)"
      ],
      "metadata": {
        "id": "Kv-8I7WNL3Bn"
      },
      "id": "Kv-8I7WNL3Bn",
      "execution_count": null,
      "outputs": []
    },
    {
      "cell_type": "markdown",
      "source": [
        "Unimos en una variable llamada matriz el vector de barrios, y la clasificación media de cada barrio."
      ],
      "metadata": {
        "id": "rzjjUPBccz50"
      },
      "id": "rzjjUPBccz50"
    },
    {
      "cell_type": "code",
      "source": [
        "matriz=np.append(barrios,total,axis=0)"
      ],
      "metadata": {
        "id": "GP_XvlupYZWz"
      },
      "id": "GP_XvlupYZWz",
      "execution_count": null,
      "outputs": []
    },
    {
      "cell_type": "code",
      "source": [
        "\n",
        "ordenado=matriz.reshape(2,221)\n",
        "ordenado=ordenado.transpose()\n"
      ],
      "metadata": {
        "id": "1iUIXrbcNxGo"
      },
      "id": "1iUIXrbcNxGo",
      "execution_count": null,
      "outputs": []
    },
    {
      "cell_type": "code",
      "source": [
        "orden=sorted(ordenado, key=lambda x:x[1],reverse=True)"
      ],
      "metadata": {
        "id": "IXkSnxqXclKG"
      },
      "id": "IXkSnxqXclKG",
      "execution_count": null,
      "outputs": []
    },
    {
      "cell_type": "code",
      "source": [
        "print(orden)"
      ],
      "metadata": {
        "id": "MictIMuJeT9a"
      },
      "id": "MictIMuJeT9a",
      "execution_count": null,
      "outputs": []
    },
    {
      "cell_type": "code",
      "source": [
        "pos=0\n",
        "for i in range (len(orden)):\n",
        "  if orden[i][0]=='Williamsburg':\n",
        "    pos=i;\n",
        "pos"
      ],
      "metadata": {
        "id": "XucqP9oce14D"
      },
      "id": "XucqP9oce14D",
      "execution_count": null,
      "outputs": []
    },
    {
      "cell_type": "markdown",
      "source": [
        "Podemos concluir que el Barrio está en la posición 24 mejor valorado respecto a los 221 barrios. "
      ],
      "metadata": {
        "id": "3Y-EL1kXg4b0"
      },
      "id": "3Y-EL1kXg4b0"
    },
    {
      "cell_type": "markdown",
      "source": [
        "##Evaluación\n"
      ],
      "metadata": {
        "id": "vUrohiUese1R"
      },
      "id": "vUrohiUese1R"
    },
    {
      "cell_type": "markdown",
      "source": [],
      "metadata": {
        "id": "-6pLUvsVdm_f"
      },
      "id": "-6pLUvsVdm_f"
    },
    {
      "cell_type": "markdown",
      "source": [
        "##Despliegue"
      ],
      "metadata": {
        "id": "gj1dxH0usgFA"
      },
      "id": "gj1dxH0usgFA"
    },
    {
      "cell_type": "markdown",
      "source": [
        "#EJERCICIO 2"
      ],
      "metadata": {
        "id": "FXEJSzskl9bL"
      },
      "id": "FXEJSzskl9bL"
    },
    {
      "cell_type": "markdown",
      "source": [
        " Explica visualmente como se distribuyen los 5 barrios más populares (esto serán aquellos cuyos apartamentos estén más solicitados en números absolutos. Para ello utiliza un diagrama de burbuja donde el eje de las X indica el barrio y el eje Y la calidad de los apartamentos. Usa todos los diagramas que necesites para llegar a esta conclusión final."
      ],
      "metadata": {
        "id": "2LJzHbXxtpt4"
      },
      "id": "2LJzHbXxtpt4"
    },
    {
      "cell_type": "markdown",
      "source": [
        "Creamos un vector llamado 'top', en el cual, guardaremos los top 5 barrios más populares, según los apartamentos más solicitados. \n",
        "Para ello seguiremos el proceso que hicimos en el ejercicio anterior. Utilizaremos el vector barrios ya utilizado, y lo uniremos en otra variable junto a la variable 'availability_365' que nos proporciona la base de datos. \n",
        "\n",
        "'availability_365' se estudió en el ejercicio anterior, y se llegó a la conclusión de que no tenía ningún valor NaN, por lo que ahora, calcularemos por barrio la media de disponibi"
      ],
      "metadata": {
        "id": "0ADQPmfAjH3f"
      },
      "id": "0ADQPmfAjH3f"
    },
    {
      "cell_type": "code",
      "source": [
        " disponibilidad_barrios=np.array(np.zeros(num_barrios))"
      ],
      "metadata": {
        "id": "g-LKp-arjHU_"
      },
      "id": "g-LKp-arjHU_",
      "execution_count": null,
      "outputs": []
    },
    {
      "cell_type": "code",
      "source": [
        "filas=len(df.axes[0])\n",
        "d=np.array(np.zeros(num_barrios))\n",
        "for i in range(len(barrios)):\n",
        "  for j in range(filas):\n",
        "    if barrios[i]==df['neighbourhood'][j]:\n",
        "      disponibilidad_barrios[i]=disponibilidad_barrios[i]+df['availability_365'][j]\n",
        "      d[i]=d[i]+1\n"
      ],
      "metadata": {
        "id": "NSYk0ELgqktX"
      },
      "id": "NSYk0ELgqktX",
      "execution_count": null,
      "outputs": []
    },
    {
      "cell_type": "code",
      "source": [
        "disponibilidad_barrios=disponibilidad_barrios/d\n",
        "disponibilidad_barrios[1]"
      ],
      "metadata": {
        "id": "gfKcGfvqrXO_"
      },
      "id": "gfKcGfvqrXO_",
      "execution_count": null,
      "outputs": []
    },
    {
      "cell_type": "code",
      "source": [
        "disponibilidad_barrios[4]"
      ],
      "metadata": {
        "id": "GGu8EXRTs0RK"
      },
      "id": "GGu8EXRTs0RK",
      "execution_count": null,
      "outputs": []
    },
    {
      "cell_type": "code",
      "source": [
        "max(disponibilidad_barrios)\n"
      ],
      "metadata": {
        "id": "ORzufNiGs7PU"
      },
      "id": "ORzufNiGs7PU",
      "execution_count": null,
      "outputs": []
    },
    {
      "cell_type": "markdown",
      "source": [
        "Por lo que ahora encontramos que tenemos: \n",
        "- disponibilidad_barrios: la media de disponibilidad por barrios \n",
        "- barrios: cada barrio sin repeticiones. \n",
        "\n",
        "Ahora, tal y como hicimos en el ejercicio anterior, deseamos unirlos, para así ordenarlos de mayor a menor, y tener constancia de los barrios ordenados. "
      ],
      "metadata": {
        "id": "fnWfc2BSviFe"
      },
      "id": "fnWfc2BSviFe"
    },
    {
      "cell_type": "code",
      "source": [
        "dis=np.append(barrios,disponibilidad_barrios,axis=0) "
      ],
      "metadata": {
        "id": "lLyleXn5wQJr"
      },
      "id": "lLyleXn5wQJr",
      "execution_count": null,
      "outputs": []
    },
    {
      "cell_type": "code",
      "source": [
        "dis_ordenado=dis.reshape(2,221)\n",
        "dis_ordenado=dis_ordenado.transpose()"
      ],
      "metadata": {
        "id": "9bDEM_9ywcTG"
      },
      "id": "9bDEM_9ywcTG",
      "execution_count": null,
      "outputs": []
    },
    {
      "cell_type": "code",
      "source": [
        "dis_orden=sorted(dis_ordenado, key=lambda x:x[1])"
      ],
      "metadata": {
        "id": "w9Cu42pkwosn"
      },
      "id": "w9Cu42pkwosn",
      "execution_count": null,
      "outputs": []
    },
    {
      "cell_type": "code",
      "source": [
        "print(dis_orden)"
      ],
      "metadata": {
        "id": "-LeYq4UIwwCR"
      },
      "id": "-LeYq4UIwwCR",
      "execution_count": null,
      "outputs": []
    },
    {
      "cell_type": "markdown",
      "source": [
        "Por lo que en 'dis_orden' encontramos ordenado de mayor a menor, cada barrio con su disponibilidad de media correspondiente. \n",
        "\n",
        "Tomaremos los 5 mayores, y los representaremos en un mediante un diagrama burbuja. "
      ],
      "metadata": {
        "id": "iCFHUREpwyuG"
      },
      "id": "iCFHUREpwyuG"
    },
    {
      "cell_type": "markdown",
      "source": [
        "- x_barrios: los 5 barrios más populares en términos de disponibilidad\n",
        "- y_barrios: la calidad de los apartamentos de cada barrio correspondiente. \n",
        "- s_barrios: disponibilidad de los apartamentos de cada barrio correspondiente. "
      ],
      "metadata": {
        "id": "6-Q9ITG9xYyA"
      },
      "id": "6-Q9ITG9xYyA"
    },
    {
      "cell_type": "markdown",
      "source": [
        "Comencemos por la variable x_barrios: "
      ],
      "metadata": {
        "id": "bCPaTB-ox6e-"
      },
      "id": "bCPaTB-ox6e-"
    },
    {
      "cell_type": "code",
      "source": [
        "x_barrios = [row[0] for row in dis_orden[:5]]\n",
        "print(\"Los primeros 5 barrios son:\", x_barrios)"
      ],
      "metadata": {
        "id": "AuD6gIQAx-SR"
      },
      "id": "AuD6gIQAx-SR",
      "execution_count": null,
      "outputs": []
    },
    {
      "cell_type": "markdown",
      "source": [
        "Continuamos con la variable y_barrios: "
      ],
      "metadata": {
        "id": "1pDecAbe1DJl"
      },
      "id": "1pDecAbe1DJl"
    },
    {
      "cell_type": "code",
      "source": [
        "#definimos y_barrios de tamaño igual a la suma de los apartamentos de cada x_barrio: \n",
        "filas=len(df.axes[0])\n",
        "tamano_y_barrios=0\n",
        "for i in range(len(x_barrios)):\n",
        "  for j in range(filas):\n",
        "    if df['neighbourhood'][j]==x_barrios[i]:\n",
        "      tamano_y_barrios=tamano_y_barrios+1\n",
        "\n",
        "tamano_y_barrios"
      ],
      "metadata": {
        "id": "SHuBog5035jb"
      },
      "id": "SHuBog5035jb",
      "execution_count": null,
      "outputs": []
    },
    {
      "cell_type": "markdown",
      "source": [
        "Estudiaremos el caso por tanto de 433 apartamentos, es decir, la suma total de apartamentos en los siguientes barrios: 'Bay Terrace, Staten Island', 'New Dorp', 'Woodrow', 'Downtown Brooklyn', 'Morningside Heights' es de 433."
      ],
      "metadata": {
        "id": "TaG0tkUL4Px_"
      },
      "id": "TaG0tkUL4Px_"
    },
    {
      "cell_type": "code",
      "source": [
        "#filas=len(df.axes[0])\n",
        "#y_barrios=np.array(np.zeros(tamano_y_barrios))\n",
        "#for i in range(filas): \n",
        "#  for j in range(len(x_barrios)): \n",
        "#    for k in range(len(y_barrios)):\n",
        "#      if df['neighbourhood'][i]==x_barrios[j]:\n",
        "#        y_barrios[k]=df.iloc[i]"
      ],
      "metadata": {
        "id": "ioie485Q8rly"
      },
      "id": "ioie485Q8rly",
      "execution_count": null,
      "outputs": []
    },
    {
      "cell_type": "code",
      "source": [
        "y_barrios=np.array(np.zeros(tamano_y_barrios))"
      ],
      "metadata": {
        "id": "WcXkKA815MCI"
      },
      "id": "WcXkKA815MCI",
      "execution_count": null,
      "outputs": []
    },
    {
      "cell_type": "code",
      "source": [
        "df.head()"
      ],
      "metadata": {
        "id": "KODa8NmC7NWh"
      },
      "id": "KODa8NmC7NWh",
      "execution_count": null,
      "outputs": []
    },
    {
      "cell_type": "code",
      "source": [
        "filas=len(df.axes[0])\n",
        "y_barrios=np.array(np.zeros(tamano_y_barrios))\n",
        "for i in range(len(x_barrios)):\n",
        "  for j in range(filas):\n",
        "    for k in range(len(y_barrios)):\n",
        "      if df['neighbourhood'][j]==x_barrios[i]:\n",
        "        y_barrios[k]=df['classification_num'][j] #claro pero yo le debería de estar metiendo 'classification' lo está agregando mal "
      ],
      "metadata": {
        "id": "c8rT_S0V8oB5",
        "outputId": "7f0c1cd4-1a12-4f44-e2b2-3c92bf47bfee",
        "colab": {
          "base_uri": "https://localhost:8080/",
          "height": 248
        }
      },
      "id": "c8rT_S0V8oB5",
      "execution_count": 32,
      "outputs": [
        {
          "output_type": "error",
          "ename": "NameError",
          "evalue": "ignored",
          "traceback": [
            "\u001b[0;31m---------------------------------------------------------------------------\u001b[0m",
            "\u001b[0;31mNameError\u001b[0m                                 Traceback (most recent call last)",
            "\u001b[0;32m<ipython-input-32-b6d96da797e3>\u001b[0m in \u001b[0;36m<module>\u001b[0;34m\u001b[0m\n\u001b[1;32m      1\u001b[0m \u001b[0mfilas\u001b[0m\u001b[0;34m=\u001b[0m\u001b[0mlen\u001b[0m\u001b[0;34m(\u001b[0m\u001b[0mdf\u001b[0m\u001b[0;34m.\u001b[0m\u001b[0maxes\u001b[0m\u001b[0;34m[\u001b[0m\u001b[0;36m0\u001b[0m\u001b[0;34m]\u001b[0m\u001b[0;34m)\u001b[0m\u001b[0;34m\u001b[0m\u001b[0;34m\u001b[0m\u001b[0m\n\u001b[0;32m----> 2\u001b[0;31m \u001b[0my_barrios\u001b[0m\u001b[0;34m=\u001b[0m\u001b[0mnp\u001b[0m\u001b[0;34m.\u001b[0m\u001b[0marray\u001b[0m\u001b[0;34m(\u001b[0m\u001b[0mnp\u001b[0m\u001b[0;34m.\u001b[0m\u001b[0mzeros\u001b[0m\u001b[0;34m(\u001b[0m\u001b[0mtamano_y_barrios\u001b[0m\u001b[0;34m)\u001b[0m\u001b[0;34m)\u001b[0m\u001b[0;34m\u001b[0m\u001b[0;34m\u001b[0m\u001b[0m\n\u001b[0m\u001b[1;32m      3\u001b[0m \u001b[0;32mfor\u001b[0m \u001b[0mi\u001b[0m \u001b[0;32min\u001b[0m \u001b[0mrange\u001b[0m\u001b[0;34m(\u001b[0m\u001b[0mlen\u001b[0m\u001b[0;34m(\u001b[0m\u001b[0mx_barrios\u001b[0m\u001b[0;34m)\u001b[0m\u001b[0;34m)\u001b[0m\u001b[0;34m:\u001b[0m\u001b[0;34m\u001b[0m\u001b[0;34m\u001b[0m\u001b[0m\n\u001b[1;32m      4\u001b[0m   \u001b[0;32mfor\u001b[0m \u001b[0mj\u001b[0m \u001b[0;32min\u001b[0m \u001b[0mrange\u001b[0m\u001b[0;34m(\u001b[0m\u001b[0mfilas\u001b[0m\u001b[0;34m)\u001b[0m\u001b[0;34m:\u001b[0m\u001b[0;34m\u001b[0m\u001b[0;34m\u001b[0m\u001b[0m\n\u001b[1;32m      5\u001b[0m     \u001b[0;32mfor\u001b[0m \u001b[0mk\u001b[0m \u001b[0;32min\u001b[0m \u001b[0mrange\u001b[0m\u001b[0;34m(\u001b[0m\u001b[0mlen\u001b[0m\u001b[0;34m(\u001b[0m\u001b[0my_barrios\u001b[0m\u001b[0;34m)\u001b[0m\u001b[0;34m)\u001b[0m\u001b[0;34m:\u001b[0m\u001b[0;34m\u001b[0m\u001b[0;34m\u001b[0m\u001b[0m\n",
            "\u001b[0;31mNameError\u001b[0m: name 'tamano_y_barrios' is not defined"
          ]
        }
      ]
    },
    {
      "cell_type": "code",
      "source": [
        "y_barrios"
      ],
      "metadata": {
        "colab": {
          "base_uri": "https://localhost:8080/"
        },
        "id": "Ykw8xzAy9xLq",
        "outputId": "38e839ba-2349-43f5-804f-b728114d27f6"
      },
      "id": "Ykw8xzAy9xLq",
      "execution_count": null,
      "outputs": [
        {
          "output_type": "execute_result",
          "data": {
            "text/plain": [
              "0.75"
            ]
          },
          "metadata": {},
          "execution_count": 259
        }
      ]
    },
    {
      "cell_type": "markdown",
      "source": [
        "me parece un poco raro eso, voy a ver cuántos apartamentos me imprime."
      ],
      "metadata": {
        "id": "pBhiOJVG-J04"
      },
      "id": "pBhiOJVG-J04"
    },
    {
      "cell_type": "code",
      "source": [
        "filas=len(df.axes[0])\n",
        "tamano_y_barrios=0\n",
        "for i in range(len(x_barrios)):\n",
        "  for j in range(filas):\n",
        "    if df['neighbourhood'][j]==x_barrios[i]:\n",
        "      print(df['classification'][j])"
      ],
      "metadata": {
        "colab": {
          "base_uri": "https://localhost:8080/"
        },
        "id": "jAGYuCLh-DOc",
        "outputId": "57483535-9d69-430b-fb1b-03eb858b2410"
      },
      "id": "jAGYuCLh-DOc",
      "execution_count": null,
      "outputs": [
        {
          "output_type": "stream",
          "name": "stdout",
          "text": [
            "Bueno\n",
            "Bueno\n",
            "Bueno\n",
            "Bueno\n",
            "Bueno\n",
            "Bueno\n",
            "Bueno\n",
            "Bueno\n",
            "Bueno\n",
            "Bueno\n",
            "Bueno\n",
            "Bueno\n",
            "Bueno\n",
            "Bueno\n",
            "Bueno\n",
            "Bueno\n",
            "Bueno\n",
            "Bueno\n",
            "Bueno\n",
            "Bueno\n",
            "Bueno\n",
            "Bueno\n",
            "Bueno\n",
            "Bueno\n",
            "Bueno\n",
            "Bueno\n",
            "Bueno\n",
            "Bueno\n",
            "Bueno\n",
            "Malo\n",
            "Bueno\n",
            "Bueno\n",
            "Bueno\n",
            "Bueno\n",
            "Bueno\n",
            "Bueno\n",
            "Bueno\n",
            "Bueno\n",
            "Bueno\n",
            "Bueno\n",
            "Bueno\n",
            "Bueno\n",
            "Bueno\n",
            "Regular\n",
            "Bueno\n",
            "Bueno\n",
            "Bueno\n",
            "Bueno\n",
            "Bueno\n",
            "Bueno\n",
            "Bueno\n",
            "Bueno\n",
            "Bueno\n",
            "Regular\n",
            "Bueno\n",
            "Bueno\n",
            "Bueno\n",
            "Bueno\n",
            "Bueno\n",
            "Bueno\n",
            "Bueno\n",
            "Bueno\n",
            "Regular\n",
            "Bueno\n",
            "Bueno\n",
            "Bueno\n",
            "Bueno\n",
            "Bueno\n",
            "Bueno\n",
            "Bueno\n",
            "Bueno\n",
            "Bueno\n",
            "Bueno\n",
            "Malo\n",
            "Bueno\n",
            "Bueno\n",
            "Bueno\n",
            "Bueno\n",
            "Malo\n",
            "Bueno\n",
            "Bueno\n",
            "Bueno\n",
            "Bueno\n",
            "Regular\n",
            "Malo\n",
            "Bueno\n",
            "Bueno\n",
            "Regular\n",
            "Malo\n",
            "Regular\n",
            "Regular\n",
            "Bueno\n",
            "Malo\n",
            "Regular\n",
            "Malo\n",
            "Bueno\n",
            "Bueno\n",
            "Bueno\n",
            "Bueno\n",
            "Regular\n",
            "Bueno\n",
            "Bueno\n",
            "Malo\n",
            "Malo\n",
            "Malo\n",
            "Bueno\n",
            "Bueno\n",
            "Bueno\n",
            "Bueno\n",
            "Bueno\n",
            "Bueno\n",
            "Bueno\n",
            "Bueno\n",
            "Bueno\n",
            "Bueno\n",
            "Bueno\n",
            "Regular\n",
            "Malo\n",
            "Regular\n",
            "Malo\n",
            "Bueno\n",
            "Malo\n",
            "Bueno\n",
            "Malo\n",
            "Bueno\n",
            "Malo\n",
            "Bueno\n",
            "Bueno\n",
            "Bueno\n",
            "Bueno\n",
            "Bueno\n",
            "Bueno\n",
            "Bueno\n",
            "Bueno\n",
            "Bueno\n",
            "Bueno\n",
            "Bueno\n",
            "Bueno\n",
            "Regular\n",
            "Bueno\n",
            "Bueno\n",
            "Regular\n",
            "Bueno\n",
            "Bueno\n",
            "Bueno\n",
            "Bueno\n",
            "Bueno\n",
            "Bueno\n",
            "Bueno\n",
            "Bueno\n",
            "Bueno\n",
            "Bueno\n",
            "Bueno\n",
            "Bueno\n",
            "Bueno\n",
            "Bueno\n",
            "Bueno\n",
            "Bueno\n",
            "Bueno\n",
            "Bueno\n",
            "Bueno\n",
            "Bueno\n",
            "Bueno\n",
            "Bueno\n",
            "Bueno\n",
            "Bueno\n",
            "Bueno\n",
            "Bueno\n",
            "Bueno\n",
            "Bueno\n",
            "Regular\n",
            "Bueno\n",
            "Bueno\n",
            "Bueno\n",
            "Bueno\n",
            "Bueno\n",
            "Bueno\n",
            "Malo\n",
            "Bueno\n",
            "Bueno\n",
            "Bueno\n",
            "Bueno\n",
            "Bueno\n",
            "Bueno\n",
            "Bueno\n",
            "Bueno\n",
            "Bueno\n",
            "Bueno\n",
            "Bueno\n",
            "Bueno\n",
            "Bueno\n",
            "Bueno\n",
            "Bueno\n",
            "Bueno\n",
            "Bueno\n",
            "Bueno\n",
            "Bueno\n",
            "Bueno\n",
            "Bueno\n",
            "Bueno\n",
            "Bueno\n",
            "Bueno\n",
            "Bueno\n",
            "Bueno\n",
            "Regular\n",
            "Bueno\n",
            "Bueno\n",
            "Malo\n",
            "Bueno\n",
            "Bueno\n",
            "Bueno\n",
            "Bueno\n",
            "Bueno\n",
            "Bueno\n",
            "Bueno\n",
            "Bueno\n",
            "Regular\n",
            "Bueno\n",
            "Bueno\n",
            "Bueno\n",
            "Bueno\n",
            "Regular\n",
            "Regular\n",
            "Bueno\n",
            "Bueno\n",
            "Bueno\n",
            "Bueno\n",
            "Bueno\n",
            "Bueno\n",
            "Bueno\n",
            "Bueno\n",
            "Bueno\n",
            "Bueno\n",
            "Bueno\n",
            "Bueno\n",
            "Bueno\n",
            "Bueno\n",
            "Bueno\n",
            "Regular\n",
            "Regular\n",
            "Bueno\n",
            "Bueno\n",
            "Bueno\n",
            "Bueno\n",
            "Bueno\n",
            "Bueno\n",
            "Bueno\n",
            "Bueno\n",
            "Bueno\n",
            "Bueno\n",
            "Bueno\n",
            "Bueno\n",
            "Bueno\n",
            "Bueno\n",
            "Bueno\n",
            "Bueno\n",
            "Bueno\n",
            "Bueno\n",
            "Bueno\n",
            "Bueno\n",
            "Bueno\n",
            "Malo\n",
            "Bueno\n",
            "Bueno\n",
            "Bueno\n",
            "Bueno\n",
            "Bueno\n",
            "Bueno\n",
            "Bueno\n",
            "Bueno\n",
            "Bueno\n",
            "Bueno\n",
            "Bueno\n",
            "Bueno\n",
            "Bueno\n",
            "Bueno\n",
            "Bueno\n",
            "Bueno\n",
            "Bueno\n",
            "Bueno\n",
            "Bueno\n",
            "Bueno\n",
            "Bueno\n",
            "Bueno\n",
            "Bueno\n",
            "Bueno\n",
            "Bueno\n",
            "Bueno\n",
            "Bueno\n",
            "Bueno\n",
            "Malo\n",
            "Bueno\n",
            "Bueno\n",
            "Bueno\n",
            "Regular\n",
            "Bueno\n",
            "Bueno\n",
            "Bueno\n",
            "Bueno\n",
            "Bueno\n",
            "Bueno\n",
            "Regular\n",
            "Bueno\n",
            "Bueno\n",
            "Bueno\n",
            "Bueno\n",
            "Bueno\n",
            "Bueno\n",
            "Bueno\n",
            "Bueno\n",
            "Bueno\n",
            "Bueno\n",
            "Bueno\n",
            "Bueno\n",
            "Bueno\n",
            "Bueno\n",
            "Bueno\n",
            "Bueno\n",
            "Bueno\n",
            "Bueno\n",
            "Bueno\n",
            "Bueno\n",
            "Bueno\n",
            "Bueno\n",
            "Bueno\n",
            "Bueno\n",
            "Bueno\n",
            "Bueno\n",
            "Bueno\n",
            "Bueno\n",
            "Bueno\n",
            "Bueno\n",
            "Bueno\n",
            "Bueno\n",
            "Bueno\n",
            "Bueno\n",
            "Bueno\n",
            "Bueno\n",
            "Bueno\n",
            "Bueno\n",
            "Bueno\n",
            "Bueno\n",
            "Bueno\n",
            "Bueno\n",
            "Bueno\n",
            "Bueno\n",
            "Bueno\n",
            "Bueno\n",
            "Bueno\n",
            "Bueno\n",
            "Bueno\n",
            "Bueno\n",
            "Malo\n",
            "Bueno\n",
            "Bueno\n",
            "Bueno\n",
            "Bueno\n",
            "Bueno\n",
            "Bueno\n",
            "Bueno\n",
            "Bueno\n",
            "Bueno\n",
            "Bueno\n",
            "Bueno\n",
            "Bueno\n",
            "Bueno\n",
            "Bueno\n",
            "Bueno\n",
            "Bueno\n",
            "Bueno\n",
            "Bueno\n",
            "Bueno\n",
            "Bueno\n",
            "Regular\n",
            "Bueno\n",
            "Bueno\n",
            "Bueno\n",
            "Bueno\n",
            "Bueno\n",
            "Bueno\n",
            "Bueno\n",
            "Bueno\n",
            "Bueno\n",
            "Regular\n",
            "Bueno\n",
            "Bueno\n",
            "Bueno\n",
            "Bueno\n",
            "Bueno\n",
            "Bueno\n",
            "Bueno\n",
            "Bueno\n",
            "Bueno\n",
            "Bueno\n",
            "Malo\n",
            "Bueno\n",
            "Bueno\n",
            "Bueno\n",
            "Bueno\n",
            "Malo\n",
            "Bueno\n",
            "Malo\n",
            "Bueno\n",
            "Bueno\n",
            "Malo\n",
            "Bueno\n",
            "Bueno\n",
            "Bueno\n",
            "Bueno\n",
            "Bueno\n",
            "Bueno\n",
            "Bueno\n",
            "Bueno\n",
            "Bueno\n",
            "Regular\n",
            "Malo\n",
            "Bueno\n",
            "Bueno\n",
            "Malo\n",
            "Regular\n",
            "Regular\n",
            "Bueno\n",
            "Regular\n",
            "Malo\n",
            "Bueno\n",
            "Malo\n",
            "Bueno\n",
            "Bueno\n",
            "Bueno\n",
            "Bueno\n",
            "Bueno\n",
            "Bueno\n",
            "Bueno\n"
          ]
        }
      ]
    },
    {
      "cell_type": "code",
      "source": [
        "#Bubble Plot BARRIO1. The size of points changes based on a third variable\n",
        "# x = barrio (ya tenemos una variable de los barrios)\n",
        "# y = calidad de los apartamentos (classification)\n",
        "# s = disponibilidad\n",
        "plt.scatter(x_barrios[0],y_barrios,s_barrios)"
      ],
      "metadata": {
        "id": "lbzqM0lzsEdV"
      },
      "id": "lbzqM0lzsEdV",
      "execution_count": null,
      "outputs": []
    },
    {
      "cell_type": "markdown",
      "source": [
        "#EJERCICIO 3"
      ],
      "metadata": {
        "id": "hzYraWnUmAVI"
      },
      "id": "hzYraWnUmAVI"
    },
    {
      "cell_type": "markdown",
      "source": [
        "Una vez obtenida la información del apartado anterior, queremos tratar de entender las diferencias de precio entre alquilar un apartamento entero y una habitación privada. Usa los diagramas de cajas donde cada uno de los 5 barrios más populares está representado por una caja y haz una interpretación de los resultados."
      ],
      "metadata": {
        "id": "eJYt8qBctuGf"
      },
      "id": "eJYt8qBctuGf"
    },
    {
      "cell_type": "markdown",
      "source": [
        "#EJERCICIO 4"
      ],
      "metadata": {
        "id": "rbNsTsHDmDiH"
      },
      "id": "rbNsTsHDmDiH"
    },
    {
      "cell_type": "markdown",
      "source": [
        "Por último, se intuye que la tendencia a dejar reseñas en las apps que prestan servicios, ha aumentado en los últimos años. Decide que diagrama es más útil para este caso. Dibújalo y realiza una interpretación del mismo. Tomaremos la fecha de la última reseña como el dato útil para realizar dicho caso."
      ],
      "metadata": {
        "id": "9BsU2eb2txZt"
      },
      "id": "9BsU2eb2txZt"
    }
  ],
  "metadata": {
    "kernelspec": {
      "display_name": "Python 3 (ipykernel)",
      "language": "python",
      "name": "python3"
    },
    "language_info": {
      "codemirror_mode": {
        "name": "ipython",
        "version": 3
      },
      "file_extension": ".py",
      "mimetype": "text/x-python",
      "name": "python",
      "nbconvert_exporter": "python",
      "pygments_lexer": "ipython3",
      "version": "3.9.13"
    },
    "colab": {
      "provenance": []
    },
    "accelerator": "GPU",
    "gpuClass": "standard"
  },
  "nbformat": 4,
  "nbformat_minor": 5
}