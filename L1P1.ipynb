{
  "cells": [
    {
      "cell_type": "markdown",
      "source": [
        "PILAR ARIAS, YEDRA MARTÍN, PATRICIA MEDIAVILLA, AMAYA SARASA\n",
        "\n",
        "<GRUPO 9>"
      ],
      "metadata": {
        "id": "8pT2SbACjlE2"
      },
      "id": "8pT2SbACjlE2"
    },
    {
      "cell_type": "markdown",
      "source": [
        "#INTRODUCCIÓN"
      ],
      "metadata": {
        "id": "s8YerDrYkdxK"
      },
      "id": "s8YerDrYkdxK"
    },
    {
      "cell_type": "markdown",
      "source": [
        "Esta es la primera práctica del primer laboratorio. Dada una base de datos en formato .csv, se nos pide contestar a una serie de cuestiones. Para ello, lo primero que debemos hacer es cargar y leer la base de datos:"
      ],
      "metadata": {
        "id": "r8GDGWfBlHe5"
      },
      "id": "r8GDGWfBlHe5"
    },
    {
      "cell_type": "code",
      "execution_count": 1,
      "id": "a0bb4051",
      "metadata": {
        "id": "a0bb4051",
        "outputId": "926898df-f405-45f9-c81c-4235d2bea6fd",
        "colab": {
          "base_uri": "https://localhost:8080/",
          "height": 461
        }
      },
      "outputs": [
        {
          "output_type": "execute_result",
          "data": {
            "text/plain": [
              "     id                                              name  host_id  \\\n",
              "0  2539                Clean & quiet apt home by the park     2787   \n",
              "1  2595                             Skylit Midtown Castle     2845   \n",
              "2  3647               THE VILLAGE OF HARLEM....NEW YORK !     4632   \n",
              "3  3831                   Cozy Entire Floor of Brownstone     4869   \n",
              "4  5022  Entire Apt: Spacious Studio/Loft by central park     7192   \n",
              "\n",
              "     host_name neighbourhood_group neighbourhood  latitude  longitude  \\\n",
              "0         John            Brooklyn    Kensington  40.64749  -73.97237   \n",
              "1     Jennifer           Manhattan       Midtown  40.75362  -73.98377   \n",
              "2    Elisabeth           Manhattan        Harlem  40.80902  -73.94190   \n",
              "3  LisaRoxanne            Brooklyn  Clinton Hill  40.68514  -73.95976   \n",
              "4        Laura           Manhattan   East Harlem  40.79851  -73.94399   \n",
              "\n",
              "         room_type  price  minimum_nights  number_of_reviews last_review  \\\n",
              "0     Private room    149               1                  9  2018-10-19   \n",
              "1  Entire home/apt    225               1                 45  2019-05-21   \n",
              "2     Private room    150               3                  0         NaN   \n",
              "3  Entire home/apt     89               1                270  2019-07-05   \n",
              "4  Entire home/apt     80              10                  9  2018-11-19   \n",
              "\n",
              "   reviews_per_month  calculated_host_listings_count  availability_365  \n",
              "0               0.21                               6               365  \n",
              "1               0.38                               2               355  \n",
              "2                NaN                               1               365  \n",
              "3               4.64                               1               194  \n",
              "4               0.10                               1                 0  "
            ],
            "text/html": [
              "\n",
              "  <div id=\"df-7816d070-8427-4053-81a4-07a240ba3712\">\n",
              "    <div class=\"colab-df-container\">\n",
              "      <div>\n",
              "<style scoped>\n",
              "    .dataframe tbody tr th:only-of-type {\n",
              "        vertical-align: middle;\n",
              "    }\n",
              "\n",
              "    .dataframe tbody tr th {\n",
              "        vertical-align: top;\n",
              "    }\n",
              "\n",
              "    .dataframe thead th {\n",
              "        text-align: right;\n",
              "    }\n",
              "</style>\n",
              "<table border=\"1\" class=\"dataframe\">\n",
              "  <thead>\n",
              "    <tr style=\"text-align: right;\">\n",
              "      <th></th>\n",
              "      <th>id</th>\n",
              "      <th>name</th>\n",
              "      <th>host_id</th>\n",
              "      <th>host_name</th>\n",
              "      <th>neighbourhood_group</th>\n",
              "      <th>neighbourhood</th>\n",
              "      <th>latitude</th>\n",
              "      <th>longitude</th>\n",
              "      <th>room_type</th>\n",
              "      <th>price</th>\n",
              "      <th>minimum_nights</th>\n",
              "      <th>number_of_reviews</th>\n",
              "      <th>last_review</th>\n",
              "      <th>reviews_per_month</th>\n",
              "      <th>calculated_host_listings_count</th>\n",
              "      <th>availability_365</th>\n",
              "    </tr>\n",
              "  </thead>\n",
              "  <tbody>\n",
              "    <tr>\n",
              "      <th>0</th>\n",
              "      <td>2539</td>\n",
              "      <td>Clean &amp; quiet apt home by the park</td>\n",
              "      <td>2787</td>\n",
              "      <td>John</td>\n",
              "      <td>Brooklyn</td>\n",
              "      <td>Kensington</td>\n",
              "      <td>40.64749</td>\n",
              "      <td>-73.97237</td>\n",
              "      <td>Private room</td>\n",
              "      <td>149</td>\n",
              "      <td>1</td>\n",
              "      <td>9</td>\n",
              "      <td>2018-10-19</td>\n",
              "      <td>0.21</td>\n",
              "      <td>6</td>\n",
              "      <td>365</td>\n",
              "    </tr>\n",
              "    <tr>\n",
              "      <th>1</th>\n",
              "      <td>2595</td>\n",
              "      <td>Skylit Midtown Castle</td>\n",
              "      <td>2845</td>\n",
              "      <td>Jennifer</td>\n",
              "      <td>Manhattan</td>\n",
              "      <td>Midtown</td>\n",
              "      <td>40.75362</td>\n",
              "      <td>-73.98377</td>\n",
              "      <td>Entire home/apt</td>\n",
              "      <td>225</td>\n",
              "      <td>1</td>\n",
              "      <td>45</td>\n",
              "      <td>2019-05-21</td>\n",
              "      <td>0.38</td>\n",
              "      <td>2</td>\n",
              "      <td>355</td>\n",
              "    </tr>\n",
              "    <tr>\n",
              "      <th>2</th>\n",
              "      <td>3647</td>\n",
              "      <td>THE VILLAGE OF HARLEM....NEW YORK !</td>\n",
              "      <td>4632</td>\n",
              "      <td>Elisabeth</td>\n",
              "      <td>Manhattan</td>\n",
              "      <td>Harlem</td>\n",
              "      <td>40.80902</td>\n",
              "      <td>-73.94190</td>\n",
              "      <td>Private room</td>\n",
              "      <td>150</td>\n",
              "      <td>3</td>\n",
              "      <td>0</td>\n",
              "      <td>NaN</td>\n",
              "      <td>NaN</td>\n",
              "      <td>1</td>\n",
              "      <td>365</td>\n",
              "    </tr>\n",
              "    <tr>\n",
              "      <th>3</th>\n",
              "      <td>3831</td>\n",
              "      <td>Cozy Entire Floor of Brownstone</td>\n",
              "      <td>4869</td>\n",
              "      <td>LisaRoxanne</td>\n",
              "      <td>Brooklyn</td>\n",
              "      <td>Clinton Hill</td>\n",
              "      <td>40.68514</td>\n",
              "      <td>-73.95976</td>\n",
              "      <td>Entire home/apt</td>\n",
              "      <td>89</td>\n",
              "      <td>1</td>\n",
              "      <td>270</td>\n",
              "      <td>2019-07-05</td>\n",
              "      <td>4.64</td>\n",
              "      <td>1</td>\n",
              "      <td>194</td>\n",
              "    </tr>\n",
              "    <tr>\n",
              "      <th>4</th>\n",
              "      <td>5022</td>\n",
              "      <td>Entire Apt: Spacious Studio/Loft by central park</td>\n",
              "      <td>7192</td>\n",
              "      <td>Laura</td>\n",
              "      <td>Manhattan</td>\n",
              "      <td>East Harlem</td>\n",
              "      <td>40.79851</td>\n",
              "      <td>-73.94399</td>\n",
              "      <td>Entire home/apt</td>\n",
              "      <td>80</td>\n",
              "      <td>10</td>\n",
              "      <td>9</td>\n",
              "      <td>2018-11-19</td>\n",
              "      <td>0.10</td>\n",
              "      <td>1</td>\n",
              "      <td>0</td>\n",
              "    </tr>\n",
              "  </tbody>\n",
              "</table>\n",
              "</div>\n",
              "      <button class=\"colab-df-convert\" onclick=\"convertToInteractive('df-7816d070-8427-4053-81a4-07a240ba3712')\"\n",
              "              title=\"Convert this dataframe to an interactive table.\"\n",
              "              style=\"display:none;\">\n",
              "        \n",
              "  <svg xmlns=\"http://www.w3.org/2000/svg\" height=\"24px\"viewBox=\"0 0 24 24\"\n",
              "       width=\"24px\">\n",
              "    <path d=\"M0 0h24v24H0V0z\" fill=\"none\"/>\n",
              "    <path d=\"M18.56 5.44l.94 2.06.94-2.06 2.06-.94-2.06-.94-.94-2.06-.94 2.06-2.06.94zm-11 1L8.5 8.5l.94-2.06 2.06-.94-2.06-.94L8.5 2.5l-.94 2.06-2.06.94zm10 10l.94 2.06.94-2.06 2.06-.94-2.06-.94-.94-2.06-.94 2.06-2.06.94z\"/><path d=\"M17.41 7.96l-1.37-1.37c-.4-.4-.92-.59-1.43-.59-.52 0-1.04.2-1.43.59L10.3 9.45l-7.72 7.72c-.78.78-.78 2.05 0 2.83L4 21.41c.39.39.9.59 1.41.59.51 0 1.02-.2 1.41-.59l7.78-7.78 2.81-2.81c.8-.78.8-2.07 0-2.86zM5.41 20L4 18.59l7.72-7.72 1.47 1.35L5.41 20z\"/>\n",
              "  </svg>\n",
              "      </button>\n",
              "      \n",
              "  <style>\n",
              "    .colab-df-container {\n",
              "      display:flex;\n",
              "      flex-wrap:wrap;\n",
              "      gap: 12px;\n",
              "    }\n",
              "\n",
              "    .colab-df-convert {\n",
              "      background-color: #E8F0FE;\n",
              "      border: none;\n",
              "      border-radius: 50%;\n",
              "      cursor: pointer;\n",
              "      display: none;\n",
              "      fill: #1967D2;\n",
              "      height: 32px;\n",
              "      padding: 0 0 0 0;\n",
              "      width: 32px;\n",
              "    }\n",
              "\n",
              "    .colab-df-convert:hover {\n",
              "      background-color: #E2EBFA;\n",
              "      box-shadow: 0px 1px 2px rgba(60, 64, 67, 0.3), 0px 1px 3px 1px rgba(60, 64, 67, 0.15);\n",
              "      fill: #174EA6;\n",
              "    }\n",
              "\n",
              "    [theme=dark] .colab-df-convert {\n",
              "      background-color: #3B4455;\n",
              "      fill: #D2E3FC;\n",
              "    }\n",
              "\n",
              "    [theme=dark] .colab-df-convert:hover {\n",
              "      background-color: #434B5C;\n",
              "      box-shadow: 0px 1px 3px 1px rgba(0, 0, 0, 0.15);\n",
              "      filter: drop-shadow(0px 1px 2px rgba(0, 0, 0, 0.3));\n",
              "      fill: #FFFFFF;\n",
              "    }\n",
              "  </style>\n",
              "\n",
              "      <script>\n",
              "        const buttonEl =\n",
              "          document.querySelector('#df-7816d070-8427-4053-81a4-07a240ba3712 button.colab-df-convert');\n",
              "        buttonEl.style.display =\n",
              "          google.colab.kernel.accessAllowed ? 'block' : 'none';\n",
              "\n",
              "        async function convertToInteractive(key) {\n",
              "          const element = document.querySelector('#df-7816d070-8427-4053-81a4-07a240ba3712');\n",
              "          const dataTable =\n",
              "            await google.colab.kernel.invokeFunction('convertToInteractive',\n",
              "                                                     [key], {});\n",
              "          if (!dataTable) return;\n",
              "\n",
              "          const docLinkHtml = 'Like what you see? Visit the ' +\n",
              "            '<a target=\"_blank\" href=https://colab.research.google.com/notebooks/data_table.ipynb>data table notebook</a>'\n",
              "            + ' to learn more about interactive tables.';\n",
              "          element.innerHTML = '';\n",
              "          dataTable['output_type'] = 'display_data';\n",
              "          await google.colab.output.renderOutput(dataTable, element);\n",
              "          const docLink = document.createElement('div');\n",
              "          docLink.innerHTML = docLinkHtml;\n",
              "          element.appendChild(docLink);\n",
              "        }\n",
              "      </script>\n",
              "    </div>\n",
              "  </div>\n",
              "  "
            ]
          },
          "metadata": {},
          "execution_count": 1
        }
      ],
      "source": [
        "#importamos la base de datos\n",
        "import pandas as pd #pandas\n",
        "df_raw=pd.read_csv('airbnb.csv',encoding='latin-1')\n",
        "df_raw.head()"
      ]
    },
    {
      "cell_type": "markdown",
      "source": [
        "Se observa que se ha cargado de manera correcta. "
      ],
      "metadata": {
        "id": "FmdArPK4mfGK"
      },
      "id": "FmdArPK4mfGK"
    },
    {
      "cell_type": "markdown",
      "source": [
        "Importamos así también todas las librerías necesarias para ejecutar esta práctica. "
      ],
      "metadata": {
        "id": "ocoXyf9Oluyf"
      },
      "id": "ocoXyf9Oluyf"
    },
    {
      "cell_type": "code",
      "source": [
        "#importamos todas las librerías necesarias: \n",
        "import sklearn #scikit-learn\n",
        "import matplotlib.pyplot as plt #gráfica Matplotlib\n",
        "import seaborn as sns\n",
        "import numpy as np #NumPy\n",
        "from matplotlib.cbook import boxplot_stats "
      ],
      "metadata": {
        "id": "s8pAtTFxtCJW"
      },
      "id": "s8pAtTFxtCJW",
      "execution_count": 2,
      "outputs": []
    },
    {
      "cell_type": "markdown",
      "source": [
        "Según se ha estudiado en clase, encontramos dos métodos para afrontarlo. Nos decantaremos por CRISP-DM. Las siglas para: CRoss-Industry Standard Process for Data Mining. \n",
        "\n",
        "Es un modelo de proceso de minería de datos que se utiliza en la industria. Es un marco de trabajo que define un proceso estandarizado para llevar a cabo proyectos de minería de datos, desde la definición del problema hasta la implementación y evaluación del resultado. Los seis pasos que componen Crisp-DM son los siguientes:\n",
        "\n",
        "- Comprensión de los negocios y definición del problema: comprender la naturaleza del problema y los objetivos de negocio.\n",
        "\n",
        "- Comprensión de los datos: recopilación inicial, descripción y exploración  de datos.\n",
        "\n",
        "- Preparación de los datos: Selección, limpieza, construcción, integración, formateo de los datos.\n",
        "\n",
        "- Modelado: aplicar las técnicas de minería de datos a los dataset.\n",
        "\n",
        "- Evaluación: determinar si los resultados son útiles a las necesidades del negocio.\n",
        "\n",
        "- Despliegue: explotar utilidad de los modelos, integrándolos en las tareas de toma de decisiones de la organización -> Call to Action. \n"
      ],
      "metadata": {
        "id": "YBQbx7EFmjR6"
      },
      "id": "YBQbx7EFmjR6"
    },
    {
      "cell_type": "markdown",
      "source": [
        "#EJERCICIO 1"
      ],
      "metadata": {
        "id": "35WzfLjxl0OU"
      },
      "id": "35WzfLjxl0OU"
    },
    {
      "cell_type": "markdown",
      "source": [
        "## Comprensión del negocio y definición del problema"
      ],
      "metadata": {
        "id": "XX4P0W_Fozcz"
      },
      "id": "XX4P0W_Fozcz"
    },
    {
      "cell_type": "markdown",
      "source": [
        "Esta práctica se basa en una base de datos de una empresa llamada AirBnB, y servirá de indicador para ver cómo se transforma la ciudad."
      ],
      "metadata": {
        "id": "LwvMOaYs1Owd"
      },
      "id": "LwvMOaYs1Owd"
    },
    {
      "cell_type": "markdown",
      "source": [
        "El barrio de Williamsburg es uno de los barrios de moda hoy en día. Desde 2005 ha pasado de ser un distrito donde principalmente se encontraban fabricas a acoger una gran cantidad de gente joven y nuevos negocios. ¿Teniendo en cuenta los datos proporcionados que posición en términos de popularidad/calidad se puede decir que ostenta el barrio con respecto a los demás que forma New York?"
      ],
      "metadata": {
        "id": "3S06NbYgmKb-"
      },
      "id": "3S06NbYgmKb-"
    },
    {
      "cell_type": "markdown",
      "source": [
        "Para medir la popularidad/calidad del barrio, tendremos primero en cuenta el número de apartamentos de calidad según los usuarios. Para ello, lo primero será clasificar los apartamentos como “Muy Malos”, “Malos”, “Regulares”, “Buenos” y “Muy Buenos”. Para ello primero haremos un par de transformaciones de los datos. La columna de reseñas por mes, se dividirán en 3 rangos iguales, después dependiendo del valor concreto que tenga cada apartamento se le asignarán las etiquetas: “Baja”, “Media” y ”Alta”. Para la columna que indica el número de días que está disponible asignaremos las etiquetas de menor valor a mayor de la siguiente manera: “Poco disponible”, “Disponible normalmente” y “Altamente disponible”. Finalmente crearemos una columna para clasificar los apartamentos, teniendo en cuenta una serie de reglas, que se explicarán más adelante. "
      ],
      "metadata": {
        "id": "jCZKl6EfuQDS"
      },
      "id": "jCZKl6EfuQDS"
    },
    {
      "cell_type": "markdown",
      "source": [
        "## Comprensión de los datos"
      ],
      "metadata": {
        "id": "aA5iEGYOo4RB"
      },
      "id": "aA5iEGYOo4RB"
    },
    {
      "cell_type": "markdown",
      "source": [
        "La base de datos que utilizaremos consta de 48895 observaciones. En cada observación recopilamos los siguientes atributos: \n",
        "- id: id del apartamento en cuestión. \n",
        "- name: nombre del apartamento\n",
        "- host_id: id del anfitrión \n",
        "- host_name: nombre del anfitrión \n",
        "- neighbourhood_group: estado al que pertenece\n",
        "- neighbourhood: barrio al que pertenece \n",
        "- latitude: coordenadas de latitud\n",
        "- longitude: coordenadas de longitud \n",
        "- room_type: tipo de habitación \n",
        "- price: precio en dólares\n",
        "- minimum_nights: noches mínimas que te puedes hospedar\n",
        "- number_of_reviews: número de reseñas \n",
        "- last_review: última reseña \n",
        "- reviews_per_month: reseñas por mes\n",
        "- calculated_host_listings_count: cantidad de propiedades que un anfitrión tiene disponibles en la plataforma\n",
        "- availability_365: días disponibles por año. \n"
      ],
      "metadata": {
        "id": "9FyCQqOUo8Gp"
      },
      "id": "9FyCQqOUo8Gp"
    },
    {
      "cell_type": "markdown",
      "source": [
        "Se ha investigado esta base de datos en kaggle para entender mejor cada variable, pero no lo explican con claridad, y cabe rebundancia, por lo que se explicará la interpretación que se le ha dado a cada una. "
      ],
      "metadata": {
        "id": "aHdCDF9H58gb"
      },
      "id": "aHdCDF9H58gb"
    },
    {
      "cell_type": "markdown",
      "source": [
        "availability_365: suponemos que la propiedad está dispuesta en la plataforma los 365 días del año, es decir, cualquier mes está disponible. Obviamos que sea una casa de verano que sólo se alquile los meses de junio y julio por ejemplo, para definirlo bien, se podrá alquilar los 12 meses del año. "
      ],
      "metadata": {
        "id": "9Oz91E4D6NS6"
      },
      "id": "9Oz91E4D6NS6"
    },
    {
      "cell_type": "markdown",
      "source": [
        "## Preparación de los datos"
      ],
      "metadata": {
        "id": "MRRVog71rZU4"
      },
      "id": "MRRVog71rZU4"
    },
    {
      "cell_type": "markdown",
      "source": [
        "Estudiamos a ver si encontramos alguna fila duplicada, ya que sería aumentar el coste computacional sin aportar ninguna información nueva. "
      ],
      "metadata": {
        "id": "4AwJF_VXW_dc"
      },
      "id": "4AwJF_VXW_dc"
    },
    {
      "cell_type": "code",
      "source": [
        "duplicados = df_raw.duplicated()\n",
        "\n",
        "# Contar el número total de filas duplicadas\n",
        "num_duplicados = duplicados.sum()\n",
        "\n",
        "print(\"Número de filas duplicadas:\", num_duplicados)"
      ],
      "metadata": {
        "colab": {
          "base_uri": "https://localhost:8080/"
        },
        "id": "rwL8TXINW288",
        "outputId": "01471e5f-4139-4a21-c4e7-dc18e0b870c8"
      },
      "id": "rwL8TXINW288",
      "execution_count": 3,
      "outputs": [
        {
          "output_type": "stream",
          "name": "stdout",
          "text": [
            "Número de filas duplicadas: 0\n"
          ]
        }
      ]
    },
    {
      "cell_type": "markdown",
      "source": [
        "Ahora debemos tratar la base de datos para así estudiar qué hacer con los datos NaN que encontraremos. \n",
        "\n",
        "Analizamos cuántos datos NaN hay en la columna 'reviews_per_month', ya que la trataremos posteriormente, y deberemos conocer el contenido de esta. \n"
      ],
      "metadata": {
        "id": "6TRpV0iDuXpi"
      },
      "id": "6TRpV0iDuXpi"
    },
    {
      "cell_type": "code",
      "source": [
        "reviews_per_month_nan = df_raw['reviews_per_month'].isna().sum()\n",
        "print(reviews_per_month_nan)"
      ],
      "metadata": {
        "id": "eRGBwWnHuxTV",
        "outputId": "0b9f26c1-cc3a-4abd-d66e-6a142c90fa0d",
        "colab": {
          "base_uri": "https://localhost:8080/"
        }
      },
      "id": "eRGBwWnHuxTV",
      "execution_count": 4,
      "outputs": [
        {
          "output_type": "stream",
          "name": "stdout",
          "text": [
            "10052\n"
          ]
        }
      ]
    },
    {
      "cell_type": "markdown",
      "source": [
        "Ahora bien, vemos que hay 10052 datos NaN en la columna. Observemos cuántos datos hay en total para barajar las distintas opciones de qué hacer con estos datos NaN. Si es poca cantidad comparado con la cantidad de observaciones en total, podremos eliminar directamente esas observaciones, sin embargo, si suponen gran cantidad, podríamos buscar otras opciones, como rellenar con la media para así no afectar al equilibrio del resto de datos. \n",
        "\n",
        "Es verdad que como hablamos de reseñas por mes, sería factible convertir esos NaN en 0, para que así a la hora de categorizar la columna, lo detecte como Bajo. \n",
        "\n",
        "¿Por qué rellenamos con 0's? Encontramos un NaN en la columna de 'reviews_per_month', cuando en la columna de 'number_of_reviews' aparece un 0, o un NaN directamente, es decir, que anteriormente no se ha hecho ninguna reseña, por lo que obviamente, en el último mes, tampoco. No deberíamos rellenar con la media, ya que ahí estamos aportando una cierta cantidad de reseñas que no se han hecho. "
      ],
      "metadata": {
        "id": "hlY_0vIJvh77"
      },
      "id": "hlY_0vIJvh77"
    },
    {
      "cell_type": "code",
      "source": [
        "num_observations = df_raw.shape[0]\n",
        "print(num_observations)"
      ],
      "metadata": {
        "id": "NXgkAGjewOwD",
        "outputId": "790f93ef-a5b6-41ab-ff9c-e7c28ae36501",
        "colab": {
          "base_uri": "https://localhost:8080/"
        }
      },
      "id": "NXgkAGjewOwD",
      "execution_count": 5,
      "outputs": [
        {
          "output_type": "stream",
          "name": "stdout",
          "text": [
            "48895\n"
          ]
        }
      ]
    },
    {
      "cell_type": "markdown",
      "source": [
        "Supone un 20% de los datos totales. No resulta útil borrarlos, si no que deberíamos rellenar con 0 como hemos explicado. "
      ],
      "metadata": {
        "id": "mP70C7kJwTxc"
      },
      "id": "mP70C7kJwTxc"
    },
    {
      "cell_type": "markdown",
      "source": [
        "Ahora debemos estudiar la distribución de esta, para ello haremos uso de boxplot, representando así cada apartamento para ver si hay outliers o datos rebundantes. "
      ],
      "metadata": {
        "id": "hZBwxiT99iBX"
      },
      "id": "hZBwxiT99iBX"
    },
    {
      "cell_type": "markdown",
      "source": [
        "Rellenamos con 0's ahora, para que cuando se realice el boxplot a continuación, esos 0 se tengan en cuenta a la hora de obtener los valores estadísticos. "
      ],
      "metadata": {
        "id": "hKS-nlWdYQe1"
      },
      "id": "hKS-nlWdYQe1"
    },
    {
      "cell_type": "code",
      "source": [
        "df_raw=df_raw.assign(reviews_per_month = df_raw['reviews_per_month'].fillna(0)) "
      ],
      "metadata": {
        "id": "mjahuHLlWgG5"
      },
      "id": "mjahuHLlWgG5",
      "execution_count": 6,
      "outputs": []
    },
    {
      "cell_type": "code",
      "source": [
        "\n",
        "boxplot_reviews=df_raw['reviews_per_month']\n",
        "plt.boxplot(boxplot_reviews)\n",
        "plt.title('Boxplot reseña apartamentos ')\n",
        "plt.show()"
      ],
      "metadata": {
        "colab": {
          "base_uri": "https://localhost:8080/",
          "height": 281
        },
        "id": "XpVLKGfQ9xsl",
        "outputId": "a134f902-fc58-44e2-e061-7e7074cc084a"
      },
      "id": "XpVLKGfQ9xsl",
      "execution_count": 7,
      "outputs": [
        {
          "output_type": "display_data",
          "data": {
            "text/plain": [
              "<Figure size 432x288 with 1 Axes>"
            ],
            "image/png": "[encoded data removed]"
          },
          "metadata": {
            "needs_background": "light"
          }
        }
      ]
    },
    {
      "cell_type": "code",
      "source": [
        "\n",
        "stats = boxplot_stats(boxplot_reviews)\n",
        "stats = stats[0] \n",
        "outliers = stats['fliers']\n",
        "min = stats['q1']-1.5*stats['iqr']\n",
        "max = stats['q3']+1.5*stats['iqr']\n",
        "print(min, max, len(outliers))\n",
        "            "
      ],
      "metadata": {
        "colab": {
          "base_uri": "https://localhost:8080/"
        },
        "id": "Fr9ewCF6-qJX",
        "outputId": "f8432f42-349e-4fa8-ea4d-b43160b703a6"
      },
      "id": "Fr9ewCF6-qJX",
      "execution_count": 8,
      "outputs": [
        {
          "output_type": "stream",
          "name": "stdout",
          "text": [
            "-2.27 3.89 3312\n"
          ]
        }
      ]
    },
    {
      "cell_type": "markdown",
      "source": [
        "Con esta información interpretamos que tenemos 3312 outliers, y que de valor máximo aceptado, se obtendrá 3,89, y mínimo lo interpretamos como 0, ya que no vamos a encontrar valores negativos en el número de reseñas por mes. \n"
      ],
      "metadata": {
        "id": "2k1FSZzGFyPG"
      },
      "id": "2k1FSZzGFyPG"
    },
    {
      "cell_type": "markdown",
      "source": [
        "Ya nos hemos asegurado que no nos quedad ningún dato NaN, así no encontraremos ningún error a la hora de categorizar la columna, que es el siguiente paso. \n",
        "\n",
        "Lo categorizamos en tres: Baja, Media y Alta. "
      ],
      "metadata": {
        "id": "ojLK3k16xYEu"
      },
      "id": "ojLK3k16xYEu"
    },
    {
      "cell_type": "markdown",
      "source": [
        "Considerando que según los rangos intercuartiles hemos obtenido que el máximo valor que se considera aceptable es 3,89, y que el outlier mayor que se puede conseguir es 60, no podemos hacer los rangos teniendo en cuenta el mayor que se pueda tomar, si no el mayor aceptado. Es por ello que para definir cada uno,tendremos en cuenta el rango intercuartilíco: [0-3.89] \n",
        "\n",
        "Por lo que: \n",
        "- [0-1.3) = 'Baja'\n",
        "- [1.3 - 2.6) = 'Media'\n",
        "- [2.6 - 60) = 'Alta' (si no encontrásemos outliers, terminaría en 3.89, pero lo que vamos a hacer es simplemente ignorar esos outliers)"
      ],
      "metadata": {
        "id": "W3xLyeCoH6g2"
      },
      "id": "W3xLyeCoH6g2"
    },
    {
      "cell_type": "markdown",
      "source": [
        "Por otro lado, vamos a clasificar los alquileres en función de los días que están disponibles. \n",
        "\n",
        "Para ello, siguiendo el patrón anterior, calculamos si hay NaN en la columna correspondiente: \n"
      ],
      "metadata": {
        "id": "PdD3LirDN4nG"
      },
      "id": "PdD3LirDN4nG"
    },
    {
      "cell_type": "code",
      "source": [
        "disponibilidad_nan = df_raw['availability_365'].isna().sum()\n",
        "print(disponibilidad_nan)"
      ],
      "metadata": {
        "colab": {
          "base_uri": "https://localhost:8080/"
        },
        "id": "aIcgUrRyOSpi",
        "outputId": "21e96723-ec9a-4c16-8f37-3e84605f98bf"
      },
      "id": "aIcgUrRyOSpi",
      "execution_count": 9,
      "outputs": [
        {
          "output_type": "stream",
          "name": "stdout",
          "text": [
            "0\n"
          ]
        }
      ]
    },
    {
      "cell_type": "markdown",
      "source": [
        "No hay ningún NaN en dicha columna, por lo que no hace falta tratarlos. En el caso de encontrarlos, se tendría que estudiar qué hacer con este conjunto de datos de manera independiente. \n",
        "\n"
      ],
      "metadata": {
        "id": "ZxvJl4iWOc35"
      },
      "id": "ZxvJl4iWOc35"
    },
    {
      "cell_type": "markdown",
      "source": [
        "Ahora pasamos a estudiar de la misma manera la distribución de esta variable, gracias al uso de Boxplot."
      ],
      "metadata": {
        "id": "GQhj_NrEkfKv"
      },
      "id": "GQhj_NrEkfKv"
    },
    {
      "cell_type": "code",
      "source": [
        "import matplotlib.pyplot as plt\n",
        "boxplot_availability_365=df_raw['availability_365']\n",
        "plt.boxplot(boxplot_availability_365)\n",
        "plt.title('Boxplot availability_365 apartamentos ')\n",
        "plt.show()"
      ],
      "metadata": {
        "colab": {
          "base_uri": "https://localhost:8080/",
          "height": 281
        },
        "id": "OGm38mHhkmYi",
        "outputId": "1a2f99c6-246c-4f43-e6a8-a904c8b83775"
      },
      "id": "OGm38mHhkmYi",
      "execution_count": 10,
      "outputs": [
        {
          "output_type": "display_data",
          "data": {
            "text/plain": [
              "<Figure size 432x288 with 1 Axes>"
            ],
            "image/png": "[encoded data removed]"
          },
          "metadata": {
            "needs_background": "light"
          }
        }
      ]
    },
    {
      "cell_type": "code",
      "source": [
        "from matplotlib.cbook import boxplot_stats \n",
        "stats = boxplot_stats(boxplot_availability_365)\n",
        "stats = stats[0] \n",
        "outliers = stats['fliers']\n",
        "min = stats['q1']-1.5*stats['iqr']\n",
        "max = stats['q3']+1.5*stats['iqr']\n",
        "print(min, max, len(outliers))"
      ],
      "metadata": {
        "colab": {
          "base_uri": "https://localhost:8080/"
        },
        "id": "-vII3qs3kwOr",
        "outputId": "fb11bcc0-ed6e-4df5-e445-0cf49606bd14"
      },
      "id": "-vII3qs3kwOr",
      "execution_count": 11,
      "outputs": [
        {
          "output_type": "stream",
          "name": "stdout",
          "text": [
            "-340.5 567.5 0\n"
          ]
        }
      ]
    },
    {
      "cell_type": "markdown",
      "source": [
        "Según este modelo, no encontramos ningún outliers, por lo que podemos continuar. "
      ],
      "metadata": {
        "id": "b3abdvOkk5C6"
      },
      "id": "b3abdvOkk5C6"
    },
    {
      "cell_type": "markdown",
      "source": [
        "Es importante mencionar el valor máximo aceptado obtenido, y es que es 567.5, cuando en un año contamos con 365 días (en el caso de que no sea bisiesto). \n",
        "Es por ello que nos faltaría información para interpretar este máximo, ya que lo podríamos contar con que hay una serie de apartamentos se pueden alquilar durante 4 horas, por lo que un apartamento puede tener varias reseñas al día, o que durante una estancia, todos los usuarios que se hayan quedado puedan poner una reseña. "
      ],
      "metadata": {
        "id": "aI5trPjnl4zA"
      },
      "id": "aI5trPjnl4zA"
    },
    {
      "cell_type": "markdown",
      "source": [
        "Por lo que una vez hemos estudiado cada variable y sus outliers, podemos proceder con el ejercicio. \n",
        "Tal y como nos dice, para medir la popularidad/calidad del barrio, necesitaremos hacer uso de una clasificación, que tomará como factores a estudiar la cantidad de reseñas al mes ('reviews_per_month') y la disponibilidad de este ('availabilty_365'). \n",
        "Pero debemos definir estas variables en rangos, tal y como se ha explicado anteriormente. "
      ],
      "metadata": {
        "id": "NQ-tmo0ymbyT"
      },
      "id": "NQ-tmo0ymbyT"
    },
    {
      "cell_type": "markdown",
      "source": [
        "\n",
        "\n",
        " Poco disponible | Disponible normalmente | Altamente disponible\n",
        "-----:|:--------:| -------\n",
        "Bueno | Regular | Malo\n",
        "Bueno | Regular | Malo\n",
        "Muy bueno | Bueno | Muy Malo\n",
        "\n",
        "\n",
        "\n",
        "\n",
        "Donde cada fila depende del valor de la reseña en Baja, Media y Alta respectivamente."
      ],
      "metadata": {
        "id": "lf_IUOwPXEd_"
      },
      "id": "lf_IUOwPXEd_"
    },
    {
      "cell_type": "markdown",
      "source": [
        "La siguiente celda es una función para la nueva variable 'classification'."
      ],
      "metadata": {
        "id": "XDx4Lf4FnHnY"
      },
      "id": "XDx4Lf4FnHnY"
    },
    {
      "cell_type": "code",
      "source": [
        "def etiqueta_calidad(row):  \n",
        "    if row[1]=='Poco disponible' and row[0]=='Baja': \n",
        "        return 'Bueno'\n",
        "    if row[1]=='Poco disponible' and row[0]=='Media':\n",
        "        return 'Bueno'\n",
        "    if row[1]=='Poco disponible' and row[0]=='Alta':\n",
        "        return 'Muy bueno'\n",
        "    if row[1]=='Disponible normalmente' and row[0]=='Baja':\n",
        "        return 'Regular'\n",
        "    if row[1]=='Disponible normalmente' and row[0]=='Media':\n",
        "        return 'Regular'\n",
        "    if row[1]=='Disponible normalmente' and row[0]=='Alta':\n",
        "        return 'Bueno'\n",
        "    if row[1]=='Altamente disponible' and row[0]=='Baja':\n",
        "        return 'Malo'\n",
        "    if row[1]=='Altamente disponible' and row[0]=='Media':\n",
        "        return 'Malo'\n",
        "    if row[1]=='Altamente disponible' and row[0]=='Alta':\n",
        "        return 'Muy malo'\n",
        "    return 'N/A'"
      ],
      "metadata": {
        "id": "Voe8Jis5pUlU"
      },
      "id": "Voe8Jis5pUlU",
      "execution_count": 12,
      "outputs": []
    },
    {
      "cell_type": "markdown",
      "source": [
        "Volveremos a clasificarlos en una nueva variable llamada 'classification_num', que se regirá a partir de las nuevas reglas proporcionadas, pero con un ligero cambio, y es que cada rango va a pasar a obtener un valor, tal que así: \n",
        "- muy malo: 0\n",
        "- malo: 0.25\n",
        "- regular: 0.5 \n",
        "- bueno: 0.75 \n",
        "- muy bueno: 1 \n",
        "\n",
        "Esto se usará en el ejercicio 2 más adelante, pero por el momento, lo hacemos ahora también. \n",
        "\n",
        "De esta manera, podremos obtener una media de la clasificación por barrios, que será necesario más adelante, ya que con categorías, no se pueden hacer correctamente dichos cálculos. "
      ],
      "metadata": {
        "id": "rTJDRvFNYJqa"
      },
      "id": "rTJDRvFNYJqa"
    },
    {
      "cell_type": "code",
      "source": [
        "df = (df_raw\n",
        " #.pipe(fillna_0) #llamamos a la función para rellenar con 0\n",
        " .assign(availability_365_range= \n",
        "        lambda df_: pd.cut(df_['availability_365'],bins=3,labels=['Poco disponible','Disponible normalmente','Altamente disponible'])) \n",
        "        #dividimos la variable 'availability_365' en 3 rangos iguales, tal y como se ha explicado anteriormente. \n",
        " .assign(reviews_per_month_cat = \n",
        "        lambda df_: pd.cut(df_['reviews_per_month'],bins=[-0.1,1.3,2.6,60],labels=['Baja','Media','Alta']))\n",
        "        #dividimos la variable 'reviews_per_month' en 3 rangos, tal y como se ha justificado.\n",
        " .assign(classification = \n",
        "         lambda df_: df_[['reviews_per_month_cat','availability_365_range']].apply(lambda x: etiqueta_calidad(x),axis=1))\n",
        "        #llamamos a la función 'etiqueta_calidad' para la nueva variable de clasificación\n",
        " .assign(classification_num = \n",
        "         lambda df_: df_['classification'].map(lambda x: 1 if x=='Muy bueno' else 0 if x=='Muy malo' else 0.25 if x=='Malo' else 0.5 if x=='Regular' else 0.75))\n",
        "        #clasificamos numéricamente los rangos, según la variable de 'classification', tal y como se ha explicado\n",
        ")"
      ],
      "metadata": {
        "id": "FkK71xuTqwLZ"
      },
      "id": "FkK71xuTqwLZ",
      "execution_count": 13,
      "outputs": []
    },
    {
      "cell_type": "markdown",
      "source": [
        "Comprobamos lsi todo se ha ejecutado correctamente, para ello contaremos los posibles 'N/A' en la variable de 'classification'"
      ],
      "metadata": {
        "id": "tCyBeVy4gkKf"
      },
      "id": "tCyBeVy4gkKf"
    },
    {
      "cell_type": "code",
      "source": [
        "\n",
        "classif_nan = df['classification'].isna().sum()\n",
        "print(classif_nan)"
      ],
      "metadata": {
        "colab": {
          "base_uri": "https://localhost:8080/"
        },
        "id": "qLg3vv7hYjsr",
        "outputId": "670407ee-ccb5-4754-88ed-138245fedee6"
      },
      "id": "qLg3vv7hYjsr",
      "execution_count": 14,
      "outputs": [
        {
          "output_type": "stream",
          "name": "stdout",
          "text": [
            "0\n"
          ]
        }
      ]
    },
    {
      "cell_type": "markdown",
      "source": [
        "Hacemos la misma comprobación en la variable de 'reviews_per_month_cat'"
      ],
      "metadata": {
        "id": "aATcmO-0qCaM"
      },
      "id": "aATcmO-0qCaM"
    },
    {
      "cell_type": "code",
      "source": [
        "df.query('reviews_per_month_cat==\"N/A\"')"
      ],
      "metadata": {
        "colab": {
          "base_uri": "https://localhost:8080/",
          "height": 113
        },
        "id": "cF22Z-JEhKyo",
        "outputId": "d99e1cdc-4334-4f83-a7f1-dbb17a3706df"
      },
      "id": "cF22Z-JEhKyo",
      "execution_count": 15,
      "outputs": [
        {
          "output_type": "execute_result",
          "data": {
            "text/plain": [
              "Empty DataFrame\n",
              "Columns: [id, name, host_id, host_name, neighbourhood_group, neighbourhood, latitude, longitude, room_type, price, minimum_nights, number_of_reviews, last_review, reviews_per_month, calculated_host_listings_count, availability_365, availability_365_range, reviews_per_month_cat, classification, classification_num]\n",
              "Index: []"
            ],
            "text/html": [
              "\n",
              "  <div id=\"df-fab84652-d31c-4f33-80c7-dbb49046c277\">\n",
              "    <div class=\"colab-df-container\">\n",
              "      <div>\n",
              "<style scoped>\n",
              "    .dataframe tbody tr th:only-of-type {\n",
              "        vertical-align: middle;\n",
              "    }\n",
              "\n",
              "    .dataframe tbody tr th {\n",
              "        vertical-align: top;\n",
              "    }\n",
              "\n",
              "    .dataframe thead th {\n",
              "        text-align: right;\n",
              "    }\n",
              "</style>\n",
              "<table border=\"1\" class=\"dataframe\">\n",
              "  <thead>\n",
              "    <tr style=\"text-align: right;\">\n",
              "      <th></th>\n",
              "      <th>id</th>\n",
              "      <th>name</th>\n",
              "      <th>host_id</th>\n",
              "      <th>host_name</th>\n",
              "      <th>neighbourhood_group</th>\n",
              "      <th>neighbourhood</th>\n",
              "      <th>latitude</th>\n",
              "      <th>longitude</th>\n",
              "      <th>room_type</th>\n",
              "      <th>price</th>\n",
              "      <th>minimum_nights</th>\n",
              "      <th>number_of_reviews</th>\n",
              "      <th>last_review</th>\n",
              "      <th>reviews_per_month</th>\n",
              "      <th>calculated_host_listings_count</th>\n",
              "      <th>availability_365</th>\n",
              "      <th>availability_365_range</th>\n",
              "      <th>reviews_per_month_cat</th>\n",
              "      <th>classification</th>\n",
              "      <th>classification_num</th>\n",
              "    </tr>\n",
              "  </thead>\n",
              "  <tbody>\n",
              "  </tbody>\n",
              "</table>\n",
              "</div>\n",
              "      <button class=\"colab-df-convert\" onclick=\"convertToInteractive('df-fab84652-d31c-4f33-80c7-dbb49046c277')\"\n",
              "              title=\"Convert this dataframe to an interactive table.\"\n",
              "              style=\"display:none;\">\n",
              "        \n",
              "  <svg xmlns=\"http://www.w3.org/2000/svg\" height=\"24px\"viewBox=\"0 0 24 24\"\n",
              "       width=\"24px\">\n",
              "    <path d=\"M0 0h24v24H0V0z\" fill=\"none\"/>\n",
              "    <path d=\"M18.56 5.44l.94 2.06.94-2.06 2.06-.94-2.06-.94-.94-2.06-.94 2.06-2.06.94zm-11 1L8.5 8.5l.94-2.06 2.06-.94-2.06-.94L8.5 2.5l-.94 2.06-2.06.94zm10 10l.94 2.06.94-2.06 2.06-.94-2.06-.94-.94-2.06-.94 2.06-2.06.94z\"/><path d=\"M17.41 7.96l-1.37-1.37c-.4-.4-.92-.59-1.43-.59-.52 0-1.04.2-1.43.59L10.3 9.45l-7.72 7.72c-.78.78-.78 2.05 0 2.83L4 21.41c.39.39.9.59 1.41.59.51 0 1.02-.2 1.41-.59l7.78-7.78 2.81-2.81c.8-.78.8-2.07 0-2.86zM5.41 20L4 18.59l7.72-7.72 1.47 1.35L5.41 20z\"/>\n",
              "  </svg>\n",
              "      </button>\n",
              "      \n",
              "  <style>\n",
              "    .colab-df-container {\n",
              "      display:flex;\n",
              "      flex-wrap:wrap;\n",
              "      gap: 12px;\n",
              "    }\n",
              "\n",
              "    .colab-df-convert {\n",
              "      background-color: #E8F0FE;\n",
              "      border: none;\n",
              "      border-radius: 50%;\n",
              "      cursor: pointer;\n",
              "      display: none;\n",
              "      fill: #1967D2;\n",
              "      height: 32px;\n",
              "      padding: 0 0 0 0;\n",
              "      width: 32px;\n",
              "    }\n",
              "\n",
              "    .colab-df-convert:hover {\n",
              "      background-color: #E2EBFA;\n",
              "      box-shadow: 0px 1px 2px rgba(60, 64, 67, 0.3), 0px 1px 3px 1px rgba(60, 64, 67, 0.15);\n",
              "      fill: #174EA6;\n",
              "    }\n",
              "\n",
              "    [theme=dark] .colab-df-convert {\n",
              "      background-color: #3B4455;\n",
              "      fill: #D2E3FC;\n",
              "    }\n",
              "\n",
              "    [theme=dark] .colab-df-convert:hover {\n",
              "      background-color: #434B5C;\n",
              "      box-shadow: 0px 1px 3px 1px rgba(0, 0, 0, 0.15);\n",
              "      filter: drop-shadow(0px 1px 2px rgba(0, 0, 0, 0.3));\n",
              "      fill: #FFFFFF;\n",
              "    }\n",
              "  </style>\n",
              "\n",
              "      <script>\n",
              "        const buttonEl =\n",
              "          document.querySelector('#df-fab84652-d31c-4f33-80c7-dbb49046c277 button.colab-df-convert');\n",
              "        buttonEl.style.display =\n",
              "          google.colab.kernel.accessAllowed ? 'block' : 'none';\n",
              "\n",
              "        async function convertToInteractive(key) {\n",
              "          const element = document.querySelector('#df-fab84652-d31c-4f33-80c7-dbb49046c277');\n",
              "          const dataTable =\n",
              "            await google.colab.kernel.invokeFunction('convertToInteractive',\n",
              "                                                     [key], {});\n",
              "          if (!dataTable) return;\n",
              "\n",
              "          const docLinkHtml = 'Like what you see? Visit the ' +\n",
              "            '<a target=\"_blank\" href=https://colab.research.google.com/notebooks/data_table.ipynb>data table notebook</a>'\n",
              "            + ' to learn more about interactive tables.';\n",
              "          element.innerHTML = '';\n",
              "          dataTable['output_type'] = 'display_data';\n",
              "          await google.colab.output.renderOutput(dataTable, element);\n",
              "          const docLink = document.createElement('div');\n",
              "          docLink.innerHTML = docLinkHtml;\n",
              "          element.appendChild(docLink);\n",
              "        }\n",
              "      </script>\n",
              "    </div>\n",
              "  </div>\n",
              "  "
            ]
          },
          "metadata": {},
          "execution_count": 15
        }
      ]
    },
    {
      "cell_type": "markdown",
      "source": [
        "Obtenemos el valor deseado. Ahora, gracias a la función '.value_counts', compararemos las dos columnas 'classification' y 'classification_num', ya que deberán tener el mismo número de apartamentos en cada rango o valor corresponidentemente. "
      ],
      "metadata": {
        "id": "Aa-a4uGYaTy5"
      },
      "id": "Aa-a4uGYaTy5"
    },
    {
      "cell_type": "code",
      "source": [
        "df['classification'].value_counts()"
      ],
      "metadata": {
        "colab": {
          "base_uri": "https://localhost:8080/"
        },
        "id": "mbuRB-chhPJD",
        "outputId": "1bf806f5-3939-4bf1-c0dd-f0a81782b294"
      },
      "id": "mbuRB-chhPJD",
      "execution_count": 16,
      "outputs": [
        {
          "output_type": "execute_result",
          "data": {
            "text/plain": [
              "Bueno        29036\n",
              "Malo          9474\n",
              "Regular       4971\n",
              "Muy bueno     3413\n",
              "Muy malo      2001\n",
              "Name: classification, dtype: int64"
            ]
          },
          "metadata": {},
          "execution_count": 16
        }
      ]
    },
    {
      "cell_type": "code",
      "source": [
        "df['classification_num'].value_counts()"
      ],
      "metadata": {
        "colab": {
          "base_uri": "https://localhost:8080/"
        },
        "id": "YEj7rBokhPte",
        "outputId": "4aa61a67-4124-4e47-e095-6a60358778c8"
      },
      "id": "YEj7rBokhPte",
      "execution_count": 17,
      "outputs": [
        {
          "output_type": "execute_result",
          "data": {
            "text/plain": [
              "0.75    29036\n",
              "0.25     9474\n",
              "0.50     4971\n",
              "1.00     3413\n",
              "0.00     2001\n",
              "Name: classification_num, dtype: int64"
            ]
          },
          "metadata": {},
          "execution_count": 17
        }
      ]
    },
    {
      "cell_type": "markdown",
      "source": [
        "Todo se ha ejectuado correctamente, podemos continuar con el ejercicio. "
      ],
      "metadata": {
        "id": "vEN8S-r0qOhw"
      },
      "id": "vEN8S-r0qOhw"
    },
    {
      "cell_type": "markdown",
      "source": [
        "## Modelado\n"
      ],
      "metadata": {
        "id": "xK5gIh_DsXan"
      },
      "id": "xK5gIh_DsXan"
    },
    {
      "cell_type": "markdown",
      "source": [
        "Una vez hemos preparado los datos tal y como deseamos, procedemos a modelar y estudiar el objetivo. Vamos a ver cuántos barrios hay, y cuántos apartamentos encontramos en los más populares. "
      ],
      "metadata": {
        "id": "US2QD_ToU4RF"
      },
      "id": "US2QD_ToU4RF"
    },
    {
      "cell_type": "code",
      "source": [
        "df['neighbourhood'].value_counts()"
      ],
      "metadata": {
        "colab": {
          "base_uri": "https://localhost:8080/"
        },
        "id": "O5d29tIMT9K2",
        "outputId": "3c8f23e3-8e7a-427d-9a6e-2f8d32cec91c"
      },
      "id": "O5d29tIMT9K2",
      "execution_count": 18,
      "outputs": [
        {
          "output_type": "execute_result",
          "data": {
            "text/plain": [
              "Williamsburg          3920\n",
              "Bedford-Stuyvesant    3714\n",
              "Harlem                2658\n",
              "Bushwick              2465\n",
              "Upper West Side       1971\n",
              "                      ... \n",
              "Fort Wadsworth           1\n",
              "Richmondtown             1\n",
              "New Dorp                 1\n",
              "Rossville                1\n",
              "Willowbrook              1\n",
              "Name: neighbourhood, Length: 221, dtype: int64"
            ]
          },
          "metadata": {},
          "execution_count": 18
        }
      ]
    },
    {
      "cell_type": "markdown",
      "source": [
        "Primero observamos que Williamsburg es donde más apartamentos encontramos.\n"
      ],
      "metadata": {
        "id": "sM8cZU-pVQoe"
      },
      "id": "sM8cZU-pVQoe"
    },
    {
      "cell_type": "markdown",
      "source": [
        "Debemos comprobar que cada apartamento tiene un barrio asociado, así podemos descartar futuros problemas. "
      ],
      "metadata": {
        "id": "FCo07rf-qu48"
      },
      "id": "FCo07rf-qu48"
    },
    {
      "cell_type": "code",
      "source": [
        "neighbourhood_nan = df['neighbourhood'].isna().sum()\n",
        "print(neighbourhood_nan)"
      ],
      "metadata": {
        "colab": {
          "base_uri": "https://localhost:8080/"
        },
        "id": "jbVD7uJehtnF",
        "outputId": "ad920104-5b85-4b76-c0b8-25521a6cf6be"
      },
      "id": "jbVD7uJehtnF",
      "execution_count": 19,
      "outputs": [
        {
          "output_type": "stream",
          "name": "stdout",
          "text": [
            "0\n"
          ]
        }
      ]
    },
    {
      "cell_type": "markdown",
      "source": [
        "Debemos ordenar los barrios según la popularidad/calidad. Para ello, según las indicaciones que nos dan, tendremos primero en cuenta el número de apartamentos de calidad según los usuarios. Definimos un apartamento de calidad, aquellos cuya clasificación sea considerada como Buena o Muy buena, esto se traduce a que la variable 'classification' deberá tener el valor \"Bueno\" o \"Muy bueno\". \n",
        "A partir de ahí, tendremos en cuenta la cantidad de apartamentos que tenga el barrio. Será un barrio más popular aquel que cuente con mayor cantidad de apartamentos. Para ello ordenaremos según los 'id', ya que cada apartamento tiene un id, y así podremos contarlos.  "
      ],
      "metadata": {
        "id": "zb2Q2TSHq4zc"
      },
      "id": "zb2Q2TSHq4zc"
    },
    {
      "cell_type": "markdown",
      "source": [
        "La ordenación y agrupación de estos criterios, tendrá lugar en la variable x_barrios. "
      ],
      "metadata": {
        "id": "kTtBiPLntC5W"
      },
      "id": "kTtBiPLntC5W"
    },
    {
      "cell_type": "markdown",
      "source": [
        "Una vez tengamos esta variable, simplemente tendremos que buscar en qué lugar se ostenta el barrio 'Williamsburg' con respecto a los demás que forma New York, satisfaciendo así nuestro objetivo."
      ],
      "metadata": {
        "id": "MJCTB-K4tIDb"
      },
      "id": "MJCTB-K4tIDb"
    },
    {
      "cell_type": "code",
      "source": [
        "x_barrios = list(df\n",
        " .groupby(['neighbourhood','classification']).id\n",
        " .count()\n",
        " .reset_index()\n",
        " .query('classification in [\"Bueno\",\"Muy bueno\"]')\n",
        " .groupby('neighbourhood')\n",
        " .sum()\n",
        " .sort_values(by='id',ascending=False)  \n",
        " .index[:5] \n",
        ")"
      ],
      "metadata": {
        "id": "EdSvgimcryCb"
      },
      "id": "EdSvgimcryCb",
      "execution_count": 20,
      "outputs": []
    },
    {
      "cell_type": "markdown",
      "source": [
        "Hemos tomado los 5 primeros para poder observar si se ha ejecutado correctamente. "
      ],
      "metadata": {
        "id": "jLAZDWHNtqaI"
      },
      "id": "jLAZDWHNtqaI"
    },
    {
      "cell_type": "code",
      "source": [
        "x_barrios"
      ],
      "metadata": {
        "colab": {
          "base_uri": "https://localhost:8080/"
        },
        "id": "Dn17MgzltdXb",
        "outputId": "7e57cbe5-6ac3-42d1-d027-95c33ef0ef49"
      },
      "id": "Dn17MgzltdXb",
      "execution_count": 21,
      "outputs": [
        {
          "output_type": "execute_result",
          "data": {
            "text/plain": [
              "['Williamsburg', 'Bedford-Stuyvesant', 'Harlem', 'Bushwick', 'East Village']"
            ]
          },
          "metadata": {},
          "execution_count": 21
        }
      ]
    },
    {
      "cell_type": "markdown",
      "source": [
        "##Evaluación\n"
      ],
      "metadata": {
        "id": "vUrohiUese1R"
      },
      "id": "vUrohiUese1R"
    },
    {
      "cell_type": "markdown",
      "source": [
        "Ya hemos alcanzado el objetivo que buscábamos, el barrio 'Williamsburg' ostenta la primera posición en términos de popularidad/calidad. "
      ],
      "metadata": {
        "id": "QLPyUaWbtzAT"
      },
      "id": "QLPyUaWbtzAT"
    },
    {
      "cell_type": "markdown",
      "source": [
        "##Despliegue"
      ],
      "metadata": {
        "id": "gj1dxH0usgFA"
      },
      "id": "gj1dxH0usgFA"
    },
    {
      "cell_type": "code",
      "source": [
        "df['neighbourhood'].value_counts()"
      ],
      "metadata": {
        "id": "C4mu-jCTwxVC",
        "outputId": "72683be0-716f-48e3-9f7b-d692b9b68927",
        "colab": {
          "base_uri": "https://localhost:8080/"
        }
      },
      "execution_count": 22,
      "outputs": [
        {
          "output_type": "execute_result",
          "data": {
            "text/plain": [
              "Williamsburg          3920\n",
              "Bedford-Stuyvesant    3714\n",
              "Harlem                2658\n",
              "Bushwick              2465\n",
              "Upper West Side       1971\n",
              "                      ... \n",
              "Fort Wadsworth           1\n",
              "Richmondtown             1\n",
              "New Dorp                 1\n",
              "Rossville                1\n",
              "Willowbrook              1\n",
              "Name: neighbourhood, Length: 221, dtype: int64"
            ]
          },
          "metadata": {},
          "execution_count": 22
        }
      ],
      "id": "C4mu-jCTwxVC"
    },
    {
      "cell_type": "markdown",
      "source": [
        "Para explotar la utilidad de este modelo (Call to Action), debemos estudiar el resultado obtenido. \n",
        "¿Para qué puede servir esto? Si un particular busca aumentar el beneficio de alquilar su propiedad, podrá tener en cuenta este estudio, para según en qué barrio se localiza, estudiar el precio de su apartamento. \n",
        "\n",
        "Pongamos un par de ejemplos: \n",
        "\n",
        "Si el apartamento se localiza en el barrio de 'Williamsburg' deberá adecuar el precio, según el resto de apartamentos, teniendo en cuenta que de media, los apartamentos en esa zona, tienen buena calificación, y que disponen de gran cantidad, por lo que si eleva mucho el precio, nadie estará dispuesto a pagarlo, teniendo otras opciones con la misma clasificación, y un precio más adecuado.\n",
        "\n",
        "Sin embargo si el apartamento se encuentra en el barrio 'Rossville' podrá aumentar el precio por noche, ya que como se observa, es el único apartamento que se encuentra en ese barrio, no tendrá competencia. Si alguien se necesita hospedar ahí, sólo tendrá esa opción. \n"
      ],
      "metadata": {
        "id": "-6pLUvsVdm_f"
      },
      "id": "-6pLUvsVdm_f"
    },
    {
      "cell_type": "markdown",
      "source": [
        "#EJERCICIO 2"
      ],
      "metadata": {
        "id": "FXEJSzskl9bL"
      },
      "id": "FXEJSzskl9bL"
    },
    {
      "cell_type": "markdown",
      "source": [
        "## Comprensión de los negocios y definición del problema:"
      ],
      "metadata": {
        "id": "DxLn5Y5XEWV0"
      },
      "id": "DxLn5Y5XEWV0"
    },
    {
      "cell_type": "markdown",
      "source": [
        " Explica visualmente como se distribuyen los 5 barrios más populares (esto serán aquellos cuyos apartamentos estén más solicitados en números absolutos. Para ello utiliza un diagrama de burbuja donde el eje de las X indica el barrio y el eje Y la calidad de los apartamentos. Usa todos los diagramas que necesites para llegar a esta conclusión final."
      ],
      "metadata": {
        "id": "2LJzHbXxtpt4"
      },
      "id": "2LJzHbXxtpt4"
    },
    {
      "cell_type": "markdown",
      "source": [
        "La selección de los 5 barrios más populares ya se realizó en el ejercicio anterior, y se definió en la variable de x_barrios, por lo que lo próximo será representarlos para estudiar las distribuciones de estos. "
      ],
      "metadata": {
        "id": "ffUVVIZF0E8i"
      },
      "id": "ffUVVIZF0E8i"
    },
    {
      "cell_type": "markdown",
      "source": [
        "Consideramos que las secciones de comprensión de los datos y preparación, ya se realizó en el ejercicio anterior, y no hace falta repetirlo."
      ],
      "metadata": {
        "id": "_uqoh2peEmc0"
      },
      "id": "_uqoh2peEmc0"
    },
    {
      "cell_type": "markdown",
      "source": [
        "Encontramos distintas opciones para estudiar la distribución de estos barrios. Se hará mediante un bubble sort el cual tomará los siguientes valores: \n",
        "- x: los 5 barrios más populares \n",
        "- y: la callidad de los apartamentos \n",
        "\n",
        "Primero estudiaremos cómo se distribuye cada barrio según la variable de 'classification' es decir, sin hacer la media. \n",
        "\n",
        "Pero debemos definir qué variable definirá el tamaño de las burbujas del diagrama (size). Para ello dispongamos de varias opciones, y definamos cuál puede ser la mejor. \n",
        "- 'availabilty_365': Según definimos anteriormente, un apartamento estará disponible en la web de AirBnB los 365 días del año, y esta variable nos indicará cuántos días está disponible. \n",
        "- Cantidad de apartamentos por barrio: El tamaño de cada bubble será la suma de apartamentos por clasificación y por barrio. \n",
        "\n",
        "Nos decantaremos más por la segunda opción, ya que consideramos que será información más útil. "
      ],
      "metadata": {
        "id": "SDHCswfg2JM-"
      },
      "id": "SDHCswfg2JM-"
    },
    {
      "cell_type": "markdown",
      "source": [
        "## Modelado"
      ],
      "metadata": {
        "id": "TgbiBgQsExUO"
      },
      "id": "TgbiBgQsExUO"
    },
    {
      "cell_type": "markdown",
      "source": [
        "Agrupamos por barrio (sólo los 5 más populares) y clasificación. "
      ],
      "metadata": {
        "id": "9u8TX8ouBd50"
      },
      "id": "9u8TX8ouBd50"
    },
    {
      "cell_type": "code",
      "source": [
        "df_draw = (df \n",
        "           .query('neighbourhood in @x_barrios')\n",
        "           .groupby(['neighbourhood','classification']).id\n",
        "           .count()\n",
        "           .reset_index()\n",
        "          )"
      ],
      "metadata": {
        "id": "OYQIS-nfyMZD"
      },
      "id": "OYQIS-nfyMZD",
      "execution_count": 23,
      "outputs": []
    },
    {
      "cell_type": "code",
      "source": [
        "titulo = f\"Calidad en los 5 barrios más populares, indicando cantidad de apartamentos por categoría\"\n",
        "color = sns.color_palette('Set2',8)\n",
        "\n",
        "f, ax = plt.subplots(1,figsize=(15,8))\n",
        "sns.set_style(style='whitegrid')\n",
        "\n",
        "ordenacion_calidad = {'Muy malo':5, 'Malo':4, 'Regular':3, 'Bueno':2, 'Muy bueno':1}\n",
        "\n",
        "sns.scatterplot(data=df_draw.sort_values(by=['classification'], key=lambda x:x.map(ordenacion_calidad)),\n",
        "               x='neighbourhood',\n",
        "               y='classification',\n",
        "               size='id',\n",
        "               sizes=(200,1000),\n",
        "               color='black'\n",
        "               )\n",
        "\n",
        "ax.legend().set_visible(False)\n",
        "#ax.yaxis.set_major_formatter(plt.FuncFormatter(lambda v,x:f'{x:,.2f}'))\n",
        "\n",
        "#for t in legend.texts:\n",
        "#    t.set_text(t.get_text()[:3])\n",
        "#ax.legend(title='apartamentos po',fontsize=24, title_fontsize=24)\n",
        "\n",
        "sns.despine(left=True, bottom=True)\n",
        "#ax.set_xlabel('Barrio',fontsize=24,weight='regular')\n",
        "ax.set_ylabel('Calidad',fontsize=24,weight='regular')\n",
        "\n",
        "#ax.set_axisbelow(False)\n",
        "ax.grid(axis='y',color='gray')\n",
        "ax.xaxis.set_tick_params(labelsize=18,width=0,rotation=0,pad=0)\n",
        "ax.yaxis.set_tick_params(labelsize=18,width=0,rotation=0,pad=0)\n",
        "\n",
        "f.suptitle(f'{titulo}',fontsize=24,color='black',x=.5,ha='center',y=.92)"
      ],
      "metadata": {
        "colab": {
          "base_uri": "https://localhost:8080/",
          "height": 541
        },
        "id": "56XAjcuNyRho",
        "outputId": "0f43cf92-4243-42ee-d572-a591ce7cb5f4"
      },
      "id": "56XAjcuNyRho",
      "execution_count": 24,
      "outputs": [
        {
          "output_type": "execute_result",
          "data": {
            "text/plain": [
              "Text(0.5, 0.92, 'Calidad en los 5 barrios más populares, indicando cantidad de apartamentos por categoría')"
            ]
          },
          "metadata": {},
          "execution_count": 24
        },
        {
          "output_type": "display_data",
          "data": {
            "text/plain": [
              "<Figure size 1080x576 with 1 Axes>"
            ],
            "image/png": "[encoded data removed]"
          },
          "metadata": {
            "needs_background": "light"
          }
        }
      ]
    },
    {
      "cell_type": "markdown",
      "source": [
        "Observamos como en cada barrio predominan los apartamentos de calidad 'Bueno'. "
      ],
      "metadata": {
        "id": "UXe6TvcJ5cgR"
      },
      "id": "UXe6TvcJ5cgR"
    },
    {
      "cell_type": "markdown",
      "source": [
        "A continuación, calcularemos la media de classification por cada barrio. Así podremos observar dónde queda cada uno. Agruparemos así por cantidad de apartamentos, al igual que hemos realizado anteriormente. "
      ],
      "metadata": {
        "id": "yzPJ9WrlHzAo"
      },
      "id": "yzPJ9WrlHzAo"
    },
    {
      "cell_type": "code",
      "source": [
        "df_draw = (df\n",
        "           .query(\"neighbourhood in @x_barrios\")\n",
        "           \n",
        "           .groupby('neighbourhood')['classification_num'].aggregate(['mean','count'])\n",
        "           #.mean()\n",
        "           .reset_index()\n",
        "            )"
      ],
      "metadata": {
        "id": "waN-kuk0ytem"
      },
      "id": "waN-kuk0ytem",
      "execution_count": 25,
      "outputs": []
    },
    {
      "cell_type": "code",
      "source": [
        "titulo = f\"Calidad en los 5 barrios más populares, indicando cantidad de apartamentos por barrio, y clasificación numérica\"\n",
        "color = sns.color_palette('Set2',8)\n",
        "\n",
        "f, ax = plt.subplots(1,figsize=(15,8))\n",
        "sns.set_style(style='whitegrid')\n",
        "\n",
        "\n",
        "sns.scatterplot(data=df_draw,\n",
        "               x='neighbourhood',\n",
        "               y='mean',\n",
        "               size='count',\n",
        "               sizes=(200,1000),\n",
        "               color='black'\n",
        "               )\n",
        "\n",
        "ax.legend(fontsize=24)\n",
        "\n",
        "ax.yaxis.set_major_formatter(plt.FuncFormatter(lambda v,x:f'{v:,.2f}'))\n",
        "legend = ax.legend()\n",
        "for t in legend.texts:\n",
        "    t.set_text(t.get_text()[:3])\n",
        "ax.legend(title='cantidad de apartamentos',fontsize=24, title_fontsize=24, loc=9, bbox_to_anchor=(1,.7), frameon=False)\n",
        "\n",
        "sns.despine(left=True, bottom=True)\n",
        "ax.set_xlabel('Barrio',fontsize=24,weight='regular')\n",
        "ax.set_ylabel('Calidad',fontsize=24,weight='regular')\n",
        "\n",
        "#ax.set_axisbelow(False)\n",
        "ax.grid(axis='y',color='gray')\n",
        "ax.xaxis.set_tick_params(labelsize=18,width=0,rotation=0,pad=0)\n",
        "ax.yaxis.set_tick_params(labelsize=18,width=0,rotation=0,pad=0)\n",
        "\n",
        "f.suptitle(f'{titulo}',fontsize=24,color='black',x=.5,ha='center',y=.92)"
      ],
      "metadata": {
        "colab": {
          "base_uri": "https://localhost:8080/",
          "height": 482
        },
        "id": "5tLvQHL4yxVE",
        "outputId": "8064e795-7264-401d-c5cd-6a60bd6fc117"
      },
      "id": "5tLvQHL4yxVE",
      "execution_count": 26,
      "outputs": [
        {
          "output_type": "execute_result",
          "data": {
            "text/plain": [
              "Text(0.5, 0.92, 'Calidad en los 5 barrios más populares, indicando cantidad de apartamentos por barrio, y clasificación numérica')"
            ]
          },
          "metadata": {},
          "execution_count": 26
        },
        {
          "output_type": "display_data",
          "data": {
            "text/plain": [
              "<Figure size 1080x576 with 1 Axes>"
            ],
            "image/png": "[encoded data removed]"
          },
          "metadata": {}
        }
      ]
    },
    {
      "cell_type": "code",
      "source": [
        "x_barrios"
      ],
      "metadata": {
        "colab": {
          "base_uri": "https://localhost:8080/"
        },
        "id": "fS3JZgX7z9D1",
        "outputId": "147f7554-fefe-4975-9123-90fe2fe7d24b"
      },
      "id": "fS3JZgX7z9D1",
      "execution_count": 27,
      "outputs": [
        {
          "output_type": "execute_result",
          "data": {
            "text/plain": [
              "['Williamsburg', 'Bedford-Stuyvesant', 'Harlem', 'Bushwick', 'East Village']"
            ]
          },
          "metadata": {},
          "execution_count": 27
        }
      ]
    },
    {
      "cell_type": "markdown",
      "source": [
        "Evaluación de esta gráfica: Se puede observar el sentido que ha tomado la clasificación de los 5 barrios seleccionados midiendo la popularidad/calidad, ya que: \n",
        "- Selección: todos los barrios tienen de media una clasificaión buena. \n",
        "- Ordenación: recordando el orden de los barrios 'Williamsburg' es el primero en la clasificación, y como se puede observar, es el que con más cantidad de apartamentos cuenta, seguido por 'Bedford-Stuyvesant'. "
      ],
      "metadata": {
        "id": "fs4yrVqAy2AF"
      },
      "id": "fs4yrVqAy2AF"
    },
    {
      "cell_type": "markdown",
      "source": [
        "Es decir, el barrio 'East Village' es el que mejor valoración tiene de media, sin embargo, el que menos apartamentos tiene disponible, es por eso que se busca un equilibrio, y se considera que el barrio 'Williamsburg', al tener más cantidad de apartamentos, se considera mejor. "
      ],
      "metadata": {
        "id": "uG57afakI81S"
      },
      "id": "uG57afakI81S"
    },
    {
      "cell_type": "markdown",
      "source": [
        "## Despliegue"
      ],
      "metadata": {
        "id": "whbNolhjFBwt"
      },
      "id": "whbNolhjFBwt"
    },
    {
      "cell_type": "markdown",
      "source": [
        "Este tipo de gráficas es útil para representar una cantidad de información limitada, pequeña, y en este caso sólo hemos representado 5 de los 221 que hay en total. Si deseásemos ampliar esta investigación, sería necesario por tanto cambiar el tipo de representación que se está usando. Una idea útil sería representar a la vez 5 Pie Chart, y en cada uno, una clasificación, es decir: \n",
        "- Primer Pie Chart: apartamentos de clasificación muy mala \n",
        "- Segundo Pie Chart: apartamentos de clasificación mala\n",
        "\n",
        "Y así sucesivamente. \n",
        "\n",
        "Ahora bien, dentro de cada uno, cada barrio se representará de un color, y de un tamaño determinado. Este tamaño se verá afectado según la cantidad de apartamentos que tengan de esa clasificación. Así se podrá observar en qué barrio predominan los apartamentos de tipo Muy malo. \n",
        "\n",
        "Se debe tener cuidado con las distribuciones, ya que no es lo mismo que un barrio que tenga disponible 3020 apartamentos, tenga solamente 100 muy malos, que será del mismo tamaño que otro que de 150 apartamentos, 100 son muy malos. \n"
      ],
      "metadata": {
        "id": "6OgXeREA1-wB"
      },
      "id": "6OgXeREA1-wB"
    },
    {
      "cell_type": "markdown",
      "source": [
        "#EJERCICIO 3"
      ],
      "metadata": {
        "id": "hzYraWnUmAVI"
      },
      "id": "hzYraWnUmAVI"
    },
    {
      "cell_type": "markdown",
      "source": [
        "## Comprensión de los negocios y definición del problema"
      ],
      "metadata": {
        "id": "f1nZL0pyLEhI"
      },
      "id": "f1nZL0pyLEhI"
    },
    {
      "cell_type": "markdown",
      "source": [
        "Una vez obtenida la información del apartado anterior, queremos tratar de entender las diferencias de precio entre alquilar un apartamento entero y una habitación privada. Usa los diagramas de cajas donde cada uno de los 5 barrios más populares está representado por una caja y haz una interpretación de los resultados."
      ],
      "metadata": {
        "id": "eJYt8qBctuGf"
      },
      "id": "eJYt8qBctuGf"
    },
    {
      "cell_type": "markdown",
      "source": [
        "## Comprensión de los datos"
      ],
      "metadata": {
        "id": "Ebk1is6VLIXu"
      },
      "id": "Ebk1is6VLIXu"
    },
    {
      "cell_type": "markdown",
      "source": [
        "Este ejercicio se realizará con los 5 barrios más populares, seleccionados de nuevo en ejercicios anteriores. Reutilizaremos ese criterio en este ejericico.\n",
        "\n",
        "Pero es importante hacer el estudio de la variable 'room_type', que no se había realizado con anterioridad.\n",
        "\n",
        "Para ello, seguiremos la estructura que se ha estado siguiendo a lo largo de la práctica, primero estudio de los N/A, y a continuación, la distribución."
      ],
      "metadata": {
        "id": "vbOoLcasMId8"
      },
      "id": "vbOoLcasMId8"
    },
    {
      "cell_type": "markdown",
      "source": [
        "## Preparación de los datos"
      ],
      "metadata": {
        "id": "603hjgOWOW1B"
      },
      "id": "603hjgOWOW1B"
    },
    {
      "cell_type": "markdown",
      "source": [
        "Nos aseguramos que en cada apartamento disponible se especifique qué tipo de habitación está disponible. "
      ],
      "metadata": {
        "id": "Grnn-lv3M9KE"
      },
      "id": "Grnn-lv3M9KE"
    },
    {
      "cell_type": "code",
      "source": [
        "room_type_nan = df_raw['room_type'].isna().sum()\n",
        "print(room_type_nan)"
      ],
      "metadata": {
        "colab": {
          "base_uri": "https://localhost:8080/"
        },
        "id": "UR3ZoUe3M4SQ",
        "outputId": "2838fa23-818c-4ae1-aab4-6012e3e6f0f6"
      },
      "id": "UR3ZoUe3M4SQ",
      "execution_count": 28,
      "outputs": [
        {
          "output_type": "stream",
          "name": "stdout",
          "text": [
            "0\n"
          ]
        }
      ]
    },
    {
      "cell_type": "markdown",
      "source": [
        "Además observamos cuantos apartamentos hay de cada tipo, que lo veremos también gracias a un gráfico de barras."
      ],
      "metadata": {
        "id": "YdqZfdrXNN68"
      },
      "id": "YdqZfdrXNN68"
    },
    {
      "cell_type": "code",
      "source": [
        "df['room_type'].value_counts()"
      ],
      "metadata": {
        "colab": {
          "base_uri": "https://localhost:8080/"
        },
        "id": "ip0hQ9JSMr3G",
        "outputId": "1e6817cd-fde4-4d03-e11c-fb0a9819b877"
      },
      "id": "ip0hQ9JSMr3G",
      "execution_count": 29,
      "outputs": [
        {
          "output_type": "execute_result",
          "data": {
            "text/plain": [
              "Entire home/apt    25409\n",
              "Private room       22326\n",
              "Shared room         1160\n",
              "Name: room_type, dtype: int64"
            ]
          },
          "metadata": {},
          "execution_count": 29
        }
      ]
    },
    {
      "cell_type": "code",
      "source": [
        "frecuencias = {}\n",
        "for d in df['room_type']:\n",
        "    if d in frecuencias:\n",
        "        frecuencias[d] += 1\n",
        "    else:\n",
        "        frecuencias[d] = 1\n",
        "\n",
        "# Creamos el gráfico de barras\n",
        "plt.bar(frecuencias.keys(), frecuencias.values())\n",
        "\n",
        "# Configuramos el título y los ejes\n",
        "plt.title(\"Distribución de la variable categórica\")\n",
        "plt.xlabel(\"Valor\")\n",
        "plt.ylabel(\"Frecuencia\")\n",
        "\n",
        "# Mostramos el gráfico\n",
        "plt.show()"
      ],
      "metadata": {
        "colab": {
          "base_uri": "https://localhost:8080/",
          "height": 295
        },
        "id": "BiBILJOsNz50",
        "outputId": "113a76d5-0135-4dfb-af62-8c92c1ab2633"
      },
      "id": "BiBILJOsNz50",
      "execution_count": 30,
      "outputs": [
        {
          "output_type": "display_data",
          "data": {
            "text/plain": [
              "<Figure size 432x288 with 1 Axes>"
            ],
            "image/png": "[encoded data removed]"
          },
          "metadata": {}
        }
      ]
    },
    {
      "cell_type": "markdown",
      "source": [
        "En esta plataforma, predomina el alquiler de los apartamentos enteros, seguidos de habitaciones privadas, diferenciándose por gran cantidad con el alquiler de habitaciones compartidas. "
      ],
      "metadata": {
        "id": "MgRb71v2N-3H"
      },
      "id": "MgRb71v2N-3H"
    },
    {
      "cell_type": "markdown",
      "source": [
        "Pero en este ejercicio, no estudiaremos el precio de las habitaciones compartidas. "
      ],
      "metadata": {
        "id": "tQRD0FhbOK3V"
      },
      "id": "tQRD0FhbOK3V"
    },
    {
      "cell_type": "markdown",
      "source": [
        "De la misma manera, estudiaremos la variable de precios. \n",
        "\n",
        "Observemos si cada apartamento tiene asociado un precio."
      ],
      "metadata": {
        "id": "o2kb0wrgiGoo"
      },
      "id": "o2kb0wrgiGoo"
    },
    {
      "cell_type": "code",
      "source": [
        "price_nan= df['price'].isna().sum()\n",
        "price_nan"
      ],
      "metadata": {
        "id": "dMQOZadj1Ot6",
        "outputId": "b13d50f9-f1c1-4973-f55a-e88511a171e5",
        "colab": {
          "base_uri": "https://localhost:8080/"
        }
      },
      "id": "dMQOZadj1Ot6",
      "execution_count": 31,
      "outputs": [
        {
          "output_type": "execute_result",
          "data": {
            "text/plain": [
              "0"
            ]
          },
          "metadata": {},
          "execution_count": 31
        }
      ]
    },
    {
      "cell_type": "markdown",
      "source": [
        "Como es una variable numérica, estudiaremos si encontramos algún outlier gracias a la representación boxplot. "
      ],
      "metadata": {
        "id": "0NtnwjOuOzB9"
      },
      "id": "0NtnwjOuOzB9"
    },
    {
      "cell_type": "code",
      "source": [
        "import matplotlib.pyplot as plt\n",
        "boxplot_price=df['price']\n",
        "plt.boxplot(boxplot_price)\n",
        "plt.title('Boxplot price apartamentos ')\n",
        "plt.show()"
      ],
      "metadata": {
        "id": "LTYSTpW29qUF",
        "outputId": "73017928-d3de-4bd9-eb55-126ef4a779fa",
        "colab": {
          "base_uri": "https://localhost:8080/",
          "height": 281
        }
      },
      "id": "LTYSTpW29qUF",
      "execution_count": 32,
      "outputs": [
        {
          "output_type": "display_data",
          "data": {
            "text/plain": [
              "<Figure size 432x288 with 1 Axes>"
            ],
            "image/png": "[encoded data removed]"
          },
          "metadata": {}
        }
      ]
    },
    {
      "cell_type": "code",
      "source": [
        "from matplotlib.cbook import boxplot_stats \n",
        "stats = boxplot_stats(boxplot_price)\n",
        "stats = stats[0] \n",
        "outliers = stats['fliers']\n",
        "min = stats['q1']-1.5*stats['iqr']\n",
        "max = stats['q3']+1.5*stats['iqr']\n",
        "print(min, max, len(outliers))"
      ],
      "metadata": {
        "id": "yA7Rj6O2920k",
        "outputId": "674d8c1b-9da8-4afc-a794-97eda95fb385",
        "colab": {
          "base_uri": "https://localhost:8080/"
        }
      },
      "id": "yA7Rj6O2920k",
      "execution_count": 33,
      "outputs": [
        {
          "output_type": "stream",
          "name": "stdout",
          "text": [
            "-90.0 334.0 2972\n"
          ]
        }
      ]
    },
    {
      "cell_type": "markdown",
      "source": [
        "Consideramos que encontramos 2972 outliers, ya que el máximo precio considerado como aceptable, por noche, es de 334$. \n",
        "\n",
        "No eliminaremos estos outliers, ya que deberíamos tratar a lo particular con cada uno, ya que puede que encontremos un hogar completo, con un precio por noche de 400$ que se esté considerando como outlier. \n",
        "\n",
        "Simplemente los dejaremos tal y como está. "
      ],
      "metadata": {
        "id": "u-piqQNmO89Q"
      },
      "id": "u-piqQNmO89Q"
    },
    {
      "cell_type": "markdown",
      "source": [
        "## Modelado"
      ],
      "metadata": {
        "id": "b6ULbz1wiCEU"
      },
      "id": "b6ULbz1wiCEU"
    },
    {
      "cell_type": "markdown",
      "source": [
        "Por cada barrio, representaremos dos cajas, una para alquileres de tipo habitación privada, y otra para apartamentos enteros. De esta manera estudiaremos por separado cada tipo, pudiendo así obtener las medias y todos las estadísticas necesarias, por separado."
      ],
      "metadata": {
        "id": "U69fPN88ih_-"
      },
      "id": "U69fPN88ih_-"
    },
    {
      "cell_type": "markdown",
      "source": [
        "Procedemos a obtener todos los apartamentos que se encuentren en los barrios populares, y todos los apartamentos que no sean de habitación compartida. "
      ],
      "metadata": {
        "id": "IDfKYHfgCpW-"
      },
      "id": "IDfKYHfgCpW-"
    },
    {
      "cell_type": "code",
      "source": [
        "df_draw = (df\n",
        "    #.dropna()\n",
        "    .query(\"neighbourhood in @x_barrios\")\n",
        "    .query(\"room_type!='Shared room'\")\n",
        "          ) "
      ],
      "metadata": {
        "id": "Spij4Ppz6V99"
      },
      "id": "Spij4Ppz6V99",
      "execution_count": 34,
      "outputs": []
    },
    {
      "cell_type": "code",
      "source": [
        "titulo = f\"Distribución precios por tipo habitación en los barrios más populares\"\n",
        "color = sns.color_palette('Set2',8)\n",
        "\n",
        "f, ax = plt.subplots(1,figsize=(15,8))\n",
        "sns.set_style(style='whitegrid')\n",
        "\n",
        "\n",
        "sns.boxplot(data=df_draw,x='neighbourhood',y='price',hue='room_type')\n",
        "ax.legend(fontsize=24)\n",
        "\n",
        "ax.yaxis.set_major_formatter(plt.FuncFormatter(lambda v,x:'{:,.0f}'.format(v)))\n",
        "\n",
        "sns.despine(left=True, bottom=True)\n",
        "#ax.set_axisbelow(False)\n",
        "ax.grid(axis='y',color='gray')\n",
        "ax.xaxis.set_tick_params(labelsize=18,width=0,rotation=0,pad=0)\n",
        "ax.yaxis.set_tick_params(labelsize=18,width=0,rotation=0,pad=0)\n",
        "\n",
        "f.suptitle(f'{titulo}',fontsize=24,color='black',x=.5,ha='center',y=.92)"
      ],
      "metadata": {
        "id": "uN5GRbkd6ZYO",
        "outputId": "66994440-8922-443e-98f5-66443a701d4a",
        "colab": {
          "base_uri": "https://localhost:8080/",
          "height": 541
        }
      },
      "id": "uN5GRbkd6ZYO",
      "execution_count": 35,
      "outputs": [
        {
          "output_type": "execute_result",
          "data": {
            "text/plain": [
              "Text(0.5, 0.92, 'Distribución precios por tipo habitación en los barrios más populares')"
            ]
          },
          "metadata": {},
          "execution_count": 35
        },
        {
          "output_type": "display_data",
          "data": {
            "text/plain": [
              "<Figure size 1080x576 with 1 Axes>"
            ],
            "image/png": "[encoded data removed]"
          },
          "metadata": {}
        }
      ]
    },
    {
      "cell_type": "markdown",
      "source": [
        "Como hay demasiados outliers, no se puede apreciar con claridad las gráficas. Pondremos una nueva restricción y diremos que represente aquellos cuyo precio sea menor de 500, a ver si con eso podemos visualizarlo con más claridad."
      ],
      "metadata": {
        "id": "iz51N6nA6cHE"
      },
      "id": "iz51N6nA6cHE"
    },
    {
      "cell_type": "code",
      "source": [
        "df_draw = (df\n",
        "    #.dropna()\n",
        "    .query(\"neighbourhood in @x_barrios\")\n",
        "    .query(\"room_type!='Shared room'\")\n",
        "    .query(\"price<500\")\n",
        "          ) "
      ],
      "metadata": {
        "id": "y4Xm6d616hN9"
      },
      "id": "y4Xm6d616hN9",
      "execution_count": 36,
      "outputs": []
    },
    {
      "cell_type": "code",
      "source": [
        "titulo = f\"Distribución precios por tipo habitación en los barrios más populares\"\n",
        "color = sns.color_palette('Set2',8)\n",
        "\n",
        "f, ax = plt.subplots(1,figsize=(15,8))\n",
        "sns.set_style(style='whitegrid')\n",
        "\n",
        "\n",
        "sns.boxplot(data=df_draw,x='neighbourhood',y='price',hue='room_type')\n",
        "ax.legend(fontsize=24)\n",
        "\n",
        "ax.yaxis.set_major_formatter(plt.FuncFormatter(lambda v,x:'{:,.0f}'.format(v)))\n",
        "\n",
        "sns.despine(left=True, bottom=True)\n",
        "#ax.set_axisbelow(False)\n",
        "ax.grid(axis='y',color='gray')\n",
        "ax.xaxis.set_tick_params(labelsize=18,width=0,rotation=0,pad=0)\n",
        "ax.yaxis.set_tick_params(labelsize=18,width=0,rotation=0,pad=0)\n",
        "\n",
        "f.suptitle(f'{titulo}',fontsize=24,color='black',x=.5,ha='center',y=.92)"
      ],
      "metadata": {
        "id": "W5avfhOl6gAN",
        "outputId": "313e3b7b-56ec-4452-9671-4214773c8eb8",
        "colab": {
          "base_uri": "https://localhost:8080/",
          "height": 541
        }
      },
      "id": "W5avfhOl6gAN",
      "execution_count": 37,
      "outputs": [
        {
          "output_type": "execute_result",
          "data": {
            "text/plain": [
              "Text(0.5, 0.92, 'Distribución precios por tipo habitación en los barrios más populares')"
            ]
          },
          "metadata": {},
          "execution_count": 37
        },
        {
          "output_type": "display_data",
          "data": {
            "text/plain": [
              "<Figure size 1080x576 with 1 Axes>"
            ],
            "image/png": "[encoded data removed]"
          },
          "metadata": {}
        }
      ]
    },
    {
      "cell_type": "markdown",
      "source": [
        "Visualizando de primera mano dicha gráfica, se concluye con claridad que obviamente, es más barato alquilar una sóla habitación que un apartamento entero. Pero observemos ahora las estadísticas para obtener conclusiones. "
      ],
      "metadata": {
        "id": "tpWZTfaiVnLI"
      },
      "id": "tpWZTfaiVnLI"
    },
    {
      "cell_type": "code",
      "source": [
        "df_draw.groupby(['neighbourhood','room_type'])['price'].agg(['mean','max', 'min', 'median', 'std'])"
      ],
      "metadata": {
        "id": "q87AI9f16j9C",
        "outputId": "8a96bd2c-95de-4203-b0dd-cb78cdcad3ad",
        "colab": {
          "base_uri": "https://localhost:8080/",
          "height": 394
        }
      },
      "id": "q87AI9f16j9C",
      "execution_count": 38,
      "outputs": [
        {
          "output_type": "execute_result",
          "data": {
            "text/plain": [
              "                                          mean  max  min  median        std\n",
              "neighbourhood      room_type                                               \n",
              "Bedford-Stuyvesant Entire home/apt  141.260870  499   10   127.5  62.822611\n",
              "                   Private room      65.127712  475    0    60.0  32.799144\n",
              "Bushwick           Entire home/apt  141.667162  475   11   125.0  67.483391\n",
              "                   Private room      60.722028  250    0    55.0  23.612820\n",
              "East Village       Entire home/apt  200.135518  499   10   180.0  82.764557\n",
              "                   Private room     105.107198  420   39    95.0  46.279699\n",
              "Harlem             Entire home/apt  157.006917  465   49   135.0  74.457583\n",
              "                   Private room      77.546326  399   16    70.0  35.952120\n",
              "Williamsburg       Entire home/apt  187.007115  499    0   175.0  78.194876\n",
              "                   Private room      82.795477  477   10    75.0  40.183176"
            ],
            "text/html": [
              "\n",
              "  <div id=\"df-d3a2fbfa-50ea-4c7f-a136-d1f944630460\">\n",
              "    <div class=\"colab-df-container\">\n",
              "      <div>\n",
              "<style scoped>\n",
              "    .dataframe tbody tr th:only-of-type {\n",
              "        vertical-align: middle;\n",
              "    }\n",
              "\n",
              "    .dataframe tbody tr th {\n",
              "        vertical-align: top;\n",
              "    }\n",
              "\n",
              "    .dataframe thead th {\n",
              "        text-align: right;\n",
              "    }\n",
              "</style>\n",
              "<table border=\"1\" class=\"dataframe\">\n",
              "  <thead>\n",
              "    <tr style=\"text-align: right;\">\n",
              "      <th></th>\n",
              "      <th></th>\n",
              "      <th>mean</th>\n",
              "      <th>max</th>\n",
              "      <th>min</th>\n",
              "      <th>median</th>\n",
              "      <th>std</th>\n",
              "    </tr>\n",
              "    <tr>\n",
              "      <th>neighbourhood</th>\n",
              "      <th>room_type</th>\n",
              "      <th></th>\n",
              "      <th></th>\n",
              "      <th></th>\n",
              "      <th></th>\n",
              "      <th></th>\n",
              "    </tr>\n",
              "  </thead>\n",
              "  <tbody>\n",
              "    <tr>\n",
              "      <th rowspan=\"2\" valign=\"top\">Bedford-Stuyvesant</th>\n",
              "      <th>Entire home/apt</th>\n",
              "      <td>141.260870</td>\n",
              "      <td>499</td>\n",
              "      <td>10</td>\n",
              "      <td>127.5</td>\n",
              "      <td>62.822611</td>\n",
              "    </tr>\n",
              "    <tr>\n",
              "      <th>Private room</th>\n",
              "      <td>65.127712</td>\n",
              "      <td>475</td>\n",
              "      <td>0</td>\n",
              "      <td>60.0</td>\n",
              "      <td>32.799144</td>\n",
              "    </tr>\n",
              "    <tr>\n",
              "      <th rowspan=\"2\" valign=\"top\">Bushwick</th>\n",
              "      <th>Entire home/apt</th>\n",
              "      <td>141.667162</td>\n",
              "      <td>475</td>\n",
              "      <td>11</td>\n",
              "      <td>125.0</td>\n",
              "      <td>67.483391</td>\n",
              "    </tr>\n",
              "    <tr>\n",
              "      <th>Private room</th>\n",
              "      <td>60.722028</td>\n",
              "      <td>250</td>\n",
              "      <td>0</td>\n",
              "      <td>55.0</td>\n",
              "      <td>23.612820</td>\n",
              "    </tr>\n",
              "    <tr>\n",
              "      <th rowspan=\"2\" valign=\"top\">East Village</th>\n",
              "      <th>Entire home/apt</th>\n",
              "      <td>200.135518</td>\n",
              "      <td>499</td>\n",
              "      <td>10</td>\n",
              "      <td>180.0</td>\n",
              "      <td>82.764557</td>\n",
              "    </tr>\n",
              "    <tr>\n",
              "      <th>Private room</th>\n",
              "      <td>105.107198</td>\n",
              "      <td>420</td>\n",
              "      <td>39</td>\n",
              "      <td>95.0</td>\n",
              "      <td>46.279699</td>\n",
              "    </tr>\n",
              "    <tr>\n",
              "      <th rowspan=\"2\" valign=\"top\">Harlem</th>\n",
              "      <th>Entire home/apt</th>\n",
              "      <td>157.006917</td>\n",
              "      <td>465</td>\n",
              "      <td>49</td>\n",
              "      <td>135.0</td>\n",
              "      <td>74.457583</td>\n",
              "    </tr>\n",
              "    <tr>\n",
              "      <th>Private room</th>\n",
              "      <td>77.546326</td>\n",
              "      <td>399</td>\n",
              "      <td>16</td>\n",
              "      <td>70.0</td>\n",
              "      <td>35.952120</td>\n",
              "    </tr>\n",
              "    <tr>\n",
              "      <th rowspan=\"2\" valign=\"top\">Williamsburg</th>\n",
              "      <th>Entire home/apt</th>\n",
              "      <td>187.007115</td>\n",
              "      <td>499</td>\n",
              "      <td>0</td>\n",
              "      <td>175.0</td>\n",
              "      <td>78.194876</td>\n",
              "    </tr>\n",
              "    <tr>\n",
              "      <th>Private room</th>\n",
              "      <td>82.795477</td>\n",
              "      <td>477</td>\n",
              "      <td>10</td>\n",
              "      <td>75.0</td>\n",
              "      <td>40.183176</td>\n",
              "    </tr>\n",
              "  </tbody>\n",
              "</table>\n",
              "</div>\n",
              "      <button class=\"colab-df-convert\" onclick=\"convertToInteractive('df-d3a2fbfa-50ea-4c7f-a136-d1f944630460')\"\n",
              "              title=\"Convert this dataframe to an interactive table.\"\n",
              "              style=\"display:none;\">\n",
              "        \n",
              "  <svg xmlns=\"http://www.w3.org/2000/svg\" height=\"24px\"viewBox=\"0 0 24 24\"\n",
              "       width=\"24px\">\n",
              "    <path d=\"M0 0h24v24H0V0z\" fill=\"none\"/>\n",
              "    <path d=\"M18.56 5.44l.94 2.06.94-2.06 2.06-.94-2.06-.94-.94-2.06-.94 2.06-2.06.94zm-11 1L8.5 8.5l.94-2.06 2.06-.94-2.06-.94L8.5 2.5l-.94 2.06-2.06.94zm10 10l.94 2.06.94-2.06 2.06-.94-2.06-.94-.94-2.06-.94 2.06-2.06.94z\"/><path d=\"M17.41 7.96l-1.37-1.37c-.4-.4-.92-.59-1.43-.59-.52 0-1.04.2-1.43.59L10.3 9.45l-7.72 7.72c-.78.78-.78 2.05 0 2.83L4 21.41c.39.39.9.59 1.41.59.51 0 1.02-.2 1.41-.59l7.78-7.78 2.81-2.81c.8-.78.8-2.07 0-2.86zM5.41 20L4 18.59l7.72-7.72 1.47 1.35L5.41 20z\"/>\n",
              "  </svg>\n",
              "      </button>\n",
              "      \n",
              "  <style>\n",
              "    .colab-df-container {\n",
              "      display:flex;\n",
              "      flex-wrap:wrap;\n",
              "      gap: 12px;\n",
              "    }\n",
              "\n",
              "    .colab-df-convert {\n",
              "      background-color: #E8F0FE;\n",
              "      border: none;\n",
              "      border-radius: 50%;\n",
              "      cursor: pointer;\n",
              "      display: none;\n",
              "      fill: #1967D2;\n",
              "      height: 32px;\n",
              "      padding: 0 0 0 0;\n",
              "      width: 32px;\n",
              "    }\n",
              "\n",
              "    .colab-df-convert:hover {\n",
              "      background-color: #E2EBFA;\n",
              "      box-shadow: 0px 1px 2px rgba(60, 64, 67, 0.3), 0px 1px 3px 1px rgba(60, 64, 67, 0.15);\n",
              "      fill: #174EA6;\n",
              "    }\n",
              "\n",
              "    [theme=dark] .colab-df-convert {\n",
              "      background-color: #3B4455;\n",
              "      fill: #D2E3FC;\n",
              "    }\n",
              "\n",
              "    [theme=dark] .colab-df-convert:hover {\n",
              "      background-color: #434B5C;\n",
              "      box-shadow: 0px 1px 3px 1px rgba(0, 0, 0, 0.15);\n",
              "      filter: drop-shadow(0px 1px 2px rgba(0, 0, 0, 0.3));\n",
              "      fill: #FFFFFF;\n",
              "    }\n",
              "  </style>\n",
              "\n",
              "      <script>\n",
              "        const buttonEl =\n",
              "          document.querySelector('#df-d3a2fbfa-50ea-4c7f-a136-d1f944630460 button.colab-df-convert');\n",
              "        buttonEl.style.display =\n",
              "          google.colab.kernel.accessAllowed ? 'block' : 'none';\n",
              "\n",
              "        async function convertToInteractive(key) {\n",
              "          const element = document.querySelector('#df-d3a2fbfa-50ea-4c7f-a136-d1f944630460');\n",
              "          const dataTable =\n",
              "            await google.colab.kernel.invokeFunction('convertToInteractive',\n",
              "                                                     [key], {});\n",
              "          if (!dataTable) return;\n",
              "\n",
              "          const docLinkHtml = 'Like what you see? Visit the ' +\n",
              "            '<a target=\"_blank\" href=https://colab.research.google.com/notebooks/data_table.ipynb>data table notebook</a>'\n",
              "            + ' to learn more about interactive tables.';\n",
              "          element.innerHTML = '';\n",
              "          dataTable['output_type'] = 'display_data';\n",
              "          await google.colab.output.renderOutput(dataTable, element);\n",
              "          const docLink = document.createElement('div');\n",
              "          docLink.innerHTML = docLinkHtml;\n",
              "          element.appendChild(docLink);\n",
              "        }\n",
              "      </script>\n",
              "    </div>\n",
              "  </div>\n",
              "  "
            ]
          },
          "metadata": {},
          "execution_count": 38
        }
      ]
    },
    {
      "cell_type": "markdown",
      "source": [
        "Se puede concluir que en media, es más caro hospedarse en el barrio de 'East Village', incluso siendo 'Williamsburg' el barrio más popular, y 'East Village' el quinto.\n",
        "Obviamente encontramos errores en esta base de datos, ya que hay barrios que costean 0€ por noche, lo cual puede deberse a un error, o que el apartamento en cuestión es de precio abierto, y se especifica con el casero. \n",
        "\n",
        "Los valores máximos parecen un poco elevados. En 'Williamsburg' por ejemplo, encuentras una diferencia de apenas 22 $ entre una habitación privada y un apartamentos entero, cosa que no tiene demasiado sentido. Puede ser un outlier como bien hemos hablado antes. \n"
      ],
      "metadata": {
        "id": "Y2tWV_QvV3mq"
      },
      "id": "Y2tWV_QvV3mq"
    },
    {
      "cell_type": "markdown",
      "source": [
        "## Despliegue"
      ],
      "metadata": {
        "id": "_CQLq9mTLSYA"
      },
      "id": "_CQLq9mTLSYA"
    },
    {
      "cell_type": "markdown",
      "source": [
        "Este tipo de estadísticas es útil si se quiere ahorrar dinero, ya que podrás comparar los precios de media, y hospedarte en un barrio que esté cercano al deseado, pero más barato. \n",
        "\n",
        "Sería interesante comparar la media de precio de alquilar una habitación privada a un apartamento entero en Nueva York, para ello, lo graficaremos mediante dos boxplot de la misma manera que se ha realizado anteriormente. "
      ],
      "metadata": {
        "id": "882UBPSmbCIc"
      },
      "id": "882UBPSmbCIc"
    },
    {
      "cell_type": "code",
      "source": [
        "df_draw = (df\n",
        "    #.dropna()\n",
        "    #.query(\"neighbourhood in @x_barrios\")\n",
        "    .query(\"room_type!='Shared room'\")\n",
        "    .query(\"price<400\")  #.groupby('neighbourhood')['classification_num'].aggregate(['mean','count'])\n",
        "          ) "
      ],
      "metadata": {
        "id": "RMNWAN1A53YS"
      },
      "id": "RMNWAN1A53YS",
      "execution_count": 39,
      "outputs": []
    },
    {
      "cell_type": "code",
      "source": [
        "titulo = f\"Distribución precios por tipo habitación de media\"\n",
        "color = sns.color_palette('Set2',8)\n",
        "\n",
        "f, ax = plt.subplots(1,figsize=(15,8))\n",
        "sns.set_style(style='whitegrid')\n",
        "\n",
        "\n",
        "sns.boxplot(data=df_draw,x='room_type',y='price')\n",
        "ax.legend(fontsize=24)\n",
        "\n",
        "ax.yaxis.set_major_formatter(plt.FuncFormatter(lambda v,x:'{:,.0f}'.format(v)))\n",
        "\n",
        "sns.despine(left=True, bottom=True)\n",
        "#ax.set_axisbelow(False)\n",
        "ax.grid(axis='y',color='gray')\n",
        "ax.xaxis.set_tick_params(labelsize=18,width=0,rotation=0,pad=0)\n",
        "ax.yaxis.set_tick_params(labelsize=18,width=0,rotation=0,pad=0)\n",
        "\n",
        "f.suptitle(f'{titulo}',fontsize=24,color='black',x=.5,ha='center',y=.92)"
      ],
      "metadata": {
        "id": "DJb4ul0f56CK",
        "colab": {
          "base_uri": "https://localhost:8080/",
          "height": 560
        },
        "outputId": "b93dc06a-2d73-4e28-fcfb-21d0f40810f8"
      },
      "id": "DJb4ul0f56CK",
      "execution_count": 40,
      "outputs": [
        {
          "output_type": "stream",
          "name": "stderr",
          "text": [
            "WARNING:matplotlib.legend:No handles with labels found to put in legend.\n"
          ]
        },
        {
          "output_type": "execute_result",
          "data": {
            "text/plain": [
              "Text(0.5, 0.92, 'Distribución precios por tipo habitación de media')"
            ]
          },
          "metadata": {},
          "execution_count": 40
        },
        {
          "output_type": "display_data",
          "data": {
            "text/plain": [
              "<Figure size 1080x576 with 1 Axes>"
            ],
            "image/png": "[encoded data removed]"
          },
          "metadata": {}
        }
      ]
    },
    {
      "cell_type": "markdown",
      "source": [
        "Aunque no aporte información nueva que no nos esperásemos, puede llegar a ser útil a la hora de organizar un viaje, poder esperarte más o menos lo que pagarás por estancia.\n",
        "Si se requiere un análisis más exaustivo, se puede recurrir a la representación anterior, y adecuarlo a los barrios deseados. "
      ],
      "metadata": {
        "id": "O8rlDLGiblQk"
      },
      "id": "O8rlDLGiblQk"
    },
    {
      "cell_type": "markdown",
      "source": [
        "#EJERCICIO 4"
      ],
      "metadata": {
        "id": "rbNsTsHDmDiH"
      },
      "id": "rbNsTsHDmDiH"
    },
    {
      "cell_type": "markdown",
      "source": [
        "## Comprensión de los negocios y definición del problema\n"
      ],
      "metadata": {
        "id": "GmrA3UN0c-Ln"
      },
      "id": "GmrA3UN0c-Ln"
    },
    {
      "cell_type": "markdown",
      "source": [
        "Por último, se intuye que la tendencia a dejar reseñas en las apps que prestan servicios, ha aumentado en los últimos años. Decide que diagrama es más útil para este caso. Dibújalo y realiza una interpretación del mismo. Tomaremos la fecha de la última reseña como el dato útil para realizar dicho caso."
      ],
      "metadata": {
        "id": "9BsU2eb2txZt"
      },
      "id": "9BsU2eb2txZt"
    },
    {
      "cell_type": "markdown",
      "source": [
        "\n",
        "## Comprensión de los datos\n"
      ],
      "metadata": {
        "id": "h-BAUkpOdA9x"
      },
      "id": "h-BAUkpOdA9x"
    },
    {
      "cell_type": "markdown",
      "source": [
        "Para el objetivo propuesto, solamente haremos uso de la variable 'last_review', la cual es una variable en lista que indica la fecha de la última reseña, pero para hacer un correcto uso de esta, deberemos pasarla al formato de fecha, haciendo uso de pandas. \n"
      ],
      "metadata": {
        "id": "8Gf-q7zkdezG"
      },
      "id": "8Gf-q7zkdezG"
    },
    {
      "cell_type": "markdown",
      "source": [
        "\n",
        "##Preparación de los datos\n"
      ],
      "metadata": {
        "id": "MnVd7L4WdFYr"
      },
      "id": "MnVd7L4WdFYr"
    },
    {
      "cell_type": "markdown",
      "source": [
        "Como se ha realizado a lo largo de la práctica, debemos estudiar la cantidad de NaN's que encontramos en esta variable, para evitar futuros problemas tanto de compilación como de comprensión."
      ],
      "metadata": {
        "id": "tgEO_bbBd_zL"
      },
      "id": "tgEO_bbBd_zL"
    },
    {
      "cell_type": "code",
      "source": [
        "date_nan = df['last_review'].isna().sum()\n",
        "print(date_nan)"
      ],
      "metadata": {
        "id": "FohBRL1jfOBs",
        "colab": {
          "base_uri": "https://localhost:8080/"
        },
        "outputId": "efc4abaf-7d60-4cb6-ce99-b456fac10371"
      },
      "id": "FohBRL1jfOBs",
      "execution_count": 41,
      "outputs": [
        {
          "output_type": "stream",
          "name": "stdout",
          "text": [
            "10052\n"
          ]
        }
      ]
    },
    {
      "cell_type": "code",
      "source": [
        "num_observations = df.shape[0]\n",
        "print(date_nan/num_observations)"
      ],
      "metadata": {
        "id": "YZrqVazRfPCT",
        "colab": {
          "base_uri": "https://localhost:8080/"
        },
        "outputId": "a6be1f80-0350-416c-e224-d4574b461414"
      },
      "id": "YZrqVazRfPCT",
      "execution_count": 42,
      "outputs": [
        {
          "output_type": "stream",
          "name": "stdout",
          "text": [
            "0.20558339298496778\n"
          ]
        }
      ]
    },
    {
      "cell_type": "markdown",
      "source": [
        "Estos NaN's suponen un 20% de las observaciones en total. Es un porcentaje alto, pero se debe a que en esos apartamentos no se ha realizado ninguna reseña. Anteriormente, en la variable de 'reviews_per_month' encontrábamos la misma cantidad, y los poníamos a valor 0, pero esta variable interpreta datos totalmente distintos, y sería un error sustituirlos, ya que no podemos aproximar la fecha. De todas maneras, nuestro objetivo es estudiar si el número de reseñas ha aumentado en los últimos años, por lo que si no se ha realizado ninguna, no nos aporta nada de información, posteriormente, eliminaremos dichos NaN directamente. "
      ],
      "metadata": {
        "id": "7OF9mifZePIJ"
      },
      "id": "7OF9mifZePIJ"
    },
    {
      "cell_type": "markdown",
      "source": [
        "\n",
        "## Modelado\n",
        "\n"
      ],
      "metadata": {
        "id": "j72SdWChdJdt"
      },
      "id": "j72SdWChdJdt"
    },
    {
      "cell_type": "markdown",
      "source": [
        "Gracias a la librería 'datetime', pasaremos a un formato correcto la variable deseada, una vez ya se han eliminado los NaN's. \n",
        "Además, como lo que nos interesa son los años, sólo guardaremos ese dato."
      ],
      "metadata": {
        "id": "C3ywdGySe8l9"
      },
      "id": "C3ywdGySe8l9"
    },
    {
      "cell_type": "code",
      "source": [
        "from datetime import datetime\n",
        "#borramos los NaN\n",
        "df2=df.dropna()\n",
        "df2.loc[:,'date']=np.nan\n",
        "\n",
        "#pasamos a formato fecha los datos\n",
        "df2['date']= pd.to_datetime(df2['last_review'])\n",
        "df2['date'] = df2['date'].dt.year \n",
        "#unicamente nos interesa el año, asi que guardamos el año en la última columna\n",
        "df2['date'].head"
      ],
      "metadata": {
        "id": "DX6yCo8MfScR",
        "colab": {
          "base_uri": "https://localhost:8080/"
        },
        "outputId": "d348c089-0608-411f-a78e-0c94b4ac9be6"
      },
      "id": "DX6yCo8MfScR",
      "execution_count": 43,
      "outputs": [
        {
          "output_type": "stream",
          "name": "stderr",
          "text": [
            "/usr/local/lib/python3.8/dist-packages/pandas/core/indexing.py:1667: SettingWithCopyWarning: \n",
            "A value is trying to be set on a copy of a slice from a DataFrame.\n",
            "Try using .loc[row_indexer,col_indexer] = value instead\n",
            "\n",
            "See the caveats in the documentation: https://pandas.pydata.org/pandas-docs/stable/user_guide/indexing.html#returning-a-view-versus-a-copy\n",
            "  self.obj[key] = value\n",
            "<ipython-input-43-b1c5c4e38726>:7: SettingWithCopyWarning: \n",
            "A value is trying to be set on a copy of a slice from a DataFrame.\n",
            "Try using .loc[row_indexer,col_indexer] = value instead\n",
            "\n",
            "See the caveats in the documentation: https://pandas.pydata.org/pandas-docs/stable/user_guide/indexing.html#returning-a-view-versus-a-copy\n",
            "  df2['date']= pd.to_datetime(df2['last_review'])\n",
            "<ipython-input-43-b1c5c4e38726>:8: SettingWithCopyWarning: \n",
            "A value is trying to be set on a copy of a slice from a DataFrame.\n",
            "Try using .loc[row_indexer,col_indexer] = value instead\n",
            "\n",
            "See the caveats in the documentation: https://pandas.pydata.org/pandas-docs/stable/user_guide/indexing.html#returning-a-view-versus-a-copy\n",
            "  df2['date'] = df2['date'].dt.year\n"
          ]
        },
        {
          "output_type": "execute_result",
          "data": {
            "text/plain": [
              "<bound method NDFrame.head of 0        2018\n",
              "1        2019\n",
              "3        2019\n",
              "4        2018\n",
              "5        2019\n",
              "         ... \n",
              "48782    2019\n",
              "48790    2019\n",
              "48799    2019\n",
              "48805    2019\n",
              "48852    2019\n",
              "Name: date, Length: 38821, dtype: int64>"
            ]
          },
          "metadata": {},
          "execution_count": 43
        }
      ]
    },
    {
      "cell_type": "markdown",
      "source": [
        "Agrupamos según año y sumamos el número de reseñas en cada año. Para ello, creamos una nueva columna."
      ],
      "metadata": {
        "id": "lUx9fIC6fQrv"
      },
      "id": "lUx9fIC6fQrv"
    },
    {
      "cell_type": "code",
      "source": [
        "year= np.unique(df2['date'])\n",
        "num_anos = len(year)\n",
        "print('Número de años:', num_anos)"
      ],
      "metadata": {
        "id": "XXTe_qUCfTtV",
        "colab": {
          "base_uri": "https://localhost:8080/"
        },
        "outputId": "a0129115-d0f9-45df-8ef8-2c36017d3016"
      },
      "id": "XXTe_qUCfTtV",
      "execution_count": 44,
      "outputs": [
        {
          "output_type": "stream",
          "name": "stdout",
          "text": [
            "Número de años: 9\n"
          ]
        }
      ]
    },
    {
      "cell_type": "markdown",
      "source": [
        "Podemos, entonces definir que las reseñas se reparten en 9 años, y en cada una, encontramos esa cantidad de reseñas. "
      ],
      "metadata": {
        "id": "XdsffYJEfUqv"
      },
      "id": "XdsffYJEfUqv"
    },
    {
      "cell_type": "code",
      "source": [
        "resenas=df2.groupby(\"date\").reviews_per_month.sum()\n",
        "print(resenas)"
      ],
      "metadata": {
        "id": "dVVuWqOafWIe",
        "colab": {
          "base_uri": "https://localhost:8080/"
        },
        "outputId": "47cdf591-ae8a-4af9-a50b-38ee9b1c91b2"
      },
      "id": "dVVuWqOafWIe",
      "execution_count": 45,
      "outputs": [
        {
          "output_type": "stream",
          "name": "stdout",
          "text": [
            "date\n",
            "2011        0.55\n",
            "2012        1.75\n",
            "2013        2.79\n",
            "2014       12.60\n",
            "2015       96.82\n",
            "2016      327.28\n",
            "2017      702.67\n",
            "2018     2423.12\n",
            "2019    49742.55\n",
            "Name: reviews_per_month, dtype: float64\n"
          ]
        }
      ]
    },
    {
      "cell_type": "code",
      "source": [
        "df_=df.assign(last_review= lambda df_:pd.to_datetime(df_['last_review']))"
      ],
      "metadata": {
        "id": "_uQmoKf4obC0"
      },
      "execution_count": 46,
      "outputs": [],
      "id": "_uQmoKf4obC0"
    },
    {
      "cell_type": "markdown",
      "source": [
        "Tomaremos como referencia el id de los apartamentos para poder contarlos y ver cuántos hay registrados en cada año, agrupando por año, y especificando la fecha del 31 de diciembre de cada uno. "
      ],
      "metadata": {
        "id": "61F729MiDmNK"
      },
      "id": "61F729MiDmNK"
    },
    {
      "cell_type": "code",
      "source": [
        "df_.groupby(pd.Grouper(key='last_review',freq='Y')).count().id"
      ],
      "metadata": {
        "id": "0LjsRU2vou7s",
        "colab": {
          "base_uri": "https://localhost:8080/"
        },
        "outputId": "aa5f4f51-14ff-4378-de96-f9fc5349511a"
      },
      "execution_count": 48,
      "outputs": [
        {
          "output_type": "execute_result",
          "data": {
            "text/plain": [
              "last_review\n",
              "2011-12-31        7\n",
              "2012-12-31       25\n",
              "2013-12-31       48\n",
              "2014-12-31      199\n",
              "2015-12-31     1393\n",
              "2016-12-31     2707\n",
              "2017-12-31     3205\n",
              "2018-12-31     6050\n",
              "2019-12-31    25209\n",
              "Name: id, dtype: int64"
            ]
          },
          "metadata": {},
          "execution_count": 48
        }
      ],
      "id": "0LjsRU2vou7s"
    },
    {
      "cell_type": "code",
      "source": [
        "import matplotlib.pyplot as plot\n",
        "fig, ax = plot.subplots()\n",
        "ax.bar(resenas.index, resenas.values)\n",
        "plot.show()"
      ],
      "metadata": {
        "id": "izq1pgnjvit7",
        "outputId": "926675e6-e639-42b7-d331-3e7971006e4f",
        "colab": {
          "base_uri": "https://localhost:8080/",
          "height": 265
        }
      },
      "execution_count": 49,
      "outputs": [
        {
          "output_type": "display_data",
          "data": {
            "text/plain": [
              "<Figure size 432x288 with 1 Axes>"
            ],
            "image/png": "[encoded data removed]"
          },
          "metadata": {}
        }
      ],
      "id": "izq1pgnjvit7"
    },
    {
      "cell_type": "code",
      "source": [
        "import matplotlib.pyplot as plt\n",
        "fig, ax = plt.subplots()\n",
        "ax.plot(resenas.index, resenas.values)\n",
        "plt.show()"
      ],
      "metadata": {
        "id": "E21SylemzHE2",
        "outputId": "2faab49a-6ced-4b91-bd53-726270f7e789",
        "colab": {
          "base_uri": "https://localhost:8080/",
          "height": 265
        }
      },
      "execution_count": 50,
      "outputs": [
        {
          "output_type": "display_data",
          "data": {
            "text/plain": [
              "<Figure size 432x288 with 1 Axes>"
            ],
            "image/png": "[encoded data removed]"
          },
          "metadata": {}
        }
      ],
      "id": "E21SylemzHE2"
    },
    {
      "cell_type": "code",
      "source": [
        "plt.figure(figsize=(15, 3))\n",
        "\n",
        "plt.subplot(131)\n",
        "plt.bar(resenas.index, resenas.values)\n",
        "plt.subplot(132)\n",
        "plt.scatter(resenas.index, resenas.values)\n",
        "plt.subplot(133)\n",
        "plt.plot(resenas.index, resenas.values)\n",
        "plt.suptitle('Categorical Plotting')\n",
        "plt.show()"
      ],
      "metadata": {
        "id": "YD6BahEP0icr",
        "outputId": "0491940b-f48a-4c13-9e3d-fdfa00305d73",
        "colab": {
          "base_uri": "https://localhost:8080/",
          "height": 233
        }
      },
      "execution_count": 51,
      "outputs": [
        {
          "output_type": "display_data",
          "data": {
            "text/plain": [
              "<Figure size 1080x216 with 3 Axes>"
            ],
            "image/png": "[encoded data removed]"
          },
          "metadata": {}
        }
      ],
      "id": "YD6BahEP0icr"
    },
    {
      "cell_type": "markdown",
      "source": [
        "Se puede observar cómo en 2018, hubo un aumento drástico en el número de reseñas. Esto puede ser debido a que AirBnB se popularizara en esos tiempos, aumentando así el número de servicios y por tanto, de reseñas.\n",
        "\n",
        "Fue una expansión considerable en cuestión de un año, teniendo en cuenta la gran competitividad que se encuentran en estos sectores. Tubo que hacerse hueco entre servicios populares como puede ser 'Booking' o 'Trivago'. "
      ],
      "metadata": {
        "id": "2F3R9Whhjjsx"
      },
      "id": "2F3R9Whhjjsx"
    },
    {
      "cell_type": "markdown",
      "source": [
        "\n",
        "## Despliegue"
      ],
      "metadata": {
        "id": "cmIv4GZwdNSk"
      },
      "id": "cmIv4GZwdNSk"
    },
    {
      "cell_type": "markdown",
      "source": [
        "Esto es beneficiario para los consumidores, ya que así se pueden basar en las opiniones de otros usuarios a la hora de hacer selección de esos sevicios. Además, esto impulsa a estos servicios a tener más responsabilidad con los clientes, ya que saben que les van a evaluar, y que a día de hoy es un factor a tomar en cuenta. Trabajarán así la seguridad de sus clientes y evitar posibles estafas a los consumidores.\n",
        "Tendemos a fiarnos más de aquel que tenga más reviews. Saber que una empresa mundialmente conocida vela por su seguridad, y que además los servicios prestados son fiables, gracias al resto de usuarios, es al final un método de conseguir clientes asegurados."
      ],
      "metadata": {
        "id": "w9TbZgRAi4TI"
      },
      "id": "w9TbZgRAi4TI"
    }
  ],
  "metadata": {
    "kernelspec": {
      "display_name": "Python 3 (ipykernel)",
      "language": "python",
      "name": "python3"
    },
    "language_info": {
      "codemirror_mode": {
        "name": "ipython",
        "version": 3
      },
      "file_extension": ".py",
      "mimetype": "text/x-python",
      "name": "python",
      "nbconvert_exporter": "python",
      "pygments_lexer": "ipython3",
      "version": "3.9.13"
    },
    "colab": {
      "provenance": []
    },
    "accelerator": "GPU",
    "gpuClass": "standard"
  },
  "nbformat": 4,
  "nbformat_minor": 5
}