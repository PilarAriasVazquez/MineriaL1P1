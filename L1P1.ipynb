{
  "cells": [
    {
      "cell_type": "markdown",
      "source": [
        "PILAR ARIAS, YEDRA MARTÍN, PATRICIA MEDIAVILLA, AMAYA SARASA\n",
        "\n",
        "<GRUPO 9>"
      ],
      "metadata": {
        "id": "8pT2SbACjlE2"
      },
      "id": "8pT2SbACjlE2"
    },
    {
      "cell_type": "markdown",
      "source": [
        "#INTRODUCCIÓN"
      ],
      "metadata": {
        "id": "s8YerDrYkdxK"
      },
      "id": "s8YerDrYkdxK"
    },
    {
      "cell_type": "markdown",
      "source": [
        "Esta es la primera práctica del primer laboratorio. Dada una base de datos en formato .csv, se nos pide contestar a una serie de cuestiones. Para ello, lo primero que debemos hacer es cargar y leer la base de datos:"
      ],
      "metadata": {
        "id": "r8GDGWfBlHe5"
      },
      "id": "r8GDGWfBlHe5"
    },
    {
      "cell_type": "code",
      "execution_count": 75,
      "id": "a0bb4051",
      "metadata": {
        "id": "a0bb4051",
        "outputId": "db84c773-abaf-4831-c026-bc65d7d7c8a5",
        "colab": {
          "base_uri": "https://localhost:8080/",
          "height": 447
        }
      },
      "outputs": [
        {
          "output_type": "execute_result",
          "data": {
            "text/plain": [
              "     id                                              name  host_id  \\\n",
              "0  2539                Clean & quiet apt home by the park     2787   \n",
              "1  2595                             Skylit Midtown Castle     2845   \n",
              "2  3647               THE VILLAGE OF HARLEM....NEW YORK !     4632   \n",
              "3  3831                   Cozy Entire Floor of Brownstone     4869   \n",
              "4  5022  Entire Apt: Spacious Studio/Loft by central park     7192   \n",
              "\n",
              "     host_name neighbourhood_group neighbourhood  latitude  longitude  \\\n",
              "0         John            Brooklyn    Kensington  40.64749  -73.97237   \n",
              "1     Jennifer           Manhattan       Midtown  40.75362  -73.98377   \n",
              "2    Elisabeth           Manhattan        Harlem  40.80902  -73.94190   \n",
              "3  LisaRoxanne            Brooklyn  Clinton Hill  40.68514  -73.95976   \n",
              "4        Laura           Manhattan   East Harlem  40.79851  -73.94399   \n",
              "\n",
              "         room_type  price  minimum_nights  number_of_reviews last_review  \\\n",
              "0     Private room    149               1                  9  2018-10-19   \n",
              "1  Entire home/apt    225               1                 45  2019-05-21   \n",
              "2     Private room    150               3                  0         NaN   \n",
              "3  Entire home/apt     89               1                270  2019-07-05   \n",
              "4  Entire home/apt     80              10                  9  2018-11-19   \n",
              "\n",
              "   reviews_per_month  calculated_host_listings_count  availability_365  \n",
              "0               0.21                               6               365  \n",
              "1               0.38                               2               355  \n",
              "2                NaN                               1               365  \n",
              "3               4.64                               1               194  \n",
              "4               0.10                               1                 0  "
            ],
            "text/html": [
              "\n",
              "  <div id=\"df-120457e8-b054-4880-a033-88831b21a11f\">\n",
              "    <div class=\"colab-df-container\">\n",
              "      <div>\n",
              "<style scoped>\n",
              "    .dataframe tbody tr th:only-of-type {\n",
              "        vertical-align: middle;\n",
              "    }\n",
              "\n",
              "    .dataframe tbody tr th {\n",
              "        vertical-align: top;\n",
              "    }\n",
              "\n",
              "    .dataframe thead th {\n",
              "        text-align: right;\n",
              "    }\n",
              "</style>\n",
              "<table border=\"1\" class=\"dataframe\">\n",
              "  <thead>\n",
              "    <tr style=\"text-align: right;\">\n",
              "      <th></th>\n",
              "      <th>id</th>\n",
              "      <th>name</th>\n",
              "      <th>host_id</th>\n",
              "      <th>host_name</th>\n",
              "      <th>neighbourhood_group</th>\n",
              "      <th>neighbourhood</th>\n",
              "      <th>latitude</th>\n",
              "      <th>longitude</th>\n",
              "      <th>room_type</th>\n",
              "      <th>price</th>\n",
              "      <th>minimum_nights</th>\n",
              "      <th>number_of_reviews</th>\n",
              "      <th>last_review</th>\n",
              "      <th>reviews_per_month</th>\n",
              "      <th>calculated_host_listings_count</th>\n",
              "      <th>availability_365</th>\n",
              "    </tr>\n",
              "  </thead>\n",
              "  <tbody>\n",
              "    <tr>\n",
              "      <th>0</th>\n",
              "      <td>2539</td>\n",
              "      <td>Clean &amp; quiet apt home by the park</td>\n",
              "      <td>2787</td>\n",
              "      <td>John</td>\n",
              "      <td>Brooklyn</td>\n",
              "      <td>Kensington</td>\n",
              "      <td>40.64749</td>\n",
              "      <td>-73.97237</td>\n",
              "      <td>Private room</td>\n",
              "      <td>149</td>\n",
              "      <td>1</td>\n",
              "      <td>9</td>\n",
              "      <td>2018-10-19</td>\n",
              "      <td>0.21</td>\n",
              "      <td>6</td>\n",
              "      <td>365</td>\n",
              "    </tr>\n",
              "    <tr>\n",
              "      <th>1</th>\n",
              "      <td>2595</td>\n",
              "      <td>Skylit Midtown Castle</td>\n",
              "      <td>2845</td>\n",
              "      <td>Jennifer</td>\n",
              "      <td>Manhattan</td>\n",
              "      <td>Midtown</td>\n",
              "      <td>40.75362</td>\n",
              "      <td>-73.98377</td>\n",
              "      <td>Entire home/apt</td>\n",
              "      <td>225</td>\n",
              "      <td>1</td>\n",
              "      <td>45</td>\n",
              "      <td>2019-05-21</td>\n",
              "      <td>0.38</td>\n",
              "      <td>2</td>\n",
              "      <td>355</td>\n",
              "    </tr>\n",
              "    <tr>\n",
              "      <th>2</th>\n",
              "      <td>3647</td>\n",
              "      <td>THE VILLAGE OF HARLEM....NEW YORK !</td>\n",
              "      <td>4632</td>\n",
              "      <td>Elisabeth</td>\n",
              "      <td>Manhattan</td>\n",
              "      <td>Harlem</td>\n",
              "      <td>40.80902</td>\n",
              "      <td>-73.94190</td>\n",
              "      <td>Private room</td>\n",
              "      <td>150</td>\n",
              "      <td>3</td>\n",
              "      <td>0</td>\n",
              "      <td>NaN</td>\n",
              "      <td>NaN</td>\n",
              "      <td>1</td>\n",
              "      <td>365</td>\n",
              "    </tr>\n",
              "    <tr>\n",
              "      <th>3</th>\n",
              "      <td>3831</td>\n",
              "      <td>Cozy Entire Floor of Brownstone</td>\n",
              "      <td>4869</td>\n",
              "      <td>LisaRoxanne</td>\n",
              "      <td>Brooklyn</td>\n",
              "      <td>Clinton Hill</td>\n",
              "      <td>40.68514</td>\n",
              "      <td>-73.95976</td>\n",
              "      <td>Entire home/apt</td>\n",
              "      <td>89</td>\n",
              "      <td>1</td>\n",
              "      <td>270</td>\n",
              "      <td>2019-07-05</td>\n",
              "      <td>4.64</td>\n",
              "      <td>1</td>\n",
              "      <td>194</td>\n",
              "    </tr>\n",
              "    <tr>\n",
              "      <th>4</th>\n",
              "      <td>5022</td>\n",
              "      <td>Entire Apt: Spacious Studio/Loft by central park</td>\n",
              "      <td>7192</td>\n",
              "      <td>Laura</td>\n",
              "      <td>Manhattan</td>\n",
              "      <td>East Harlem</td>\n",
              "      <td>40.79851</td>\n",
              "      <td>-73.94399</td>\n",
              "      <td>Entire home/apt</td>\n",
              "      <td>80</td>\n",
              "      <td>10</td>\n",
              "      <td>9</td>\n",
              "      <td>2018-11-19</td>\n",
              "      <td>0.10</td>\n",
              "      <td>1</td>\n",
              "      <td>0</td>\n",
              "    </tr>\n",
              "  </tbody>\n",
              "</table>\n",
              "</div>\n",
              "      <button class=\"colab-df-convert\" onclick=\"convertToInteractive('df-120457e8-b054-4880-a033-88831b21a11f')\"\n",
              "              title=\"Convert this dataframe to an interactive table.\"\n",
              "              style=\"display:none;\">\n",
              "        \n",
              "  <svg xmlns=\"http://www.w3.org/2000/svg\" height=\"24px\"viewBox=\"0 0 24 24\"\n",
              "       width=\"24px\">\n",
              "    <path d=\"M0 0h24v24H0V0z\" fill=\"none\"/>\n",
              "    <path d=\"M18.56 5.44l.94 2.06.94-2.06 2.06-.94-2.06-.94-.94-2.06-.94 2.06-2.06.94zm-11 1L8.5 8.5l.94-2.06 2.06-.94-2.06-.94L8.5 2.5l-.94 2.06-2.06.94zm10 10l.94 2.06.94-2.06 2.06-.94-2.06-.94-.94-2.06-.94 2.06-2.06.94z\"/><path d=\"M17.41 7.96l-1.37-1.37c-.4-.4-.92-.59-1.43-.59-.52 0-1.04.2-1.43.59L10.3 9.45l-7.72 7.72c-.78.78-.78 2.05 0 2.83L4 21.41c.39.39.9.59 1.41.59.51 0 1.02-.2 1.41-.59l7.78-7.78 2.81-2.81c.8-.78.8-2.07 0-2.86zM5.41 20L4 18.59l7.72-7.72 1.47 1.35L5.41 20z\"/>\n",
              "  </svg>\n",
              "      </button>\n",
              "      \n",
              "  <style>\n",
              "    .colab-df-container {\n",
              "      display:flex;\n",
              "      flex-wrap:wrap;\n",
              "      gap: 12px;\n",
              "    }\n",
              "\n",
              "    .colab-df-convert {\n",
              "      background-color: #E8F0FE;\n",
              "      border: none;\n",
              "      border-radius: 50%;\n",
              "      cursor: pointer;\n",
              "      display: none;\n",
              "      fill: #1967D2;\n",
              "      height: 32px;\n",
              "      padding: 0 0 0 0;\n",
              "      width: 32px;\n",
              "    }\n",
              "\n",
              "    .colab-df-convert:hover {\n",
              "      background-color: #E2EBFA;\n",
              "      box-shadow: 0px 1px 2px rgba(60, 64, 67, 0.3), 0px 1px 3px 1px rgba(60, 64, 67, 0.15);\n",
              "      fill: #174EA6;\n",
              "    }\n",
              "\n",
              "    [theme=dark] .colab-df-convert {\n",
              "      background-color: #3B4455;\n",
              "      fill: #D2E3FC;\n",
              "    }\n",
              "\n",
              "    [theme=dark] .colab-df-convert:hover {\n",
              "      background-color: #434B5C;\n",
              "      box-shadow: 0px 1px 3px 1px rgba(0, 0, 0, 0.15);\n",
              "      filter: drop-shadow(0px 1px 2px rgba(0, 0, 0, 0.3));\n",
              "      fill: #FFFFFF;\n",
              "    }\n",
              "  </style>\n",
              "\n",
              "      <script>\n",
              "        const buttonEl =\n",
              "          document.querySelector('#df-120457e8-b054-4880-a033-88831b21a11f button.colab-df-convert');\n",
              "        buttonEl.style.display =\n",
              "          google.colab.kernel.accessAllowed ? 'block' : 'none';\n",
              "\n",
              "        async function convertToInteractive(key) {\n",
              "          const element = document.querySelector('#df-120457e8-b054-4880-a033-88831b21a11f');\n",
              "          const dataTable =\n",
              "            await google.colab.kernel.invokeFunction('convertToInteractive',\n",
              "                                                     [key], {});\n",
              "          if (!dataTable) return;\n",
              "\n",
              "          const docLinkHtml = 'Like what you see? Visit the ' +\n",
              "            '<a target=\"_blank\" href=https://colab.research.google.com/notebooks/data_table.ipynb>data table notebook</a>'\n",
              "            + ' to learn more about interactive tables.';\n",
              "          element.innerHTML = '';\n",
              "          dataTable['output_type'] = 'display_data';\n",
              "          await google.colab.output.renderOutput(dataTable, element);\n",
              "          const docLink = document.createElement('div');\n",
              "          docLink.innerHTML = docLinkHtml;\n",
              "          element.appendChild(docLink);\n",
              "        }\n",
              "      </script>\n",
              "    </div>\n",
              "  </div>\n",
              "  "
            ]
          },
          "metadata": {},
          "execution_count": 75
        }
      ],
      "source": [
        "#importamos la base de datos\n",
        "import pandas as pd #pandas\n",
        "df=pd.read_csv('airbnb.csv',encoding='latin-1')\n",
        "df.head()"
      ]
    },
    {
      "cell_type": "markdown",
      "source": [
        "Se observa que se ha cargado de manera correcta. "
      ],
      "metadata": {
        "id": "FmdArPK4mfGK"
      },
      "id": "FmdArPK4mfGK"
    },
    {
      "cell_type": "markdown",
      "source": [
        "Importamos así también todas las librerías necesarias para ejecutar esta práctica. "
      ],
      "metadata": {
        "id": "ocoXyf9Oluyf"
      },
      "id": "ocoXyf9Oluyf"
    },
    {
      "cell_type": "code",
      "source": [
        "#importamos todas las librerías necesarias: \n",
        "import sklearn #scikit-learn\n",
        "import matplotlib.pyplot as plt #gráfica Matplotlib\n",
        "import numpy as np #NumPy"
      ],
      "metadata": {
        "id": "s8pAtTFxtCJW"
      },
      "id": "s8pAtTFxtCJW",
      "execution_count": 76,
      "outputs": []
    },
    {
      "cell_type": "markdown",
      "source": [
        "Según se ha estudiado en clase, encontramos dos métodos para afrontarlo. Nos decantaremos por CRISP-DM. Las siglas para: CRoss-Industry Standard Process for Data Mining. \n",
        "\n",
        "Es un modelo de proceso de minería de datos que se utiliza en la industria. Es un marco de trabajo que define un proceso estandarizado para llevar a cabo proyectos de minería de datos, desde la definición del problema hasta la implementación y evaluación del resultado. Los seis pasos que componen Crisp-DM son los siguientes:\n",
        "\n",
        "- Comprensión de los negocios y definición del problema: comprender la naturaleza del problema y los objetivos de negocio.\n",
        "\n",
        "- Comprensión de los datos: recopilación inicial, descripción y exploración  de datos.\n",
        "\n",
        "- Preparación de los datos: Selección, limpieza, construcción, integración, formateo de los datos.\n",
        "\n",
        "- Modelado: aplicar las técnicas de minería de datos a los dataset.\n",
        "\n",
        "- Evaluación: determinar si los resultados son útiles a las necesidades del negocio.\n",
        "\n",
        "- Despliegue: explotar utilidad de los modelos, integrándolos en las tareas de toma de decisiones de la organización -> Call to Action. \n"
      ],
      "metadata": {
        "id": "YBQbx7EFmjR6"
      },
      "id": "YBQbx7EFmjR6"
    },
    {
      "cell_type": "markdown",
      "source": [
        "#EJERCICIO 1"
      ],
      "metadata": {
        "id": "35WzfLjxl0OU"
      },
      "id": "35WzfLjxl0OU"
    },
    {
      "cell_type": "markdown",
      "source": [
        "## Comprensión del negocio y definición del problema"
      ],
      "metadata": {
        "id": "XX4P0W_Fozcz"
      },
      "id": "XX4P0W_Fozcz"
    },
    {
      "cell_type": "markdown",
      "source": [
        "El barrio de Williamsburg es uno de los barrios de moda hoy en día. Desde 2005 ha pasado de ser un distrito donde principalmente se encontraban fabricas a acoger una gran cantidad de gente joven y nuevos negocios. ¿Teniendo en cuenta los datos proporcionados que posición en términos de popularidad/calidad se puede decir que ostenta el barrio con respecto a los demás que forma New York?"
      ],
      "metadata": {
        "id": "3S06NbYgmKb-"
      },
      "id": "3S06NbYgmKb-"
    },
    {
      "cell_type": "markdown",
      "source": [
        "Para medir la popularidad/calidad del barrio, tendremos primero en cuenta el número de apartamentos de calidad según los usuarios. Para ello, lo primero será clasificar los apartamentos como “Muy Malos”, “Malos”, “Regulares”, “Buenos” y “Muy Buenos”. Para ello primero haremos un par de transformaciones de los datos. La columna de reseñas por mes, se dividirán en 3 rangos iguales, después dependiendo del valor concreto que tenga cada apartamento se le asignarán las etiquetas: “Baja”, “Media” y ”Alta”. Para la columna que indica el número de días que está disponible asignaremos las etiquetas de menor valor a mayor de la siguiente manera: “Poco disponible”, “Disponible normalmente” y “Altamente disponible”. Finalmente crearemos una columna para clasificar los apartamentos, teniendo en cuenta una serie de reglas, que se explicarán más adelante. "
      ],
      "metadata": {
        "id": "jCZKl6EfuQDS"
      },
      "id": "jCZKl6EfuQDS"
    },
    {
      "cell_type": "markdown",
      "source": [
        "## Comprensión de los datos"
      ],
      "metadata": {
        "id": "aA5iEGYOo4RB"
      },
      "id": "aA5iEGYOo4RB"
    },
    {
      "cell_type": "markdown",
      "source": [
        "La base de datos que utilizaremos consta de 48895 observaciones. En cada observación recopilamos los siguientes atributos: \n",
        "- id: id del apartamento en cuestión. \n",
        "- name: nombre del apartamento\n",
        "- host_id: id del anfitrión \n",
        "- host_name: nombre del anfitrión \n",
        "- neighbourhood_group: estado al que pertenece\n",
        "- neighbourhood: barrio al que pertenece \n",
        "- latitude: coordenadas de latitud\n",
        "- longitude: coordenadas de longitud \n",
        "- room_type: tipo de habitación \n",
        "- price: precio en dólares\n",
        "- minimum_nights: noches mínimas que te puedes hospedar\n",
        "- number_of_reviews: número de reseñas \n",
        "- last_review: última reseña \n",
        "- reviews_per_month: reseñas por mes\n",
        "- calculated_host_listings_count: ??? \n",
        "- availability_365: días disponibles por año. \n"
      ],
      "metadata": {
        "id": "9FyCQqOUo8Gp"
      },
      "id": "9FyCQqOUo8Gp"
    },
    {
      "cell_type": "markdown",
      "source": [
        "TENEMOS QUE ESTUDIAR ESTO: datos redundantes o anómalos."
      ],
      "metadata": {
        "id": "iRCkTU41uKX1"
      },
      "id": "iRCkTU41uKX1"
    },
    {
      "cell_type": "markdown",
      "source": [
        "## Preparación de los datos"
      ],
      "metadata": {
        "id": "MRRVog71rZU4"
      },
      "id": "MRRVog71rZU4"
    },
    {
      "cell_type": "markdown",
      "source": [
        "Primero debemos tratar la base de datos para así estudiar qué hacer con los datos NaN que encontraremos. \n",
        "\n",
        "Analizamos cuántos datos NaN hay en la columna 'reviews_per_month', ya que la trataremos posteriormente, y deberemos conocer el contenido de esta. \n"
      ],
      "metadata": {
        "id": "6TRpV0iDuXpi"
      },
      "id": "6TRpV0iDuXpi"
    },
    {
      "cell_type": "code",
      "source": [
        "reviews_per_month_nan = df['reviews_per_month'].isna().sum()\n",
        "print(reviews_per_month_nan)"
      ],
      "metadata": {
        "id": "eRGBwWnHuxTV",
        "outputId": "e88ce248-92be-4d9c-b9f6-6ebacdd281b2",
        "colab": {
          "base_uri": "https://localhost:8080/"
        }
      },
      "id": "eRGBwWnHuxTV",
      "execution_count": 77,
      "outputs": [
        {
          "output_type": "stream",
          "name": "stdout",
          "text": [
            "10052\n"
          ]
        }
      ]
    },
    {
      "cell_type": "markdown",
      "source": [
        "Ahora bien, vemos que hay 10052 datos NaN en la columna. Observemos cuántos datos hay en total para barajar las distintas opciones de qué hacer con estos datos NaN. Si es poca cantidad comparado con la cantidad de observaciones en total, podremos eliminar directamente esas observaciones, sin embargo, si suponen gran cantidad, podríamos buscar otras opciones, como rellenar con la media para así no afectar al equilibrio del resto de datos. \n",
        "\n",
        "Es verdad que como hablamos de reseñas por mes, sería factible convertir esos NaN en 0, para que así a la hora de categorizar la columna, lo detecte como Bajo. \n",
        "\n",
        "¿Por qué rellenamos con 0's? Encontramos un NaN en la columna de 'reviews_per_month', cuando en la columna de 'number_of_reviews' aparece un 0, o un NaN directamente, es decir, que anteriormente no se ha hecho ninguna reseña, por lo que obviamente, en el último mes, tampoco. No deberíamos rellenar con la media, ya que ahí estamos aportando una cierta cantidad de reseñas que no se han hecho. "
      ],
      "metadata": {
        "id": "hlY_0vIJvh77"
      },
      "id": "hlY_0vIJvh77"
    },
    {
      "cell_type": "code",
      "source": [
        "num_observations = df.shape[0]\n",
        "print(num_observations)"
      ],
      "metadata": {
        "id": "NXgkAGjewOwD",
        "outputId": "b0446ebb-e6fe-4141-91cd-f1d24bba13da",
        "colab": {
          "base_uri": "https://localhost:8080/"
        }
      },
      "id": "NXgkAGjewOwD",
      "execution_count": 78,
      "outputs": [
        {
          "output_type": "stream",
          "name": "stdout",
          "text": [
            "48895\n"
          ]
        }
      ]
    },
    {
      "cell_type": "markdown",
      "source": [
        "Supone un 20% de los datos totales. No resulta útil borrarlos, si no que deberíamos rellenar con 0 como hemos explicado anteriormente. "
      ],
      "metadata": {
        "id": "mP70C7kJwTxc"
      },
      "id": "mP70C7kJwTxc"
    },
    {
      "cell_type": "code",
      "source": [
        "df['reviews_per_month'].fillna(0, inplace=True)"
      ],
      "metadata": {
        "id": "EJln4MO6wr2i"
      },
      "id": "EJln4MO6wr2i",
      "execution_count": 79,
      "outputs": []
    },
    {
      "cell_type": "markdown",
      "source": [
        "Comprobamos por tanto que en esa columna ya no nos quede ningún NaN"
      ],
      "metadata": {
        "id": "qJ2nrGXAw2UJ"
      },
      "id": "qJ2nrGXAw2UJ"
    },
    {
      "cell_type": "code",
      "source": [
        "reviews_per_month_nan = df['reviews_per_month'].isna().sum()\n",
        "print(reviews_per_month_nan)"
      ],
      "metadata": {
        "id": "spDIo2Few69A",
        "outputId": "228e77b4-75cf-466c-dc37-e0c9b059d176",
        "colab": {
          "base_uri": "https://localhost:8080/"
        }
      },
      "id": "spDIo2Few69A",
      "execution_count": 80,
      "outputs": [
        {
          "output_type": "stream",
          "name": "stdout",
          "text": [
            "0\n"
          ]
        }
      ]
    },
    {
      "cell_type": "markdown",
      "source": [
        "Def: review_per_month"
      ],
      "metadata": {
        "id": "XcGn1IoxkmXq"
      },
      "id": "XcGn1IoxkmXq"
    },
    {
      "cell_type": "markdown",
      "source": [
        "Ahora debemos estudiar la distribución de esta, para ello haremos uso de boxplot, representando así cada apartamento para ver si hay outliers o datos rebundantes. "
      ],
      "metadata": {
        "id": "hZBwxiT99iBX"
      },
      "id": "hZBwxiT99iBX"
    },
    {
      "cell_type": "code",
      "source": [
        "import matplotlib.pyplot as plt\n",
        "boxplot_reviews=df['reviews_per_month']\n",
        "plt.boxplot(boxplot_reviews)\n",
        "plt.title('Boxplot reseña apartamentos ')\n",
        "plt.show()"
      ],
      "metadata": {
        "id": "XpVLKGfQ9xsl",
        "outputId": "9fb963a9-eeca-4b5c-8777-2e319e9786be",
        "colab": {
          "base_uri": "https://localhost:8080/",
          "height": 302
        }
      },
      "id": "XpVLKGfQ9xsl",
      "execution_count": 81,
      "outputs": [
        {
          "output_type": "display_data",
          "data": {
            "text/plain": [
              "<Figure size 432x288 with 1 Axes>"
            ],
            "image/png": "[encoded data removed]"
          },
          "metadata": {
            "needs_background": "light"
          }
        }
      ]
    },
    {
      "cell_type": "code",
      "source": [
        "from matplotlib.cbook import boxplot_stats \n",
        "stats = boxplot_stats(boxplot_reviews)\n",
        "stats = stats[0] \n",
        "outliers = stats['fliers']\n",
        "min = stats['q1']-1.5*stats['iqr']\n",
        "max = stats['q3']+1.5*stats['iqr']\n",
        "print(min, max, len(outliers))\n",
        "            "
      ],
      "metadata": {
        "id": "Fr9ewCF6-qJX",
        "outputId": "7c75b6f7-43aa-445f-9cf6-582fcc674f0a",
        "colab": {
          "base_uri": "https://localhost:8080/"
        }
      },
      "id": "Fr9ewCF6-qJX",
      "execution_count": 82,
      "outputs": [
        {
          "output_type": "stream",
          "name": "stdout",
          "text": [
            "-2.27 3.89 3312\n"
          ]
        }
      ]
    },
    {
      "cell_type": "markdown",
      "source": [
        "Con esta información interpretamos que tenemos 3312 outliers, y que de valor máximo aceptado, se obtendrá 3,89, y mínimo lo interpretamos como 0, ya que no vamos a encontrar valores negativos en el número de reseñas por mes. \n"
      ],
      "metadata": {
        "id": "2k1FSZzGFyPG"
      },
      "id": "2k1FSZzGFyPG"
    },
    {
      "cell_type": "markdown",
      "source": [
        "Ya nos hemos asegurado que no nos quedad ningún dato NaN, así no encontraremos ningún error a la hora de categorizar la columna, que es el siguiente paso. \n",
        "\n",
        "Lo categorizamos en tres: Baja, Media y Alta. "
      ],
      "metadata": {
        "id": "ojLK3k16xYEu"
      },
      "id": "ojLK3k16xYEu"
    },
    {
      "cell_type": "markdown",
      "source": [
        "Considerando que según los rangos intercuartiles hemos obtenido que el máximo valor que se considera aceptable es 3,89, y que el outlier mayor que se puede conseguir es 60, no podemos hacer los rangos teniendo en cuenta el mayor que se pueda tomar, si no el mayor aceptado. Es por ello que para definir cada uno,tendremos en cuenta el rango intercuartilíco: [0-3.89] \n",
        "\n",
        "Por lo que: \n",
        "- [0-1.3) = 'Baja'\n",
        "- [1.3 - 2.6) = 'Media'\n",
        "- [2.6 - 60) = 'Alta' (si no encontrásemos outliers, terminaría en 3.89, pero lo que vamos a hacer es simplemente ignorar esos outliers)"
      ],
      "metadata": {
        "id": "W3xLyeCoH6g2"
      },
      "id": "W3xLyeCoH6g2"
    },
    {
      "cell_type": "code",
      "source": [
        "filas=len(df.axes[0])\n",
        "df.loc[:,'reviews_per_month_cat']=np.nan\n",
        "for i in range(filas):\n",
        "  if df['reviews_per_month'][i]<1.3: \n",
        "    df['reviews_per_month_cat'][i]='Baja'\n",
        "  elif (df['reviews_per_month'][i]>1.3) & (df['reviews_per_month'][i]<=2.6): \n",
        "    df['reviews_per_month_cat'][i]='Media'\n",
        "  else:\n",
        "    df['reviews_per_month_cat'][i]='Alta'\n",
        "\n",
        "df.head()"
      ],
      "metadata": {
        "id": "th--hcdoH55M",
        "outputId": "ccb79bcf-0db9-49e7-c533-896fcb8d4d35",
        "colab": {
          "base_uri": "https://localhost:8080/",
          "height": 613
        }
      },
      "id": "th--hcdoH55M",
      "execution_count": 83,
      "outputs": [
        {
          "output_type": "stream",
          "name": "stderr",
          "text": [
            "<ipython-input-83-32e49cfa6a12>:5: SettingWithCopyWarning: \n",
            "A value is trying to be set on a copy of a slice from a DataFrame\n",
            "\n",
            "See the caveats in the documentation: https://pandas.pydata.org/pandas-docs/stable/user_guide/indexing.html#returning-a-view-versus-a-copy\n",
            "  df['reviews_per_month_cat'][i]='Baja'\n",
            "/usr/local/lib/python3.8/dist-packages/pandas/core/indexing.py:1732: SettingWithCopyWarning: \n",
            "A value is trying to be set on a copy of a slice from a DataFrame\n",
            "\n",
            "See the caveats in the documentation: https://pandas.pydata.org/pandas-docs/stable/user_guide/indexing.html#returning-a-view-versus-a-copy\n",
            "  self._setitem_single_block(indexer, value, name)\n"
          ]
        },
        {
          "output_type": "execute_result",
          "data": {
            "text/plain": [
              "     id                                              name  host_id  \\\n",
              "0  2539                Clean & quiet apt home by the park     2787   \n",
              "1  2595                             Skylit Midtown Castle     2845   \n",
              "2  3647               THE VILLAGE OF HARLEM....NEW YORK !     4632   \n",
              "3  3831                   Cozy Entire Floor of Brownstone     4869   \n",
              "4  5022  Entire Apt: Spacious Studio/Loft by central park     7192   \n",
              "\n",
              "     host_name neighbourhood_group neighbourhood  latitude  longitude  \\\n",
              "0         John            Brooklyn    Kensington  40.64749  -73.97237   \n",
              "1     Jennifer           Manhattan       Midtown  40.75362  -73.98377   \n",
              "2    Elisabeth           Manhattan        Harlem  40.80902  -73.94190   \n",
              "3  LisaRoxanne            Brooklyn  Clinton Hill  40.68514  -73.95976   \n",
              "4        Laura           Manhattan   East Harlem  40.79851  -73.94399   \n",
              "\n",
              "         room_type  price  minimum_nights  number_of_reviews last_review  \\\n",
              "0     Private room    149               1                  9  2018-10-19   \n",
              "1  Entire home/apt    225               1                 45  2019-05-21   \n",
              "2     Private room    150               3                  0         NaN   \n",
              "3  Entire home/apt     89               1                270  2019-07-05   \n",
              "4  Entire home/apt     80              10                  9  2018-11-19   \n",
              "\n",
              "   reviews_per_month  calculated_host_listings_count  availability_365  \\\n",
              "0               0.21                               6               365   \n",
              "1               0.38                               2               355   \n",
              "2               0.00                               1               365   \n",
              "3               4.64                               1               194   \n",
              "4               0.10                               1                 0   \n",
              "\n",
              "  reviews_per_month_cat  \n",
              "0                  Baja  \n",
              "1                  Baja  \n",
              "2                  Baja  \n",
              "3                  Alta  \n",
              "4                  Baja  "
            ],
            "text/html": [
              "\n",
              "  <div id=\"df-9fd1b911-4252-4d4f-80e5-a9b947e45a19\">\n",
              "    <div class=\"colab-df-container\">\n",
              "      <div>\n",
              "<style scoped>\n",
              "    .dataframe tbody tr th:only-of-type {\n",
              "        vertical-align: middle;\n",
              "    }\n",
              "\n",
              "    .dataframe tbody tr th {\n",
              "        vertical-align: top;\n",
              "    }\n",
              "\n",
              "    .dataframe thead th {\n",
              "        text-align: right;\n",
              "    }\n",
              "</style>\n",
              "<table border=\"1\" class=\"dataframe\">\n",
              "  <thead>\n",
              "    <tr style=\"text-align: right;\">\n",
              "      <th></th>\n",
              "      <th>id</th>\n",
              "      <th>name</th>\n",
              "      <th>host_id</th>\n",
              "      <th>host_name</th>\n",
              "      <th>neighbourhood_group</th>\n",
              "      <th>neighbourhood</th>\n",
              "      <th>latitude</th>\n",
              "      <th>longitude</th>\n",
              "      <th>room_type</th>\n",
              "      <th>price</th>\n",
              "      <th>minimum_nights</th>\n",
              "      <th>number_of_reviews</th>\n",
              "      <th>last_review</th>\n",
              "      <th>reviews_per_month</th>\n",
              "      <th>calculated_host_listings_count</th>\n",
              "      <th>availability_365</th>\n",
              "      <th>reviews_per_month_cat</th>\n",
              "    </tr>\n",
              "  </thead>\n",
              "  <tbody>\n",
              "    <tr>\n",
              "      <th>0</th>\n",
              "      <td>2539</td>\n",
              "      <td>Clean &amp; quiet apt home by the park</td>\n",
              "      <td>2787</td>\n",
              "      <td>John</td>\n",
              "      <td>Brooklyn</td>\n",
              "      <td>Kensington</td>\n",
              "      <td>40.64749</td>\n",
              "      <td>-73.97237</td>\n",
              "      <td>Private room</td>\n",
              "      <td>149</td>\n",
              "      <td>1</td>\n",
              "      <td>9</td>\n",
              "      <td>2018-10-19</td>\n",
              "      <td>0.21</td>\n",
              "      <td>6</td>\n",
              "      <td>365</td>\n",
              "      <td>Baja</td>\n",
              "    </tr>\n",
              "    <tr>\n",
              "      <th>1</th>\n",
              "      <td>2595</td>\n",
              "      <td>Skylit Midtown Castle</td>\n",
              "      <td>2845</td>\n",
              "      <td>Jennifer</td>\n",
              "      <td>Manhattan</td>\n",
              "      <td>Midtown</td>\n",
              "      <td>40.75362</td>\n",
              "      <td>-73.98377</td>\n",
              "      <td>Entire home/apt</td>\n",
              "      <td>225</td>\n",
              "      <td>1</td>\n",
              "      <td>45</td>\n",
              "      <td>2019-05-21</td>\n",
              "      <td>0.38</td>\n",
              "      <td>2</td>\n",
              "      <td>355</td>\n",
              "      <td>Baja</td>\n",
              "    </tr>\n",
              "    <tr>\n",
              "      <th>2</th>\n",
              "      <td>3647</td>\n",
              "      <td>THE VILLAGE OF HARLEM....NEW YORK !</td>\n",
              "      <td>4632</td>\n",
              "      <td>Elisabeth</td>\n",
              "      <td>Manhattan</td>\n",
              "      <td>Harlem</td>\n",
              "      <td>40.80902</td>\n",
              "      <td>-73.94190</td>\n",
              "      <td>Private room</td>\n",
              "      <td>150</td>\n",
              "      <td>3</td>\n",
              "      <td>0</td>\n",
              "      <td>NaN</td>\n",
              "      <td>0.00</td>\n",
              "      <td>1</td>\n",
              "      <td>365</td>\n",
              "      <td>Baja</td>\n",
              "    </tr>\n",
              "    <tr>\n",
              "      <th>3</th>\n",
              "      <td>3831</td>\n",
              "      <td>Cozy Entire Floor of Brownstone</td>\n",
              "      <td>4869</td>\n",
              "      <td>LisaRoxanne</td>\n",
              "      <td>Brooklyn</td>\n",
              "      <td>Clinton Hill</td>\n",
              "      <td>40.68514</td>\n",
              "      <td>-73.95976</td>\n",
              "      <td>Entire home/apt</td>\n",
              "      <td>89</td>\n",
              "      <td>1</td>\n",
              "      <td>270</td>\n",
              "      <td>2019-07-05</td>\n",
              "      <td>4.64</td>\n",
              "      <td>1</td>\n",
              "      <td>194</td>\n",
              "      <td>Alta</td>\n",
              "    </tr>\n",
              "    <tr>\n",
              "      <th>4</th>\n",
              "      <td>5022</td>\n",
              "      <td>Entire Apt: Spacious Studio/Loft by central park</td>\n",
              "      <td>7192</td>\n",
              "      <td>Laura</td>\n",
              "      <td>Manhattan</td>\n",
              "      <td>East Harlem</td>\n",
              "      <td>40.79851</td>\n",
              "      <td>-73.94399</td>\n",
              "      <td>Entire home/apt</td>\n",
              "      <td>80</td>\n",
              "      <td>10</td>\n",
              "      <td>9</td>\n",
              "      <td>2018-11-19</td>\n",
              "      <td>0.10</td>\n",
              "      <td>1</td>\n",
              "      <td>0</td>\n",
              "      <td>Baja</td>\n",
              "    </tr>\n",
              "  </tbody>\n",
              "</table>\n",
              "</div>\n",
              "      <button class=\"colab-df-convert\" onclick=\"convertToInteractive('df-9fd1b911-4252-4d4f-80e5-a9b947e45a19')\"\n",
              "              title=\"Convert this dataframe to an interactive table.\"\n",
              "              style=\"display:none;\">\n",
              "        \n",
              "  <svg xmlns=\"http://www.w3.org/2000/svg\" height=\"24px\"viewBox=\"0 0 24 24\"\n",
              "       width=\"24px\">\n",
              "    <path d=\"M0 0h24v24H0V0z\" fill=\"none\"/>\n",
              "    <path d=\"M18.56 5.44l.94 2.06.94-2.06 2.06-.94-2.06-.94-.94-2.06-.94 2.06-2.06.94zm-11 1L8.5 8.5l.94-2.06 2.06-.94-2.06-.94L8.5 2.5l-.94 2.06-2.06.94zm10 10l.94 2.06.94-2.06 2.06-.94-2.06-.94-.94-2.06-.94 2.06-2.06.94z\"/><path d=\"M17.41 7.96l-1.37-1.37c-.4-.4-.92-.59-1.43-.59-.52 0-1.04.2-1.43.59L10.3 9.45l-7.72 7.72c-.78.78-.78 2.05 0 2.83L4 21.41c.39.39.9.59 1.41.59.51 0 1.02-.2 1.41-.59l7.78-7.78 2.81-2.81c.8-.78.8-2.07 0-2.86zM5.41 20L4 18.59l7.72-7.72 1.47 1.35L5.41 20z\"/>\n",
              "  </svg>\n",
              "      </button>\n",
              "      \n",
              "  <style>\n",
              "    .colab-df-container {\n",
              "      display:flex;\n",
              "      flex-wrap:wrap;\n",
              "      gap: 12px;\n",
              "    }\n",
              "\n",
              "    .colab-df-convert {\n",
              "      background-color: #E8F0FE;\n",
              "      border: none;\n",
              "      border-radius: 50%;\n",
              "      cursor: pointer;\n",
              "      display: none;\n",
              "      fill: #1967D2;\n",
              "      height: 32px;\n",
              "      padding: 0 0 0 0;\n",
              "      width: 32px;\n",
              "    }\n",
              "\n",
              "    .colab-df-convert:hover {\n",
              "      background-color: #E2EBFA;\n",
              "      box-shadow: 0px 1px 2px rgba(60, 64, 67, 0.3), 0px 1px 3px 1px rgba(60, 64, 67, 0.15);\n",
              "      fill: #174EA6;\n",
              "    }\n",
              "\n",
              "    [theme=dark] .colab-df-convert {\n",
              "      background-color: #3B4455;\n",
              "      fill: #D2E3FC;\n",
              "    }\n",
              "\n",
              "    [theme=dark] .colab-df-convert:hover {\n",
              "      background-color: #434B5C;\n",
              "      box-shadow: 0px 1px 3px 1px rgba(0, 0, 0, 0.15);\n",
              "      filter: drop-shadow(0px 1px 2px rgba(0, 0, 0, 0.3));\n",
              "      fill: #FFFFFF;\n",
              "    }\n",
              "  </style>\n",
              "\n",
              "      <script>\n",
              "        const buttonEl =\n",
              "          document.querySelector('#df-9fd1b911-4252-4d4f-80e5-a9b947e45a19 button.colab-df-convert');\n",
              "        buttonEl.style.display =\n",
              "          google.colab.kernel.accessAllowed ? 'block' : 'none';\n",
              "\n",
              "        async function convertToInteractive(key) {\n",
              "          const element = document.querySelector('#df-9fd1b911-4252-4d4f-80e5-a9b947e45a19');\n",
              "          const dataTable =\n",
              "            await google.colab.kernel.invokeFunction('convertToInteractive',\n",
              "                                                     [key], {});\n",
              "          if (!dataTable) return;\n",
              "\n",
              "          const docLinkHtml = 'Like what you see? Visit the ' +\n",
              "            '<a target=\"_blank\" href=https://colab.research.google.com/notebooks/data_table.ipynb>data table notebook</a>'\n",
              "            + ' to learn more about interactive tables.';\n",
              "          element.innerHTML = '';\n",
              "          dataTable['output_type'] = 'display_data';\n",
              "          await google.colab.output.renderOutput(dataTable, element);\n",
              "          const docLink = document.createElement('div');\n",
              "          docLink.innerHTML = docLinkHtml;\n",
              "          element.appendChild(docLink);\n",
              "        }\n",
              "      </script>\n",
              "    </div>\n",
              "  </div>\n",
              "  "
            ]
          },
          "metadata": {},
          "execution_count": 83
        }
      ]
    },
    {
      "cell_type": "markdown",
      "source": [
        "Comprobamos si se ha ejecutado bien: "
      ],
      "metadata": {
        "id": "K2w7OO1Nrx50"
      },
      "id": "K2w7OO1Nrx50"
    },
    {
      "cell_type": "code",
      "source": [
        "reviews_per_month_cat_nan = df['reviews_per_month_cat'].isna().sum()\n",
        "print(reviews_per_month_cat_nan)"
      ],
      "metadata": {
        "id": "oIy_BLGkrmKw",
        "outputId": "5f4bf40b-504c-42f4-8634-dc9d57526f35",
        "colab": {
          "base_uri": "https://localhost:8080/"
        }
      },
      "id": "oIy_BLGkrmKw",
      "execution_count": 84,
      "outputs": [
        {
          "output_type": "stream",
          "name": "stdout",
          "text": [
            "0\n"
          ]
        }
      ]
    },
    {
      "cell_type": "markdown",
      "source": [
        "Efectivamente. "
      ],
      "metadata": {
        "id": "Dh1Ws27lr0Gq"
      },
      "id": "Dh1Ws27lr0Gq"
    },
    {
      "cell_type": "code",
      "source": [
        "# Número de intervalos\n",
        "#num_intervalos = 3\n",
        "\n",
        "# Lista de intervalos\n",
        "#intervalos = np.linspace(df['reviews_per_month'].min()-0.001, df['reviews_per_month'].max(), num_intervalos+1)\n",
        "\n",
        "# Creamos las etiquetas \n",
        "#etiquetas = ['Baja', 'Media', 'Alta']\n",
        "\n",
        "# Asigna una categoría a cada intervalo\n",
        "#df['reviews_per_month'] = pd.cut(df['reviews_per_month'], intervalos, labels=etiquetas)"
      ],
      "metadata": {
        "id": "j41mwnb23Cz3"
      },
      "id": "j41mwnb23Cz3",
      "execution_count": 85,
      "outputs": []
    },
    {
      "cell_type": "markdown",
      "source": [
        "Por otro lado, vamos a clasificar los alquileres en función de los días que están disponibles. \n",
        "\n",
        "Para ello, siguiendo el patrón anterior, calculamos si hay NaN en la columna correspondiente: \n"
      ],
      "metadata": {
        "id": "PdD3LirDN4nG"
      },
      "id": "PdD3LirDN4nG"
    },
    {
      "cell_type": "code",
      "source": [
        "disponibilidad_nan = df['availability_365'].isna().sum()\n",
        "print(disponibilidad_nan)"
      ],
      "metadata": {
        "colab": {
          "base_uri": "https://localhost:8080/"
        },
        "id": "aIcgUrRyOSpi",
        "outputId": "559ada97-79ff-4c95-aa54-a4690b4b5efb"
      },
      "id": "aIcgUrRyOSpi",
      "execution_count": 86,
      "outputs": [
        {
          "output_type": "stream",
          "name": "stdout",
          "text": [
            "0\n"
          ]
        }
      ]
    },
    {
      "cell_type": "markdown",
      "source": [
        "No hay ningún NaN en dicha columna, por lo que no hace falta tratarlos. En el caso de encontrarlos, se tendría que estudiar qué hacer con este conjunto de datos de manera independiente. \n",
        "\n",
        "Calculemos los intervalos de los rangos. "
      ],
      "metadata": {
        "id": "ZxvJl4iWOc35"
      },
      "id": "ZxvJl4iWOc35"
    },
    {
      "cell_type": "code",
      "source": [
        "df.loc[:,'availability_365_range']=np.nan"
      ],
      "metadata": {
        "id": "5xgdQASLkQzF"
      },
      "id": "5xgdQASLkQzF",
      "execution_count": 87,
      "outputs": []
    },
    {
      "cell_type": "code",
      "source": [
        "#Definimos los intervalos\n",
        "n_inter = 3\n",
        "\n",
        "# Creamos una lista de intervalos\n",
        "interv = np.linspace(df['availability_365'].min()-0.001, df['availability_365'].max(), n_inter+1)\n",
        "\n",
        "# Creamos las etiquetas \n",
        "labels = ['Poco disponible', 'Disponible normalmente', 'Altamente disponible']\n",
        "\n",
        "# Asigna una categoría a cada intervalo\n",
        "df['availability_365_range'] = pd.cut(df['availability_365'], interv, labels=labels)"
      ],
      "metadata": {
        "id": "vmLK7uBjRSw_"
      },
      "id": "vmLK7uBjRSw_",
      "execution_count": 88,
      "outputs": []
    },
    {
      "cell_type": "markdown",
      "source": [
        "Imprimimos 5 observaciones del nuevo atributo categorizado para observar si se ha realizado de manera correcta. "
      ],
      "metadata": {
        "id": "bQv6Dt6AxSCu"
      },
      "id": "bQv6Dt6AxSCu"
    },
    {
      "cell_type": "code",
      "source": [
        "print(df['availability_365_range'].head())"
      ],
      "metadata": {
        "colab": {
          "base_uri": "https://localhost:8080/"
        },
        "id": "9TbEdUnrSn_s",
        "outputId": "a3802681-a3ab-4545-9f81-94ad0e425b32"
      },
      "id": "9TbEdUnrSn_s",
      "execution_count": 89,
      "outputs": [
        {
          "output_type": "stream",
          "name": "stdout",
          "text": [
            "0      Altamente disponible\n",
            "1      Altamente disponible\n",
            "2      Altamente disponible\n",
            "3    Disponible normalmente\n",
            "4           Poco disponible\n",
            "Name: availability_365_range, dtype: category\n",
            "Categories (3, object): ['Poco disponible' < 'Disponible normalmente' < 'Altamente disponible']\n"
          ]
        }
      ]
    },
    {
      "cell_type": "markdown",
      "source": [
        "Finalmente, añadimos la nueva columna de clasificación, y la rellenamos con datos NaN, para así más adelante rellenarlo según las reglas definidas en el enunciado."
      ],
      "metadata": {
        "id": "YOtorhGdTaBb"
      },
      "id": "YOtorhGdTaBb"
    },
    {
      "cell_type": "code",
      "source": [
        "df.loc[:,'classification']=np.nan"
      ],
      "metadata": {
        "id": "Rrpl5zmwTfko"
      },
      "id": "Rrpl5zmwTfko",
      "execution_count": 90,
      "outputs": []
    },
    {
      "cell_type": "markdown",
      "source": [
        "Imprimimos las 5 primeras observaciones con cada atributo para comprobar que se ha añadidio de manera correcta"
      ],
      "metadata": {
        "id": "yxMLqSy-ydV2"
      },
      "id": "yxMLqSy-ydV2"
    },
    {
      "cell_type": "code",
      "source": [
        "df.head()"
      ],
      "metadata": {
        "colab": {
          "base_uri": "https://localhost:8080/",
          "height": 447
        },
        "id": "Sapn3kXXybNU",
        "outputId": "349f7e59-3256-4761-a142-359577dfd4c0"
      },
      "id": "Sapn3kXXybNU",
      "execution_count": 91,
      "outputs": [
        {
          "output_type": "execute_result",
          "data": {
            "text/plain": [
              "     id                                              name  host_id  \\\n",
              "0  2539                Clean & quiet apt home by the park     2787   \n",
              "1  2595                             Skylit Midtown Castle     2845   \n",
              "2  3647               THE VILLAGE OF HARLEM....NEW YORK !     4632   \n",
              "3  3831                   Cozy Entire Floor of Brownstone     4869   \n",
              "4  5022  Entire Apt: Spacious Studio/Loft by central park     7192   \n",
              "\n",
              "     host_name neighbourhood_group neighbourhood  latitude  longitude  \\\n",
              "0         John            Brooklyn    Kensington  40.64749  -73.97237   \n",
              "1     Jennifer           Manhattan       Midtown  40.75362  -73.98377   \n",
              "2    Elisabeth           Manhattan        Harlem  40.80902  -73.94190   \n",
              "3  LisaRoxanne            Brooklyn  Clinton Hill  40.68514  -73.95976   \n",
              "4        Laura           Manhattan   East Harlem  40.79851  -73.94399   \n",
              "\n",
              "         room_type  price  minimum_nights  number_of_reviews last_review  \\\n",
              "0     Private room    149               1                  9  2018-10-19   \n",
              "1  Entire home/apt    225               1                 45  2019-05-21   \n",
              "2     Private room    150               3                  0         NaN   \n",
              "3  Entire home/apt     89               1                270  2019-07-05   \n",
              "4  Entire home/apt     80              10                  9  2018-11-19   \n",
              "\n",
              "   reviews_per_month  calculated_host_listings_count  availability_365  \\\n",
              "0               0.21                               6               365   \n",
              "1               0.38                               2               355   \n",
              "2               0.00                               1               365   \n",
              "3               4.64                               1               194   \n",
              "4               0.10                               1                 0   \n",
              "\n",
              "  reviews_per_month_cat  availability_365_range  classification  \n",
              "0                  Baja    Altamente disponible             NaN  \n",
              "1                  Baja    Altamente disponible             NaN  \n",
              "2                  Baja    Altamente disponible             NaN  \n",
              "3                  Alta  Disponible normalmente             NaN  \n",
              "4                  Baja         Poco disponible             NaN  "
            ],
            "text/html": [
              "\n",
              "  <div id=\"df-114b742f-b2b0-4af5-be59-747d89229ff3\">\n",
              "    <div class=\"colab-df-container\">\n",
              "      <div>\n",
              "<style scoped>\n",
              "    .dataframe tbody tr th:only-of-type {\n",
              "        vertical-align: middle;\n",
              "    }\n",
              "\n",
              "    .dataframe tbody tr th {\n",
              "        vertical-align: top;\n",
              "    }\n",
              "\n",
              "    .dataframe thead th {\n",
              "        text-align: right;\n",
              "    }\n",
              "</style>\n",
              "<table border=\"1\" class=\"dataframe\">\n",
              "  <thead>\n",
              "    <tr style=\"text-align: right;\">\n",
              "      <th></th>\n",
              "      <th>id</th>\n",
              "      <th>name</th>\n",
              "      <th>host_id</th>\n",
              "      <th>host_name</th>\n",
              "      <th>neighbourhood_group</th>\n",
              "      <th>neighbourhood</th>\n",
              "      <th>latitude</th>\n",
              "      <th>longitude</th>\n",
              "      <th>room_type</th>\n",
              "      <th>price</th>\n",
              "      <th>minimum_nights</th>\n",
              "      <th>number_of_reviews</th>\n",
              "      <th>last_review</th>\n",
              "      <th>reviews_per_month</th>\n",
              "      <th>calculated_host_listings_count</th>\n",
              "      <th>availability_365</th>\n",
              "      <th>reviews_per_month_cat</th>\n",
              "      <th>availability_365_range</th>\n",
              "      <th>classification</th>\n",
              "    </tr>\n",
              "  </thead>\n",
              "  <tbody>\n",
              "    <tr>\n",
              "      <th>0</th>\n",
              "      <td>2539</td>\n",
              "      <td>Clean &amp; quiet apt home by the park</td>\n",
              "      <td>2787</td>\n",
              "      <td>John</td>\n",
              "      <td>Brooklyn</td>\n",
              "      <td>Kensington</td>\n",
              "      <td>40.64749</td>\n",
              "      <td>-73.97237</td>\n",
              "      <td>Private room</td>\n",
              "      <td>149</td>\n",
              "      <td>1</td>\n",
              "      <td>9</td>\n",
              "      <td>2018-10-19</td>\n",
              "      <td>0.21</td>\n",
              "      <td>6</td>\n",
              "      <td>365</td>\n",
              "      <td>Baja</td>\n",
              "      <td>Altamente disponible</td>\n",
              "      <td>NaN</td>\n",
              "    </tr>\n",
              "    <tr>\n",
              "      <th>1</th>\n",
              "      <td>2595</td>\n",
              "      <td>Skylit Midtown Castle</td>\n",
              "      <td>2845</td>\n",
              "      <td>Jennifer</td>\n",
              "      <td>Manhattan</td>\n",
              "      <td>Midtown</td>\n",
              "      <td>40.75362</td>\n",
              "      <td>-73.98377</td>\n",
              "      <td>Entire home/apt</td>\n",
              "      <td>225</td>\n",
              "      <td>1</td>\n",
              "      <td>45</td>\n",
              "      <td>2019-05-21</td>\n",
              "      <td>0.38</td>\n",
              "      <td>2</td>\n",
              "      <td>355</td>\n",
              "      <td>Baja</td>\n",
              "      <td>Altamente disponible</td>\n",
              "      <td>NaN</td>\n",
              "    </tr>\n",
              "    <tr>\n",
              "      <th>2</th>\n",
              "      <td>3647</td>\n",
              "      <td>THE VILLAGE OF HARLEM....NEW YORK !</td>\n",
              "      <td>4632</td>\n",
              "      <td>Elisabeth</td>\n",
              "      <td>Manhattan</td>\n",
              "      <td>Harlem</td>\n",
              "      <td>40.80902</td>\n",
              "      <td>-73.94190</td>\n",
              "      <td>Private room</td>\n",
              "      <td>150</td>\n",
              "      <td>3</td>\n",
              "      <td>0</td>\n",
              "      <td>NaN</td>\n",
              "      <td>0.00</td>\n",
              "      <td>1</td>\n",
              "      <td>365</td>\n",
              "      <td>Baja</td>\n",
              "      <td>Altamente disponible</td>\n",
              "      <td>NaN</td>\n",
              "    </tr>\n",
              "    <tr>\n",
              "      <th>3</th>\n",
              "      <td>3831</td>\n",
              "      <td>Cozy Entire Floor of Brownstone</td>\n",
              "      <td>4869</td>\n",
              "      <td>LisaRoxanne</td>\n",
              "      <td>Brooklyn</td>\n",
              "      <td>Clinton Hill</td>\n",
              "      <td>40.68514</td>\n",
              "      <td>-73.95976</td>\n",
              "      <td>Entire home/apt</td>\n",
              "      <td>89</td>\n",
              "      <td>1</td>\n",
              "      <td>270</td>\n",
              "      <td>2019-07-05</td>\n",
              "      <td>4.64</td>\n",
              "      <td>1</td>\n",
              "      <td>194</td>\n",
              "      <td>Alta</td>\n",
              "      <td>Disponible normalmente</td>\n",
              "      <td>NaN</td>\n",
              "    </tr>\n",
              "    <tr>\n",
              "      <th>4</th>\n",
              "      <td>5022</td>\n",
              "      <td>Entire Apt: Spacious Studio/Loft by central park</td>\n",
              "      <td>7192</td>\n",
              "      <td>Laura</td>\n",
              "      <td>Manhattan</td>\n",
              "      <td>East Harlem</td>\n",
              "      <td>40.79851</td>\n",
              "      <td>-73.94399</td>\n",
              "      <td>Entire home/apt</td>\n",
              "      <td>80</td>\n",
              "      <td>10</td>\n",
              "      <td>9</td>\n",
              "      <td>2018-11-19</td>\n",
              "      <td>0.10</td>\n",
              "      <td>1</td>\n",
              "      <td>0</td>\n",
              "      <td>Baja</td>\n",
              "      <td>Poco disponible</td>\n",
              "      <td>NaN</td>\n",
              "    </tr>\n",
              "  </tbody>\n",
              "</table>\n",
              "</div>\n",
              "      <button class=\"colab-df-convert\" onclick=\"convertToInteractive('df-114b742f-b2b0-4af5-be59-747d89229ff3')\"\n",
              "              title=\"Convert this dataframe to an interactive table.\"\n",
              "              style=\"display:none;\">\n",
              "        \n",
              "  <svg xmlns=\"http://www.w3.org/2000/svg\" height=\"24px\"viewBox=\"0 0 24 24\"\n",
              "       width=\"24px\">\n",
              "    <path d=\"M0 0h24v24H0V0z\" fill=\"none\"/>\n",
              "    <path d=\"M18.56 5.44l.94 2.06.94-2.06 2.06-.94-2.06-.94-.94-2.06-.94 2.06-2.06.94zm-11 1L8.5 8.5l.94-2.06 2.06-.94-2.06-.94L8.5 2.5l-.94 2.06-2.06.94zm10 10l.94 2.06.94-2.06 2.06-.94-2.06-.94-.94-2.06-.94 2.06-2.06.94z\"/><path d=\"M17.41 7.96l-1.37-1.37c-.4-.4-.92-.59-1.43-.59-.52 0-1.04.2-1.43.59L10.3 9.45l-7.72 7.72c-.78.78-.78 2.05 0 2.83L4 21.41c.39.39.9.59 1.41.59.51 0 1.02-.2 1.41-.59l7.78-7.78 2.81-2.81c.8-.78.8-2.07 0-2.86zM5.41 20L4 18.59l7.72-7.72 1.47 1.35L5.41 20z\"/>\n",
              "  </svg>\n",
              "      </button>\n",
              "      \n",
              "  <style>\n",
              "    .colab-df-container {\n",
              "      display:flex;\n",
              "      flex-wrap:wrap;\n",
              "      gap: 12px;\n",
              "    }\n",
              "\n",
              "    .colab-df-convert {\n",
              "      background-color: #E8F0FE;\n",
              "      border: none;\n",
              "      border-radius: 50%;\n",
              "      cursor: pointer;\n",
              "      display: none;\n",
              "      fill: #1967D2;\n",
              "      height: 32px;\n",
              "      padding: 0 0 0 0;\n",
              "      width: 32px;\n",
              "    }\n",
              "\n",
              "    .colab-df-convert:hover {\n",
              "      background-color: #E2EBFA;\n",
              "      box-shadow: 0px 1px 2px rgba(60, 64, 67, 0.3), 0px 1px 3px 1px rgba(60, 64, 67, 0.15);\n",
              "      fill: #174EA6;\n",
              "    }\n",
              "\n",
              "    [theme=dark] .colab-df-convert {\n",
              "      background-color: #3B4455;\n",
              "      fill: #D2E3FC;\n",
              "    }\n",
              "\n",
              "    [theme=dark] .colab-df-convert:hover {\n",
              "      background-color: #434B5C;\n",
              "      box-shadow: 0px 1px 3px 1px rgba(0, 0, 0, 0.15);\n",
              "      filter: drop-shadow(0px 1px 2px rgba(0, 0, 0, 0.3));\n",
              "      fill: #FFFFFF;\n",
              "    }\n",
              "  </style>\n",
              "\n",
              "      <script>\n",
              "        const buttonEl =\n",
              "          document.querySelector('#df-114b742f-b2b0-4af5-be59-747d89229ff3 button.colab-df-convert');\n",
              "        buttonEl.style.display =\n",
              "          google.colab.kernel.accessAllowed ? 'block' : 'none';\n",
              "\n",
              "        async function convertToInteractive(key) {\n",
              "          const element = document.querySelector('#df-114b742f-b2b0-4af5-be59-747d89229ff3');\n",
              "          const dataTable =\n",
              "            await google.colab.kernel.invokeFunction('convertToInteractive',\n",
              "                                                     [key], {});\n",
              "          if (!dataTable) return;\n",
              "\n",
              "          const docLinkHtml = 'Like what you see? Visit the ' +\n",
              "            '<a target=\"_blank\" href=https://colab.research.google.com/notebooks/data_table.ipynb>data table notebook</a>'\n",
              "            + ' to learn more about interactive tables.';\n",
              "          element.innerHTML = '';\n",
              "          dataTable['output_type'] = 'display_data';\n",
              "          await google.colab.output.renderOutput(dataTable, element);\n",
              "          const docLink = document.createElement('div');\n",
              "          docLink.innerHTML = docLinkHtml;\n",
              "          element.appendChild(docLink);\n",
              "        }\n",
              "      </script>\n",
              "    </div>\n",
              "  </div>\n",
              "  "
            ]
          },
          "metadata": {},
          "execution_count": 91
        }
      ]
    },
    {
      "cell_type": "markdown",
      "source": [
        "Vamos a clasificar los datos según la siguente tabla\n",
        "\n",
        " Poco disponible | Disponible normalmente | Altamente disponible\n",
        "-----:|:--------:| -------\n",
        "Bueno | Regular | Malo\n",
        "Bueno | Regular | Malo\n",
        "Muy bueno | Bueno | Muy Malo\n",
        "\n",
        "\n",
        "\n",
        "Donde cada fila depende del valor de la reseña en Baja, Media y Alta respectivamente"
      ],
      "metadata": {
        "id": "lf_IUOwPXEd_"
      },
      "id": "lf_IUOwPXEd_"
    },
    {
      "cell_type": "code",
      "source": [
        "\n",
        "filas=len(df.axes[0])\n",
        "for i in range (filas):\n",
        "  if df['availability_365_range'][i]=='Poco disponible':\n",
        "    if df['reviews_per_month_cat'][i]=='Alta':\n",
        "      df['classification'][i]='Muy bueno'\n",
        "    else:\n",
        "      df['classification'][i]='Bueno'\n",
        "  elif df['availability_365_range'][i]=='Disponible normalmente':\n",
        "    if df['reviews_per_month_cat'][i]=='Alta':\n",
        "      df['classification'][i]='Bueno'\n",
        "    else:\n",
        "      df['classification'][i]='Regular'\n",
        "  else:\n",
        "    if df['reviews_per_month_cat'][i]=='Alta':\n",
        "      df['classification'][i]='Muy malo'\n",
        "    else:\n",
        "      df['classification'][i]='Malo'\n"
      ],
      "metadata": {
        "colab": {
          "base_uri": "https://localhost:8080/"
        },
        "id": "NoLv0nEFUFpF",
        "outputId": "9dbeb252-4b69-449e-ba39-b3dbe007ab7a"
      },
      "id": "NoLv0nEFUFpF",
      "execution_count": 92,
      "outputs": [
        {
          "output_type": "stream",
          "name": "stderr",
          "text": [
            "<ipython-input-92-6bf71fe99177>:17: SettingWithCopyWarning: \n",
            "A value is trying to be set on a copy of a slice from a DataFrame\n",
            "\n",
            "See the caveats in the documentation: https://pandas.pydata.org/pandas-docs/stable/user_guide/indexing.html#returning-a-view-versus-a-copy\n",
            "  df['classification'][i]='Malo'\n",
            "/usr/local/lib/python3.8/dist-packages/pandas/core/indexing.py:1732: SettingWithCopyWarning: \n",
            "A value is trying to be set on a copy of a slice from a DataFrame\n",
            "\n",
            "See the caveats in the documentation: https://pandas.pydata.org/pandas-docs/stable/user_guide/indexing.html#returning-a-view-versus-a-copy\n",
            "  self._setitem_single_block(indexer, value, name)\n"
          ]
        }
      ]
    },
    {
      "cell_type": "markdown",
      "source": [
        "Comprobemos que no quede ningun NaN. "
      ],
      "metadata": {
        "id": "cGA8CoPvYkTw"
      },
      "id": "cGA8CoPvYkTw"
    },
    {
      "cell_type": "code",
      "source": [
        "classif_nan = df['classification'].isna().sum()\n",
        "print(classif_nan)"
      ],
      "metadata": {
        "colab": {
          "base_uri": "https://localhost:8080/"
        },
        "id": "qLg3vv7hYjsr",
        "outputId": "61f5ba13-5b34-4051-e724-77c7d61369ab"
      },
      "id": "qLg3vv7hYjsr",
      "execution_count": 93,
      "outputs": [
        {
          "output_type": "stream",
          "name": "stdout",
          "text": [
            "0\n"
          ]
        }
      ]
    },
    {
      "cell_type": "markdown",
      "source": [
        "Todos los datos de la nueva columna han sido modificados, por lo que ya tenemos clasificados los alquieleres. "
      ],
      "metadata": {
        "id": "FhZmKIasZWpu"
      },
      "id": "FhZmKIasZWpu"
    },
    {
      "cell_type": "markdown",
      "source": [
        "Estudiaremos cuantos apartamentos pertenecen a cada clase. \n",
        "\n"
      ],
      "metadata": {
        "id": "M7sdmyRxZo6w"
      },
      "id": "M7sdmyRxZo6w"
    },
    {
      "cell_type": "code",
      "source": [
        "cant_bueno = df['classification'].value_counts() \n",
        "print(cant_bueno)\n"
      ],
      "metadata": {
        "id": "4toUjSU8dqwN",
        "outputId": "d49a68cd-8f84-4c13-a5d9-b7ebb5248d76",
        "colab": {
          "base_uri": "https://localhost:8080/"
        }
      },
      "id": "4toUjSU8dqwN",
      "execution_count": 94,
      "outputs": [
        {
          "output_type": "stream",
          "name": "stdout",
          "text": [
            "Bueno        29017\n",
            "Malo          9451\n",
            "Regular       4956\n",
            "Muy bueno     3447\n",
            "Muy malo      2024\n",
            "Name: classification, dtype: int64\n"
          ]
        }
      ]
    },
    {
      "cell_type": "markdown",
      "source": [
        "Hay un total de 30 637 alquileres buenos, 11 474 malos y solamente 1 muy malo, por lo que podemos considerar que de los alquileres en esta página predominan los buenos. "
      ],
      "metadata": {
        "id": "f6MaZ9sseI03"
      },
      "id": "f6MaZ9sseI03"
    },
    {
      "cell_type": "markdown",
      "source": [
        "## Modelado\n"
      ],
      "metadata": {
        "id": "xK5gIh_DsXan"
      },
      "id": "xK5gIh_DsXan"
    },
    {
      "cell_type": "markdown",
      "source": [
        "Una vez hemos preparado los datos tal y como deseamos, procedemos a modelar y estudiar el objetivo. Vamos a ver cuántos barrios hay, y cuántos apartamentos encontramos en los más populares. "
      ],
      "metadata": {
        "id": "US2QD_ToU4RF"
      },
      "id": "US2QD_ToU4RF"
    },
    {
      "cell_type": "code",
      "source": [
        "df['neighbourhood'].value_counts()\n"
      ],
      "metadata": {
        "colab": {
          "base_uri": "https://localhost:8080/"
        },
        "id": "O5d29tIMT9K2",
        "outputId": "a0451c87-f687-499b-a77e-4439020dbf1d"
      },
      "id": "O5d29tIMT9K2",
      "execution_count": 95,
      "outputs": [
        {
          "output_type": "execute_result",
          "data": {
            "text/plain": [
              "Williamsburg          3920\n",
              "Bedford-Stuyvesant    3714\n",
              "Harlem                2658\n",
              "Bushwick              2465\n",
              "Upper West Side       1971\n",
              "                      ... \n",
              "Fort Wadsworth           1\n",
              "Richmondtown             1\n",
              "New Dorp                 1\n",
              "Rossville                1\n",
              "Willowbrook              1\n",
              "Name: neighbourhood, Length: 221, dtype: int64"
            ]
          },
          "metadata": {},
          "execution_count": 95
        }
      ]
    },
    {
      "cell_type": "markdown",
      "source": [
        "Primero observamos que Williamsburg es donde más apartamentos encontramos.\n"
      ],
      "metadata": {
        "id": "sM8cZU-pVQoe"
      },
      "id": "sM8cZU-pVQoe"
    },
    {
      "cell_type": "markdown",
      "source": [
        "Como el objetivo del ejercicio es obtener la popularidad/calidad de cada barrio, para así ordenarlos y averiguar en qué ranking se encuentra, debemos por tanto hacer la media de cada uno. \n",
        "\n",
        "Anteriormente los clasificamos en unos rangos, pero eso no es efectivo, volveremos a clasificarlos en una nueva columna llamada 'classification_num', que se regirá a partir de las nuevas reglas proporcionadas, pero con un ligero cambio, y es que cada rango va a pasar a obtener un valor, tal que así: \n",
        "- muy malo: 0\n",
        "- malo: 0.25\n",
        "- regular: 0.5 \n",
        "- bueno: 0.75 \n",
        "- muy bueno: 1 \n",
        "\n",
        "Al igual que se ha ejecutado anteriormente, creamos una nueva variable, y lo añadimos como columna a nuestra base de datos. "
      ],
      "metadata": {
        "id": "rTJDRvFNYJqa"
      },
      "id": "rTJDRvFNYJqa"
    },
    {
      "cell_type": "code",
      "source": [
        "df.loc[:,'classification_num']=np.nan"
      ],
      "metadata": {
        "id": "2jZzLheBYFtB"
      },
      "id": "2jZzLheBYFtB",
      "execution_count": 96,
      "outputs": []
    },
    {
      "cell_type": "markdown",
      "source": [
        "Comprobamos de que se haya añadido correctamente. "
      ],
      "metadata": {
        "id": "uuNYeCWqZWMT"
      },
      "id": "uuNYeCWqZWMT"
    },
    {
      "cell_type": "code",
      "source": [
        "df.head()"
      ],
      "metadata": {
        "colab": {
          "base_uri": "https://localhost:8080/",
          "height": 447
        },
        "id": "2UEi4FG9YdOK",
        "outputId": "42baeabd-4b66-482c-b3e5-3cd92476985a"
      },
      "id": "2UEi4FG9YdOK",
      "execution_count": 97,
      "outputs": [
        {
          "output_type": "execute_result",
          "data": {
            "text/plain": [
              "     id                                              name  host_id  \\\n",
              "0  2539                Clean & quiet apt home by the park     2787   \n",
              "1  2595                             Skylit Midtown Castle     2845   \n",
              "2  3647               THE VILLAGE OF HARLEM....NEW YORK !     4632   \n",
              "3  3831                   Cozy Entire Floor of Brownstone     4869   \n",
              "4  5022  Entire Apt: Spacious Studio/Loft by central park     7192   \n",
              "\n",
              "     host_name neighbourhood_group neighbourhood  latitude  longitude  \\\n",
              "0         John            Brooklyn    Kensington  40.64749  -73.97237   \n",
              "1     Jennifer           Manhattan       Midtown  40.75362  -73.98377   \n",
              "2    Elisabeth           Manhattan        Harlem  40.80902  -73.94190   \n",
              "3  LisaRoxanne            Brooklyn  Clinton Hill  40.68514  -73.95976   \n",
              "4        Laura           Manhattan   East Harlem  40.79851  -73.94399   \n",
              "\n",
              "         room_type  price  minimum_nights  number_of_reviews last_review  \\\n",
              "0     Private room    149               1                  9  2018-10-19   \n",
              "1  Entire home/apt    225               1                 45  2019-05-21   \n",
              "2     Private room    150               3                  0         NaN   \n",
              "3  Entire home/apt     89               1                270  2019-07-05   \n",
              "4  Entire home/apt     80              10                  9  2018-11-19   \n",
              "\n",
              "   reviews_per_month  calculated_host_listings_count  availability_365  \\\n",
              "0               0.21                               6               365   \n",
              "1               0.38                               2               355   \n",
              "2               0.00                               1               365   \n",
              "3               4.64                               1               194   \n",
              "4               0.10                               1                 0   \n",
              "\n",
              "  reviews_per_month_cat  availability_365_range classification  \\\n",
              "0                  Baja    Altamente disponible           Malo   \n",
              "1                  Baja    Altamente disponible           Malo   \n",
              "2                  Baja    Altamente disponible           Malo   \n",
              "3                  Alta  Disponible normalmente          Bueno   \n",
              "4                  Baja         Poco disponible          Bueno   \n",
              "\n",
              "   classification_num  \n",
              "0                 NaN  \n",
              "1                 NaN  \n",
              "2                 NaN  \n",
              "3                 NaN  \n",
              "4                 NaN  "
            ],
            "text/html": [
              "\n",
              "  <div id=\"df-aee6003b-0f6b-4240-a11b-02d78c5fa944\">\n",
              "    <div class=\"colab-df-container\">\n",
              "      <div>\n",
              "<style scoped>\n",
              "    .dataframe tbody tr th:only-of-type {\n",
              "        vertical-align: middle;\n",
              "    }\n",
              "\n",
              "    .dataframe tbody tr th {\n",
              "        vertical-align: top;\n",
              "    }\n",
              "\n",
              "    .dataframe thead th {\n",
              "        text-align: right;\n",
              "    }\n",
              "</style>\n",
              "<table border=\"1\" class=\"dataframe\">\n",
              "  <thead>\n",
              "    <tr style=\"text-align: right;\">\n",
              "      <th></th>\n",
              "      <th>id</th>\n",
              "      <th>name</th>\n",
              "      <th>host_id</th>\n",
              "      <th>host_name</th>\n",
              "      <th>neighbourhood_group</th>\n",
              "      <th>neighbourhood</th>\n",
              "      <th>latitude</th>\n",
              "      <th>longitude</th>\n",
              "      <th>room_type</th>\n",
              "      <th>price</th>\n",
              "      <th>minimum_nights</th>\n",
              "      <th>number_of_reviews</th>\n",
              "      <th>last_review</th>\n",
              "      <th>reviews_per_month</th>\n",
              "      <th>calculated_host_listings_count</th>\n",
              "      <th>availability_365</th>\n",
              "      <th>reviews_per_month_cat</th>\n",
              "      <th>availability_365_range</th>\n",
              "      <th>classification</th>\n",
              "      <th>classification_num</th>\n",
              "    </tr>\n",
              "  </thead>\n",
              "  <tbody>\n",
              "    <tr>\n",
              "      <th>0</th>\n",
              "      <td>2539</td>\n",
              "      <td>Clean &amp; quiet apt home by the park</td>\n",
              "      <td>2787</td>\n",
              "      <td>John</td>\n",
              "      <td>Brooklyn</td>\n",
              "      <td>Kensington</td>\n",
              "      <td>40.64749</td>\n",
              "      <td>-73.97237</td>\n",
              "      <td>Private room</td>\n",
              "      <td>149</td>\n",
              "      <td>1</td>\n",
              "      <td>9</td>\n",
              "      <td>2018-10-19</td>\n",
              "      <td>0.21</td>\n",
              "      <td>6</td>\n",
              "      <td>365</td>\n",
              "      <td>Baja</td>\n",
              "      <td>Altamente disponible</td>\n",
              "      <td>Malo</td>\n",
              "      <td>NaN</td>\n",
              "    </tr>\n",
              "    <tr>\n",
              "      <th>1</th>\n",
              "      <td>2595</td>\n",
              "      <td>Skylit Midtown Castle</td>\n",
              "      <td>2845</td>\n",
              "      <td>Jennifer</td>\n",
              "      <td>Manhattan</td>\n",
              "      <td>Midtown</td>\n",
              "      <td>40.75362</td>\n",
              "      <td>-73.98377</td>\n",
              "      <td>Entire home/apt</td>\n",
              "      <td>225</td>\n",
              "      <td>1</td>\n",
              "      <td>45</td>\n",
              "      <td>2019-05-21</td>\n",
              "      <td>0.38</td>\n",
              "      <td>2</td>\n",
              "      <td>355</td>\n",
              "      <td>Baja</td>\n",
              "      <td>Altamente disponible</td>\n",
              "      <td>Malo</td>\n",
              "      <td>NaN</td>\n",
              "    </tr>\n",
              "    <tr>\n",
              "      <th>2</th>\n",
              "      <td>3647</td>\n",
              "      <td>THE VILLAGE OF HARLEM....NEW YORK !</td>\n",
              "      <td>4632</td>\n",
              "      <td>Elisabeth</td>\n",
              "      <td>Manhattan</td>\n",
              "      <td>Harlem</td>\n",
              "      <td>40.80902</td>\n",
              "      <td>-73.94190</td>\n",
              "      <td>Private room</td>\n",
              "      <td>150</td>\n",
              "      <td>3</td>\n",
              "      <td>0</td>\n",
              "      <td>NaN</td>\n",
              "      <td>0.00</td>\n",
              "      <td>1</td>\n",
              "      <td>365</td>\n",
              "      <td>Baja</td>\n",
              "      <td>Altamente disponible</td>\n",
              "      <td>Malo</td>\n",
              "      <td>NaN</td>\n",
              "    </tr>\n",
              "    <tr>\n",
              "      <th>3</th>\n",
              "      <td>3831</td>\n",
              "      <td>Cozy Entire Floor of Brownstone</td>\n",
              "      <td>4869</td>\n",
              "      <td>LisaRoxanne</td>\n",
              "      <td>Brooklyn</td>\n",
              "      <td>Clinton Hill</td>\n",
              "      <td>40.68514</td>\n",
              "      <td>-73.95976</td>\n",
              "      <td>Entire home/apt</td>\n",
              "      <td>89</td>\n",
              "      <td>1</td>\n",
              "      <td>270</td>\n",
              "      <td>2019-07-05</td>\n",
              "      <td>4.64</td>\n",
              "      <td>1</td>\n",
              "      <td>194</td>\n",
              "      <td>Alta</td>\n",
              "      <td>Disponible normalmente</td>\n",
              "      <td>Bueno</td>\n",
              "      <td>NaN</td>\n",
              "    </tr>\n",
              "    <tr>\n",
              "      <th>4</th>\n",
              "      <td>5022</td>\n",
              "      <td>Entire Apt: Spacious Studio/Loft by central park</td>\n",
              "      <td>7192</td>\n",
              "      <td>Laura</td>\n",
              "      <td>Manhattan</td>\n",
              "      <td>East Harlem</td>\n",
              "      <td>40.79851</td>\n",
              "      <td>-73.94399</td>\n",
              "      <td>Entire home/apt</td>\n",
              "      <td>80</td>\n",
              "      <td>10</td>\n",
              "      <td>9</td>\n",
              "      <td>2018-11-19</td>\n",
              "      <td>0.10</td>\n",
              "      <td>1</td>\n",
              "      <td>0</td>\n",
              "      <td>Baja</td>\n",
              "      <td>Poco disponible</td>\n",
              "      <td>Bueno</td>\n",
              "      <td>NaN</td>\n",
              "    </tr>\n",
              "  </tbody>\n",
              "</table>\n",
              "</div>\n",
              "      <button class=\"colab-df-convert\" onclick=\"convertToInteractive('df-aee6003b-0f6b-4240-a11b-02d78c5fa944')\"\n",
              "              title=\"Convert this dataframe to an interactive table.\"\n",
              "              style=\"display:none;\">\n",
              "        \n",
              "  <svg xmlns=\"http://www.w3.org/2000/svg\" height=\"24px\"viewBox=\"0 0 24 24\"\n",
              "       width=\"24px\">\n",
              "    <path d=\"M0 0h24v24H0V0z\" fill=\"none\"/>\n",
              "    <path d=\"M18.56 5.44l.94 2.06.94-2.06 2.06-.94-2.06-.94-.94-2.06-.94 2.06-2.06.94zm-11 1L8.5 8.5l.94-2.06 2.06-.94-2.06-.94L8.5 2.5l-.94 2.06-2.06.94zm10 10l.94 2.06.94-2.06 2.06-.94-2.06-.94-.94-2.06-.94 2.06-2.06.94z\"/><path d=\"M17.41 7.96l-1.37-1.37c-.4-.4-.92-.59-1.43-.59-.52 0-1.04.2-1.43.59L10.3 9.45l-7.72 7.72c-.78.78-.78 2.05 0 2.83L4 21.41c.39.39.9.59 1.41.59.51 0 1.02-.2 1.41-.59l7.78-7.78 2.81-2.81c.8-.78.8-2.07 0-2.86zM5.41 20L4 18.59l7.72-7.72 1.47 1.35L5.41 20z\"/>\n",
              "  </svg>\n",
              "      </button>\n",
              "      \n",
              "  <style>\n",
              "    .colab-df-container {\n",
              "      display:flex;\n",
              "      flex-wrap:wrap;\n",
              "      gap: 12px;\n",
              "    }\n",
              "\n",
              "    .colab-df-convert {\n",
              "      background-color: #E8F0FE;\n",
              "      border: none;\n",
              "      border-radius: 50%;\n",
              "      cursor: pointer;\n",
              "      display: none;\n",
              "      fill: #1967D2;\n",
              "      height: 32px;\n",
              "      padding: 0 0 0 0;\n",
              "      width: 32px;\n",
              "    }\n",
              "\n",
              "    .colab-df-convert:hover {\n",
              "      background-color: #E2EBFA;\n",
              "      box-shadow: 0px 1px 2px rgba(60, 64, 67, 0.3), 0px 1px 3px 1px rgba(60, 64, 67, 0.15);\n",
              "      fill: #174EA6;\n",
              "    }\n",
              "\n",
              "    [theme=dark] .colab-df-convert {\n",
              "      background-color: #3B4455;\n",
              "      fill: #D2E3FC;\n",
              "    }\n",
              "\n",
              "    [theme=dark] .colab-df-convert:hover {\n",
              "      background-color: #434B5C;\n",
              "      box-shadow: 0px 1px 3px 1px rgba(0, 0, 0, 0.15);\n",
              "      filter: drop-shadow(0px 1px 2px rgba(0, 0, 0, 0.3));\n",
              "      fill: #FFFFFF;\n",
              "    }\n",
              "  </style>\n",
              "\n",
              "      <script>\n",
              "        const buttonEl =\n",
              "          document.querySelector('#df-aee6003b-0f6b-4240-a11b-02d78c5fa944 button.colab-df-convert');\n",
              "        buttonEl.style.display =\n",
              "          google.colab.kernel.accessAllowed ? 'block' : 'none';\n",
              "\n",
              "        async function convertToInteractive(key) {\n",
              "          const element = document.querySelector('#df-aee6003b-0f6b-4240-a11b-02d78c5fa944');\n",
              "          const dataTable =\n",
              "            await google.colab.kernel.invokeFunction('convertToInteractive',\n",
              "                                                     [key], {});\n",
              "          if (!dataTable) return;\n",
              "\n",
              "          const docLinkHtml = 'Like what you see? Visit the ' +\n",
              "            '<a target=\"_blank\" href=https://colab.research.google.com/notebooks/data_table.ipynb>data table notebook</a>'\n",
              "            + ' to learn more about interactive tables.';\n",
              "          element.innerHTML = '';\n",
              "          dataTable['output_type'] = 'display_data';\n",
              "          await google.colab.output.renderOutput(dataTable, element);\n",
              "          const docLink = document.createElement('div');\n",
              "          docLink.innerHTML = docLinkHtml;\n",
              "          element.appendChild(docLink);\n",
              "        }\n",
              "      </script>\n",
              "    </div>\n",
              "  </div>\n",
              "  "
            ]
          },
          "metadata": {},
          "execution_count": 97
        }
      ]
    },
    {
      "cell_type": "markdown",
      "source": [
        "Procedemos a la clasificación de cada apartameto, tal y como se explicó anteriormente. "
      ],
      "metadata": {
        "id": "5hDcpu_SZbFt"
      },
      "id": "5hDcpu_SZbFt"
    },
    {
      "cell_type": "code",
      "source": [
        "filas=len(df.axes[0])\n",
        "for i in range (filas):\n",
        "  if df['availability_365_range'][i]=='Poco disponible':\n",
        "    if df['reviews_per_month_cat'][i]=='Alta':\n",
        "      df['classification_num'][i]=1\n",
        "    else:\n",
        "      df['classification_num'][i]=0.75\n",
        "  elif df['availability_365_range'][i]=='Disponible normalmente':\n",
        "    if df['reviews_per_month_cat'][i]=='Alta':\n",
        "      df['classification_num'][i]=0.75\n",
        "    else:\n",
        "      df['classification_num'][i]=0.5\n",
        "  else:\n",
        "    if df['reviews_per_month_cat'][i]=='Alta':\n",
        "      df['classification_num'][i]=0\n",
        "    else:\n",
        "      df['classification_num'][i]=0.25"
      ],
      "metadata": {
        "colab": {
          "base_uri": "https://localhost:8080/"
        },
        "id": "CcCeERNUX6mn",
        "outputId": "0bf2cea0-daac-40ba-edd0-b4a7f9181393"
      },
      "id": "CcCeERNUX6mn",
      "execution_count": 98,
      "outputs": [
        {
          "output_type": "stream",
          "name": "stderr",
          "text": [
            "<ipython-input-98-06fd58d22def>:17: SettingWithCopyWarning: \n",
            "A value is trying to be set on a copy of a slice from a DataFrame\n",
            "\n",
            "See the caveats in the documentation: https://pandas.pydata.org/pandas-docs/stable/user_guide/indexing.html#returning-a-view-versus-a-copy\n",
            "  df['classification_num'][i]=0.25\n",
            "<ipython-input-98-06fd58d22def>:10: SettingWithCopyWarning: \n",
            "A value is trying to be set on a copy of a slice from a DataFrame\n",
            "\n",
            "See the caveats in the documentation: https://pandas.pydata.org/pandas-docs/stable/user_guide/indexing.html#returning-a-view-versus-a-copy\n",
            "  df['classification_num'][i]=0.75\n",
            "<ipython-input-98-06fd58d22def>:7: SettingWithCopyWarning: \n",
            "A value is trying to be set on a copy of a slice from a DataFrame\n",
            "\n",
            "See the caveats in the documentation: https://pandas.pydata.org/pandas-docs/stable/user_guide/indexing.html#returning-a-view-versus-a-copy\n",
            "  df['classification_num'][i]=0.75\n",
            "<ipython-input-98-06fd58d22def>:12: SettingWithCopyWarning: \n",
            "A value is trying to be set on a copy of a slice from a DataFrame\n",
            "\n",
            "See the caveats in the documentation: https://pandas.pydata.org/pandas-docs/stable/user_guide/indexing.html#returning-a-view-versus-a-copy\n",
            "  df['classification_num'][i]=0.5\n",
            "<ipython-input-98-06fd58d22def>:5: SettingWithCopyWarning: \n",
            "A value is trying to be set on a copy of a slice from a DataFrame\n",
            "\n",
            "See the caveats in the documentation: https://pandas.pydata.org/pandas-docs/stable/user_guide/indexing.html#returning-a-view-versus-a-copy\n",
            "  df['classification_num'][i]=1\n",
            "<ipython-input-98-06fd58d22def>:15: SettingWithCopyWarning: \n",
            "A value is trying to be set on a copy of a slice from a DataFrame\n",
            "\n",
            "See the caveats in the documentation: https://pandas.pydata.org/pandas-docs/stable/user_guide/indexing.html#returning-a-view-versus-a-copy\n",
            "  df['classification_num'][i]=0\n"
          ]
        }
      ]
    },
    {
      "cell_type": "markdown",
      "source": [
        "A priori, parece que los valores se han añadido correctamente, pero lo comprobaremos estudiando a ver si hay algún NaN (que no debería)."
      ],
      "metadata": {
        "id": "3kIYCLvQZ2h_"
      },
      "id": "3kIYCLvQZ2h_"
    },
    {
      "cell_type": "code",
      "source": [
        "df.head()"
      ],
      "metadata": {
        "colab": {
          "base_uri": "https://localhost:8080/",
          "height": 447
        },
        "id": "m498fzNhYjAA",
        "outputId": "a911ef73-0e97-4a34-ab2d-42467d0318f1"
      },
      "id": "m498fzNhYjAA",
      "execution_count": 99,
      "outputs": [
        {
          "output_type": "execute_result",
          "data": {
            "text/plain": [
              "     id                                              name  host_id  \\\n",
              "0  2539                Clean & quiet apt home by the park     2787   \n",
              "1  2595                             Skylit Midtown Castle     2845   \n",
              "2  3647               THE VILLAGE OF HARLEM....NEW YORK !     4632   \n",
              "3  3831                   Cozy Entire Floor of Brownstone     4869   \n",
              "4  5022  Entire Apt: Spacious Studio/Loft by central park     7192   \n",
              "\n",
              "     host_name neighbourhood_group neighbourhood  latitude  longitude  \\\n",
              "0         John            Brooklyn    Kensington  40.64749  -73.97237   \n",
              "1     Jennifer           Manhattan       Midtown  40.75362  -73.98377   \n",
              "2    Elisabeth           Manhattan        Harlem  40.80902  -73.94190   \n",
              "3  LisaRoxanne            Brooklyn  Clinton Hill  40.68514  -73.95976   \n",
              "4        Laura           Manhattan   East Harlem  40.79851  -73.94399   \n",
              "\n",
              "         room_type  price  minimum_nights  number_of_reviews last_review  \\\n",
              "0     Private room    149               1                  9  2018-10-19   \n",
              "1  Entire home/apt    225               1                 45  2019-05-21   \n",
              "2     Private room    150               3                  0         NaN   \n",
              "3  Entire home/apt     89               1                270  2019-07-05   \n",
              "4  Entire home/apt     80              10                  9  2018-11-19   \n",
              "\n",
              "   reviews_per_month  calculated_host_listings_count  availability_365  \\\n",
              "0               0.21                               6               365   \n",
              "1               0.38                               2               355   \n",
              "2               0.00                               1               365   \n",
              "3               4.64                               1               194   \n",
              "4               0.10                               1                 0   \n",
              "\n",
              "  reviews_per_month_cat  availability_365_range classification  \\\n",
              "0                  Baja    Altamente disponible           Malo   \n",
              "1                  Baja    Altamente disponible           Malo   \n",
              "2                  Baja    Altamente disponible           Malo   \n",
              "3                  Alta  Disponible normalmente          Bueno   \n",
              "4                  Baja         Poco disponible          Bueno   \n",
              "\n",
              "   classification_num  \n",
              "0                0.25  \n",
              "1                0.25  \n",
              "2                0.25  \n",
              "3                0.75  \n",
              "4                0.75  "
            ],
            "text/html": [
              "\n",
              "  <div id=\"df-5ce41436-dcda-4331-9348-592e11363371\">\n",
              "    <div class=\"colab-df-container\">\n",
              "      <div>\n",
              "<style scoped>\n",
              "    .dataframe tbody tr th:only-of-type {\n",
              "        vertical-align: middle;\n",
              "    }\n",
              "\n",
              "    .dataframe tbody tr th {\n",
              "        vertical-align: top;\n",
              "    }\n",
              "\n",
              "    .dataframe thead th {\n",
              "        text-align: right;\n",
              "    }\n",
              "</style>\n",
              "<table border=\"1\" class=\"dataframe\">\n",
              "  <thead>\n",
              "    <tr style=\"text-align: right;\">\n",
              "      <th></th>\n",
              "      <th>id</th>\n",
              "      <th>name</th>\n",
              "      <th>host_id</th>\n",
              "      <th>host_name</th>\n",
              "      <th>neighbourhood_group</th>\n",
              "      <th>neighbourhood</th>\n",
              "      <th>latitude</th>\n",
              "      <th>longitude</th>\n",
              "      <th>room_type</th>\n",
              "      <th>price</th>\n",
              "      <th>minimum_nights</th>\n",
              "      <th>number_of_reviews</th>\n",
              "      <th>last_review</th>\n",
              "      <th>reviews_per_month</th>\n",
              "      <th>calculated_host_listings_count</th>\n",
              "      <th>availability_365</th>\n",
              "      <th>reviews_per_month_cat</th>\n",
              "      <th>availability_365_range</th>\n",
              "      <th>classification</th>\n",
              "      <th>classification_num</th>\n",
              "    </tr>\n",
              "  </thead>\n",
              "  <tbody>\n",
              "    <tr>\n",
              "      <th>0</th>\n",
              "      <td>2539</td>\n",
              "      <td>Clean &amp; quiet apt home by the park</td>\n",
              "      <td>2787</td>\n",
              "      <td>John</td>\n",
              "      <td>Brooklyn</td>\n",
              "      <td>Kensington</td>\n",
              "      <td>40.64749</td>\n",
              "      <td>-73.97237</td>\n",
              "      <td>Private room</td>\n",
              "      <td>149</td>\n",
              "      <td>1</td>\n",
              "      <td>9</td>\n",
              "      <td>2018-10-19</td>\n",
              "      <td>0.21</td>\n",
              "      <td>6</td>\n",
              "      <td>365</td>\n",
              "      <td>Baja</td>\n",
              "      <td>Altamente disponible</td>\n",
              "      <td>Malo</td>\n",
              "      <td>0.25</td>\n",
              "    </tr>\n",
              "    <tr>\n",
              "      <th>1</th>\n",
              "      <td>2595</td>\n",
              "      <td>Skylit Midtown Castle</td>\n",
              "      <td>2845</td>\n",
              "      <td>Jennifer</td>\n",
              "      <td>Manhattan</td>\n",
              "      <td>Midtown</td>\n",
              "      <td>40.75362</td>\n",
              "      <td>-73.98377</td>\n",
              "      <td>Entire home/apt</td>\n",
              "      <td>225</td>\n",
              "      <td>1</td>\n",
              "      <td>45</td>\n",
              "      <td>2019-05-21</td>\n",
              "      <td>0.38</td>\n",
              "      <td>2</td>\n",
              "      <td>355</td>\n",
              "      <td>Baja</td>\n",
              "      <td>Altamente disponible</td>\n",
              "      <td>Malo</td>\n",
              "      <td>0.25</td>\n",
              "    </tr>\n",
              "    <tr>\n",
              "      <th>2</th>\n",
              "      <td>3647</td>\n",
              "      <td>THE VILLAGE OF HARLEM....NEW YORK !</td>\n",
              "      <td>4632</td>\n",
              "      <td>Elisabeth</td>\n",
              "      <td>Manhattan</td>\n",
              "      <td>Harlem</td>\n",
              "      <td>40.80902</td>\n",
              "      <td>-73.94190</td>\n",
              "      <td>Private room</td>\n",
              "      <td>150</td>\n",
              "      <td>3</td>\n",
              "      <td>0</td>\n",
              "      <td>NaN</td>\n",
              "      <td>0.00</td>\n",
              "      <td>1</td>\n",
              "      <td>365</td>\n",
              "      <td>Baja</td>\n",
              "      <td>Altamente disponible</td>\n",
              "      <td>Malo</td>\n",
              "      <td>0.25</td>\n",
              "    </tr>\n",
              "    <tr>\n",
              "      <th>3</th>\n",
              "      <td>3831</td>\n",
              "      <td>Cozy Entire Floor of Brownstone</td>\n",
              "      <td>4869</td>\n",
              "      <td>LisaRoxanne</td>\n",
              "      <td>Brooklyn</td>\n",
              "      <td>Clinton Hill</td>\n",
              "      <td>40.68514</td>\n",
              "      <td>-73.95976</td>\n",
              "      <td>Entire home/apt</td>\n",
              "      <td>89</td>\n",
              "      <td>1</td>\n",
              "      <td>270</td>\n",
              "      <td>2019-07-05</td>\n",
              "      <td>4.64</td>\n",
              "      <td>1</td>\n",
              "      <td>194</td>\n",
              "      <td>Alta</td>\n",
              "      <td>Disponible normalmente</td>\n",
              "      <td>Bueno</td>\n",
              "      <td>0.75</td>\n",
              "    </tr>\n",
              "    <tr>\n",
              "      <th>4</th>\n",
              "      <td>5022</td>\n",
              "      <td>Entire Apt: Spacious Studio/Loft by central park</td>\n",
              "      <td>7192</td>\n",
              "      <td>Laura</td>\n",
              "      <td>Manhattan</td>\n",
              "      <td>East Harlem</td>\n",
              "      <td>40.79851</td>\n",
              "      <td>-73.94399</td>\n",
              "      <td>Entire home/apt</td>\n",
              "      <td>80</td>\n",
              "      <td>10</td>\n",
              "      <td>9</td>\n",
              "      <td>2018-11-19</td>\n",
              "      <td>0.10</td>\n",
              "      <td>1</td>\n",
              "      <td>0</td>\n",
              "      <td>Baja</td>\n",
              "      <td>Poco disponible</td>\n",
              "      <td>Bueno</td>\n",
              "      <td>0.75</td>\n",
              "    </tr>\n",
              "  </tbody>\n",
              "</table>\n",
              "</div>\n",
              "      <button class=\"colab-df-convert\" onclick=\"convertToInteractive('df-5ce41436-dcda-4331-9348-592e11363371')\"\n",
              "              title=\"Convert this dataframe to an interactive table.\"\n",
              "              style=\"display:none;\">\n",
              "        \n",
              "  <svg xmlns=\"http://www.w3.org/2000/svg\" height=\"24px\"viewBox=\"0 0 24 24\"\n",
              "       width=\"24px\">\n",
              "    <path d=\"M0 0h24v24H0V0z\" fill=\"none\"/>\n",
              "    <path d=\"M18.56 5.44l.94 2.06.94-2.06 2.06-.94-2.06-.94-.94-2.06-.94 2.06-2.06.94zm-11 1L8.5 8.5l.94-2.06 2.06-.94-2.06-.94L8.5 2.5l-.94 2.06-2.06.94zm10 10l.94 2.06.94-2.06 2.06-.94-2.06-.94-.94-2.06-.94 2.06-2.06.94z\"/><path d=\"M17.41 7.96l-1.37-1.37c-.4-.4-.92-.59-1.43-.59-.52 0-1.04.2-1.43.59L10.3 9.45l-7.72 7.72c-.78.78-.78 2.05 0 2.83L4 21.41c.39.39.9.59 1.41.59.51 0 1.02-.2 1.41-.59l7.78-7.78 2.81-2.81c.8-.78.8-2.07 0-2.86zM5.41 20L4 18.59l7.72-7.72 1.47 1.35L5.41 20z\"/>\n",
              "  </svg>\n",
              "      </button>\n",
              "      \n",
              "  <style>\n",
              "    .colab-df-container {\n",
              "      display:flex;\n",
              "      flex-wrap:wrap;\n",
              "      gap: 12px;\n",
              "    }\n",
              "\n",
              "    .colab-df-convert {\n",
              "      background-color: #E8F0FE;\n",
              "      border: none;\n",
              "      border-radius: 50%;\n",
              "      cursor: pointer;\n",
              "      display: none;\n",
              "      fill: #1967D2;\n",
              "      height: 32px;\n",
              "      padding: 0 0 0 0;\n",
              "      width: 32px;\n",
              "    }\n",
              "\n",
              "    .colab-df-convert:hover {\n",
              "      background-color: #E2EBFA;\n",
              "      box-shadow: 0px 1px 2px rgba(60, 64, 67, 0.3), 0px 1px 3px 1px rgba(60, 64, 67, 0.15);\n",
              "      fill: #174EA6;\n",
              "    }\n",
              "\n",
              "    [theme=dark] .colab-df-convert {\n",
              "      background-color: #3B4455;\n",
              "      fill: #D2E3FC;\n",
              "    }\n",
              "\n",
              "    [theme=dark] .colab-df-convert:hover {\n",
              "      background-color: #434B5C;\n",
              "      box-shadow: 0px 1px 3px 1px rgba(0, 0, 0, 0.15);\n",
              "      filter: drop-shadow(0px 1px 2px rgba(0, 0, 0, 0.3));\n",
              "      fill: #FFFFFF;\n",
              "    }\n",
              "  </style>\n",
              "\n",
              "      <script>\n",
              "        const buttonEl =\n",
              "          document.querySelector('#df-5ce41436-dcda-4331-9348-592e11363371 button.colab-df-convert');\n",
              "        buttonEl.style.display =\n",
              "          google.colab.kernel.accessAllowed ? 'block' : 'none';\n",
              "\n",
              "        async function convertToInteractive(key) {\n",
              "          const element = document.querySelector('#df-5ce41436-dcda-4331-9348-592e11363371');\n",
              "          const dataTable =\n",
              "            await google.colab.kernel.invokeFunction('convertToInteractive',\n",
              "                                                     [key], {});\n",
              "          if (!dataTable) return;\n",
              "\n",
              "          const docLinkHtml = 'Like what you see? Visit the ' +\n",
              "            '<a target=\"_blank\" href=https://colab.research.google.com/notebooks/data_table.ipynb>data table notebook</a>'\n",
              "            + ' to learn more about interactive tables.';\n",
              "          element.innerHTML = '';\n",
              "          dataTable['output_type'] = 'display_data';\n",
              "          await google.colab.output.renderOutput(dataTable, element);\n",
              "          const docLink = document.createElement('div');\n",
              "          docLink.innerHTML = docLinkHtml;\n",
              "          element.appendChild(docLink);\n",
              "        }\n",
              "      </script>\n",
              "    </div>\n",
              "  </div>\n",
              "  "
            ]
          },
          "metadata": {},
          "execution_count": 99
        }
      ]
    },
    {
      "cell_type": "code",
      "source": [
        "classif_num_nan = df['classification_num'].isna().sum()\n",
        "print(classif_num_nan)"
      ],
      "metadata": {
        "colab": {
          "base_uri": "https://localhost:8080/"
        },
        "id": "vZYXk3bcaEgD",
        "outputId": "c3ccb213-9584-4802-e5e3-78f403c80fd9"
      },
      "id": "vZYXk3bcaEgD",
      "execution_count": 100,
      "outputs": [
        {
          "output_type": "stream",
          "name": "stdout",
          "text": [
            "0\n"
          ]
        }
      ]
    },
    {
      "cell_type": "markdown",
      "source": [
        "Obtenemos el valor deseado. Ahora, gracias a la función '.value_counts', compararemos las dos columnas 'classification' y 'classification_num', ya que deberán tener el mismo número de apartamentos en cada rango o valor corresponidentemente. "
      ],
      "metadata": {
        "id": "Aa-a4uGYaTy5"
      },
      "id": "Aa-a4uGYaTy5"
    },
    {
      "cell_type": "code",
      "source": [
        "df['classification'].value_counts()"
      ],
      "metadata": {
        "colab": {
          "base_uri": "https://localhost:8080/"
        },
        "id": "9QmHtgUIabFU",
        "outputId": "810b6c6f-a18a-4ff2-fcd5-07712f3114b5"
      },
      "id": "9QmHtgUIabFU",
      "execution_count": 101,
      "outputs": [
        {
          "output_type": "execute_result",
          "data": {
            "text/plain": [
              "Bueno        29017\n",
              "Malo          9451\n",
              "Regular       4956\n",
              "Muy bueno     3447\n",
              "Muy malo      2024\n",
              "Name: classification, dtype: int64"
            ]
          },
          "metadata": {},
          "execution_count": 101
        }
      ]
    },
    {
      "cell_type": "code",
      "source": [
        "df['classification_num'].value_counts()"
      ],
      "metadata": {
        "colab": {
          "base_uri": "https://localhost:8080/"
        },
        "id": "uRjLfIM4awcz",
        "outputId": "f9de5a6b-b64f-4a88-a88d-bc3317aa59ad"
      },
      "id": "uRjLfIM4awcz",
      "execution_count": 102,
      "outputs": [
        {
          "output_type": "execute_result",
          "data": {
            "text/plain": [
              "0.75    29017\n",
              "0.25     9451\n",
              "0.50     4956\n",
              "1.00     3447\n",
              "0.00     2024\n",
              "Name: classification_num, dtype: int64"
            ]
          },
          "metadata": {},
          "execution_count": 102
        }
      ]
    },
    {
      "cell_type": "markdown",
      "source": [
        "Lo que deseábamos se ha ejecutado correctamente. "
      ],
      "metadata": {
        "id": "WW_8JJxia09Y"
      },
      "id": "WW_8JJxia09Y"
    },
    {
      "cell_type": "markdown",
      "source": [
        "Para proceder con el estudio de las clasificaciones medias de cada barrio, crearemos un nuevo vector llamado barrios en el cual se guardará cada barrio sin repetición, y otra variables num_barrios, que será la longitud de este último. "
      ],
      "metadata": {
        "id": "m9_1-NLWbD0a"
      },
      "id": "m9_1-NLWbD0a"
    },
    {
      "cell_type": "code",
      "source": [
        "barrios= np.unique(df['neighbourhood'])\n",
        "num_barrios = len(barrios)\n",
        "print('Number of classes:', num_barrios)"
      ],
      "metadata": {
        "colab": {
          "base_uri": "https://localhost:8080/"
        },
        "id": "hJjNi3HycHaz",
        "outputId": "2c96b3f8-4891-4cb4-bff3-079caeee2f46"
      },
      "id": "hJjNi3HycHaz",
      "execution_count": 103,
      "outputs": [
        {
          "output_type": "stream",
          "name": "stdout",
          "text": [
            "Number of classes: 221\n"
          ]
        }
      ]
    },
    {
      "cell_type": "markdown",
      "source": [
        "Tenemos 221 barrios distintos. "
      ],
      "metadata": {
        "id": "NLUxwp0hbSRi"
      },
      "id": "NLUxwp0hbSRi"
    },
    {
      "cell_type": "markdown",
      "source": [
        "ESTO LO TENDRÍAMOS QUE PONER EN EL SEGUNDO APARTADO, NO? "
      ],
      "metadata": {
        "id": "E9A5mgh-h98C"
      },
      "id": "E9A5mgh-h98C"
    },
    {
      "cell_type": "code",
      "source": [
        "neighbourhood_nan = df['neighbourhood'].isna().sum()\n",
        "print(neighbourhood_nan)"
      ],
      "metadata": {
        "colab": {
          "base_uri": "https://localhost:8080/"
        },
        "id": "jbVD7uJehtnF",
        "outputId": "dde37110-5049-4585-c8e3-0013b698a390"
      },
      "id": "jbVD7uJehtnF",
      "execution_count": 104,
      "outputs": [
        {
          "output_type": "stream",
          "name": "stdout",
          "text": [
            "0\n"
          ]
        }
      ]
    },
    {
      "cell_type": "code",
      "source": [
        "barrios"
      ],
      "metadata": {
        "colab": {
          "base_uri": "https://localhost:8080/"
        },
        "id": "iprLh7AecMuO",
        "outputId": "a20ab1f5-8571-40fe-ae6f-5316daf7e061"
      },
      "id": "iprLh7AecMuO",
      "execution_count": 105,
      "outputs": [
        {
          "output_type": "execute_result",
          "data": {
            "text/plain": [
              "array(['Allerton', 'Arden Heights', 'Arrochar', 'Arverne', 'Astoria',\n",
              "       'Bath Beach', 'Battery Park City', 'Bay Ridge', 'Bay Terrace',\n",
              "       'Bay Terrace, Staten Island', 'Baychester', 'Bayside', 'Bayswater',\n",
              "       'Bedford-Stuyvesant', 'Belle Harbor', 'Bellerose', 'Belmont',\n",
              "       'Bensonhurst', 'Bergen Beach', 'Boerum Hill', 'Borough Park',\n",
              "       'Breezy Point', 'Briarwood', 'Brighton Beach', 'Bronxdale',\n",
              "       'Brooklyn Heights', 'Brownsville', \"Bull's Head\", 'Bushwick',\n",
              "       'Cambria Heights', 'Canarsie', 'Carroll Gardens', 'Castle Hill',\n",
              "       'Castleton Corners', 'Chelsea', 'Chinatown', 'City Island',\n",
              "       'Civic Center', 'Claremont Village', 'Clason Point', 'Clifton',\n",
              "       'Clinton Hill', 'Co-op City', 'Cobble Hill', 'College Point',\n",
              "       'Columbia St', 'Concord', 'Concourse', 'Concourse Village',\n",
              "       'Coney Island', 'Corona', 'Crown Heights', 'Cypress Hills',\n",
              "       'DUMBO', 'Ditmars Steinway', 'Dongan Hills', 'Douglaston',\n",
              "       'Downtown Brooklyn', 'Dyker Heights', 'East Elmhurst',\n",
              "       'East Flatbush', 'East Harlem', 'East Morrisania', 'East New York',\n",
              "       'East Village', 'Eastchester', 'Edenwald', 'Edgemere', 'Elmhurst',\n",
              "       'Eltingville', 'Emerson Hill', 'Far Rockaway', 'Fieldston',\n",
              "       'Financial District', 'Flatbush', 'Flatiron District', 'Flatlands',\n",
              "       'Flushing', 'Fordham', 'Forest Hills', 'Fort Greene',\n",
              "       'Fort Hamilton', 'Fort Wadsworth', 'Fresh Meadows', 'Glendale',\n",
              "       'Gowanus', 'Gramercy', 'Graniteville', 'Grant City', 'Gravesend',\n",
              "       'Great Kills', 'Greenpoint', 'Greenwich Village', 'Grymes Hill',\n",
              "       'Harlem', \"Hell's Kitchen\", 'Highbridge', 'Hollis', 'Holliswood',\n",
              "       'Howard Beach', 'Howland Hook', 'Huguenot', 'Hunts Point',\n",
              "       'Inwood', 'Jackson Heights', 'Jamaica', 'Jamaica Estates',\n",
              "       'Jamaica Hills', 'Kensington', 'Kew Gardens', 'Kew Gardens Hills',\n",
              "       'Kingsbridge', 'Kips Bay', 'Laurelton', 'Lighthouse Hill',\n",
              "       'Little Italy', 'Little Neck', 'Long Island City', 'Longwood',\n",
              "       'Lower East Side', 'Manhattan Beach', 'Marble Hill',\n",
              "       'Mariners Harbor', 'Maspeth', 'Melrose', 'Middle Village',\n",
              "       'Midland Beach', 'Midtown', 'Midwood', 'Mill Basin',\n",
              "       'Morningside Heights', 'Morris Heights', 'Morris Park',\n",
              "       'Morrisania', 'Mott Haven', 'Mount Eden', 'Mount Hope',\n",
              "       'Murray Hill', 'Navy Yard', 'Neponsit', 'New Brighton', 'New Dorp',\n",
              "       'New Dorp Beach', 'New Springville', 'NoHo', 'Nolita',\n",
              "       'North Riverdale', 'Norwood', 'Oakwood', 'Olinville', 'Ozone Park',\n",
              "       'Park Slope', 'Parkchester', 'Pelham Bay', 'Pelham Gardens',\n",
              "       'Port Morris', 'Port Richmond', \"Prince's Bay\", 'Prospect Heights',\n",
              "       'Prospect-Lefferts Gardens', 'Queens Village', 'Randall Manor',\n",
              "       'Red Hook', 'Rego Park', 'Richmond Hill', 'Richmondtown',\n",
              "       'Ridgewood', 'Riverdale', 'Rockaway Beach', 'Roosevelt Island',\n",
              "       'Rosebank', 'Rosedale', 'Rossville', 'Schuylerville', 'Sea Gate',\n",
              "       'Sheepshead Bay', 'Shore Acres', 'Silver Lake', 'SoHo',\n",
              "       'Soundview', 'South Beach', 'South Ozone Park', 'South Slope',\n",
              "       'Springfield Gardens', 'Spuyten Duyvil', 'St. Albans',\n",
              "       'St. George', 'Stapleton', 'Stuyvesant Town', 'Sunnyside',\n",
              "       'Sunset Park', 'Theater District', 'Throgs Neck', 'Todt Hill',\n",
              "       'Tompkinsville', 'Tottenville', 'Tremont', 'Tribeca',\n",
              "       'Two Bridges', 'Unionport', 'University Heights',\n",
              "       'Upper East Side', 'Upper West Side', 'Van Nest', 'Vinegar Hill',\n",
              "       'Wakefield', 'Washington Heights', 'West Brighton', 'West Farms',\n",
              "       'West Village', 'Westchester Square', 'Westerleigh', 'Whitestone',\n",
              "       'Williamsbridge', 'Williamsburg', 'Willowbrook', 'Windsor Terrace',\n",
              "       'Woodhaven', 'Woodlawn', 'Woodrow', 'Woodside'], dtype=object)"
            ]
          },
          "metadata": {},
          "execution_count": 105
        }
      ]
    },
    {
      "cell_type": "markdown",
      "source": [
        "Creamos una nueva variable vector que se llame classification_barrios, la cual será de la misma longitud que el vector barrios definido anteriormente. Esta guardará las clasificaciones. "
      ],
      "metadata": {
        "id": "efTR0J55bYvT"
      },
      "id": "efTR0J55bYvT"
    },
    {
      "cell_type": "code",
      "source": [
        "classification_barrios=np.array(np.zeros(num_barrios))"
      ],
      "metadata": {
        "id": "I2bchhHMEoD6"
      },
      "id": "I2bchhHMEoD6",
      "execution_count": 106,
      "outputs": []
    },
    {
      "cell_type": "markdown",
      "source": [
        "Gracias al uso de dos bucles, guardaremos por cada barrio la suma de clasificación de cada apartamento, para así más adelante dividir entre el total de apartamentos(n), para calcular la media. "
      ],
      "metadata": {
        "id": "vRmd9_MjcT0b"
      },
      "id": "vRmd9_MjcT0b"
    },
    {
      "cell_type": "code",
      "source": [
        "for i in range(len(barrios)):\n",
        "  for j in range(filas):\n",
        "    if barrios[i]==df['neighbourhood'][j]:\n",
        "      classification_barrios[i]=classification_barrios[i]+df['classification_num'][j]\n"
      ],
      "metadata": {
        "id": "gaXgsSLeFyem"
      },
      "id": "gaXgsSLeFyem",
      "execution_count": 107,
      "outputs": []
    },
    {
      "cell_type": "code",
      "source": [
        "n=np.array(np.zeros(num_barrios))\n",
        "for i in range(len(barrios)):\n",
        "  for j in range(filas):\n",
        "    if barrios[i]==df['neighbourhood'][j]:\n",
        "      n[i]=n[i]+1\n"
      ],
      "metadata": {
        "id": "aIODnNdqHijC"
      },
      "id": "aIODnNdqHijC",
      "execution_count": 108,
      "outputs": []
    },
    {
      "cell_type": "markdown",
      "source": [
        "Calculamos la media: "
      ],
      "metadata": {
        "id": "AWUGUZsdcoPX"
      },
      "id": "AWUGUZsdcoPX"
    },
    {
      "cell_type": "code",
      "source": [
        "total=classification_barrios/n\n",
        "#ordenado=total\n",
        "#ordenado=sorted(ordenado,reverse=True)\n",
        "#print(ordenado)"
      ],
      "metadata": {
        "id": "Kv-8I7WNL3Bn"
      },
      "id": "Kv-8I7WNL3Bn",
      "execution_count": 109,
      "outputs": []
    },
    {
      "cell_type": "markdown",
      "source": [
        "Unimos en una variable llamada matriz el vector de barrios, y la clasificación media de cada barrio."
      ],
      "metadata": {
        "id": "rzjjUPBccz50"
      },
      "id": "rzjjUPBccz50"
    },
    {
      "cell_type": "code",
      "source": [
        "matriz=np.append(barrios,total,axis=0)"
      ],
      "metadata": {
        "id": "GP_XvlupYZWz"
      },
      "id": "GP_XvlupYZWz",
      "execution_count": 110,
      "outputs": []
    },
    {
      "cell_type": "code",
      "source": [
        "\n",
        "ordenado=matriz.reshape(2,221)\n",
        "ordenado=ordenado.transpose()\n"
      ],
      "metadata": {
        "id": "1iUIXrbcNxGo"
      },
      "id": "1iUIXrbcNxGo",
      "execution_count": 111,
      "outputs": []
    },
    {
      "cell_type": "code",
      "source": [
        "orden=sorted(ordenado, key=lambda x:x[1],reverse=True)"
      ],
      "metadata": {
        "id": "IXkSnxqXclKG"
      },
      "id": "IXkSnxqXclKG",
      "execution_count": 112,
      "outputs": []
    },
    {
      "cell_type": "code",
      "source": [
        "print(orden)"
      ],
      "metadata": {
        "colab": {
          "base_uri": "https://localhost:8080/"
        },
        "id": "MictIMuJeT9a",
        "outputId": "30f91f94-d90a-4d95-dddf-e13075671815"
      },
      "id": "MictIMuJeT9a",
      "execution_count": 113,
      "outputs": [
        {
          "output_type": "stream",
          "name": "stdout",
          "text": [
            "[array(['New Springville', 0.875], dtype=object), array(['Bay Terrace, Staten Island', 0.75], dtype=object), array(['New Dorp', 0.75], dtype=object), array(['Rossville', 0.75], dtype=object), array(['Woodrow', 0.75], dtype=object), array(['Downtown Brooklyn', 0.7319277108433735], dtype=object), array(['Morningside Heights', 0.7196531791907514], dtype=object), array(['Navy Yard', 0.7142857142857143], dtype=object), array(['Woodlawn', 0.7045454545454546], dtype=object), array(['Emerson Hill', 0.7], dtype=object), array(['Little Neck', 0.7], dtype=object), array(['Cobble Hill', 0.6944444444444444], dtype=object), array(['Two Bridges', 0.6909722222222222], dtype=object), array(['Columbia St', 0.6904761904761905], dtype=object), array(['Stuyvesant Town', 0.6891891891891891], dtype=object), array([\"Prince's Bay\", 0.6875], dtype=object), array(['Carroll Gardens', 0.6802575107296137], dtype=object), array(['Nolita', 0.6798418972332015], dtype=object), array(['Brooklyn Heights', 0.6785714285714286], dtype=object), array(['Civic Center', 0.6778846153846154], dtype=object), array(['East Village', 0.6725580140313006], dtype=object), array(['Roosevelt Island', 0.672077922077922], dtype=object), array(['Vinegar Hill', 0.6691176470588235], dtype=object), array(['Williamsburg', 0.6682397959183674], dtype=object), array(['Breezy Point', 0.6666666666666666], dtype=object), array(['Greenpoint', 0.6661434977578475], dtype=object), array(['East Harlem', 0.6629364368845121], dtype=object), array(['Chinatown', 0.6610054347826086], dtype=object), array(['Kensington', 0.66], dtype=object), array(['Boerum Hill', 0.6581920903954802], dtype=object), array(['Prospect Heights', 0.657563025210084], dtype=object), array(['South Slope', 0.6549295774647887], dtype=object), array(['Midwood', 0.6536697247706422], dtype=object), array(['Windsor Terrace', 0.6528662420382165], dtype=object), array(['Greenwich Village', 0.6517857142857143], dtype=object), array(['Bergen Beach', 0.65], dtype=object), array(['Melrose', 0.65], dtype=object), array(['Prospect-Lefferts Gardens', 0.6485981308411215], dtype=object), array(['Fresh Meadows', 0.6484375], dtype=object), array(['West Village', 0.6455078125], dtype=object), array(['Bushwick', 0.6445233265720081], dtype=object), array(['Baychester', 0.6428571428571429], dtype=object), array(['Sea Gate', 0.6428571428571429], dtype=object), array(['Shore Acres', 0.6428571428571429], dtype=object), array(['Red Hook', 0.6424050632911392], dtype=object), array(['City Island', 0.6388888888888888], dtype=object), array(['Lower East Side', 0.6388583973655324], dtype=object), array(['Little Italy', 0.6384297520661157], dtype=object), array(['Park Slope', 0.6368577075098815], dtype=object), array(['Fort Greene', 0.6365030674846626], dtype=object), array(['Van Nest', 0.6363636363636364], dtype=object), array(['Whitestone', 0.6363636363636364], dtype=object), array(['Crown Heights', 0.636349104859335], dtype=object), array(['Flatbush', 0.6352657004830918], dtype=object), array(['NoHo', 0.6346153846153846], dtype=object), array(['Morris Park', 0.6333333333333333], dtype=object), array(['Gramercy', 0.632396449704142], dtype=object), array(['Upper West Side', 0.6316590563165906], dtype=object), array(['College Point', 0.631578947368421], dtype=object), array(['Washington Heights', 0.6312569521690767], dtype=object), array(['Harlem', 0.628574115876599], dtype=object), array(['Clinton Hill', 0.6254370629370629], dtype=object), array(['Arden Heights', 0.625], dtype=object), array(['DUMBO', 0.625], dtype=object), array(['Kew Gardens Hills', 0.625], dtype=object), array(['Marble Hill', 0.625], dtype=object), array(['Todt Hill', 0.625], dtype=object), array(['Westerleigh', 0.625], dtype=object), array(['SoHo', 0.619413407821229], dtype=object), array(['University Heights', 0.6190476190476191], dtype=object), array(['Brownsville', 0.6188524590163934], dtype=object), array(['Ridgewood', 0.6182033096926713], dtype=object), array(['Battery Park City', 0.6178571428571429], dtype=object), array(['Fordham', 0.6150793650793651], dtype=object), array(['Sunset Park', 0.6147435897435898], dtype=object), array(['Gravesend', 0.6139705882352942], dtype=object), array(['Tremont', 0.6136363636363636], dtype=object), array(['Inwood', 0.6130952380952381], dtype=object), array(['Bedford-Stuyvesant', 0.6123451803984922], dtype=object), array(['Astoria', 0.6094444444444445], dtype=object), array(['Upper East Side', 0.6092880978865406], dtype=object), array(['Grymes Hill', 0.6071428571428571], dtype=object), array(['Hollis', 0.6071428571428571], dtype=object), array(['Chelsea', 0.6057951482479784], dtype=object), array(['Ditmars Steinway', 0.6035598705501618], dtype=object), array(['Sunnyside', 0.6033057851239669], dtype=object), array(['Long Island City', 0.6024208566108007], dtype=object), array(['Gowanus', 0.6022267206477733], dtype=object), array(['New Brighton', 0.6], dtype=object), array(['Kingsbridge', 0.5964285714285714], dtype=object), array(['Cambria Heights', 0.5961538461538461], dtype=object), array(['Mariners Harbor', 0.59375], dtype=object), array([\"Hell's Kitchen\", 0.5934627170582226], dtype=object), array(['Elmhurst', 0.5928270042194093], dtype=object), array(['Rego Park', 0.589622641509434], dtype=object), array(['Forest Hills', 0.5885416666666666], dtype=object), array(['Kips Bay', 0.5867021276595744], dtype=object), array(['Bensonhurst', 0.5866666666666667], dtype=object), array(['Flatiron District', 0.584375], dtype=object), array(['Castle Hill', 0.5833333333333334], dtype=object), array(['Huguenot', 0.5833333333333334], dtype=object), array(['Soundview', 0.5833333333333334], dtype=object), array(['Ozone Park', 0.5806451612903226], dtype=object), array(['Woodside', 0.5797872340425532], dtype=object), array(['Mott Haven', 0.5791666666666667], dtype=object), array(['Tribeca', 0.5790960451977402], dtype=object), array(['Bronxdale', 0.5789473684210527], dtype=object), array(['Parkchester', 0.5769230769230769], dtype=object), array(['Schuylerville', 0.5769230769230769], dtype=object), array(['Port Morris', 0.5760869565217391], dtype=object), array(['Great Kills', 0.575], dtype=object), array(['Mount Hope', 0.575], dtype=object), array(['East Elmhurst', 0.572972972972973], dtype=object), array(['Pelham Gardens', 0.5714285714285714], dtype=object), array(['Morrisania', 0.5694444444444444], dtype=object), array(['Jamaica Estates', 0.5657894736842105], dtype=object), array(['Allerton', 0.5654761904761905], dtype=object), array(['Concourse', 0.565], dtype=object), array(['Jackson Heights', 0.5618279569892473], dtype=object), array(['Far Rockaway', 0.5603448275862069], dtype=object), array(['Flushing', 0.5580985915492958], dtype=object), array(['Sheepshead Bay', 0.5564024390243902], dtype=object), array(['Claremont Village', 0.5535714285714286], dtype=object), array(['Rosedale', 0.5508474576271186], dtype=object), array(['Fort Hamilton', 0.55], dtype=object), array(['Bay Ridge', 0.549645390070922], dtype=object), array(['Rockaway Beach', 0.5491071428571429], dtype=object), array(['Dyker Heights', 0.5416666666666666], dtype=object), array(['Mount Eden', 0.5416666666666666], dtype=object), array(['Midtown', 0.5411003236245955], dtype=object), array(['Borough Park', 0.5386029411764706], dtype=object), array(['Brighton Beach', 0.5366666666666666], dtype=object), array(['Dongan Hills', 0.5357142857142857], dtype=object), array(['Queens Village', 0.5333333333333333], dtype=object), array(['Longwood', 0.532258064516129], dtype=object), array(['Concourse Village', 0.53125], dtype=object), array(['Jamaica Hills', 0.53125], dtype=object), array(['Throgs Neck', 0.53125], dtype=object), array(['Jamaica', 0.5303030303030303], dtype=object), array(['Cypress Hills', 0.5296296296296297], dtype=object), array(['East New York', 0.5286697247706422], dtype=object), array(['Laurelton', 0.5277777777777778], dtype=object), array(['North Riverdale', 0.525], dtype=object), array(['Westchester Square', 0.525], dtype=object), array(['Norwood', 0.5241935483870968], dtype=object), array(['Murray Hill', 0.5237113402061856], dtype=object), array(['Glendale', 0.5231481481481481], dtype=object), array(['Riverdale', 0.5227272727272727], dtype=object), array(['Fieldston', 0.5208333333333334], dtype=object), array(['East Flatbush', 0.5195], dtype=object), array(['Richmond Hill', 0.5186170212765957], dtype=object), array(['Briarwood', 0.5178571428571429], dtype=object), array(['Morris Heights', 0.5147058823529411], dtype=object), array(['St. George', 0.5104166666666666], dtype=object), array(['Maspeth', 0.5068181818181818], dtype=object), array(['Arverne', 0.5064935064935064], dtype=object), array([\"Bull's Head\", 0.5], dtype=object), array(['Castleton Corners', 0.5], dtype=object), array(['Coney Island', 0.5], dtype=object), array(['Edenwald', 0.5], dtype=object), array(['Highbridge', 0.5], dtype=object), array(['Holliswood', 0.5], dtype=object), array(['Howland Hook', 0.5], dtype=object), array(['Lighthouse Hill', 0.5], dtype=object), array(['Oakwood', 0.5], dtype=object), array(['Olinville', 0.5], dtype=object), array(['Silver Lake', 0.5], dtype=object), array(['Wakefield', 0.49], dtype=object), array(['Bayside', 0.48717948717948717], dtype=object), array(['Bath Beach', 0.4852941176470588], dtype=object), array(['Pelham Bay', 0.4852941176470588], dtype=object), array(['Flatlands', 0.48493975903614456], dtype=object), array(['Belmont', 0.4791666666666667], dtype=object), array(['East Morrisania', 0.475], dtype=object), array(['Bayswater', 0.47058823529411764], dtype=object), array(['Belle Harbor', 0.46875], dtype=object), array(['Kew Gardens', 0.46875], dtype=object), array(['Manhattan Beach', 0.46875], dtype=object), array(['South Beach', 0.46875], dtype=object), array(['Middle Village', 0.46774193548387094], dtype=object), array(['Woodhaven', 0.4659090909090909], dtype=object), array(['Clason Point', 0.4642857142857143], dtype=object), array(['Rosebank', 0.4642857142857143], dtype=object), array(['Financial District', 0.46236559139784944], dtype=object), array(['Springfield Gardens', 0.46176470588235297], dtype=object), array(['Hunts Point', 0.4583333333333333], dtype=object), array(['Theater District', 0.4574652777777778], dtype=object), array(['South Ozone Park', 0.45625], dtype=object), array(['New Dorp Beach', 0.45], dtype=object), array(['Port Richmond', 0.4444444444444444], dtype=object), array(['Stapleton', 0.4444444444444444], dtype=object), array(['Canarsie', 0.4387755102040816], dtype=object), array(['Douglaston', 0.4375], dtype=object), array(['St. Albans', 0.4276315789473684], dtype=object), array(['Howard Beach', 0.425], dtype=object), array(['Corona', 0.421875], dtype=object), array(['Bay Terrace', 0.4166666666666667], dtype=object), array(['Eltingville', 0.4166666666666667], dtype=object), array(['Graniteville', 0.4166666666666667], dtype=object), array(['Midland Beach', 0.4166666666666667], dtype=object), array(['Bellerose', 0.4107142857142857], dtype=object), array(['Clifton', 0.4], dtype=object), array(['Tompkinsville', 0.39880952380952384], dtype=object), array(['Concord', 0.3942307692307692], dtype=object), array(['Arrochar', 0.39285714285714285], dtype=object), array(['Unionport', 0.39285714285714285], dtype=object), array(['Randall Manor', 0.3815789473684211], dtype=object), array(['Spuyten Duyvil', 0.375], dtype=object), array(['West Brighton', 0.375], dtype=object), array(['West Farms', 0.375], dtype=object), array(['Williamsbridge', 0.375], dtype=object), array(['Grant City', 0.3333333333333333], dtype=object), array(['Neponsit', 0.3333333333333333], dtype=object), array(['Tottenville', 0.32142857142857145], dtype=object), array(['Mill Basin', 0.3125], dtype=object), array(['Edgemere', 0.29545454545454547], dtype=object), array(['Eastchester', 0.28846153846153844], dtype=object), array(['Co-op City', 0.25], dtype=object), array(['Fort Wadsworth', 0.25], dtype=object), array(['Richmondtown', 0.25], dtype=object), array(['Willowbrook', 0.25], dtype=object)]\n"
          ]
        }
      ]
    },
    {
      "cell_type": "code",
      "source": [
        "pos=0\n",
        "for i in range (len(orden)):\n",
        "  if orden[i][0]=='Williamsburg':\n",
        "    pos=i;\n",
        "pos"
      ],
      "metadata": {
        "colab": {
          "base_uri": "https://localhost:8080/"
        },
        "id": "XucqP9oce14D",
        "outputId": "ddb2854a-3725-4e8f-ad89-43f96c4c7f48"
      },
      "id": "XucqP9oce14D",
      "execution_count": 114,
      "outputs": [
        {
          "output_type": "execute_result",
          "data": {
            "text/plain": [
              "23"
            ]
          },
          "metadata": {},
          "execution_count": 114
        }
      ]
    },
    {
      "cell_type": "markdown",
      "source": [
        "Podemos concluir que el Barrio está en la posición 19 mejor valorado respecto a los 221 barrios. "
      ],
      "metadata": {
        "id": "3Y-EL1kXg4b0"
      },
      "id": "3Y-EL1kXg4b0"
    },
    {
      "cell_type": "markdown",
      "source": [
        "##Evaluación\n"
      ],
      "metadata": {
        "id": "vUrohiUese1R"
      },
      "id": "vUrohiUese1R"
    },
    {
      "cell_type": "markdown",
      "source": [],
      "metadata": {
        "id": "-6pLUvsVdm_f"
      },
      "id": "-6pLUvsVdm_f"
    },
    {
      "cell_type": "markdown",
      "source": [
        "##Despliegue"
      ],
      "metadata": {
        "id": "gj1dxH0usgFA"
      },
      "id": "gj1dxH0usgFA"
    },
    {
      "cell_type": "markdown",
      "source": [
        "#EJERCICIO 2"
      ],
      "metadata": {
        "id": "FXEJSzskl9bL"
      },
      "id": "FXEJSzskl9bL"
    },
    {
      "cell_type": "markdown",
      "source": [
        " Explica visualmente como se distribuyen los 5 barrios más populares (esto serán aquellos cuyos apartamentos estén más solicitados en números absolutos. Para ello utiliza un diagrama de burbuja donde el eje de las X indica el barrio y el eje Y la calidad de los apartamentos. Usa todos los diagramas que necesites para llegar a esta conclusión final."
      ],
      "metadata": {
        "id": "2LJzHbXxtpt4"
      },
      "id": "2LJzHbXxtpt4"
    },
    {
      "cell_type": "markdown",
      "source": [
        "Creamos un vector llamado 'top', en el cual, guardaremos los top 5 barrios más populares, según los apartamentos más solicitados. \n",
        "Para ello seguiremos el proceso que hicimos en el ejercicio anterior. Utilizaremos el vector barrios ya utilizado, y lo uniremos en otra variable junto a la variable 'availability_365' que nos proporciona la base de datos. \n",
        "\n",
        "'availability_365' se estudió en el ejercicio anterior, y se llegó a la conclusión de que no tenía ningún valor NaN, por lo que ahora, calcularemos por barrio la media de disponibi"
      ],
      "metadata": {
        "id": "0ADQPmfAjH3f"
      },
      "id": "0ADQPmfAjH3f"
    },
    {
      "cell_type": "code",
      "source": [
        " disponibilidad_barrios=np.array(np.zeros(num_barrios))"
      ],
      "metadata": {
        "id": "g-LKp-arjHU_"
      },
      "id": "g-LKp-arjHU_",
      "execution_count": 115,
      "outputs": []
    },
    {
      "cell_type": "code",
      "source": [
        "filas=len(df.axes[0])\n",
        "d=np.array(np.zeros(num_barrios))\n",
        "for i in range(len(barrios)):\n",
        "  for j in range(filas):\n",
        "    if barrios[i]==df['neighbourhood'][j]:\n",
        "      disponibilidad_barrios[i]=disponibilidad_barrios[i]+df['availability_365'][j]\n",
        "      d[i]=d[i]+1\n"
      ],
      "metadata": {
        "id": "NSYk0ELgqktX"
      },
      "id": "NSYk0ELgqktX",
      "execution_count": 116,
      "outputs": []
    },
    {
      "cell_type": "code",
      "source": [
        "disponibilidad_barrios=disponibilidad_barrios/d\n",
        "disponibilidad_barrios[1]"
      ],
      "metadata": {
        "colab": {
          "base_uri": "https://localhost:8080/"
        },
        "id": "gfKcGfvqrXO_",
        "outputId": "2f6d4acb-4b37-4136-f85e-0d5a9d4274b1"
      },
      "id": "gfKcGfvqrXO_",
      "execution_count": 117,
      "outputs": [
        {
          "output_type": "execute_result",
          "data": {
            "text/plain": [
              "94.25"
            ]
          },
          "metadata": {},
          "execution_count": 117
        }
      ]
    },
    {
      "cell_type": "code",
      "source": [
        "disponibilidad_barrios[4]"
      ],
      "metadata": {
        "colab": {
          "base_uri": "https://localhost:8080/"
        },
        "id": "GGu8EXRTs0RK",
        "outputId": "c028bb92-9b28-4eaf-8894-c29afc1a30c7"
      },
      "id": "GGu8EXRTs0RK",
      "execution_count": 118,
      "outputs": [
        {
          "output_type": "execute_result",
          "data": {
            "text/plain": [
              "109.19111111111111"
            ]
          },
          "metadata": {},
          "execution_count": 118
        }
      ]
    },
    {
      "cell_type": "code",
      "source": [
        "max(disponibilidad_barrios)\n"
      ],
      "metadata": {
        "colab": {
          "base_uri": "https://localhost:8080/",
          "height": 182
        },
        "id": "ORzufNiGs7PU",
        "outputId": "6eb72ad2-1f06-4525-9f60-2f2453342462"
      },
      "id": "ORzufNiGs7PU",
      "execution_count": 119,
      "outputs": [
        {
          "output_type": "error",
          "ename": "TypeError",
          "evalue": "ignored",
          "traceback": [
            "\u001b[0;31m---------------------------------------------------------------------------\u001b[0m",
            "\u001b[0;31mTypeError\u001b[0m                                 Traceback (most recent call last)",
            "\u001b[0;32m<ipython-input-119-9ab18abe40ad>\u001b[0m in \u001b[0;36m<module>\u001b[0;34m\u001b[0m\n\u001b[0;32m----> 1\u001b[0;31m \u001b[0mmax\u001b[0m\u001b[0;34m(\u001b[0m\u001b[0mdisponibilidad_barrios\u001b[0m\u001b[0;34m)\u001b[0m\u001b[0;34m\u001b[0m\u001b[0;34m\u001b[0m\u001b[0m\n\u001b[0m",
            "\u001b[0;31mTypeError\u001b[0m: 'numpy.float64' object is not callable"
          ]
        }
      ]
    },
    {
      "cell_type": "markdown",
      "source": [
        "Por lo que ahora encontramos que tenemos: \n",
        "- disponibilidad_barrios: la media de disponibilidad por barrios \n",
        "- barrios: cada barrio sin repeticiones. \n",
        "\n",
        "Ahora, tal y como hicimos en el ejercicio anterior, deseamos unirlos, para así ordenarlos de mayor a menor, y tener constancia de los barrios ordenados. "
      ],
      "metadata": {
        "id": "fnWfc2BSviFe"
      },
      "id": "fnWfc2BSviFe"
    },
    {
      "cell_type": "code",
      "source": [
        "dis=np.append(barrios,disponibilidad_barrios,axis=0) "
      ],
      "metadata": {
        "id": "lLyleXn5wQJr"
      },
      "id": "lLyleXn5wQJr",
      "execution_count": 120,
      "outputs": []
    },
    {
      "cell_type": "code",
      "source": [
        "dis_ordenado=dis.reshape(2,221)\n",
        "dis_ordenado=dis_ordenado.transpose()"
      ],
      "metadata": {
        "id": "9bDEM_9ywcTG"
      },
      "id": "9bDEM_9ywcTG",
      "execution_count": 121,
      "outputs": []
    },
    {
      "cell_type": "code",
      "source": [
        "dis_orden=sorted(dis_ordenado, key=lambda x:x[1])"
      ],
      "metadata": {
        "id": "w9Cu42pkwosn"
      },
      "id": "w9Cu42pkwosn",
      "execution_count": 122,
      "outputs": []
    },
    {
      "cell_type": "code",
      "source": [
        "print(dis_orden)"
      ],
      "metadata": {
        "colab": {
          "base_uri": "https://localhost:8080/"
        },
        "id": "-LeYq4UIwwCR",
        "outputId": "52cb01fe-8b35-453c-ce57-5e70ea3fd5de"
      },
      "id": "-LeYq4UIwwCR",
      "execution_count": 123,
      "outputs": [
        {
          "output_type": "stream",
          "name": "stdout",
          "text": [
            "[array(['Bay Terrace, Staten Island', 0.0], dtype=object), array(['New Dorp', 0.0], dtype=object), array(['Woodrow', 0.0], dtype=object), array(['Downtown Brooklyn', 39.48192771084337], dtype=object), array(['Morningside Heights', 43.054913294797686], dtype=object), array(['Navy Yard', 48.92857142857143], dtype=object), array(['Rossville', 59.0], dtype=object), array(['Cobble Hill', 63.21212121212121], dtype=object), array(['Stuyvesant Town', 65.10810810810811], dtype=object), array(['New Springville', 65.25], dtype=object), array(['Sea Gate', 65.57142857142857], dtype=object), array(['Brooklyn Heights', 66.03896103896103], dtype=object), array(['Civic Center', 68.26923076923077], dtype=object), array(['Columbia St', 69.0952380952381], dtype=object), array(['Nolita', 69.81027667984189], dtype=object), array(['Carroll Gardens', 71.6695278969957], dtype=object), array(['Roosevelt Island', 72.58441558441558], dtype=object), array(['East Village', 74.62385321100918], dtype=object), array(['Williamsburg', 74.72270408163266], dtype=object), array(['Boerum Hill', 77.27118644067797], dtype=object), array(['Prospect Heights', 77.51540616246498], dtype=object), array(['Greenpoint', 79.07713004484305], dtype=object), array(['Vinegar Hill', 79.52941176470588], dtype=object), array(['Emerson Hill', 80.8], dtype=object), array(['Little Neck', 81.2], dtype=object), array(['Windsor Terrace', 81.88535031847134], dtype=object), array(['Greenwich Village', 82.05102040816327], dtype=object), array(['South Slope', 83.7605633802817], dtype=object), array(['Kensington', 83.94857142857143], dtype=object), array(['West Village', 85.45963541666667], dtype=object), array(['Two Bridges', 86.23611111111111], dtype=object), array(['Park Slope', 88.78656126482214], dtype=object), array(['Todt Hill', 89.0], dtype=object), array(['Fort Greene', 90.14928425357873], dtype=object), array(['Chinatown', 90.7961956521739], dtype=object), array(['Melrose', 93.6], dtype=object), array(['Arden Heights', 94.25], dtype=object), array(['Flatbush', 94.48470209339774], dtype=object), array(['Gramercy', 94.5266272189349], dtype=object), array(['Clinton Hill', 95.01398601398601], dtype=object), array(['Prospect-Lefferts Gardens', 95.11028037383177], dtype=object), array(['Bushwick', 95.55091277890466], dtype=object), array(['Crown Heights', 96.02046035805627], dtype=object), array(['Red Hook', 96.20253164556962], dtype=object), array(['Upper West Side', 96.58346017250126], dtype=object), array(['Lower East Side', 97.16575192096597], dtype=object), array(['Midwood', 97.81651376146789], dtype=object), array(['Woodlawn', 98.27272727272727], dtype=object), array(['Inwood', 98.54761904761905], dtype=object), array(['Washington Heights', 98.9321468298109], dtype=object), array(['East Harlem', 98.97314234556849], dtype=object), array(['Battery Park City', 100.32857142857142], dtype=object), array(['Breezy Point', 100.33333333333333], dtype=object), array(['Little Italy', 100.33884297520662], dtype=object), array(['NoHo', 101.82051282051282], dtype=object), array(['Harlem', 106.57750188111362], dtype=object), array(['Sunset Park', 106.64102564102564], dtype=object), array(['Astoria', 109.19111111111111], dtype=object), array(['SoHo', 110.35754189944134], dtype=object), array([\"Prince's Bay\", 110.5], dtype=object), array(['Westerleigh', 112.5], dtype=object), array(['Upper East Side', 112.79810901001112], dtype=object), array(['Chelsea', 113.99550763701707], dtype=object), array(['Ridgewood', 114.42553191489361], dtype=object), array(['DUMBO', 114.47222222222223], dtype=object), array(['Shore Acres', 114.57142857142857], dtype=object), array(['Marble Hill', 114.66666666666667], dtype=object), array(['Bedford-Stuyvesant', 116.63462574044158], dtype=object), array(['Ditmars Steinway', 117.7378640776699], dtype=object), array(['Long Island City', 118.25698324022346], dtype=object), array(['Tremont', 119.0], dtype=object), array(['Brownsville', 121.32786885245902], dtype=object), array(['Kips Bay', 121.71702127659574], dtype=object), array(['Gowanus', 122.7165991902834], dtype=object), array(['Flatiron District', 123.05], dtype=object), array(['Kew Gardens Hills', 124.61538461538461], dtype=object), array(['Sunnyside', 125.70798898071625], dtype=object), array(['Morris Park', 126.0], dtype=object), array(['Tribeca', 126.50847457627118], dtype=object), array(['Forest Hills', 127.73611111111111], dtype=object), array(['Elmhurst', 128.39662447257385], dtype=object), array(['Gravesend', 130.19117647058823], dtype=object), array(['Woodside', 130.21702127659574], dtype=object), array(['City Island', 131.22222222222223], dtype=object), array(['Rego Park', 133.56603773584905], dtype=object), array(['Soundview', 133.66666666666666], dtype=object), array(['Bensonhurst', 134.84], dtype=object), array(['University Heights', 135.28571428571428], dtype=object), array(['Morrisania', 135.5], dtype=object), array(['Mount Eden', 136.16666666666666], dtype=object), array(['Fresh Meadows', 137.96875], dtype=object), array(['Bergen Beach', 138.2], dtype=object), array([\"Hell's Kitchen\", 138.8467824310521], dtype=object), array(['Jamaica Hills', 140.125], dtype=object), array(['Parkchester', 140.43589743589743], dtype=object), array(['Grymes Hill', 141.57142857142858], dtype=object), array(['College Point', 141.6315789473684], dtype=object), array(['New Brighton', 142.6], dtype=object), array(['Bay Ridge', 142.9290780141844], dtype=object), array(['Schuylerville', 143.23076923076923], dtype=object), array(['Fordham', 143.55555555555554], dtype=object), array(['Fieldston', 143.75], dtype=object), array(['Cambria Heights', 144.1153846153846], dtype=object), array(['Dyker Heights', 144.75], dtype=object), array(['Bronxdale', 145.42105263157896], dtype=object), array(['Hollis', 145.78571428571428], dtype=object), array(['Pelham Gardens', 146.35714285714286], dtype=object), array(['Mott Haven', 146.93333333333334], dtype=object), array(['Glendale', 147.27777777777777], dtype=object), array(['Great Kills', 148.6], dtype=object), array(['Jackson Heights', 150.27956989247312], dtype=object), array(['Fort Hamilton', 151.0], dtype=object), array(['Port Morris', 152.17391304347825], dtype=object), array(['Ozone Park', 153.83870967741936], dtype=object), array(['Longwood', 154.2258064516129], dtype=object), array(['Norwood', 154.29032258064515], dtype=object), array(['Mount Hope', 155.65], dtype=object), array(['Van Nest', 156.36363636363637], dtype=object), array(['Dongan Hills', 157.28571428571428], dtype=object), array(['Midtown', 157.70355987055015], dtype=object), array(['Baychester', 157.85714285714286], dtype=object), array(['Kingsbridge', 157.94285714285715], dtype=object), array(['Highbridge', 158.55555555555554], dtype=object), array(['Castle Hill', 159.33333333333334], dtype=object), array(['Concourse Village', 159.53125], dtype=object), array(['Westchester Square', 159.7], dtype=object), array(['Concourse', 160.04], dtype=object), array(['Sheepshead Bay', 160.53658536585365], dtype=object), array(['Riverdale', 160.8181818181818], dtype=object), array(['Silver Lake', 162.0], dtype=object), array(['Rockaway Beach', 162.42857142857142], dtype=object), array(['Graniteville', 163.0], dtype=object), array(['Coney Island', 163.23529411764707], dtype=object), array(['Allerton', 163.66666666666666], dtype=object), array([\"Bull's Head\", 165.66666666666666], dtype=object), array(['Far Rockaway', 165.86206896551724], dtype=object), array(['North Riverdale', 166.0], dtype=object), array(['Flushing', 166.2511737089202], dtype=object), array(['Queens Village', 166.43333333333334], dtype=object), array(['Borough Park', 168.3235294117647], dtype=object), array(['Cypress Hills', 168.4962962962963], dtype=object), array(['East Elmhurst', 169.4918918918919], dtype=object), array(['Holliswood', 169.5], dtype=object), array(['Brighton Beach', 170.86666666666667], dtype=object), array(['Jamaica Estates', 171.31578947368422], dtype=object), array(['Olinville', 172.5], dtype=object), array(['Murray Hill', 173.3216494845361], dtype=object), array(['New Dorp Beach', 174.4], dtype=object), array(['Rosebank', 175.14285714285714], dtype=object), array(['Throgs Neck', 175.79166666666666], dtype=object), array(['Whitestone', 177.27272727272728], dtype=object), array(['Briarwood', 177.92857142857142], dtype=object), array(['Rosedale', 177.94915254237287], dtype=object), array(['Claremont Village', 179.67857142857142], dtype=object), array(['East Flatbush', 180.944], dtype=object), array(['South Beach', 182.875], dtype=object), array(['Laurelton', 184.61111111111111], dtype=object), array(['East New York', 186.53669724770643], dtype=object), array(['Belle Harbor', 186.625], dtype=object), array(['Maspeth', 187.5090909090909], dtype=object), array(['Belmont', 187.66666666666666], dtype=object), array(['Oakwood', 188.4], dtype=object), array(['Arverne', 188.42857142857142], dtype=object), array(['Jamaica', 188.5064935064935], dtype=object), array(['Castleton Corners', 188.75], dtype=object), array(['Clifton', 189.4], dtype=object), array(['Bayside', 189.92307692307693], dtype=object), array(['Port Richmond', 191.0], dtype=object), array(['Mariners Harbor', 191.5], dtype=object), array(['Financial District', 191.53629032258064], dtype=object), array(['St. George', 191.75], dtype=object), array(['Eltingville', 193.0], dtype=object), array(['East Morrisania', 193.5], dtype=object), array(['Richmond Hill', 194.93617021276594], dtype=object), array(['Bath Beach', 196.11764705882354], dtype=object), array(['Flatlands', 197.24096385542168], dtype=object), array(['Wakefield', 197.7], dtype=object), array(['Morris Heights', 198.23529411764707], dtype=object), array(['Woodhaven', 200.92045454545453], dtype=object), array(['Kew Gardens', 201.15625], dtype=object), array(['Pelham Bay', 201.64705882352942], dtype=object), array(['Theater District', 201.87152777777777], dtype=object), array(['Springfield Gardens', 204.01176470588234], dtype=object), array(['Douglaston', 205.625], dtype=object), array(['Manhattan Beach', 205.625], dtype=object), array(['Bayswater', 207.35294117647058], dtype=object), array(['Huguenot', 208.0], dtype=object), array(['Howard Beach', 208.5], dtype=object), array(['Tompkinsville', 209.42857142857142], dtype=object), array(['Middle Village', 211.0], dtype=object), array(['Edenwald', 213.46153846153845], dtype=object), array(['Lighthouse Hill', 215.5], dtype=object), array(['Stapleton', 215.62962962962962], dtype=object), array(['Bay Terrace', 222.5], dtype=object), array(['Canarsie', 223.87074829931973], dtype=object), array(['Williamsbridge', 224.45], dtype=object), array(['Howland Hook', 225.5], dtype=object), array(['St. Albans', 225.97368421052633], dtype=object), array(['South Ozone Park', 226.1], dtype=object), array(['Neponsit', 231.0], dtype=object), array(['Clason Point', 231.28571428571428], dtype=object), array(['Midland Beach', 236.0], dtype=object), array(['Hunts Point', 239.16666666666666], dtype=object), array(['Grant City', 240.33333333333334], dtype=object), array(['Bellerose', 242.85714285714286], dtype=object), array(['Unionport', 244.0], dtype=object), array(['Corona', 244.171875], dtype=object), array(['West Farms', 244.5], dtype=object), array(['Concord', 255.57692307692307], dtype=object), array(['Arrochar', 255.8095238095238], dtype=object), array(['Tottenville', 267.57142857142856], dtype=object), array(['Spuyten Duyvil', 270.0], dtype=object), array(['West Brighton', 274.72222222222223], dtype=object), array(['Randall Manor', 275.2105263157895], dtype=object), array(['Edgemere', 275.27272727272725], dtype=object), array(['Mill Basin', 290.0], dtype=object), array(['Richmondtown', 300.0], dtype=object), array(['Eastchester', 333.46153846153845], dtype=object), array(['Willowbrook', 351.0], dtype=object), array(['Co-op City', 364.0], dtype=object), array(['Fort Wadsworth', 365.0], dtype=object)]\n"
          ]
        }
      ]
    },
    {
      "cell_type": "markdown",
      "source": [
        "Por lo que en 'dis_orden' encontramos ordenado de mayor a menor, cada barrio con su disponibilidad de media correspondiente. \n",
        "\n",
        "Tomaremos los 5 mayores, y los representaremos en un mediante un diagrama burbuja. "
      ],
      "metadata": {
        "id": "iCFHUREpwyuG"
      },
      "id": "iCFHUREpwyuG"
    },
    {
      "cell_type": "markdown",
      "source": [
        "- x_barrios: los 5 barrios más populares en términos de disponibilidad\n",
        "- y_barrios: la calidad de los apartamentos de cada barrio correspondiente. \n",
        "- s_barrios: disponibilidad de los apartamentos de cada barrio correspondiente. "
      ],
      "metadata": {
        "id": "6-Q9ITG9xYyA"
      },
      "id": "6-Q9ITG9xYyA"
    },
    {
      "cell_type": "markdown",
      "source": [
        "Comencemos por la variable x_barrios: "
      ],
      "metadata": {
        "id": "bCPaTB-ox6e-"
      },
      "id": "bCPaTB-ox6e-"
    },
    {
      "cell_type": "code",
      "source": [
        "x_barrios = [row[0] for row in dis_orden[:5]]\n",
        "print(\"Los primeros 5 barrios son:\", x_barrios)"
      ],
      "metadata": {
        "colab": {
          "base_uri": "https://localhost:8080/"
        },
        "id": "AuD6gIQAx-SR",
        "outputId": "494fc69c-950e-47a8-f31a-ee1d21eecf33"
      },
      "id": "AuD6gIQAx-SR",
      "execution_count": 124,
      "outputs": [
        {
          "output_type": "stream",
          "name": "stdout",
          "text": [
            "Los primeros 5 barrios son: ['Bay Terrace, Staten Island', 'New Dorp', 'Woodrow', 'Downtown Brooklyn', 'Morningside Heights']\n"
          ]
        }
      ]
    },
    {
      "cell_type": "markdown",
      "source": [
        "Continuamos con la variable y_barrios: "
      ],
      "metadata": {
        "id": "1pDecAbe1DJl"
      },
      "id": "1pDecAbe1DJl"
    },
    {
      "cell_type": "code",
      "source": [
        "#definimos y_barrios de tamaño igual a la suma de los apartamentos de cada x_barrio: \n",
        "filas=len(df.axes[0])\n",
        "tamano_y_barrios=0\n",
        "for i in range(len(x_barrios)):\n",
        "  for j in range(filas):\n",
        "    if df['neighbourhood'][j]==x_barrios[i]:\n",
        "      tamano_y_barrios=tamano_y_barrios+1\n",
        "\n",
        "tamano_y_barrios"
      ],
      "metadata": {
        "colab": {
          "base_uri": "https://localhost:8080/"
        },
        "id": "SHuBog5035jb",
        "outputId": "53828b95-0454-44e2-c022-1a76cdebae5c"
      },
      "id": "SHuBog5035jb",
      "execution_count": 125,
      "outputs": [
        {
          "output_type": "execute_result",
          "data": {
            "text/plain": [
              "433"
            ]
          },
          "metadata": {},
          "execution_count": 125
        }
      ]
    },
    {
      "cell_type": "markdown",
      "source": [
        "Estudiaremos el caso por tanto de 433 apartamentos, es decir, la suma total de apartamentos en los siguientes barrios: 'Bay Terrace, Staten Island', 'New Dorp', 'Woodrow', 'Downtown Brooklyn', 'Morningside Heights' es de 433."
      ],
      "metadata": {
        "id": "TaG0tkUL4Px_"
      },
      "id": "TaG0tkUL4Px_"
    },
    {
      "cell_type": "code",
      "source": [
        "#filas=len(df.axes[0])\n",
        "#y_barrios=np.array(np.zeros(tamano_y_barrios))\n",
        "#for i in range(filas): \n",
        "#  for j in range(len(x_barrios)): \n",
        "#    for k in range(len(y_barrios)):\n",
        "#      if df['neighbourhood'][i]==x_barrios[j]:\n",
        "#        y_barrios[k]=df.iloc[i]"
      ],
      "metadata": {
        "id": "ioie485Q8rly"
      },
      "id": "ioie485Q8rly",
      "execution_count": null,
      "outputs": []
    },
    {
      "cell_type": "code",
      "source": [
        "y_barrios=np.array(np.zeros(tamano_y_barrios))"
      ],
      "metadata": {
        "id": "WcXkKA815MCI"
      },
      "id": "WcXkKA815MCI",
      "execution_count": 126,
      "outputs": []
    },
    {
      "cell_type": "code",
      "source": [
        "df.head()"
      ],
      "metadata": {
        "id": "KODa8NmC7NWh",
        "outputId": "25890f51-d941-45c8-aa79-b8e33875b9cd",
        "colab": {
          "base_uri": "https://localhost:8080/",
          "height": 447
        }
      },
      "id": "KODa8NmC7NWh",
      "execution_count": 134,
      "outputs": [
        {
          "output_type": "execute_result",
          "data": {
            "text/plain": [
              "     id                                              name  host_id  \\\n",
              "0  2539                Clean & quiet apt home by the park     2787   \n",
              "1  2595                             Skylit Midtown Castle     2845   \n",
              "2  3647               THE VILLAGE OF HARLEM....NEW YORK !     4632   \n",
              "3  3831                   Cozy Entire Floor of Brownstone     4869   \n",
              "4  5022  Entire Apt: Spacious Studio/Loft by central park     7192   \n",
              "\n",
              "     host_name neighbourhood_group neighbourhood  latitude  longitude  \\\n",
              "0         John            Brooklyn    Kensington  40.64749  -73.97237   \n",
              "1     Jennifer           Manhattan       Midtown  40.75362  -73.98377   \n",
              "2    Elisabeth           Manhattan        Harlem  40.80902  -73.94190   \n",
              "3  LisaRoxanne            Brooklyn  Clinton Hill  40.68514  -73.95976   \n",
              "4        Laura           Manhattan   East Harlem  40.79851  -73.94399   \n",
              "\n",
              "         room_type  price  minimum_nights  number_of_reviews last_review  \\\n",
              "0     Private room    149               1                  9  2018-10-19   \n",
              "1  Entire home/apt    225               1                 45  2019-05-21   \n",
              "2     Private room    150               3                  0         NaN   \n",
              "3  Entire home/apt     89               1                270  2019-07-05   \n",
              "4  Entire home/apt     80              10                  9  2018-11-19   \n",
              "\n",
              "   reviews_per_month  calculated_host_listings_count  availability_365  \\\n",
              "0               0.21                               6               365   \n",
              "1               0.38                               2               355   \n",
              "2               0.00                               1               365   \n",
              "3               4.64                               1               194   \n",
              "4               0.10                               1                 0   \n",
              "\n",
              "  reviews_per_month_cat  availability_365_range classification  \\\n",
              "0                  Baja    Altamente disponible           Malo   \n",
              "1                  Baja    Altamente disponible           Malo   \n",
              "2                  Baja    Altamente disponible           Malo   \n",
              "3                  Alta  Disponible normalmente          Bueno   \n",
              "4                  Baja         Poco disponible          Bueno   \n",
              "\n",
              "   classification_num  \n",
              "0                0.25  \n",
              "1                0.25  \n",
              "2                0.25  \n",
              "3                0.75  \n",
              "4                0.75  "
            ],
            "text/html": [
              "\n",
              "  <div id=\"df-3334b5e4-29b3-4a4b-9bdd-ee0a7af52564\">\n",
              "    <div class=\"colab-df-container\">\n",
              "      <div>\n",
              "<style scoped>\n",
              "    .dataframe tbody tr th:only-of-type {\n",
              "        vertical-align: middle;\n",
              "    }\n",
              "\n",
              "    .dataframe tbody tr th {\n",
              "        vertical-align: top;\n",
              "    }\n",
              "\n",
              "    .dataframe thead th {\n",
              "        text-align: right;\n",
              "    }\n",
              "</style>\n",
              "<table border=\"1\" class=\"dataframe\">\n",
              "  <thead>\n",
              "    <tr style=\"text-align: right;\">\n",
              "      <th></th>\n",
              "      <th>id</th>\n",
              "      <th>name</th>\n",
              "      <th>host_id</th>\n",
              "      <th>host_name</th>\n",
              "      <th>neighbourhood_group</th>\n",
              "      <th>neighbourhood</th>\n",
              "      <th>latitude</th>\n",
              "      <th>longitude</th>\n",
              "      <th>room_type</th>\n",
              "      <th>price</th>\n",
              "      <th>minimum_nights</th>\n",
              "      <th>number_of_reviews</th>\n",
              "      <th>last_review</th>\n",
              "      <th>reviews_per_month</th>\n",
              "      <th>calculated_host_listings_count</th>\n",
              "      <th>availability_365</th>\n",
              "      <th>reviews_per_month_cat</th>\n",
              "      <th>availability_365_range</th>\n",
              "      <th>classification</th>\n",
              "      <th>classification_num</th>\n",
              "    </tr>\n",
              "  </thead>\n",
              "  <tbody>\n",
              "    <tr>\n",
              "      <th>0</th>\n",
              "      <td>2539</td>\n",
              "      <td>Clean &amp; quiet apt home by the park</td>\n",
              "      <td>2787</td>\n",
              "      <td>John</td>\n",
              "      <td>Brooklyn</td>\n",
              "      <td>Kensington</td>\n",
              "      <td>40.64749</td>\n",
              "      <td>-73.97237</td>\n",
              "      <td>Private room</td>\n",
              "      <td>149</td>\n",
              "      <td>1</td>\n",
              "      <td>9</td>\n",
              "      <td>2018-10-19</td>\n",
              "      <td>0.21</td>\n",
              "      <td>6</td>\n",
              "      <td>365</td>\n",
              "      <td>Baja</td>\n",
              "      <td>Altamente disponible</td>\n",
              "      <td>Malo</td>\n",
              "      <td>0.25</td>\n",
              "    </tr>\n",
              "    <tr>\n",
              "      <th>1</th>\n",
              "      <td>2595</td>\n",
              "      <td>Skylit Midtown Castle</td>\n",
              "      <td>2845</td>\n",
              "      <td>Jennifer</td>\n",
              "      <td>Manhattan</td>\n",
              "      <td>Midtown</td>\n",
              "      <td>40.75362</td>\n",
              "      <td>-73.98377</td>\n",
              "      <td>Entire home/apt</td>\n",
              "      <td>225</td>\n",
              "      <td>1</td>\n",
              "      <td>45</td>\n",
              "      <td>2019-05-21</td>\n",
              "      <td>0.38</td>\n",
              "      <td>2</td>\n",
              "      <td>355</td>\n",
              "      <td>Baja</td>\n",
              "      <td>Altamente disponible</td>\n",
              "      <td>Malo</td>\n",
              "      <td>0.25</td>\n",
              "    </tr>\n",
              "    <tr>\n",
              "      <th>2</th>\n",
              "      <td>3647</td>\n",
              "      <td>THE VILLAGE OF HARLEM....NEW YORK !</td>\n",
              "      <td>4632</td>\n",
              "      <td>Elisabeth</td>\n",
              "      <td>Manhattan</td>\n",
              "      <td>Harlem</td>\n",
              "      <td>40.80902</td>\n",
              "      <td>-73.94190</td>\n",
              "      <td>Private room</td>\n",
              "      <td>150</td>\n",
              "      <td>3</td>\n",
              "      <td>0</td>\n",
              "      <td>NaN</td>\n",
              "      <td>0.00</td>\n",
              "      <td>1</td>\n",
              "      <td>365</td>\n",
              "      <td>Baja</td>\n",
              "      <td>Altamente disponible</td>\n",
              "      <td>Malo</td>\n",
              "      <td>0.25</td>\n",
              "    </tr>\n",
              "    <tr>\n",
              "      <th>3</th>\n",
              "      <td>3831</td>\n",
              "      <td>Cozy Entire Floor of Brownstone</td>\n",
              "      <td>4869</td>\n",
              "      <td>LisaRoxanne</td>\n",
              "      <td>Brooklyn</td>\n",
              "      <td>Clinton Hill</td>\n",
              "      <td>40.68514</td>\n",
              "      <td>-73.95976</td>\n",
              "      <td>Entire home/apt</td>\n",
              "      <td>89</td>\n",
              "      <td>1</td>\n",
              "      <td>270</td>\n",
              "      <td>2019-07-05</td>\n",
              "      <td>4.64</td>\n",
              "      <td>1</td>\n",
              "      <td>194</td>\n",
              "      <td>Alta</td>\n",
              "      <td>Disponible normalmente</td>\n",
              "      <td>Bueno</td>\n",
              "      <td>0.75</td>\n",
              "    </tr>\n",
              "    <tr>\n",
              "      <th>4</th>\n",
              "      <td>5022</td>\n",
              "      <td>Entire Apt: Spacious Studio/Loft by central park</td>\n",
              "      <td>7192</td>\n",
              "      <td>Laura</td>\n",
              "      <td>Manhattan</td>\n",
              "      <td>East Harlem</td>\n",
              "      <td>40.79851</td>\n",
              "      <td>-73.94399</td>\n",
              "      <td>Entire home/apt</td>\n",
              "      <td>80</td>\n",
              "      <td>10</td>\n",
              "      <td>9</td>\n",
              "      <td>2018-11-19</td>\n",
              "      <td>0.10</td>\n",
              "      <td>1</td>\n",
              "      <td>0</td>\n",
              "      <td>Baja</td>\n",
              "      <td>Poco disponible</td>\n",
              "      <td>Bueno</td>\n",
              "      <td>0.75</td>\n",
              "    </tr>\n",
              "  </tbody>\n",
              "</table>\n",
              "</div>\n",
              "      <button class=\"colab-df-convert\" onclick=\"convertToInteractive('df-3334b5e4-29b3-4a4b-9bdd-ee0a7af52564')\"\n",
              "              title=\"Convert this dataframe to an interactive table.\"\n",
              "              style=\"display:none;\">\n",
              "        \n",
              "  <svg xmlns=\"http://www.w3.org/2000/svg\" height=\"24px\"viewBox=\"0 0 24 24\"\n",
              "       width=\"24px\">\n",
              "    <path d=\"M0 0h24v24H0V0z\" fill=\"none\"/>\n",
              "    <path d=\"M18.56 5.44l.94 2.06.94-2.06 2.06-.94-2.06-.94-.94-2.06-.94 2.06-2.06.94zm-11 1L8.5 8.5l.94-2.06 2.06-.94-2.06-.94L8.5 2.5l-.94 2.06-2.06.94zm10 10l.94 2.06.94-2.06 2.06-.94-2.06-.94-.94-2.06-.94 2.06-2.06.94z\"/><path d=\"M17.41 7.96l-1.37-1.37c-.4-.4-.92-.59-1.43-.59-.52 0-1.04.2-1.43.59L10.3 9.45l-7.72 7.72c-.78.78-.78 2.05 0 2.83L4 21.41c.39.39.9.59 1.41.59.51 0 1.02-.2 1.41-.59l7.78-7.78 2.81-2.81c.8-.78.8-2.07 0-2.86zM5.41 20L4 18.59l7.72-7.72 1.47 1.35L5.41 20z\"/>\n",
              "  </svg>\n",
              "      </button>\n",
              "      \n",
              "  <style>\n",
              "    .colab-df-container {\n",
              "      display:flex;\n",
              "      flex-wrap:wrap;\n",
              "      gap: 12px;\n",
              "    }\n",
              "\n",
              "    .colab-df-convert {\n",
              "      background-color: #E8F0FE;\n",
              "      border: none;\n",
              "      border-radius: 50%;\n",
              "      cursor: pointer;\n",
              "      display: none;\n",
              "      fill: #1967D2;\n",
              "      height: 32px;\n",
              "      padding: 0 0 0 0;\n",
              "      width: 32px;\n",
              "    }\n",
              "\n",
              "    .colab-df-convert:hover {\n",
              "      background-color: #E2EBFA;\n",
              "      box-shadow: 0px 1px 2px rgba(60, 64, 67, 0.3), 0px 1px 3px 1px rgba(60, 64, 67, 0.15);\n",
              "      fill: #174EA6;\n",
              "    }\n",
              "\n",
              "    [theme=dark] .colab-df-convert {\n",
              "      background-color: #3B4455;\n",
              "      fill: #D2E3FC;\n",
              "    }\n",
              "\n",
              "    [theme=dark] .colab-df-convert:hover {\n",
              "      background-color: #434B5C;\n",
              "      box-shadow: 0px 1px 3px 1px rgba(0, 0, 0, 0.15);\n",
              "      filter: drop-shadow(0px 1px 2px rgba(0, 0, 0, 0.3));\n",
              "      fill: #FFFFFF;\n",
              "    }\n",
              "  </style>\n",
              "\n",
              "      <script>\n",
              "        const buttonEl =\n",
              "          document.querySelector('#df-3334b5e4-29b3-4a4b-9bdd-ee0a7af52564 button.colab-df-convert');\n",
              "        buttonEl.style.display =\n",
              "          google.colab.kernel.accessAllowed ? 'block' : 'none';\n",
              "\n",
              "        async function convertToInteractive(key) {\n",
              "          const element = document.querySelector('#df-3334b5e4-29b3-4a4b-9bdd-ee0a7af52564');\n",
              "          const dataTable =\n",
              "            await google.colab.kernel.invokeFunction('convertToInteractive',\n",
              "                                                     [key], {});\n",
              "          if (!dataTable) return;\n",
              "\n",
              "          const docLinkHtml = 'Like what you see? Visit the ' +\n",
              "            '<a target=\"_blank\" href=https://colab.research.google.com/notebooks/data_table.ipynb>data table notebook</a>'\n",
              "            + ' to learn more about interactive tables.';\n",
              "          element.innerHTML = '';\n",
              "          dataTable['output_type'] = 'display_data';\n",
              "          await google.colab.output.renderOutput(dataTable, element);\n",
              "          const docLink = document.createElement('div');\n",
              "          docLink.innerHTML = docLinkHtml;\n",
              "          element.appendChild(docLink);\n",
              "        }\n",
              "      </script>\n",
              "    </div>\n",
              "  </div>\n",
              "  "
            ]
          },
          "metadata": {},
          "execution_count": 134
        }
      ]
    },
    {
      "cell_type": "code",
      "source": [
        "filas=len(df.axes[0])\n",
        "y_barrios=np.array(np.zeros(tamano_y_barrios))\n",
        "for i in range(len(x_barrios)):\n",
        "  for j in range(filas):\n",
        "    for k in range(len(y_barrios)):\n",
        "      if df['neighbourhood'][j]==x_barrios[i]:\n",
        "        y_barrios[k]=df['classification_num'][j] #claro pero yo le debería de estar metiendo 'classification' lo está agregando mal "
      ],
      "metadata": {
        "id": "c8rT_S0V8oB5"
      },
      "id": "c8rT_S0V8oB5",
      "execution_count": null,
      "outputs": []
    },
    {
      "cell_type": "code",
      "source": [
        "y_barrios"
      ],
      "metadata": {
        "colab": {
          "base_uri": "https://localhost:8080/"
        },
        "id": "Ykw8xzAy9xLq",
        "outputId": "38e839ba-2349-43f5-804f-b728114d27f6"
      },
      "id": "Ykw8xzAy9xLq",
      "execution_count": 259,
      "outputs": [
        {
          "output_type": "execute_result",
          "data": {
            "text/plain": [
              "0.75"
            ]
          },
          "metadata": {},
          "execution_count": 259
        }
      ]
    },
    {
      "cell_type": "markdown",
      "source": [
        "me parece un poco raro eso, voy a ver cuántos apartamentos me imprime."
      ],
      "metadata": {
        "id": "pBhiOJVG-J04"
      },
      "id": "pBhiOJVG-J04"
    },
    {
      "cell_type": "code",
      "source": [
        "filas=len(df.axes[0])\n",
        "tamano_y_barrios=0\n",
        "for i in range(len(x_barrios)):\n",
        "  for j in range(filas):\n",
        "    if df['neighbourhood'][j]==x_barrios[i]:\n",
        "      print(df['classification'][j])"
      ],
      "metadata": {
        "colab": {
          "base_uri": "https://localhost:8080/"
        },
        "id": "jAGYuCLh-DOc",
        "outputId": "57483535-9d69-430b-fb1b-03eb858b2410"
      },
      "id": "jAGYuCLh-DOc",
      "execution_count": 254,
      "outputs": [
        {
          "output_type": "stream",
          "name": "stdout",
          "text": [
            "Bueno\n",
            "Bueno\n",
            "Bueno\n",
            "Bueno\n",
            "Bueno\n",
            "Bueno\n",
            "Bueno\n",
            "Bueno\n",
            "Bueno\n",
            "Bueno\n",
            "Bueno\n",
            "Bueno\n",
            "Bueno\n",
            "Bueno\n",
            "Bueno\n",
            "Bueno\n",
            "Bueno\n",
            "Bueno\n",
            "Bueno\n",
            "Bueno\n",
            "Bueno\n",
            "Bueno\n",
            "Bueno\n",
            "Bueno\n",
            "Bueno\n",
            "Bueno\n",
            "Bueno\n",
            "Bueno\n",
            "Bueno\n",
            "Malo\n",
            "Bueno\n",
            "Bueno\n",
            "Bueno\n",
            "Bueno\n",
            "Bueno\n",
            "Bueno\n",
            "Bueno\n",
            "Bueno\n",
            "Bueno\n",
            "Bueno\n",
            "Bueno\n",
            "Bueno\n",
            "Bueno\n",
            "Regular\n",
            "Bueno\n",
            "Bueno\n",
            "Bueno\n",
            "Bueno\n",
            "Bueno\n",
            "Bueno\n",
            "Bueno\n",
            "Bueno\n",
            "Bueno\n",
            "Regular\n",
            "Bueno\n",
            "Bueno\n",
            "Bueno\n",
            "Bueno\n",
            "Bueno\n",
            "Bueno\n",
            "Bueno\n",
            "Bueno\n",
            "Regular\n",
            "Bueno\n",
            "Bueno\n",
            "Bueno\n",
            "Bueno\n",
            "Bueno\n",
            "Bueno\n",
            "Bueno\n",
            "Bueno\n",
            "Bueno\n",
            "Bueno\n",
            "Malo\n",
            "Bueno\n",
            "Bueno\n",
            "Bueno\n",
            "Bueno\n",
            "Malo\n",
            "Bueno\n",
            "Bueno\n",
            "Bueno\n",
            "Bueno\n",
            "Regular\n",
            "Malo\n",
            "Bueno\n",
            "Bueno\n",
            "Regular\n",
            "Malo\n",
            "Regular\n",
            "Regular\n",
            "Bueno\n",
            "Malo\n",
            "Regular\n",
            "Malo\n",
            "Bueno\n",
            "Bueno\n",
            "Bueno\n",
            "Bueno\n",
            "Regular\n",
            "Bueno\n",
            "Bueno\n",
            "Malo\n",
            "Malo\n",
            "Malo\n",
            "Bueno\n",
            "Bueno\n",
            "Bueno\n",
            "Bueno\n",
            "Bueno\n",
            "Bueno\n",
            "Bueno\n",
            "Bueno\n",
            "Bueno\n",
            "Bueno\n",
            "Bueno\n",
            "Regular\n",
            "Malo\n",
            "Regular\n",
            "Malo\n",
            "Bueno\n",
            "Malo\n",
            "Bueno\n",
            "Malo\n",
            "Bueno\n",
            "Malo\n",
            "Bueno\n",
            "Bueno\n",
            "Bueno\n",
            "Bueno\n",
            "Bueno\n",
            "Bueno\n",
            "Bueno\n",
            "Bueno\n",
            "Bueno\n",
            "Bueno\n",
            "Bueno\n",
            "Bueno\n",
            "Regular\n",
            "Bueno\n",
            "Bueno\n",
            "Regular\n",
            "Bueno\n",
            "Bueno\n",
            "Bueno\n",
            "Bueno\n",
            "Bueno\n",
            "Bueno\n",
            "Bueno\n",
            "Bueno\n",
            "Bueno\n",
            "Bueno\n",
            "Bueno\n",
            "Bueno\n",
            "Bueno\n",
            "Bueno\n",
            "Bueno\n",
            "Bueno\n",
            "Bueno\n",
            "Bueno\n",
            "Bueno\n",
            "Bueno\n",
            "Bueno\n",
            "Bueno\n",
            "Bueno\n",
            "Bueno\n",
            "Bueno\n",
            "Bueno\n",
            "Bueno\n",
            "Bueno\n",
            "Regular\n",
            "Bueno\n",
            "Bueno\n",
            "Bueno\n",
            "Bueno\n",
            "Bueno\n",
            "Bueno\n",
            "Malo\n",
            "Bueno\n",
            "Bueno\n",
            "Bueno\n",
            "Bueno\n",
            "Bueno\n",
            "Bueno\n",
            "Bueno\n",
            "Bueno\n",
            "Bueno\n",
            "Bueno\n",
            "Bueno\n",
            "Bueno\n",
            "Bueno\n",
            "Bueno\n",
            "Bueno\n",
            "Bueno\n",
            "Bueno\n",
            "Bueno\n",
            "Bueno\n",
            "Bueno\n",
            "Bueno\n",
            "Bueno\n",
            "Bueno\n",
            "Bueno\n",
            "Bueno\n",
            "Bueno\n",
            "Regular\n",
            "Bueno\n",
            "Bueno\n",
            "Malo\n",
            "Bueno\n",
            "Bueno\n",
            "Bueno\n",
            "Bueno\n",
            "Bueno\n",
            "Bueno\n",
            "Bueno\n",
            "Bueno\n",
            "Regular\n",
            "Bueno\n",
            "Bueno\n",
            "Bueno\n",
            "Bueno\n",
            "Regular\n",
            "Regular\n",
            "Bueno\n",
            "Bueno\n",
            "Bueno\n",
            "Bueno\n",
            "Bueno\n",
            "Bueno\n",
            "Bueno\n",
            "Bueno\n",
            "Bueno\n",
            "Bueno\n",
            "Bueno\n",
            "Bueno\n",
            "Bueno\n",
            "Bueno\n",
            "Bueno\n",
            "Regular\n",
            "Regular\n",
            "Bueno\n",
            "Bueno\n",
            "Bueno\n",
            "Bueno\n",
            "Bueno\n",
            "Bueno\n",
            "Bueno\n",
            "Bueno\n",
            "Bueno\n",
            "Bueno\n",
            "Bueno\n",
            "Bueno\n",
            "Bueno\n",
            "Bueno\n",
            "Bueno\n",
            "Bueno\n",
            "Bueno\n",
            "Bueno\n",
            "Bueno\n",
            "Bueno\n",
            "Bueno\n",
            "Malo\n",
            "Bueno\n",
            "Bueno\n",
            "Bueno\n",
            "Bueno\n",
            "Bueno\n",
            "Bueno\n",
            "Bueno\n",
            "Bueno\n",
            "Bueno\n",
            "Bueno\n",
            "Bueno\n",
            "Bueno\n",
            "Bueno\n",
            "Bueno\n",
            "Bueno\n",
            "Bueno\n",
            "Bueno\n",
            "Bueno\n",
            "Bueno\n",
            "Bueno\n",
            "Bueno\n",
            "Bueno\n",
            "Bueno\n",
            "Bueno\n",
            "Bueno\n",
            "Bueno\n",
            "Bueno\n",
            "Bueno\n",
            "Malo\n",
            "Bueno\n",
            "Bueno\n",
            "Bueno\n",
            "Regular\n",
            "Bueno\n",
            "Bueno\n",
            "Bueno\n",
            "Bueno\n",
            "Bueno\n",
            "Bueno\n",
            "Regular\n",
            "Bueno\n",
            "Bueno\n",
            "Bueno\n",
            "Bueno\n",
            "Bueno\n",
            "Bueno\n",
            "Bueno\n",
            "Bueno\n",
            "Bueno\n",
            "Bueno\n",
            "Bueno\n",
            "Bueno\n",
            "Bueno\n",
            "Bueno\n",
            "Bueno\n",
            "Bueno\n",
            "Bueno\n",
            "Bueno\n",
            "Bueno\n",
            "Bueno\n",
            "Bueno\n",
            "Bueno\n",
            "Bueno\n",
            "Bueno\n",
            "Bueno\n",
            "Bueno\n",
            "Bueno\n",
            "Bueno\n",
            "Bueno\n",
            "Bueno\n",
            "Bueno\n",
            "Bueno\n",
            "Bueno\n",
            "Bueno\n",
            "Bueno\n",
            "Bueno\n",
            "Bueno\n",
            "Bueno\n",
            "Bueno\n",
            "Bueno\n",
            "Bueno\n",
            "Bueno\n",
            "Bueno\n",
            "Bueno\n",
            "Bueno\n",
            "Bueno\n",
            "Bueno\n",
            "Bueno\n",
            "Bueno\n",
            "Bueno\n",
            "Malo\n",
            "Bueno\n",
            "Bueno\n",
            "Bueno\n",
            "Bueno\n",
            "Bueno\n",
            "Bueno\n",
            "Bueno\n",
            "Bueno\n",
            "Bueno\n",
            "Bueno\n",
            "Bueno\n",
            "Bueno\n",
            "Bueno\n",
            "Bueno\n",
            "Bueno\n",
            "Bueno\n",
            "Bueno\n",
            "Bueno\n",
            "Bueno\n",
            "Bueno\n",
            "Regular\n",
            "Bueno\n",
            "Bueno\n",
            "Bueno\n",
            "Bueno\n",
            "Bueno\n",
            "Bueno\n",
            "Bueno\n",
            "Bueno\n",
            "Bueno\n",
            "Regular\n",
            "Bueno\n",
            "Bueno\n",
            "Bueno\n",
            "Bueno\n",
            "Bueno\n",
            "Bueno\n",
            "Bueno\n",
            "Bueno\n",
            "Bueno\n",
            "Bueno\n",
            "Malo\n",
            "Bueno\n",
            "Bueno\n",
            "Bueno\n",
            "Bueno\n",
            "Malo\n",
            "Bueno\n",
            "Malo\n",
            "Bueno\n",
            "Bueno\n",
            "Malo\n",
            "Bueno\n",
            "Bueno\n",
            "Bueno\n",
            "Bueno\n",
            "Bueno\n",
            "Bueno\n",
            "Bueno\n",
            "Bueno\n",
            "Bueno\n",
            "Regular\n",
            "Malo\n",
            "Bueno\n",
            "Bueno\n",
            "Malo\n",
            "Regular\n",
            "Regular\n",
            "Bueno\n",
            "Regular\n",
            "Malo\n",
            "Bueno\n",
            "Malo\n",
            "Bueno\n",
            "Bueno\n",
            "Bueno\n",
            "Bueno\n",
            "Bueno\n",
            "Bueno\n",
            "Bueno\n"
          ]
        }
      ]
    },
    {
      "cell_type": "code",
      "source": [
        "#Bubble Plot BARRIO1. The size of points changes based on a third variable\n",
        "# x = barrio (ya tenemos una variable de los barrios)\n",
        "# y = calidad de los apartamentos (classification)\n",
        "# s = disponibilidad\n",
        "plt.scatter(x_barrios[0],y_barrios,s_barrios)"
      ],
      "metadata": {
        "id": "lbzqM0lzsEdV"
      },
      "id": "lbzqM0lzsEdV",
      "execution_count": null,
      "outputs": []
    },
    {
      "cell_type": "markdown",
      "source": [
        "#EJERCICIO 3"
      ],
      "metadata": {
        "id": "hzYraWnUmAVI"
      },
      "id": "hzYraWnUmAVI"
    },
    {
      "cell_type": "markdown",
      "source": [
        "Una vez obtenida la información del apartado anterior, queremos tratar de entender las diferencias de precio entre alquilar un apartamento entero y una habitación privada. Usa los diagramas de cajas donde cada uno de los 5 barrios más populares está representado por una caja y haz una interpretación de los resultados."
      ],
      "metadata": {
        "id": "eJYt8qBctuGf"
      },
      "id": "eJYt8qBctuGf"
    },
    {
      "cell_type": "markdown",
      "source": [
        "#EJERCICIO 4"
      ],
      "metadata": {
        "id": "rbNsTsHDmDiH"
      },
      "id": "rbNsTsHDmDiH"
    },
    {
      "cell_type": "markdown",
      "source": [
        "Por último, se intuye que la tendencia a dejar reseñas en las apps que prestan servicios, ha aumentado en los últimos años. Decide que diagrama es más útil para este caso. Dibújalo y realiza una interpretación del mismo. Tomaremos la fecha de la última reseña como el dato útil para realizar dicho caso."
      ],
      "metadata": {
        "id": "9BsU2eb2txZt"
      },
      "id": "9BsU2eb2txZt"
    }
  ],
  "metadata": {
    "kernelspec": {
      "display_name": "Python 3 (ipykernel)",
      "language": "python",
      "name": "python3"
    },
    "language_info": {
      "codemirror_mode": {
        "name": "ipython",
        "version": 3
      },
      "file_extension": ".py",
      "mimetype": "text/x-python",
      "name": "python",
      "nbconvert_exporter": "python",
      "pygments_lexer": "ipython3",
      "version": "3.9.13"
    },
    "colab": {
      "provenance": []
    },
    "accelerator": "TPU",
    "gpuClass": "standard"
  },
  "nbformat": 4,
  "nbformat_minor": 5
}